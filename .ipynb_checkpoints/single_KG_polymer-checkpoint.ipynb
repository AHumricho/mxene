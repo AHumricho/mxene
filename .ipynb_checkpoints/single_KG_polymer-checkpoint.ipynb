{
 "cells": [
  {
   "cell_type": "code",
   "execution_count": 27,
   "id": "bfd51354-cfc1-4932-a600-c8f9d244d260",
   "metadata": {},
   "outputs": [],
   "source": [
    "import flowermd\n",
    "import hoomd\n",
    "import gsd\n",
    "import matplotlib.pyplot as plt\n",
    "import numpy as np\n",
    "import gsd.hoomd\n",
    "from flowermd.base import Pack, Simulation\n",
    "from flowermd.library import KremerGrestBeadSpring, LJChain\n",
    "from flowermd.utils import get_target_box_number_density\n",
    "import unyt as u\n",
    "import hoomd"
   ]
  },
  {
   "cell_type": "code",
   "execution_count": 28,
   "id": "ca149296-37d1-4f4c-b726-0a6735a83fce",
   "metadata": {},
   "outputs": [],
   "source": [
    "cpu = hoomd.device.CPU()"
   ]
  },
  {
   "cell_type": "code",
   "execution_count": 29,
   "id": "210dacdf-f516-4465-9a81-5f8674635573",
   "metadata": {},
   "outputs": [],
   "source": [
    "kg_chain = LJChain(lengths= 20 ,num_mols=5)"
   ]
  },
  {
   "cell_type": "code",
   "execution_count": 30,
   "id": "10cf0f14-2767-4e03-892e-879e4813635e",
   "metadata": {},
   "outputs": [],
   "source": [
    "ff = KremerGrestBeadSpring(bond_k=2.5,bond_max=2.5)"
   ]
  },
  {
   "cell_type": "code",
   "execution_count": 31,
   "id": "87b0e189-e852-4166-abb4-87df578474ea",
   "metadata": {},
   "outputs": [],
   "source": [
    "system = Pack(molecules=kg_chain, density=0.85*u.Unit(\"nm**-3\"), packing_expand_factor=11,edge=2,overlap=1)"
   ]
  },
  {
   "cell_type": "code",
   "execution_count": 32,
   "id": "0c6f5154-d0ef-4607-b502-731d6d9b2512",
   "metadata": {},
   "outputs": [
    {
     "name": "stdout",
     "output_type": "stream",
     "text": [
      "Initializing simulation state from a gsd.hoomd.Frame.\n"
     ]
    }
   ],
   "source": [
    "sim = Simulation(\n",
    "        initial_state=system.hoomd_snapshot,\n",
    "        forcefield=ff.hoomd_forces,\n",
    "        gsd_write_freq=int(1e5/10),\n",
    "        device = cpu)"
   ]
  },
  {
   "cell_type": "code",
   "execution_count": 33,
   "id": "eea6d48c-f8fb-4715-98d8-02ab6dd67058",
   "metadata": {},
   "outputs": [
    {
     "name": "stdout",
     "output_type": "stream",
     "text": [
      "Step 5500 of 100000; TPS: 24339.84; ETA: 0.1 minutes\n",
      "Step 11000 of 100000; TPS: 40614.68; ETA: 0.0 minutes\n",
      "Step 16500 of 100000; TPS: 52272.09; ETA: 0.0 minutes\n",
      "Step 22000 of 100000; TPS: 61703.98; ETA: 0.0 minutes\n",
      "Step 27500 of 100000; TPS: 69026.8; ETA: 0.0 minutes\n",
      "Step 33000 of 100000; TPS: 74938.69; ETA: 0.0 minutes\n",
      "Step 38500 of 100000; TPS: 79918.46; ETA: 0.0 minutes\n",
      "Step 44000 of 100000; TPS: 84059.3; ETA: 0.0 minutes\n",
      "Step 49500 of 100000; TPS: 86073.78; ETA: 0.0 minutes\n",
      "Step 55000 of 100000; TPS: 88984.24; ETA: 0.0 minutes\n",
      "Step 60500 of 100000; TPS: 91798.1; ETA: 0.0 minutes\n",
      "Step 66000 of 100000; TPS: 94341.24; ETA: 0.0 minutes\n",
      "Step 71500 of 100000; TPS: 96707.22; ETA: 0.0 minutes\n",
      "Step 77000 of 100000; TPS: 98669.88; ETA: 0.0 minutes\n",
      "Step 82500 of 100000; TPS: 100439.13; ETA: 0.0 minutes\n",
      "Step 88000 of 100000; TPS: 102199.02; ETA: 0.0 minutes\n",
      "Step 93500 of 100000; TPS: 103385.06; ETA: 0.0 minutes\n",
      "Step 99000 of 100000; TPS: 104441.84; ETA: 0.0 minutes\n",
      "Step 4499 of 10000; TPS: 133851.01; ETA: 0.0 minutes\n",
      "Step 9999 of 10000; TPS: 128672.35; ETA: 0.0 minutes\n"
     ]
    }
   ],
   "source": [
    "target_box = get_target_box_number_density(density=0.2*u.Unit(\"nm**-3\"),n_beads=10*20)\n",
    "sim.run_update_volume(final_box_lengths=target_box, kT=2.0, n_steps=1e5,tau_kt=sim.dt,period=10,thermalize_particles=True)\n",
    "sim.run_NVT(n_steps=1e4, kT=1, tau_kt=sim.dt*100)\n",
    "sim.flush_writers()"
   ]
  },
  {
   "cell_type": "code",
   "execution_count": 34,
   "id": "515c1536-1574-416c-bde9-d1db18e35897",
   "metadata": {},
   "outputs": [
    {
     "name": "stderr",
     "output_type": "stream",
     "text": [
      "/home/eridanirojas/miniconda3/envs/flowermd/lib/python3.12/site-packages/mbuild/conversion.py:1994: UserWarning: No element attribute associated with '<A pos=([ 9.3895  8.8733 41.8001]), 1 bonds, id: 139869366777376>'; and no matching elements found based upon the compound name. Setting atomic number to zero.\n",
      "  warn(warn_msg)\n"
     ]
    },
    {
     "data": {
      "application/3dmoljs_load.v0": "<div id=\"3dmolviewer_17466764263603215\"  style=\"position: relative; width: 640px; height: 480px;\">\n        <p id=\"3dmolwarning_17466764263603215\" style=\"background-color:#ffcccc;color:black\">3Dmol.js failed to load for some reason.  Please check your browser console for error messages.<br></p>\n        </div>\n<script>\n\nvar loadScriptAsync = function(uri){\n  return new Promise((resolve, reject) => {\n    //this is to ignore the existence of requirejs amd\n    var savedexports, savedmodule;\n    if (typeof exports !== 'undefined') savedexports = exports;\n    else exports = {}\n    if (typeof module !== 'undefined') savedmodule = module;\n    else module = {}\n\n    var tag = document.createElement('script');\n    tag.src = uri;\n    tag.async = true;\n    tag.onload = () => {\n        exports = savedexports;\n        module = savedmodule;\n        resolve();\n    };\n  var firstScriptTag = document.getElementsByTagName('script')[0];\n  firstScriptTag.parentNode.insertBefore(tag, firstScriptTag);\n});\n};\n\nif(typeof $3Dmolpromise === 'undefined') {\n$3Dmolpromise = null;\n  $3Dmolpromise = loadScriptAsync('https://cdnjs.cloudflare.com/ajax/libs/3Dmol/2.4.2/3Dmol-min.js');\n}\n\nvar viewer_17466764263603215 = null;\nvar warn = document.getElementById(\"3dmolwarning_17466764263603215\");\nif(warn) {\n    warn.parentNode.removeChild(warn);\n}\n$3Dmolpromise.then(function() {\nviewer_17466764263603215 = $3Dmol.createViewer(document.getElementById(\"3dmolviewer_17466764263603215\"),{backgroundColor:\"white\"});\nviewer_17466764263603215.zoomTo();\n\tviewer_17466764263603215.addModel(\"@<TRIPOS>MOLECULE\\nRES\\n100 95 1 0 1\\nSMALL\\nNO_CHARGES\\n@<TRIPOS>CRYSIN\\n  538.9970   538.9970   538.9970    90.0000    90.0000    90.0000 1 1\\n@<TRIPOS>ATOM\\n       1 A           93.8954    88.7331   418.0012 A             1 RES     \\n       2 A           93.2973    98.5500   419.8098 A             1 RES     \\n       3 A           92.6992   108.3669   421.6184 A             1 RES     \\n       4 A           92.1011   118.1837   423.4270 A             1 RES     \\n       5 A           91.5030   128.0006   425.2356 A             1 RES     \\n       6 A           90.9049   137.8175   427.0443 A             1 RES     \\n       7 A           90.3068   147.6344   428.8529 A             1 RES     \\n       8 A           89.7086   157.4513   430.6615 A             1 RES     \\n       9 A           89.1105   167.2681   432.4701 A             1 RES     \\n      10 A           88.5124   177.0850   434.2788 A             1 RES     \\n      11 A           87.9143   186.9019   436.0874 A             1 RES     \\n      12 A           87.3162   196.7188   437.8960 A             1 RES     \\n      13 A           86.7181   206.5357   439.7046 A             1 RES     \\n      14 A           86.1200   216.3525   441.5133 A             1 RES     \\n      15 A           85.5219   226.1694   443.3219 A             1 RES     \\n      16 A           84.9238   235.9863   445.1305 A             1 RES     \\n      17 A           84.3257   245.8032   446.9391 A             1 RES     \\n      18 A           83.7276   255.6201   448.7478 A             1 RES     \\n      19 A           83.1294   265.4369   450.5564 A             1 RES     \\n      20 A           82.5313   275.2538   452.3650 A             1 RES     \\n      21 A           27.8655    31.1484   401.5725 A             1 RES     \\n      22 A           31.7690    31.9376   392.3998 A             1 RES     \\n      23 A           35.6725    32.7267   383.2270 A             1 RES     \\n      24 A           39.5761    33.5159   374.0542 A             1 RES     \\n      25 A           43.4796    34.3051   364.8815 A             1 RES     \\n      26 A           47.3831    35.0942   355.7087 A             1 RES     \\n      27 A           51.2867    35.8834   346.5359 A             1 RES     \\n      28 A           55.1902    36.6725   337.3632 A             1 RES     \\n      29 A           59.0937    37.4617   328.1904 A             1 RES     \\n      30 A           62.9973    38.2508   319.0176 A             1 RES     \\n      31 A           66.9008    39.0400   309.8449 A             1 RES     \\n      32 A           70.8043    39.8291   300.6721 A             1 RES     \\n      33 A           74.7078    40.6183   291.4993 A             1 RES     \\n      34 A           78.6114    41.4074   282.3266 A             1 RES     \\n      35 A           82.5149    42.1966   273.1538 A             1 RES     \\n      36 A           86.4184    42.9858   263.9810 A             1 RES     \\n      37 A           90.3220    43.7749   254.8082 A             1 RES     \\n      38 A           94.2255    44.5641   245.6355 A             1 RES     \\n      39 A           98.1290    45.3532   236.4627 A             1 RES     \\n      40 A          102.0326    46.1424   227.2899 A             1 RES     \\n      41 A          487.2460   459.2648   202.3542 A             1 RES     \\n      42 A          482.1502   456.6463   210.5503 A             1 RES     \\n      43 A          477.0544   454.0279   218.7464 A             1 RES     \\n      44 A          471.9586   451.4095   226.9426 A             1 RES     \\n      45 A          466.8628   448.7910   235.1387 A             1 RES     \\n      46 A          461.7670   446.1726   243.3349 A             1 RES     \\n      47 A          456.6712   443.5542   251.5310 A             1 RES     \\n      48 A          451.5754   440.9358   259.7271 A             1 RES     \\n      49 A          446.4796   438.3173   267.9233 A             1 RES     \\n      50 A          441.3838   435.6989   276.1194 A             1 RES     \\n      51 A          436.2880   433.0805   284.3156 A             1 RES     \\n      52 A          431.1922   430.4620   292.5117 A             1 RES     \\n      53 A          426.0964   427.8436   300.7078 A             1 RES     \\n      54 A          421.0006   425.2252   308.9040 A             1 RES     \\n      55 A          415.9048   422.6068   317.1001 A             1 RES     \\n      56 A          410.8090   419.9883   325.2963 A             1 RES     \\n      57 A          405.7132   417.3699   333.4924 A             1 RES     \\n      58 A          400.6174   414.7515   341.6885 A             1 RES     \\n      59 A          395.5216   412.1330   349.8847 A             1 RES     \\n      60 A          390.4258   409.5146   358.0808 A             1 RES     \\n      61 A          491.0096   491.6927   494.9555 A             1 RES     \\n      62 A          486.7390   492.8457   485.9871 A             1 RES     \\n      63 A          482.4684   493.9987   477.0187 A             1 RES     \\n      64 A          478.1978   495.1516   468.0502 A             1 RES     \\n      65 A          473.9272   496.3046   459.0818 A             1 RES     \\n      66 A          469.6566   497.4575   450.1134 A             1 RES     \\n      67 A          465.3860   498.6105   441.1450 A             1 RES     \\n      68 A          461.1154   499.7635   432.1766 A             1 RES     \\n      69 A          456.8448   500.9164   423.2081 A             1 RES     \\n      70 A          452.5742   502.0694   414.2397 A             1 RES     \\n      71 A          448.3036   503.2224   405.2713 A             1 RES     \\n      72 A          444.0330   504.3753   396.3029 A             1 RES     \\n      73 A          439.7623   505.5283   387.3345 A             1 RES     \\n      74 A          435.4917   506.6812   378.3660 A             1 RES     \\n      75 A          431.2211   507.8342   369.3976 A             1 RES     \\n      76 A          426.9505   508.9872   360.4292 A             1 RES     \\n      77 A          422.6799   510.1401   351.4608 A             1 RES     \\n      78 A          418.4093   511.2931   342.4923 A             1 RES     \\n      79 A          414.1387   512.4461   333.5239 A             1 RES     \\n      80 A          409.8681   513.5990   324.5555 A             1 RES     \\n      81 A          294.6608   458.5315   329.4847 A             1 RES     \\n      82 A          303.9600   461.3360   327.1058 A             1 RES     \\n      83 A          313.2593   464.1404   324.7269 A             1 RES     \\n      84 A          322.5585   466.9449   322.3480 A             1 RES     \\n      85 A          331.8577   469.7493   319.9691 A             1 RES     \\n      86 A          341.1570   472.5538   317.5902 A             1 RES     \\n      87 A          350.4562   475.3582   315.2113 A             1 RES     \\n      88 A          359.7555   478.1627   312.8324 A             1 RES     \\n      89 A          369.0547   480.9671   310.4535 A             1 RES     \\n      90 A          378.3540   483.7716   308.0746 A             1 RES     \\n      91 A          387.6532   486.5760   305.6957 A             1 RES     \\n      92 A          396.9524   489.3805   303.3168 A             1 RES     \\n      93 A          406.2517   492.1849   300.9379 A             1 RES     \\n      94 A          415.5509   494.9894   298.5590 A             1 RES     \\n      95 A          424.8502   497.7938   296.1801 A             1 RES     \\n      96 A          434.1494   500.5983   293.8012 A             1 RES     \\n      97 A          443.4486   503.4027   291.4223 A             1 RES     \\n      98 A          452.7479   506.2072   289.0434 A             1 RES     \\n      99 A          462.0471   509.0116   286.6645 A             1 RES     \\n     100 A          471.3464   511.8161   284.2856 A             1 RES     \\n@<TRIPOS>BOND\\n       1        1        2 1\\n       2        2        3 1\\n       3        3        4 1\\n       4        4        5 1\\n       5        5        6 1\\n       6        6        7 1\\n       7        7        8 1\\n       8        8        9 1\\n       9        9       10 1\\n      10       10       11 1\\n      11       11       12 1\\n      12       12       13 1\\n      13       13       14 1\\n      14       14       15 1\\n      15       15       16 1\\n      16       16       17 1\\n      17       17       18 1\\n      18       18       19 1\\n      19       19       20 1\\n      20       21       22 1\\n      21       22       23 1\\n      22       23       24 1\\n      23       24       25 1\\n      24       25       26 1\\n      25       26       27 1\\n      26       27       28 1\\n      27       28       29 1\\n      28       29       30 1\\n      29       30       31 1\\n      30       31       32 1\\n      31       32       33 1\\n      32       33       34 1\\n      33       34       35 1\\n      34       35       36 1\\n      35       36       37 1\\n      36       37       38 1\\n      37       38       39 1\\n      38       39       40 1\\n      39       41       42 1\\n      40       42       43 1\\n      41       43       44 1\\n      42       44       45 1\\n      43       45       46 1\\n      44       46       47 1\\n      45       47       48 1\\n      46       48       49 1\\n      47       49       50 1\\n      48       50       51 1\\n      49       51       52 1\\n      50       52       53 1\\n      51       53       54 1\\n      52       54       55 1\\n      53       55       56 1\\n      54       56       57 1\\n      55       57       58 1\\n      56       58       59 1\\n      57       59       60 1\\n      58       61       62 1\\n      59       62       63 1\\n      60       63       64 1\\n      61       64       65 1\\n      62       65       66 1\\n      63       66       67 1\\n      64       67       68 1\\n      65       68       69 1\\n      66       69       70 1\\n      67       70       71 1\\n      68       71       72 1\\n      69       72       73 1\\n      70       73       74 1\\n      71       74       75 1\\n      72       75       76 1\\n      73       76       77 1\\n      74       77       78 1\\n      75       78       79 1\\n      76       79       80 1\\n      77       81       82 1\\n      78       82       83 1\\n      79       83       84 1\\n      80       84       85 1\\n      81       85       86 1\\n      82       86       87 1\\n      83       87       88 1\\n      84       88       89 1\\n      85       89       90 1\\n      86       90       91 1\\n      87       91       92 1\\n      88       92       93 1\\n      89       93       94 1\\n      90       94       95 1\\n      91       95       96 1\\n      92       96       97 1\\n      93       97       98 1\\n      94       98       99 1\\n      95       99      100 1\\n@<TRIPOS>SUBSTRUCTURE\\n       1 RES             1 RESIDUE    0 **** ROOT      0\\n\",\"mol2\");\n\tviewer_17466764263603215.setStyle({\"stick\": {\"radius\": 0.18, \"color\": \"grey\"}, \"sphere\": {\"scale\": 0.3, \"colorscheme\": {}}});\n\tviewer_17466764263603215.zoomTo();\nviewer_17466764263603215.render();\n});\n</script>",
      "text/html": [
       "<div id=\"3dmolviewer_17466764263603215\"  style=\"position: relative; width: 640px; height: 480px;\">\n",
       "        <p id=\"3dmolwarning_17466764263603215\" style=\"background-color:#ffcccc;color:black\">3Dmol.js failed to load for some reason.  Please check your browser console for error messages.<br></p>\n",
       "        </div>\n",
       "<script>\n",
       "\n",
       "var loadScriptAsync = function(uri){\n",
       "  return new Promise((resolve, reject) => {\n",
       "    //this is to ignore the existence of requirejs amd\n",
       "    var savedexports, savedmodule;\n",
       "    if (typeof exports !== 'undefined') savedexports = exports;\n",
       "    else exports = {}\n",
       "    if (typeof module !== 'undefined') savedmodule = module;\n",
       "    else module = {}\n",
       "\n",
       "    var tag = document.createElement('script');\n",
       "    tag.src = uri;\n",
       "    tag.async = true;\n",
       "    tag.onload = () => {\n",
       "        exports = savedexports;\n",
       "        module = savedmodule;\n",
       "        resolve();\n",
       "    };\n",
       "  var firstScriptTag = document.getElementsByTagName('script')[0];\n",
       "  firstScriptTag.parentNode.insertBefore(tag, firstScriptTag);\n",
       "});\n",
       "};\n",
       "\n",
       "if(typeof $3Dmolpromise === 'undefined') {\n",
       "$3Dmolpromise = null;\n",
       "  $3Dmolpromise = loadScriptAsync('https://cdnjs.cloudflare.com/ajax/libs/3Dmol/2.4.2/3Dmol-min.js');\n",
       "}\n",
       "\n",
       "var viewer_17466764263603215 = null;\n",
       "var warn = document.getElementById(\"3dmolwarning_17466764263603215\");\n",
       "if(warn) {\n",
       "    warn.parentNode.removeChild(warn);\n",
       "}\n",
       "$3Dmolpromise.then(function() {\n",
       "viewer_17466764263603215 = $3Dmol.createViewer(document.getElementById(\"3dmolviewer_17466764263603215\"),{backgroundColor:\"white\"});\n",
       "viewer_17466764263603215.zoomTo();\n",
       "\tviewer_17466764263603215.addModel(\"@<TRIPOS>MOLECULE\\nRES\\n100 95 1 0 1\\nSMALL\\nNO_CHARGES\\n@<TRIPOS>CRYSIN\\n  538.9970   538.9970   538.9970    90.0000    90.0000    90.0000 1 1\\n@<TRIPOS>ATOM\\n       1 A           93.8954    88.7331   418.0012 A             1 RES     \\n       2 A           93.2973    98.5500   419.8098 A             1 RES     \\n       3 A           92.6992   108.3669   421.6184 A             1 RES     \\n       4 A           92.1011   118.1837   423.4270 A             1 RES     \\n       5 A           91.5030   128.0006   425.2356 A             1 RES     \\n       6 A           90.9049   137.8175   427.0443 A             1 RES     \\n       7 A           90.3068   147.6344   428.8529 A             1 RES     \\n       8 A           89.7086   157.4513   430.6615 A             1 RES     \\n       9 A           89.1105   167.2681   432.4701 A             1 RES     \\n      10 A           88.5124   177.0850   434.2788 A             1 RES     \\n      11 A           87.9143   186.9019   436.0874 A             1 RES     \\n      12 A           87.3162   196.7188   437.8960 A             1 RES     \\n      13 A           86.7181   206.5357   439.7046 A             1 RES     \\n      14 A           86.1200   216.3525   441.5133 A             1 RES     \\n      15 A           85.5219   226.1694   443.3219 A             1 RES     \\n      16 A           84.9238   235.9863   445.1305 A             1 RES     \\n      17 A           84.3257   245.8032   446.9391 A             1 RES     \\n      18 A           83.7276   255.6201   448.7478 A             1 RES     \\n      19 A           83.1294   265.4369   450.5564 A             1 RES     \\n      20 A           82.5313   275.2538   452.3650 A             1 RES     \\n      21 A           27.8655    31.1484   401.5725 A             1 RES     \\n      22 A           31.7690    31.9376   392.3998 A             1 RES     \\n      23 A           35.6725    32.7267   383.2270 A             1 RES     \\n      24 A           39.5761    33.5159   374.0542 A             1 RES     \\n      25 A           43.4796    34.3051   364.8815 A             1 RES     \\n      26 A           47.3831    35.0942   355.7087 A             1 RES     \\n      27 A           51.2867    35.8834   346.5359 A             1 RES     \\n      28 A           55.1902    36.6725   337.3632 A             1 RES     \\n      29 A           59.0937    37.4617   328.1904 A             1 RES     \\n      30 A           62.9973    38.2508   319.0176 A             1 RES     \\n      31 A           66.9008    39.0400   309.8449 A             1 RES     \\n      32 A           70.8043    39.8291   300.6721 A             1 RES     \\n      33 A           74.7078    40.6183   291.4993 A             1 RES     \\n      34 A           78.6114    41.4074   282.3266 A             1 RES     \\n      35 A           82.5149    42.1966   273.1538 A             1 RES     \\n      36 A           86.4184    42.9858   263.9810 A             1 RES     \\n      37 A           90.3220    43.7749   254.8082 A             1 RES     \\n      38 A           94.2255    44.5641   245.6355 A             1 RES     \\n      39 A           98.1290    45.3532   236.4627 A             1 RES     \\n      40 A          102.0326    46.1424   227.2899 A             1 RES     \\n      41 A          487.2460   459.2648   202.3542 A             1 RES     \\n      42 A          482.1502   456.6463   210.5503 A             1 RES     \\n      43 A          477.0544   454.0279   218.7464 A             1 RES     \\n      44 A          471.9586   451.4095   226.9426 A             1 RES     \\n      45 A          466.8628   448.7910   235.1387 A             1 RES     \\n      46 A          461.7670   446.1726   243.3349 A             1 RES     \\n      47 A          456.6712   443.5542   251.5310 A             1 RES     \\n      48 A          451.5754   440.9358   259.7271 A             1 RES     \\n      49 A          446.4796   438.3173   267.9233 A             1 RES     \\n      50 A          441.3838   435.6989   276.1194 A             1 RES     \\n      51 A          436.2880   433.0805   284.3156 A             1 RES     \\n      52 A          431.1922   430.4620   292.5117 A             1 RES     \\n      53 A          426.0964   427.8436   300.7078 A             1 RES     \\n      54 A          421.0006   425.2252   308.9040 A             1 RES     \\n      55 A          415.9048   422.6068   317.1001 A             1 RES     \\n      56 A          410.8090   419.9883   325.2963 A             1 RES     \\n      57 A          405.7132   417.3699   333.4924 A             1 RES     \\n      58 A          400.6174   414.7515   341.6885 A             1 RES     \\n      59 A          395.5216   412.1330   349.8847 A             1 RES     \\n      60 A          390.4258   409.5146   358.0808 A             1 RES     \\n      61 A          491.0096   491.6927   494.9555 A             1 RES     \\n      62 A          486.7390   492.8457   485.9871 A             1 RES     \\n      63 A          482.4684   493.9987   477.0187 A             1 RES     \\n      64 A          478.1978   495.1516   468.0502 A             1 RES     \\n      65 A          473.9272   496.3046   459.0818 A             1 RES     \\n      66 A          469.6566   497.4575   450.1134 A             1 RES     \\n      67 A          465.3860   498.6105   441.1450 A             1 RES     \\n      68 A          461.1154   499.7635   432.1766 A             1 RES     \\n      69 A          456.8448   500.9164   423.2081 A             1 RES     \\n      70 A          452.5742   502.0694   414.2397 A             1 RES     \\n      71 A          448.3036   503.2224   405.2713 A             1 RES     \\n      72 A          444.0330   504.3753   396.3029 A             1 RES     \\n      73 A          439.7623   505.5283   387.3345 A             1 RES     \\n      74 A          435.4917   506.6812   378.3660 A             1 RES     \\n      75 A          431.2211   507.8342   369.3976 A             1 RES     \\n      76 A          426.9505   508.9872   360.4292 A             1 RES     \\n      77 A          422.6799   510.1401   351.4608 A             1 RES     \\n      78 A          418.4093   511.2931   342.4923 A             1 RES     \\n      79 A          414.1387   512.4461   333.5239 A             1 RES     \\n      80 A          409.8681   513.5990   324.5555 A             1 RES     \\n      81 A          294.6608   458.5315   329.4847 A             1 RES     \\n      82 A          303.9600   461.3360   327.1058 A             1 RES     \\n      83 A          313.2593   464.1404   324.7269 A             1 RES     \\n      84 A          322.5585   466.9449   322.3480 A             1 RES     \\n      85 A          331.8577   469.7493   319.9691 A             1 RES     \\n      86 A          341.1570   472.5538   317.5902 A             1 RES     \\n      87 A          350.4562   475.3582   315.2113 A             1 RES     \\n      88 A          359.7555   478.1627   312.8324 A             1 RES     \\n      89 A          369.0547   480.9671   310.4535 A             1 RES     \\n      90 A          378.3540   483.7716   308.0746 A             1 RES     \\n      91 A          387.6532   486.5760   305.6957 A             1 RES     \\n      92 A          396.9524   489.3805   303.3168 A             1 RES     \\n      93 A          406.2517   492.1849   300.9379 A             1 RES     \\n      94 A          415.5509   494.9894   298.5590 A             1 RES     \\n      95 A          424.8502   497.7938   296.1801 A             1 RES     \\n      96 A          434.1494   500.5983   293.8012 A             1 RES     \\n      97 A          443.4486   503.4027   291.4223 A             1 RES     \\n      98 A          452.7479   506.2072   289.0434 A             1 RES     \\n      99 A          462.0471   509.0116   286.6645 A             1 RES     \\n     100 A          471.3464   511.8161   284.2856 A             1 RES     \\n@<TRIPOS>BOND\\n       1        1        2 1\\n       2        2        3 1\\n       3        3        4 1\\n       4        4        5 1\\n       5        5        6 1\\n       6        6        7 1\\n       7        7        8 1\\n       8        8        9 1\\n       9        9       10 1\\n      10       10       11 1\\n      11       11       12 1\\n      12       12       13 1\\n      13       13       14 1\\n      14       14       15 1\\n      15       15       16 1\\n      16       16       17 1\\n      17       17       18 1\\n      18       18       19 1\\n      19       19       20 1\\n      20       21       22 1\\n      21       22       23 1\\n      22       23       24 1\\n      23       24       25 1\\n      24       25       26 1\\n      25       26       27 1\\n      26       27       28 1\\n      27       28       29 1\\n      28       29       30 1\\n      29       30       31 1\\n      30       31       32 1\\n      31       32       33 1\\n      32       33       34 1\\n      33       34       35 1\\n      34       35       36 1\\n      35       36       37 1\\n      36       37       38 1\\n      37       38       39 1\\n      38       39       40 1\\n      39       41       42 1\\n      40       42       43 1\\n      41       43       44 1\\n      42       44       45 1\\n      43       45       46 1\\n      44       46       47 1\\n      45       47       48 1\\n      46       48       49 1\\n      47       49       50 1\\n      48       50       51 1\\n      49       51       52 1\\n      50       52       53 1\\n      51       53       54 1\\n      52       54       55 1\\n      53       55       56 1\\n      54       56       57 1\\n      55       57       58 1\\n      56       58       59 1\\n      57       59       60 1\\n      58       61       62 1\\n      59       62       63 1\\n      60       63       64 1\\n      61       64       65 1\\n      62       65       66 1\\n      63       66       67 1\\n      64       67       68 1\\n      65       68       69 1\\n      66       69       70 1\\n      67       70       71 1\\n      68       71       72 1\\n      69       72       73 1\\n      70       73       74 1\\n      71       74       75 1\\n      72       75       76 1\\n      73       76       77 1\\n      74       77       78 1\\n      75       78       79 1\\n      76       79       80 1\\n      77       81       82 1\\n      78       82       83 1\\n      79       83       84 1\\n      80       84       85 1\\n      81       85       86 1\\n      82       86       87 1\\n      83       87       88 1\\n      84       88       89 1\\n      85       89       90 1\\n      86       90       91 1\\n      87       91       92 1\\n      88       92       93 1\\n      89       93       94 1\\n      90       94       95 1\\n      91       95       96 1\\n      92       96       97 1\\n      93       97       98 1\\n      94       98       99 1\\n      95       99      100 1\\n@<TRIPOS>SUBSTRUCTURE\\n       1 RES             1 RESIDUE    0 **** ROOT      0\\n\",\"mol2\");\n",
       "\tviewer_17466764263603215.setStyle({\"stick\": {\"radius\": 0.18, \"color\": \"grey\"}, \"sphere\": {\"scale\": 0.3, \"colorscheme\": {}}});\n",
       "\tviewer_17466764263603215.zoomTo();\n",
       "viewer_17466764263603215.render();\n",
       "});\n",
       "</script>"
      ]
     },
     "metadata": {},
     "output_type": "display_data"
    }
   ],
   "source": [
    "system.visualize()"
   ]
  },
  {
   "cell_type": "code",
   "execution_count": 26,
   "id": "7fd41a16-ec0f-46be-b666-54d740c33d23",
   "metadata": {},
   "outputs": [
    {
     "name": "stdout",
     "output_type": "stream",
     "text": [
      "Distance between particle 0 and 1: 1.00000 nm\n"
     ]
    }
   ],
   "source": [
    "positions = system.hoomd_snapshot.particles.position\n",
    "\n",
    "# Example: distance between particle 0 and 1\n",
    "d = np.linalg.norm(positions[0] - positions[1])\n",
    "print(f\"Distance between particle 0 and 1: {d:.5f} nm\")"
   ]
  },
  {
   "cell_type": "code",
   "execution_count": null,
   "id": "ac573e11-0fe6-445f-a697-7072dc36701e",
   "metadata": {},
   "outputs": [],
   "source": []
  }
 ],
 "metadata": {
  "kernelspec": {
   "display_name": "Python 3 (ipykernel)",
   "language": "python",
   "name": "python3"
  },
  "language_info": {
   "codemirror_mode": {
    "name": "ipython",
    "version": 3
   },
   "file_extension": ".py",
   "mimetype": "text/x-python",
   "name": "python",
   "nbconvert_exporter": "python",
   "pygments_lexer": "ipython3",
   "version": "3.12.0"
  }
 },
 "nbformat": 4,
 "nbformat_minor": 5
}
