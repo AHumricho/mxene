{
 "cells": [
  {
   "cell_type": "code",
   "execution_count": 33,
   "id": "bfd51354-cfc1-4932-a600-c8f9d244d260",
   "metadata": {},
   "outputs": [],
   "source": [
    "import flowermd\n",
    "import hoomd\n",
    "import gsd\n",
    "import matplotlib.pyplot as plt\n",
    "import numpy as np\n",
    "import gsd.hoomd\n",
    "from flowermd.base import Pack, Simulation\n",
    "from flowermd.library import KremerGrestBeadSpring, LJChain\n",
    "from flowermd.utils import get_target_box_number_density\n",
    "import unyt as u\n",
    "import hoomd"
   ]
  },
  {
   "cell_type": "code",
   "execution_count": 34,
   "id": "ca149296-37d1-4f4c-b726-0a6735a83fce",
   "metadata": {},
   "outputs": [],
   "source": [
    "cpu = hoomd.device.CPU()"
   ]
  },
  {
   "cell_type": "code",
   "execution_count": 35,
   "id": "210dacdf-f516-4465-9a81-5f8674635573",
   "metadata": {},
   "outputs": [],
   "source": [
    "kg_chain = LJChain(lengths= 20 ,num_mols=1)"
   ]
  },
  {
   "cell_type": "code",
   "execution_count": 36,
   "id": "10cf0f14-2767-4e03-892e-879e4813635e",
   "metadata": {},
   "outputs": [],
   "source": [
    "ff = KremerGrestBeadSpring(bond_k=2.5,bond_max=2.5)"
   ]
  },
  {
   "cell_type": "code",
   "execution_count": 37,
   "id": "87b0e189-e852-4166-abb4-87df578474ea",
   "metadata": {},
   "outputs": [],
   "source": [
    "system = Pack(molecules=kg_chain, density=0.85*u.Unit(\"nm**-3\"), packing_expand_factor=11,edge=2,overlap=1)"
   ]
  },
  {
   "cell_type": "code",
   "execution_count": 38,
   "id": "0c6f5154-d0ef-4607-b502-731d6d9b2512",
   "metadata": {},
   "outputs": [
    {
     "name": "stdout",
     "output_type": "stream",
     "text": [
      "Initializing simulation state from a gsd.hoomd.Frame.\n"
     ]
    }
   ],
   "source": [
    "sim = Simulation(\n",
    "        initial_state=system.hoomd_snapshot,\n",
    "        forcefield=ff.hoomd_forces,\n",
    "        gsd_write_freq=int(1e5/10),\n",
    "        device = cpu)"
   ]
  },
  {
   "cell_type": "code",
   "execution_count": 39,
   "id": "eea6d48c-f8fb-4715-98d8-02ab6dd67058",
   "metadata": {},
   "outputs": [
    {
     "name": "stdout",
     "output_type": "stream",
     "text": [
      "Step 5500 of 100000; TPS: 31861.71; ETA: 0.0 minutes\n",
      "Step 11000 of 100000; TPS: 59746.24; ETA: 0.0 minutes\n",
      "Step 16500 of 100000; TPS: 84288.17; ETA: 0.0 minutes\n",
      "Step 22000 of 100000; TPS: 106788.86; ETA: 0.0 minutes\n",
      "Step 27500 of 100000; TPS: 125852.36; ETA: 0.0 minutes\n",
      "Step 33000 of 100000; TPS: 143390.98; ETA: 0.0 minutes\n",
      "Step 38500 of 100000; TPS: 158348.24; ETA: 0.0 minutes\n",
      "Step 44000 of 100000; TPS: 172146.0; ETA: 0.0 minutes\n",
      "Step 49500 of 100000; TPS: 183995.72; ETA: 0.0 minutes\n",
      "Step 55000 of 100000; TPS: 192285.51; ETA: 0.0 minutes\n",
      "Step 60500 of 100000; TPS: 203100.56; ETA: 0.0 minutes\n",
      "Step 66000 of 100000; TPS: 211651.75; ETA: 0.0 minutes\n",
      "Step 71500 of 100000; TPS: 220604.8; ETA: 0.0 minutes\n",
      "Step 77000 of 100000; TPS: 226937.81; ETA: 0.0 minutes\n",
      "Step 82500 of 100000; TPS: 235190.82; ETA: 0.0 minutes\n",
      "Step 88000 of 100000; TPS: 242761.3; ETA: 0.0 minutes\n",
      "Step 93500 of 100000; TPS: 249738.91; ETA: 0.0 minutes\n",
      "Step 99000 of 100000; TPS: 255146.09; ETA: 0.0 minutes\n",
      "Step 4499 of 10000; TPS: 449136.47; ETA: 0.0 minutes\n",
      "Step 9999 of 10000; TPS: 464551.2; ETA: 0.0 minutes\n"
     ]
    }
   ],
   "source": [
    "target_box = get_target_box_number_density(density=0.85*u.Unit(\"nm**-3\"),n_beads=10*20)\n",
    "sim.run_update_volume(final_box_lengths=target_box, kT=2.0, n_steps=1e5,tau_kt=sim.dt,period=10,thermalize_particles=True)\n",
    "sim.run_NVT(n_steps=1e4, kT=1, tau_kt=0.06)\n",
    "sim.flush_writers()"
   ]
  },
  {
   "cell_type": "code",
   "execution_count": 40,
   "id": "515c1536-1574-416c-bde9-d1db18e35897",
   "metadata": {},
   "outputs": [
    {
     "name": "stderr",
     "output_type": "stream",
     "text": [
      "/home/eridanirojas/miniconda3/envs/flowermd-dev/lib/python3.12/site-packages/mbuild/conversion.py:1994: UserWarning: No element attribute associated with '<A pos=([ 7.6578 16.1411 26.5739]), 1 bonds, id: 140335785047056>'; and no matching elements found based upon the compound name. Setting atomic number to zero.\n",
      "  warn(warn_msg)\n"
     ]
    },
    {
     "data": {
      "application/3dmoljs_load.v0": "<div id=\"3dmolviewer_17429758184705822\"  style=\"position: relative; width: 640px; height: 480px;\">\n        <p id=\"3dmolwarning_17429758184705822\" style=\"background-color:#ffcccc;color:black\">3Dmol.js failed to load for some reason.  Please check your browser console for error messages.<br></p>\n        </div>\n<script>\n\nvar loadScriptAsync = function(uri){\n  return new Promise((resolve, reject) => {\n    //this is to ignore the existence of requirejs amd\n    var savedexports, savedmodule;\n    if (typeof exports !== 'undefined') savedexports = exports;\n    else exports = {}\n    if (typeof module !== 'undefined') savedmodule = module;\n    else module = {}\n\n    var tag = document.createElement('script');\n    tag.src = uri;\n    tag.async = true;\n    tag.onload = () => {\n        exports = savedexports;\n        module = savedmodule;\n        resolve();\n    };\n  var firstScriptTag = document.getElementsByTagName('script')[0];\n  firstScriptTag.parentNode.insertBefore(tag, firstScriptTag);\n});\n};\n\nif(typeof $3Dmolpromise === 'undefined') {\n$3Dmolpromise = null;\n  $3Dmolpromise = loadScriptAsync('https://cdnjs.cloudflare.com/ajax/libs/3Dmol/2.4.2/3Dmol-min.js');\n}\n\nvar viewer_17429758184705822 = null;\nvar warn = document.getElementById(\"3dmolwarning_17429758184705822\");\nif(warn) {\n    warn.parentNode.removeChild(warn);\n}\n$3Dmolpromise.then(function() {\nviewer_17429758184705822 = $3Dmol.createViewer(document.getElementById(\"3dmolviewer_17429758184705822\"),{backgroundColor:\"white\"});\nviewer_17429758184705822.zoomTo();\n\tviewer_17429758184705822.addModel(\"@<TRIPOS>MOLECULE\\nRES\\n20 19 1 0 1\\nSMALL\\nNO_CHARGES\\n@<TRIPOS>CRYSIN\\n  315.2074   315.2074   315.2074    90.0000    90.0000    90.0000 1 1\\n@<TRIPOS>ATOM\\n       1 A           76.5776   161.4113   265.7393 A             1 RES     \\n       2 A           77.8065   163.2888   255.9943 A             1 RES     \\n       3 A           79.0353   165.1664   246.2493 A             1 RES     \\n       4 A           80.2642   167.0440   236.5043 A             1 RES     \\n       5 A           81.4931   168.9215   226.7593 A             1 RES     \\n       6 A           82.7219   170.7991   217.0144 A             1 RES     \\n       7 A           83.9508   172.6767   207.2694 A             1 RES     \\n       8 A           85.1796   174.5542   197.5244 A             1 RES     \\n       9 A           86.4085   176.4318   187.7794 A             1 RES     \\n      10 A           87.6374   178.3094   178.0344 A             1 RES     \\n      11 A           88.8662   180.1869   168.2894 A             1 RES     \\n      12 A           90.0951   182.0645   158.5445 A             1 RES     \\n      13 A           91.3239   183.9421   148.7995 A             1 RES     \\n      14 A           92.5528   185.8196   139.0545 A             1 RES     \\n      15 A           93.7816   187.6972   129.3095 A             1 RES     \\n      16 A           95.0105   189.5748   119.5645 A             1 RES     \\n      17 A           96.2394   191.4523   109.8196 A             1 RES     \\n      18 A           97.4682   193.3299   100.0746 A             1 RES     \\n      19 A           98.6971   195.2075    90.3296 A             1 RES     \\n      20 A           99.9259   197.0850    80.5846 A             1 RES     \\n@<TRIPOS>BOND\\n       1        1        2 1\\n       2        2        3 1\\n       3        3        4 1\\n       4        4        5 1\\n       5        5        6 1\\n       6        6        7 1\\n       7        7        8 1\\n       8        8        9 1\\n       9        9       10 1\\n      10       10       11 1\\n      11       11       12 1\\n      12       12       13 1\\n      13       13       14 1\\n      14       14       15 1\\n      15       15       16 1\\n      16       16       17 1\\n      17       17       18 1\\n      18       18       19 1\\n      19       19       20 1\\n@<TRIPOS>SUBSTRUCTURE\\n       1 RES             1 RESIDUE    0 **** ROOT      0\\n\",\"mol2\");\n\tviewer_17429758184705822.setStyle({\"stick\": {\"radius\": 0.18, \"color\": \"grey\"}, \"sphere\": {\"scale\": 0.3, \"colorscheme\": {}}});\n\tviewer_17429758184705822.zoomTo();\nviewer_17429758184705822.render();\n});\n</script>",
      "text/html": [
       "<div id=\"3dmolviewer_17429758184705822\"  style=\"position: relative; width: 640px; height: 480px;\">\n",
       "        <p id=\"3dmolwarning_17429758184705822\" style=\"background-color:#ffcccc;color:black\">3Dmol.js failed to load for some reason.  Please check your browser console for error messages.<br></p>\n",
       "        </div>\n",
       "<script>\n",
       "\n",
       "var loadScriptAsync = function(uri){\n",
       "  return new Promise((resolve, reject) => {\n",
       "    //this is to ignore the existence of requirejs amd\n",
       "    var savedexports, savedmodule;\n",
       "    if (typeof exports !== 'undefined') savedexports = exports;\n",
       "    else exports = {}\n",
       "    if (typeof module !== 'undefined') savedmodule = module;\n",
       "    else module = {}\n",
       "\n",
       "    var tag = document.createElement('script');\n",
       "    tag.src = uri;\n",
       "    tag.async = true;\n",
       "    tag.onload = () => {\n",
       "        exports = savedexports;\n",
       "        module = savedmodule;\n",
       "        resolve();\n",
       "    };\n",
       "  var firstScriptTag = document.getElementsByTagName('script')[0];\n",
       "  firstScriptTag.parentNode.insertBefore(tag, firstScriptTag);\n",
       "});\n",
       "};\n",
       "\n",
       "if(typeof $3Dmolpromise === 'undefined') {\n",
       "$3Dmolpromise = null;\n",
       "  $3Dmolpromise = loadScriptAsync('https://cdnjs.cloudflare.com/ajax/libs/3Dmol/2.4.2/3Dmol-min.js');\n",
       "}\n",
       "\n",
       "var viewer_17429758184705822 = null;\n",
       "var warn = document.getElementById(\"3dmolwarning_17429758184705822\");\n",
       "if(warn) {\n",
       "    warn.parentNode.removeChild(warn);\n",
       "}\n",
       "$3Dmolpromise.then(function() {\n",
       "viewer_17429758184705822 = $3Dmol.createViewer(document.getElementById(\"3dmolviewer_17429758184705822\"),{backgroundColor:\"white\"});\n",
       "viewer_17429758184705822.zoomTo();\n",
       "\tviewer_17429758184705822.addModel(\"@<TRIPOS>MOLECULE\\nRES\\n20 19 1 0 1\\nSMALL\\nNO_CHARGES\\n@<TRIPOS>CRYSIN\\n  315.2074   315.2074   315.2074    90.0000    90.0000    90.0000 1 1\\n@<TRIPOS>ATOM\\n       1 A           76.5776   161.4113   265.7393 A             1 RES     \\n       2 A           77.8065   163.2888   255.9943 A             1 RES     \\n       3 A           79.0353   165.1664   246.2493 A             1 RES     \\n       4 A           80.2642   167.0440   236.5043 A             1 RES     \\n       5 A           81.4931   168.9215   226.7593 A             1 RES     \\n       6 A           82.7219   170.7991   217.0144 A             1 RES     \\n       7 A           83.9508   172.6767   207.2694 A             1 RES     \\n       8 A           85.1796   174.5542   197.5244 A             1 RES     \\n       9 A           86.4085   176.4318   187.7794 A             1 RES     \\n      10 A           87.6374   178.3094   178.0344 A             1 RES     \\n      11 A           88.8662   180.1869   168.2894 A             1 RES     \\n      12 A           90.0951   182.0645   158.5445 A             1 RES     \\n      13 A           91.3239   183.9421   148.7995 A             1 RES     \\n      14 A           92.5528   185.8196   139.0545 A             1 RES     \\n      15 A           93.7816   187.6972   129.3095 A             1 RES     \\n      16 A           95.0105   189.5748   119.5645 A             1 RES     \\n      17 A           96.2394   191.4523   109.8196 A             1 RES     \\n      18 A           97.4682   193.3299   100.0746 A             1 RES     \\n      19 A           98.6971   195.2075    90.3296 A             1 RES     \\n      20 A           99.9259   197.0850    80.5846 A             1 RES     \\n@<TRIPOS>BOND\\n       1        1        2 1\\n       2        2        3 1\\n       3        3        4 1\\n       4        4        5 1\\n       5        5        6 1\\n       6        6        7 1\\n       7        7        8 1\\n       8        8        9 1\\n       9        9       10 1\\n      10       10       11 1\\n      11       11       12 1\\n      12       12       13 1\\n      13       13       14 1\\n      14       14       15 1\\n      15       15       16 1\\n      16       16       17 1\\n      17       17       18 1\\n      18       18       19 1\\n      19       19       20 1\\n@<TRIPOS>SUBSTRUCTURE\\n       1 RES             1 RESIDUE    0 **** ROOT      0\\n\",\"mol2\");\n",
       "\tviewer_17429758184705822.setStyle({\"stick\": {\"radius\": 0.18, \"color\": \"grey\"}, \"sphere\": {\"scale\": 0.3, \"colorscheme\": {}}});\n",
       "\tviewer_17429758184705822.zoomTo();\n",
       "viewer_17429758184705822.render();\n",
       "});\n",
       "</script>"
      ]
     },
     "metadata": {},
     "output_type": "display_data"
    }
   ],
   "source": [
    "system.visualize()"
   ]
  },
  {
   "cell_type": "code",
   "execution_count": null,
   "id": "7fd41a16-ec0f-46be-b666-54d740c33d23",
   "metadata": {},
   "outputs": [],
   "source": []
  }
 ],
 "metadata": {
  "kernelspec": {
   "display_name": "Python 3 (ipykernel)",
   "language": "python",
   "name": "python3"
  },
  "language_info": {
   "codemirror_mode": {
    "name": "ipython",
    "version": 3
   },
   "file_extension": ".py",
   "mimetype": "text/x-python",
   "name": "python",
   "nbconvert_exporter": "python",
   "pygments_lexer": "ipython3",
   "version": "3.12.0"
  }
 },
 "nbformat": 4,
 "nbformat_minor": 5
}
