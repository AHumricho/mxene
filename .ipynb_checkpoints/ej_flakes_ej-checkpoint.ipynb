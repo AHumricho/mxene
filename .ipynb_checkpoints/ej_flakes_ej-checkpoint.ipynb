{
 "cells": [
  {
   "cell_type": "code",
   "execution_count": 10,
   "id": "3ab2f67e-8182-4b7d-8540-313085494a9e",
   "metadata": {},
   "outputs": [],
   "source": [
    "import warnings\n",
    "warnings.filterwarnings('ignore')\n",
    "import flowermd\n",
    "import hoomd\n",
    "import gsd\n",
    "import matplotlib.pyplot as plt\n",
    "import numpy as np\n",
    "import gsd.hoomd\n",
    "from flowermd.base import Pack, Simulation\n",
    "from flowermd.library import KremerGrestBeadSpring, LJChain\n",
    "from flowermd.utils import get_target_box_number_density\n",
    "from flowermd.base import Molecule\n",
    "#from flowermd.library import Graphene\n",
    "from flowermd.library.forcefields import BeadSpring\n",
    "from flowermd.base.forcefield import BaseHOOMDForcefield\n",
    "import unyt as u\n",
    "import hoomd\n",
    "import mbuild as mb\n",
    "import numpy as np\n",
    "from cmeutils.visualize import FresnelGSD\n",
    "cpu = hoomd.device.CPU()"
   ]
  },
  {
   "cell_type": "code",
   "execution_count": 11,
   "id": "39e12b41-17c8-4627-b8fe-6f4dbe615809",
   "metadata": {},
   "outputs": [],
   "source": [
    "del sim"
   ]
  },
  {
   "cell_type": "code",
   "execution_count": 12,
   "id": "a83d9e43-96e1-4d16-9639-def29502aeae",
   "metadata": {},
   "outputs": [],
   "source": [
    "import mbuild as mb\n",
    "from mbuild.compound import Compound\n",
    "from mbuild.lattice import Lattice\n",
    "\n",
    "from flowermd.base import Molecule, System\n",
    "\n",
    "\n",
    "class Graphene(System):\n",
    "    def __init__(\n",
    "        self,\n",
    "        x_repeat,\n",
    "        y_repeat,\n",
    "        n_layers,\n",
    "        base_units=dict(),\n",
    "        periodicity=(True, True, False),\n",
    "    ):\n",
    "        surface = mb.Compound(periodicity=periodicity)\n",
    "        scale = 1.0 # CHANGE THIS TO SCALE!!\n",
    "        spacings = [s * scale for s in [0.425, 0.246, 0.35]]\n",
    "        points = [\n",
    "            [1 / 6, 0, 0],\n",
    "            [1 / 2, 0, 0],\n",
    "            [0, 1 / 2, 0],\n",
    "            [2 / 3, 1 / 2, 0],\n",
    "        ]\n",
    "        lattice = Lattice(\n",
    "            lattice_spacing=spacings,\n",
    "            angles=[90, 90, 90],\n",
    "            lattice_points={\"A\": points},\n",
    "        )\n",
    "        carbon = Compound(name=\"C\", element=\"C\")\n",
    "        layers = lattice.populate(\n",
    "            compound_dict={\"A\": carbon}, x=x_repeat, y=y_repeat, z=n_layers\n",
    "        )\n",
    "        surface.add(layers)\n",
    "        surface.freud_generate_bonds(\"C\", \"C\", dmin=0.14*scale, dmax=0.145*scale)\n",
    "        surface_mol = Molecule(num_mols=1, compound=surface)\n",
    "        super(Graphene, self).__init__(\n",
    "            molecules=[surface_mol],\n",
    "            base_units=base_units,\n",
    "        )\n",
    "\n",
    "    def _build_system(self):\n",
    "        return self.all_molecules[0]"
   ]
  },
  {
   "cell_type": "code",
   "execution_count": 13,
   "id": "890820a8-cf0d-47e0-b8a7-f656907c1d7c",
   "metadata": {},
   "outputs": [],
   "source": [
    "#OK, so we want to initialize a system with some chains and some flakes\n",
    "kg_chain = LJChain(lengths=10,num_mols=1)\n",
    "sheet = Graphene(x_repeat=3, y_repeat=3, n_layers=1, periodicity=(False,False,False))\n",
    "system = Pack(molecules=[Molecule(compound=sheet.all_molecules[0], num_mols=1), kg_chain], density=0.2)"
   ]
  },
  {
   "cell_type": "code",
   "execution_count": 14,
   "id": "d149470a-44b1-42be-83bc-0460944623ed",
   "metadata": {},
   "outputs": [],
   "source": [
    "system.hoomd_snapshot.configuration.box = [10, 10, 10, 0, 0, 0]"
   ]
  },
  {
   "cell_type": "code",
   "execution_count": 15,
   "id": "cb6df85e-6c9c-4b89-beaa-42543e8ea421",
   "metadata": {
    "scrolled": true
   },
   "outputs": [
    {
     "name": "stdout",
     "output_type": "stream",
     "text": [
      "Initializing simulation state from a gsd.hoomd.Frame.\n",
      "Step 5500 of 20000; TPS: 22092.08; ETA: 0.0 minutes\n",
      "Step 11000 of 20000; TPS: 32878.61; ETA: 0.0 minutes\n",
      "Step 16500 of 20000; TPS: 39241.8; ETA: 0.0 minutes\n"
     ]
    },
    {
     "data": {
      "image/png": "[encoded data removed]",
      "text/plain": [
       "<fresnel.util.ImageArray at 0x7f5aa91ea870>"
      ]
     },
     "execution_count": 15,
     "metadata": {},
     "output_type": "execute_result"
    }
   ],
   "source": [
    "ff = BeadSpring(r_cut=2.5,\n",
    "        beads={\"A\": dict(epsilon=.1, sigma=1.0),\n",
    "               \"C\": dict(epsilon=0.1, sigma=1.0)},\n",
    "        bonds={\"C-C\": dict(r0=1.1, k=0.01), \"A-A\": dict(r0=1.1, k=0.01)},\n",
    "        angles={\"A-A-A\": dict(t0=np.pi, k=0.1),\n",
    "                \"C-C-C\": dict(t0=2*np.pi/3., k=0.1)},\n",
    "        dihedrals={\"A-A-A-A\": dict(phi0=0.0, k=0.1, d=-1, n=1), \"C-C-C-C\": dict(phi0=0.1, k=0.1, d=-1, n=1)})\n",
    "sim = Simulation(initial_state=system.hoomd_snapshot, forcefield=ff.hoomd_forces, device=cpu, dt = 0.0001)\n",
    "sim.run_NVT(n_steps=2e4,kT=2.0, tau_kt = 0.1) #short for initial testing\n",
    "sim.flush_writers()\n",
    "sim_visualizer = FresnelGSD(gsd_file=\"trajectory.gsd\", frame=2, view_axis=(1, 1, 1))\n",
    "sim_visualizer.view()\n",
    "# dt of .0001 is as big as we can get with the current parameterization\n",
    "#Issues:\n",
    "# Graphene flakes are initialized way too small, or the bond lengths are wrong\n",
    "# Need to double-check all the bonds, angle, dihedral parameters\n",
    "# then need to go back and get some chain lengths and flake sizes right."
   ]
  },
  {
   "cell_type": "code",
   "execution_count": 16,
   "id": "52d0b3ae-4e0e-461a-b3dd-096120b6859b",
   "metadata": {},
   "outputs": [
    {
     "data": {
      "application/3dmoljs_load.v0": "<div id=\"3dmolviewer_17462206428758917\"  style=\"position: relative; width: 640px; height: 480px;\">\n        <p id=\"3dmolwarning_17462206428758917\" style=\"background-color:#ffcccc;color:black\">3Dmol.js failed to load for some reason.  Please check your browser console for error messages.<br></p>\n        </div>\n<script>\n\nvar loadScriptAsync = function(uri){\n  return new Promise((resolve, reject) => {\n    //this is to ignore the existence of requirejs amd\n    var savedexports, savedmodule;\n    if (typeof exports !== 'undefined') savedexports = exports;\n    else exports = {}\n    if (typeof module !== 'undefined') savedmodule = module;\n    else module = {}\n\n    var tag = document.createElement('script');\n    tag.src = uri;\n    tag.async = true;\n    tag.onload = () => {\n        exports = savedexports;\n        module = savedmodule;\n        resolve();\n    };\n  var firstScriptTag = document.getElementsByTagName('script')[0];\n  firstScriptTag.parentNode.insertBefore(tag, firstScriptTag);\n});\n};\n\nif(typeof $3Dmolpromise === 'undefined') {\n$3Dmolpromise = null;\n  $3Dmolpromise = loadScriptAsync('https://cdnjs.cloudflare.com/ajax/libs/3Dmol/2.4.2/3Dmol-min.js');\n}\n\nvar viewer_17462206428758917 = null;\nvar warn = document.getElementById(\"3dmolwarning_17462206428758917\");\nif(warn) {\n    warn.parentNode.removeChild(warn);\n}\n$3Dmolpromise.then(function() {\nviewer_17462206428758917 = $3Dmol.createViewer(document.getElementById(\"3dmolviewer_17462206428758917\"),{backgroundColor:\"white\"});\nviewer_17462206428758917.zoomTo();\n\tviewer_17462206428758917.addModel(\"@<TRIPOS>MOLECULE\\nRES\\n46 54 1 0 1\\nSMALL\\nNO_CHARGES\\n@<TRIPOS>CRYSIN\\n   77.1460    77.1460    77.1460    90.0000    90.0000    90.0000 1 1\\n@<TRIPOS>ATOM\\n       1 C            3.1177    33.0757    55.6362 C             1 RES     \\n       2 C            4.9987    32.1116    54.3776 C             1 RES     \\n       3 C            6.8797    31.1475    53.1191 C             1 RES     \\n       4 C            2.6349    29.4063    57.7255 C             1 RES     \\n       5 C            4.5159    28.4422    56.4670 C             1 RES     \\n       6 C            6.3969    27.4781    55.2085 C             1 RES     \\n       7 C            2.1521    25.7370    59.8148 C             1 RES     \\n       8 C            4.0331    24.7729    58.5563 C             1 RES     \\n       9 C            5.9142    23.8088    57.2978 C             1 RES     \\n      10 C            2.9567    31.8523    56.3328 C             1 RES     \\n      11 C            4.8377    30.8882    55.0742 C             1 RES     \\n      12 C            6.7187    29.9241    53.8157 C             1 RES     \\n      13 C            2.4739    28.1829    58.4221 C             1 RES     \\n      14 C            4.3550    27.2188    57.1636 C             1 RES     \\n      15 C            6.2360    26.2547    55.9051 C             1 RES     \\n      16 C            1.9912    24.5136    60.5115 C             1 RES     \\n      17 C            3.8722    23.5495    59.2529 C             1 RES     \\n      18 C            5.7532    22.5854    57.9944 C             1 RES     \\n      19 C            4.1386    33.2049    54.6588 C             1 RES     \\n      20 C            6.0196    32.2408    53.4003 C             1 RES     \\n      21 C            7.9006    31.2767    52.1418 C             1 RES     \\n      22 C            3.6558    29.5356    56.7482 C             1 RES     \\n      23 C            5.5368    28.5715    55.4897 C             1 RES     \\n      24 C            7.4179    27.6074    54.2311 C             1 RES     \\n      25 C            3.1731    25.8662    58.8375 C             1 RES     \\n      26 C            5.0541    24.9021    57.5790 C             1 RES     \\n      27 C            6.9351    23.9380    56.3205 C             1 RES     \\n      28 C            3.8168    30.7590    56.0516 C             1 RES     \\n      29 C            5.6978    29.7949    54.7930 C             1 RES     \\n      30 C            7.5788    28.8308    53.5345 C             1 RES     \\n      31 C            3.3340    27.0896    58.1409 C             1 RES     \\n      32 C            5.2150    26.1255    56.8824 C             1 RES     \\n      33 C            7.0961    25.1614    55.6239 C             1 RES     \\n      34 C            2.8512    23.4203    60.2302 C             1 RES     \\n      35 C            4.7323    22.4562    58.9717 C             1 RES     \\n      36 C            6.6133    21.4921    57.7132 C             1 RES     \\n      37 A           75.2268    51.5345     2.0007 A             1 RES     \\n      38 A           69.0435    46.0557     7.6354 A             1 RES     \\n      39 A           62.8602    40.5769    13.2700 A             1 RES     \\n      40 A           56.6769    35.0981    18.9047 A             1 RES     \\n      41 A           50.4936    29.6193    24.5394 A             1 RES     \\n      42 A           44.3102    24.1405    30.1740 A             1 RES     \\n      43 A           38.1269    18.6618    35.8087 A             1 RES     \\n      44 A           31.9436    13.1830    41.4433 A             1 RES     \\n      45 A           25.7603     7.7042    47.0780 A             1 RES     \\n      46 A           19.5770     2.2254    52.7127 A             1 RES     \\n@<TRIPOS>BOND\\n       1        1       10 1\\n       2        1       19 1\\n       3        2       11 1\\n       4        2       19 1\\n       5        2       20 1\\n       6        3       12 1\\n       7        3       20 1\\n       8        3       21 1\\n       9        4       13 1\\n      10        4       22 1\\n      11        5       14 1\\n      12        5       22 1\\n      13        5       23 1\\n      14        6       15 1\\n      15        6       23 1\\n      16        6       24 1\\n      17        7       16 1\\n      18        7       25 1\\n      19        8       17 1\\n      20        8       25 1\\n      21        8       26 1\\n      22        9       18 1\\n      23        9       26 1\\n      24        9       27 1\\n      25       10       28 1\\n      26       11       28 1\\n      27       11       29 1\\n      28       12       29 1\\n      29       12       30 1\\n      30       13       31 1\\n      31       14       31 1\\n      32       14       32 1\\n      33       15       32 1\\n      34       15       33 1\\n      35       16       34 1\\n      36       17       34 1\\n      37       17       35 1\\n      38       18       35 1\\n      39       18       36 1\\n      40       22       28 1\\n      41       23       29 1\\n      42       24       30 1\\n      43       25       31 1\\n      44       26       32 1\\n      45       27       33 1\\n      46       37       38 1\\n      47       38       39 1\\n      48       39       40 1\\n      49       40       41 1\\n      50       41       42 1\\n      51       42       43 1\\n      52       43       44 1\\n      53       44       45 1\\n      54       45       46 1\\n@<TRIPOS>SUBSTRUCTURE\\n       1 RES             1 RESIDUE    0 **** ROOT      0\\n\",\"mol2\");\n\tviewer_17462206428758917.setStyle({\"stick\": {\"radius\": 0.18, \"color\": \"grey\"}, \"sphere\": {\"scale\": 0.3, \"colorscheme\": {}}});\n\tviewer_17462206428758917.zoomTo();\nviewer_17462206428758917.render();\n});\n</script>",
      "text/html": [
       "<div id=\"3dmolviewer_17462206428758917\"  style=\"position: relative; width: 640px; height: 480px;\">\n",
       "        <p id=\"3dmolwarning_17462206428758917\" style=\"background-color:#ffcccc;color:black\">3Dmol.js failed to load for some reason.  Please check your browser console for error messages.<br></p>\n",
       "        </div>\n",
       "<script>\n",
       "\n",
       "var loadScriptAsync = function(uri){\n",
       "  return new Promise((resolve, reject) => {\n",
       "    //this is to ignore the existence of requirejs amd\n",
       "    var savedexports, savedmodule;\n",
       "    if (typeof exports !== 'undefined') savedexports = exports;\n",
       "    else exports = {}\n",
       "    if (typeof module !== 'undefined') savedmodule = module;\n",
       "    else module = {}\n",
       "\n",
       "    var tag = document.createElement('script');\n",
       "    tag.src = uri;\n",
       "    tag.async = true;\n",
       "    tag.onload = () => {\n",
       "        exports = savedexports;\n",
       "        module = savedmodule;\n",
       "        resolve();\n",
       "    };\n",
       "  var firstScriptTag = document.getElementsByTagName('script')[0];\n",
       "  firstScriptTag.parentNode.insertBefore(tag, firstScriptTag);\n",
       "});\n",
       "};\n",
       "\n",
       "if(typeof $3Dmolpromise === 'undefined') {\n",
       "$3Dmolpromise = null;\n",
       "  $3Dmolpromise = loadScriptAsync('https://cdnjs.cloudflare.com/ajax/libs/3Dmol/2.4.2/3Dmol-min.js');\n",
       "}\n",
       "\n",
       "var viewer_17462206428758917 = null;\n",
       "var warn = document.getElementById(\"3dmolwarning_17462206428758917\");\n",
       "if(warn) {\n",
       "    warn.parentNode.removeChild(warn);\n",
       "}\n",
       "$3Dmolpromise.then(function() {\n",
       "viewer_17462206428758917 = $3Dmol.createViewer(document.getElementById(\"3dmolviewer_17462206428758917\"),{backgroundColor:\"white\"});\n",
       "viewer_17462206428758917.zoomTo();\n",
       "\tviewer_17462206428758917.addModel(\"@<TRIPOS>MOLECULE\\nRES\\n46 54 1 0 1\\nSMALL\\nNO_CHARGES\\n@<TRIPOS>CRYSIN\\n   77.1460    77.1460    77.1460    90.0000    90.0000    90.0000 1 1\\n@<TRIPOS>ATOM\\n       1 C            3.1177    33.0757    55.6362 C             1 RES     \\n       2 C            4.9987    32.1116    54.3776 C             1 RES     \\n       3 C            6.8797    31.1475    53.1191 C             1 RES     \\n       4 C            2.6349    29.4063    57.7255 C             1 RES     \\n       5 C            4.5159    28.4422    56.4670 C             1 RES     \\n       6 C            6.3969    27.4781    55.2085 C             1 RES     \\n       7 C            2.1521    25.7370    59.8148 C             1 RES     \\n       8 C            4.0331    24.7729    58.5563 C             1 RES     \\n       9 C            5.9142    23.8088    57.2978 C             1 RES     \\n      10 C            2.9567    31.8523    56.3328 C             1 RES     \\n      11 C            4.8377    30.8882    55.0742 C             1 RES     \\n      12 C            6.7187    29.9241    53.8157 C             1 RES     \\n      13 C            2.4739    28.1829    58.4221 C             1 RES     \\n      14 C            4.3550    27.2188    57.1636 C             1 RES     \\n      15 C            6.2360    26.2547    55.9051 C             1 RES     \\n      16 C            1.9912    24.5136    60.5115 C             1 RES     \\n      17 C            3.8722    23.5495    59.2529 C             1 RES     \\n      18 C            5.7532    22.5854    57.9944 C             1 RES     \\n      19 C            4.1386    33.2049    54.6588 C             1 RES     \\n      20 C            6.0196    32.2408    53.4003 C             1 RES     \\n      21 C            7.9006    31.2767    52.1418 C             1 RES     \\n      22 C            3.6558    29.5356    56.7482 C             1 RES     \\n      23 C            5.5368    28.5715    55.4897 C             1 RES     \\n      24 C            7.4179    27.6074    54.2311 C             1 RES     \\n      25 C            3.1731    25.8662    58.8375 C             1 RES     \\n      26 C            5.0541    24.9021    57.5790 C             1 RES     \\n      27 C            6.9351    23.9380    56.3205 C             1 RES     \\n      28 C            3.8168    30.7590    56.0516 C             1 RES     \\n      29 C            5.6978    29.7949    54.7930 C             1 RES     \\n      30 C            7.5788    28.8308    53.5345 C             1 RES     \\n      31 C            3.3340    27.0896    58.1409 C             1 RES     \\n      32 C            5.2150    26.1255    56.8824 C             1 RES     \\n      33 C            7.0961    25.1614    55.6239 C             1 RES     \\n      34 C            2.8512    23.4203    60.2302 C             1 RES     \\n      35 C            4.7323    22.4562    58.9717 C             1 RES     \\n      36 C            6.6133    21.4921    57.7132 C             1 RES     \\n      37 A           75.2268    51.5345     2.0007 A             1 RES     \\n      38 A           69.0435    46.0557     7.6354 A             1 RES     \\n      39 A           62.8602    40.5769    13.2700 A             1 RES     \\n      40 A           56.6769    35.0981    18.9047 A             1 RES     \\n      41 A           50.4936    29.6193    24.5394 A             1 RES     \\n      42 A           44.3102    24.1405    30.1740 A             1 RES     \\n      43 A           38.1269    18.6618    35.8087 A             1 RES     \\n      44 A           31.9436    13.1830    41.4433 A             1 RES     \\n      45 A           25.7603     7.7042    47.0780 A             1 RES     \\n      46 A           19.5770     2.2254    52.7127 A             1 RES     \\n@<TRIPOS>BOND\\n       1        1       10 1\\n       2        1       19 1\\n       3        2       11 1\\n       4        2       19 1\\n       5        2       20 1\\n       6        3       12 1\\n       7        3       20 1\\n       8        3       21 1\\n       9        4       13 1\\n      10        4       22 1\\n      11        5       14 1\\n      12        5       22 1\\n      13        5       23 1\\n      14        6       15 1\\n      15        6       23 1\\n      16        6       24 1\\n      17        7       16 1\\n      18        7       25 1\\n      19        8       17 1\\n      20        8       25 1\\n      21        8       26 1\\n      22        9       18 1\\n      23        9       26 1\\n      24        9       27 1\\n      25       10       28 1\\n      26       11       28 1\\n      27       11       29 1\\n      28       12       29 1\\n      29       12       30 1\\n      30       13       31 1\\n      31       14       31 1\\n      32       14       32 1\\n      33       15       32 1\\n      34       15       33 1\\n      35       16       34 1\\n      36       17       34 1\\n      37       17       35 1\\n      38       18       35 1\\n      39       18       36 1\\n      40       22       28 1\\n      41       23       29 1\\n      42       24       30 1\\n      43       25       31 1\\n      44       26       32 1\\n      45       27       33 1\\n      46       37       38 1\\n      47       38       39 1\\n      48       39       40 1\\n      49       40       41 1\\n      50       41       42 1\\n      51       42       43 1\\n      52       43       44 1\\n      53       44       45 1\\n      54       45       46 1\\n@<TRIPOS>SUBSTRUCTURE\\n       1 RES             1 RESIDUE    0 **** ROOT      0\\n\",\"mol2\");\n",
       "\tviewer_17462206428758917.setStyle({\"stick\": {\"radius\": 0.18, \"color\": \"grey\"}, \"sphere\": {\"scale\": 0.3, \"colorscheme\": {}}});\n",
       "\tviewer_17462206428758917.zoomTo();\n",
       "viewer_17462206428758917.render();\n",
       "});\n",
       "</script>"
      ]
     },
     "metadata": {},
     "output_type": "display_data"
    }
   ],
   "source": [
    "system.visualize()"
   ]
  }
 ],
 "metadata": {
  "kernelspec": {
   "display_name": "Python 3 (ipykernel)",
   "language": "python",
   "name": "python3"
  },
  "language_info": {
   "codemirror_mode": {
    "name": "ipython",
    "version": 3
   },
   "file_extension": ".py",
   "mimetype": "text/x-python",
   "name": "python",
   "nbconvert_exporter": "python",
   "pygments_lexer": "ipython3",
   "version": "3.12.0"
  }
 },
 "nbformat": 4,
 "nbformat_minor": 5
}
