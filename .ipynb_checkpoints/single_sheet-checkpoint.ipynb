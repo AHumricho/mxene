{
 "cells": [
  {
   "cell_type": "code",
   "execution_count": 894,
   "id": "697ba6eb-2f90-43b4-ad57-cbd03ef3a0de",
   "metadata": {},
   "outputs": [],
   "source": [
    "from flowermd.base import Molecule\n",
    "from flowermd.base import Pack\n",
    "#from flowermd.library import Graphene\n",
    "import math\n",
    "import numpy as np\n",
    "from flowermd.library import KremerGrestBeadSpring, LJChain\n",
    "from cmeutils.visualize import FresnelGSD"
   ]
  },
  {
   "cell_type": "code",
   "execution_count": 895,
   "id": "5fcd89c6-e770-4ed8-a8f7-29dfe9708487",
   "metadata": {},
   "outputs": [],
   "source": [
    "import mbuild as mb\n",
    "from mbuild.compound import Compound\n",
    "from mbuild.lattice import Lattice\n",
    "\n",
    "from flowermd.base import Molecule, System\n",
    "\n",
    "\n",
    "class Graphene(System):\n",
    "    def __init__(\n",
    "        self,\n",
    "        x_repeat,\n",
    "        y_repeat,\n",
    "        n_layers,\n",
    "        base_units=dict(),\n",
    "        periodicity=(True, True, False),\n",
    "    ):\n",
    "        surface = mb.Compound(periodicity=periodicity)\n",
    "        scale = 0.246 # 1.0 for testing, 0.246 for graphene bond lengths\n",
    "        spacings = [s * scale for s in [1.0, 1.0, 1.0]]\n",
    "        points = [[0, 0, 0], [2/3, 1/3, 0]]\n",
    "        lattice = Lattice(\n",
    "            lattice_spacing=spacings,\n",
    "            angles=[90, 90, 120],\n",
    "            lattice_points={\"A\": points},\n",
    "        )\n",
    "        carbon = Compound(name=\"C\", element=\"C\")\n",
    "        layers = lattice.populate(\n",
    "            compound_dict={\"A\": carbon}, x=x_repeat, y=y_repeat, z=n_layers\n",
    "        )\n",
    "        surface.add(layers)\n",
    "        surface.freud_generate_bonds(\"C\", \"C\", dmin=0.3*scale, dmax=0.6*scale)\n",
    "        surface_mol = Molecule(num_mols=1, compound=surface)\n",
    "        super(Graphene, self).__init__(\n",
    "            molecules=[surface_mol],\n",
    "            base_units=base_units,\n",
    "        )\n",
    "\n",
    "    def _build_system(self):\n",
    "        return self.all_molecules[0]"
   ]
  },
  {
   "cell_type": "code",
   "execution_count": 896,
   "id": "80940c3b-360f-49b6-bf36-0d2fdf00aa67",
   "metadata": {},
   "outputs": [],
   "source": [
    "sheet = Graphene(x_repeat=5, y_repeat=5, n_layers=1, periodicity=(False, False, False))"
   ]
  },
  {
   "cell_type": "code",
   "execution_count": 897,
   "id": "aa297a4b-5dd6-4998-af55-1308a581cf9a",
   "metadata": {},
   "outputs": [
    {
     "name": "stderr",
     "output_type": "stream",
     "text": [
      "/home/eridanirojas/miniconda3/envs/flowermd/lib/python3.12/site-packages/mbuild/compound.py:547: UserWarning: Some particle of <Compound 50 particles, 61 bonds, System box: Box: Lx=1.230000, Ly=1.230000, Lz=0.246000, xy=-0.577350, xz=0.000000, yz=-0.577350, , id: 139951735541104> does not have a charge.They will not be accounted for during this calculation.\n",
      "  warn(\n",
      "/home/eridanirojas/miniconda3/envs/flowermd/lib/python3.12/site-packages/mbuild/compound.py:547: UserWarning: Some particle of <Compound 50 particles, 61 bonds, System box: Box: Lx=1.230000, Ly=1.230000, Lz=0.246000, xy=-0.577350, xz=0.000000, yz=-0.577350, , id: 139954401842800> does not have a charge.They will not be accounted for during this calculation.\n",
      "  warn(\n",
      "/home/eridanirojas/miniconda3/envs/flowermd/lib/python3.12/site-packages/mbuild/compound.py:547: UserWarning: Some particle of <Compound 50 particles, 61 bonds, System box: Box: Lx=1.230000, Ly=1.230000, Lz=0.246000, xy=-0.577350, xz=0.000000, yz=-0.577350, , id: 139951735546768> does not have a charge.They will not be accounted for during this calculation.\n",
      "  warn(\n",
      "/home/eridanirojas/miniconda3/envs/flowermd/lib/python3.12/site-packages/mbuild/compound.py:547: UserWarning: Some particle of <Compound 50 particles, 61 bonds, System box: Box: Lx=1.230000, Ly=1.230000, Lz=0.246000, xy=-0.577350, xz=0.000000, yz=-0.577350, , id: 139951732135632> does not have a charge.They will not be accounted for during this calculation.\n",
      "  warn(\n",
      "/home/eridanirojas/miniconda3/envs/flowermd/lib/python3.12/site-packages/mbuild/compound.py:547: UserWarning: Some particle of <Compound 50 particles, 61 bonds, System box: Box: Lx=1.230000, Ly=1.230000, Lz=0.246000, xy=-0.577350, xz=0.000000, yz=-0.577350, , id: 139951731428384> does not have a charge.They will not be accounted for during this calculation.\n",
      "  warn(\n"
     ]
    }
   ],
   "source": [
    "system = Pack(molecules= Molecule(compound=sheet.all_molecules[0], num_mols=5), density = 0.2)\n",
    "system.hoomd_snapshot.configuration.box = [15, 15, 15, 0, 0, 0]"
   ]
  },
  {
   "cell_type": "code",
   "execution_count": 837,
   "id": "6b27f7dc-2ba1-4078-b0de-3dc8cbae4d3b",
   "metadata": {
    "scrolled": true
   },
   "outputs": [
    {
     "name": "stderr",
     "output_type": "stream",
     "text": [
      "/home/eridanirojas/miniconda3/envs/flowermd/lib/python3.12/site-packages/mbuild/compound.py:547: UserWarning: Some particle of <Compound 250 particles, 305 bonds, System box: Box: Lx=14.606609, Ly=14.606609, Lz=14.606609, xy=0.000000, xz=0.000000, yz=0.000000, , id: 139951740442656> does not have a charge.They will not be accounted for during this calculation.\n",
      "  warn(\n"
     ]
    },
    {
     "data": {
      "application/3dmoljs_load.v0": "<div id=\"3dmolviewer_17466377177319307\"  style=\"position: relative; width: 640px; height: 480px;\">\n        <p id=\"3dmolwarning_17466377177319307\" style=\"background-color:#ffcccc;color:black\">3Dmol.js failed to load for some reason.  Please check your browser console for error messages.<br></p>\n        </div>\n<script>\n\nvar loadScriptAsync = function(uri){\n  return new Promise((resolve, reject) => {\n    //this is to ignore the existence of requirejs amd\n    var savedexports, savedmodule;\n    if (typeof exports !== 'undefined') savedexports = exports;\n    else exports = {}\n    if (typeof module !== 'undefined') savedmodule = module;\n    else module = {}\n\n    var tag = document.createElement('script');\n    tag.src = uri;\n    tag.async = true;\n    tag.onload = () => {\n        exports = savedexports;\n        module = savedmodule;\n        resolve();\n    };\n  var firstScriptTag = document.getElementsByTagName('script')[0];\n  firstScriptTag.parentNode.insertBefore(tag, firstScriptTag);\n});\n};\n\nif(typeof $3Dmolpromise === 'undefined') {\n$3Dmolpromise = null;\n  $3Dmolpromise = loadScriptAsync('https://cdnjs.cloudflare.com/ajax/libs/3Dmol/2.4.2/3Dmol-min.js');\n}\n\nvar viewer_17466377177319307 = null;\nvar warn = document.getElementById(\"3dmolwarning_17466377177319307\");\nif(warn) {\n    warn.parentNode.removeChild(warn);\n}\n$3Dmolpromise.then(function() {\nviewer_17466377177319307 = $3Dmol.createViewer(document.getElementById(\"3dmolviewer_17466377177319307\"),{backgroundColor:\"white\"});\nviewer_17466377177319307.zoomTo();\n\tviewer_17466377177319307.addModel(\"@<TRIPOS>MOLECULE\\nRES\\n250 305 1 0 1\\nSMALL\\nNO_CHARGES\\n@<TRIPOS>CRYSIN\\n  146.0661   146.0661   146.0661    90.0000    90.0000    90.0000 1 1\\n@<TRIPOS>ATOM\\n       1 C            2.1503    25.5064   126.2038 C             1 RES     \\n       2 C            3.2281    26.4606   124.2094 C             1 RES     \\n       3 C            4.3066    27.4153   122.2145 C             1 RES     \\n       4 C            5.3844    28.3695   120.2201 C             1 RES     \\n       5 C            6.4629    29.3242   118.2252 C             1 RES     \\n       6 C            3.2566    25.6662   128.3952 C             1 RES     \\n       7 C            4.3344    26.6204   126.4008 C             1 RES     \\n       8 C            5.4129    27.5751   124.4059 C             1 RES     \\n       9 C            6.4907    28.5293   122.4115 C             1 RES     \\n      10 C            7.5692    29.4839   120.4166 C             1 RES     \\n      11 C            4.3629    25.8260   130.5866 C             1 RES     \\n      12 C            5.4407    26.7802   128.5921 C             1 RES     \\n      13 C            6.5192    27.7348   126.5973 C             1 RES     \\n      14 C            7.5970    28.6890   124.6029 C             1 RES     \\n      15 C            8.6755    29.6437   122.6080 C             1 RES     \\n      16 C            5.4692    25.9857   132.7780 C             1 RES     \\n      17 C            6.5470    26.9399   130.7835 C             1 RES     \\n      18 C            7.6255    27.8946   128.7887 C             1 RES     \\n      19 C            8.7033    28.8488   126.7942 C             1 RES     \\n      20 C            9.7818    29.8035   124.7994 C             1 RES     \\n      21 C            6.5755    26.1455   134.9693 C             1 RES     \\n      22 C            7.6533    27.0997   132.9749 C             1 RES     \\n      23 C            8.7318    28.0544   130.9801 C             1 RES     \\n      24 C            9.8096    29.0085   128.9856 C             1 RES     \\n      25 C           10.8881    29.9632   126.9908 C             1 RES     \\n      26 C            3.2471    25.9310   126.9999 C             1 RES     \\n      27 C            4.3257    26.8857   125.0051 C             1 RES     \\n      28 C            5.4034    27.8399   123.0106 C             1 RES     \\n      29 C            6.4812    28.7941   121.0162 C             1 RES     \\n      30 C            7.5597    29.7487   119.0213 C             1 RES     \\n      31 C            4.3534    26.0908   129.1913 C             1 RES     \\n      32 C            5.4320    27.0454   127.1964 C             1 RES     \\n      33 C            6.5097    27.9996   125.2020 C             1 RES     \\n      34 C            7.5875    28.9538   123.2076 C             1 RES     \\n      35 C            8.6660    29.9085   121.2127 C             1 RES     \\n      36 C            5.4597    26.2505   131.3827 C             1 RES     \\n      37 C            6.5383    27.2052   129.3878 C             1 RES     \\n      38 C            7.6160    28.1594   127.3934 C             1 RES     \\n      39 C            8.6938    29.1136   125.3990 C             1 RES     \\n      40 C            9.7723    30.0683   123.4041 C             1 RES     \\n      41 C            6.5660    26.4103   133.5741 C             1 RES     \\n      42 C            7.6446    27.3650   131.5792 C             1 RES     \\n      43 C            8.7223    28.3192   129.5848 C             1 RES     \\n      44 C            9.8001    29.2734   127.5904 C             1 RES     \\n      45 C           10.8786    30.2280   125.5955 C             1 RES     \\n      46 C            7.6723    26.5701   135.7655 C             1 RES     \\n      47 C            8.7509    27.5247   133.7706 C             1 RES     \\n      48 C            9.8286    28.4789   131.7762 C             1 RES     \\n      49 C           10.9064    29.4331   129.7818 C             1 RES     \\n      50 C           11.9849    30.3878   127.7869 C             1 RES     \\n      51 C           48.3664    28.9751    55.8400 C             1 RES     \\n      52 C           47.4647    29.5991    58.0417 C             1 RES     \\n      53 C           46.5628    30.2227    60.2444 C             1 RES     \\n      54 C           45.6611    30.8467    62.4461 C             1 RES     \\n      55 C           44.7592    31.4703    64.6487 C             1 RES     \\n      56 C           49.3553    26.7482    55.5018 C             1 RES     \\n      57 C           48.4536    27.3721    57.7035 C             1 RES     \\n      58 C           47.5517    27.9958    59.9061 C             1 RES     \\n      59 C           46.6500    28.6197    62.1078 C             1 RES     \\n      60 C           45.7481    29.2434    64.3105 C             1 RES     \\n      61 C           50.3443    24.5213    55.1636 C             1 RES     \\n      62 C           49.4426    25.1452    57.3653 C             1 RES     \\n      63 C           48.5407    25.7689    59.5679 C             1 RES     \\n      64 C           47.6390    26.3928    61.7696 C             1 RES     \\n      65 C           46.7371    27.0165    63.9723 C             1 RES     \\n      66 C           51.3332    22.2944    54.8253 C             1 RES     \\n      67 C           50.4315    22.9183    57.0270 C             1 RES     \\n      68 C           49.5296    23.5420    59.2297 C             1 RES     \\n      69 C           48.6279    24.1659    61.4314 C             1 RES     \\n      70 C           47.7260    24.7895    63.6340 C             1 RES     \\n      71 C           52.3221    20.0674    54.4871 C             1 RES     \\n      72 C           51.4204    20.6913    56.6888 C             1 RES     \\n      73 C           50.5185    21.3150    58.8915 C             1 RES     \\n      74 C           49.6168    21.9389    61.0932 C             1 RES     \\n      75 C           48.7149    22.5626    63.2958 C             1 RES     \\n      76 C           48.7251    27.6985    56.3484 C             1 RES     \\n      77 C           47.8232    28.3222    58.5511 C             1 RES     \\n      78 C           46.9215    28.9461    60.7528 C             1 RES     \\n      79 C           46.0198    29.5700    62.9545 C             1 RES     \\n      80 C           45.1179    30.1937    65.1571 C             1 RES     \\n      81 C           49.7140    25.4716    56.0102 C             1 RES     \\n      82 C           48.8122    26.0953    58.2129 C             1 RES     \\n      83 C           47.9104    26.7192    60.4146 C             1 RES     \\n      84 C           47.0087    27.3431    62.6163 C             1 RES     \\n      85 C           46.1069    27.9668    64.8189 C             1 RES     \\n      86 C           50.7030    23.2446    55.6720 C             1 RES     \\n      87 C           49.8011    23.8683    57.8746 C             1 RES     \\n      88 C           48.8994    24.4922    60.0763 C             1 RES     \\n      89 C           47.9977    25.1161    62.2780 C             1 RES     \\n      90 C           47.0958    25.7398    64.4807 C             1 RES     \\n      91 C           51.6919    21.0177    55.3338 C             1 RES     \\n      92 C           50.7900    21.6414    57.5364 C             1 RES     \\n      93 C           49.8883    22.2653    59.7381 C             1 RES     \\n      94 C           48.9866    22.8892    61.9398 C             1 RES     \\n      95 C           48.0847    23.5129    64.1425 C             1 RES     \\n      96 C           52.6808    18.7908    54.9955 C             1 RES     \\n      97 C           51.7789    19.4145    57.1982 C             1 RES     \\n      98 C           50.8772    20.0384    59.3999 C             1 RES     \\n      99 C           49.9755    20.6623    61.6016 C             1 RES     \\n     100 C           49.0736    21.2860    63.8042 C             1 RES     \\n     101 C           54.0864   103.1600    85.9201 C             1 RES     \\n     102 C           56.0684   101.9815    86.7759 C             1 RES     \\n     103 C           58.0510   100.8022    87.6318 C             1 RES     \\n     104 C           60.0331    99.6237    88.4876 C             1 RES     \\n     105 C           62.0157    98.4444    89.3435 C             1 RES     \\n     106 C           52.4525   101.9646    84.5224 C             1 RES     \\n     107 C           54.4346   100.7862    85.3783 C             1 RES     \\n     108 C           56.4172    99.6069    86.2342 C             1 RES     \\n     109 C           58.3993    98.4284    87.0900 C             1 RES     \\n     110 C           60.3819    97.2491    87.9459 C             1 RES     \\n     111 C           50.8187   100.7693    83.1248 C             1 RES     \\n     112 C           52.8008    99.5908    83.9806 C             1 RES     \\n     113 C           54.7834    98.4115    84.8365 C             1 RES     \\n     114 C           56.7655    97.2331    85.6923 C             1 RES     \\n     115 C           58.7481    96.0537    86.5482 C             1 RES     \\n     116 C           49.1849    99.5740    81.7271 C             1 RES     \\n     117 C           51.1670    98.3955    82.5829 C             1 RES     \\n     118 C           53.1496    97.2162    83.4388 C             1 RES     \\n     119 C           55.1316    96.0377    84.2947 C             1 RES     \\n     120 C           57.1143    94.8584    85.1506 C             1 RES     \\n     121 C           47.5511    98.3787    80.3295 C             1 RES     \\n     122 C           49.5332    97.2002    81.1853 C             1 RES     \\n     123 C           51.5158    96.0209    82.0412 C             1 RES     \\n     124 C           53.4978    94.8424    82.8970 C             1 RES     \\n     125 C           55.4804    93.6631    83.7529 C             1 RES     \\n     126 C           53.6578   101.9703    85.2736 C             1 RES     \\n     127 C           55.6404   100.7909    86.1295 C             1 RES     \\n     128 C           57.6225    99.6125    86.9853 C             1 RES     \\n     129 C           59.6046    98.4340    87.8411 C             1 RES     \\n     130 C           61.5872    97.2547    88.6970 C             1 RES     \\n     131 C           52.0240   100.7749    83.8759 C             1 RES     \\n     132 C           54.0066    99.5956    84.7318 C             1 RES     \\n     133 C           55.9887    98.4171    85.5877 C             1 RES     \\n     134 C           57.9708    97.2387    86.4435 C             1 RES     \\n     135 C           59.9534    96.0594    87.2994 C             1 RES     \\n     136 C           50.3902    99.5796    82.4783 C             1 RES     \\n     137 C           52.3728    98.4003    83.3342 C             1 RES     \\n     138 C           54.3549    97.2218    84.1900 C             1 RES     \\n     139 C           56.3369    96.0433    85.0458 C             1 RES     \\n     140 C           58.3195    94.8640    85.9017 C             1 RES     \\n     141 C           48.7564    98.3843    81.0806 C             1 RES     \\n     142 C           50.7390    97.2050    81.9365 C             1 RES     \\n     143 C           52.7211    96.0265    82.7923 C             1 RES     \\n     144 C           54.7031    94.8480    83.6482 C             1 RES     \\n     145 C           56.6857    93.6687    84.5041 C             1 RES     \\n     146 C           47.1226    97.1890    79.6830 C             1 RES     \\n     147 C           49.1052    96.0096    80.5389 C             1 RES     \\n     148 C           51.0873    94.8312    81.3947 C             1 RES     \\n     149 C           53.0693    93.6527    82.2505 C             1 RES     \\n     150 C           55.0519    92.4734    83.1064 C             1 RES     \\n     151 C          125.1217   116.3406    75.4096 C             1 RES     \\n     152 C          122.8837   116.9058    74.5600 C             1 RES     \\n     153 C          120.6451   117.4713    73.7097 C             1 RES     \\n     154 C          118.4072   118.0365    72.8601 C             1 RES     \\n     155 C          116.1686   118.6021    72.0098 C             1 RES     \\n     156 C          127.1244   117.0788    74.1866 C             1 RES     \\n     157 C          124.8864   117.6439    73.3370 C             1 RES     \\n     158 C          122.6479   118.2095    72.4867 C             1 RES     \\n     159 C          120.4099   118.7747    71.6371 C             1 RES     \\n     160 C          118.1713   119.3403    70.7868 C             1 RES     \\n     161 C          129.1271   117.8169    72.9635 C             1 RES     \\n     162 C          126.8892   118.3821    72.1139 C             1 RES     \\n     163 C          124.6506   118.9477    71.2637 C             1 RES     \\n     164 C          122.4126   119.5128    70.4141 C             1 RES     \\n     165 C          120.1740   120.0784    69.5638 C             1 RES     \\n     166 C          131.1299   118.5551    71.7405 C             1 RES     \\n     167 C          128.8919   119.1203    70.8909 C             1 RES     \\n     168 C          126.6533   119.6859    70.0406 C             1 RES     \\n     169 C          124.4153   120.2510    69.1910 C             1 RES     \\n     170 C          122.1768   120.8166    68.3407 C             1 RES     \\n     171 C          133.1326   119.2933    70.5175 C             1 RES     \\n     172 C          130.8946   119.8584    69.6679 C             1 RES     \\n     173 C          128.6560   120.4240    68.8176 C             1 RES     \\n     174 C          126.4181   120.9892    67.9680 C             1 RES     \\n     175 C          124.1795   121.5548    67.1177 C             1 RES     \\n     176 C          125.7109   117.0211    74.3111 C             1 RES     \\n     177 C          123.4723   117.5867    73.4608 C             1 RES     \\n     178 C          121.2343   118.1518    72.6112 C             1 RES     \\n     179 C          118.9963   118.7170    71.7616 C             1 RES     \\n     180 C          116.7578   119.2826    70.9113 C             1 RES     \\n     181 C          127.7136   117.7593    73.0880 C             1 RES     \\n     182 C          125.4750   118.3249    72.2377 C             1 RES     \\n     183 C          123.2370   118.8900    71.3881 C             1 RES     \\n     184 C          120.9990   119.4552    70.5385 C             1 RES     \\n     185 C          118.7605   120.0208    69.6883 C             1 RES     \\n     186 C          129.7163   118.4974    71.8650 C             1 RES     \\n     187 C          127.4777   119.0630    71.0147 C             1 RES     \\n     188 C          125.2397   119.6282    70.1651 C             1 RES     \\n     189 C          123.0018   120.1933    69.3155 C             1 RES     \\n     190 C          120.7632   120.7589    68.4652 C             1 RES     \\n     191 C          131.7190   119.2356    70.6420 C             1 RES     \\n     192 C          129.4805   119.8012    69.7917 C             1 RES     \\n     193 C          127.2425   120.3664    68.9421 C             1 RES     \\n     194 C          125.0045   120.9315    68.0925 C             1 RES     \\n     195 C          122.7659   121.4971    67.2422 C             1 RES     \\n     196 C          133.7217   119.9738    69.4189 C             1 RES     \\n     197 C          131.4832   120.5394    68.5686 C             1 RES     \\n     198 C          129.2452   121.1045    67.7190 C             1 RES     \\n     199 C          127.0072   121.6697    66.8694 C             1 RES     \\n     200 C          124.7686   122.2353    66.0192 C             1 RES     \\n     201 C           75.3741    72.3097    49.0586 C             1 RES     \\n     202 C           75.4945    73.6546    51.1145 C             1 RES     \\n     203 C           75.6147    75.0003    53.1709 C             1 RES     \\n     204 C           75.7350    76.3451    55.2268 C             1 RES     \\n     205 C           75.8553    77.6908    57.2832 C             1 RES     \\n     206 C           74.5374    73.3178    46.9764 C             1 RES     \\n     207 C           74.6578    74.6626    49.0323 C             1 RES     \\n     208 C           74.7780    76.0083    51.0887 C             1 RES     \\n     209 C           74.8984    77.3531    53.1446 C             1 RES     \\n     210 C           75.0186    78.6988    55.2010 C             1 RES     \\n     211 C           73.7008    74.3258    44.8942 C             1 RES     \\n     212 C           73.8211    75.6707    46.9502 C             1 RES     \\n     213 C           73.9414    77.0164    49.0065 C             1 RES     \\n     214 C           74.0617    78.3612    51.0624 C             1 RES     \\n     215 C           74.1820    79.7069    53.1188 C             1 RES     \\n     216 C           72.8641    75.3339    42.8121 C             1 RES     \\n     217 C           72.9845    76.6787    44.8680 C             1 RES     \\n     218 C           73.1047    78.0244    46.9244 C             1 RES     \\n     219 C           73.2251    79.3692    48.9803 C             1 RES     \\n     220 C           73.3453    80.7149    51.0366 C             1 RES     \\n     221 C           72.0275    76.3419    40.7299 C             1 RES     \\n     222 C           72.1478    77.6868    42.7858 C             1 RES     \\n     223 C           72.2680    79.0325    44.8422 C             1 RES     \\n     224 C           72.3884    80.3773    46.8981 C             1 RES     \\n     225 C           72.5086    81.7230    48.9545 C             1 RES     \\n     226 C           74.8564    73.4300    48.3558 C             1 RES     \\n     227 C           74.9767    74.7757    50.4122 C             1 RES     \\n     228 C           75.0970    76.1206    52.4681 C             1 RES     \\n     229 C           75.2174    77.4654    54.5240 C             1 RES     \\n     230 C           75.3376    78.8111    56.5804 C             1 RES     \\n     231 C           74.0198    74.4381    46.2736 C             1 RES     \\n     232 C           74.1400    75.7838    48.3300 C             1 RES     \\n     233 C           74.2604    77.1286    50.3859 C             1 RES     \\n     234 C           74.3807    78.4734    52.4418 C             1 RES     \\n     235 C           74.5010    79.8191    54.4982 C             1 RES     \\n     236 C           73.1831    75.4461    44.1914 C             1 RES     \\n     237 C           73.3033    76.7918    46.2478 C             1 RES     \\n     238 C           73.4237    78.1367    48.3037 C             1 RES     \\n     239 C           73.5441    79.4815    50.3596 C             1 RES     \\n     240 C           73.6643    80.8272    52.4160 C             1 RES     \\n     241 C           72.3465    76.4542    42.1093 C             1 RES     \\n     242 C           72.4667    77.7999    44.1656 C             1 RES     \\n     243 C           72.5871    79.1447    46.2215 C             1 RES     \\n     244 C           72.7074    80.4895    48.2775 C             1 RES     \\n     245 C           72.8276    81.8352    50.3338 C             1 RES     \\n     246 C           71.5098    77.4622    40.0271 C             1 RES     \\n     247 C           71.6300    78.8079    42.0835 C             1 RES     \\n     248 C           71.7504    80.1528    44.1394 C             1 RES     \\n     249 C           71.8708    81.4976    46.1953 C             1 RES     \\n     250 C           71.9910    82.8433    48.2517 C             1 RES     \\n@<TRIPOS>BOND\\n       1        1       26 1\\n       2        2       27 1\\n       3        3       28 1\\n       4        4       29 1\\n       5        5       30 1\\n       6        6       26 1\\n       7        6       31 1\\n       8        7       26 1\\n       9        7       27 1\\n      10        7       32 1\\n      11        8       27 1\\n      12        8       28 1\\n      13        8       33 1\\n      14        9       28 1\\n      15        9       29 1\\n      16        9       34 1\\n      17       10       29 1\\n      18       10       30 1\\n      19       10       35 1\\n      20       11       31 1\\n      21       11       36 1\\n      22       12       31 1\\n      23       12       32 1\\n      24       12       37 1\\n      25       13       32 1\\n      26       13       33 1\\n      27       13       38 1\\n      28       14       33 1\\n      29       14       34 1\\n      30       14       39 1\\n      31       15       34 1\\n      32       15       35 1\\n      33       15       40 1\\n      34       16       36 1\\n      35       16       41 1\\n      36       17       36 1\\n      37       17       37 1\\n      38       17       42 1\\n      39       18       37 1\\n      40       18       38 1\\n      41       18       43 1\\n      42       19       38 1\\n      43       19       39 1\\n      44       19       44 1\\n      45       20       39 1\\n      46       20       40 1\\n      47       20       45 1\\n      48       21       41 1\\n      49       21       46 1\\n      50       22       41 1\\n      51       22       42 1\\n      52       22       47 1\\n      53       23       42 1\\n      54       23       43 1\\n      55       23       48 1\\n      56       24       43 1\\n      57       24       44 1\\n      58       24       49 1\\n      59       25       44 1\\n      60       25       45 1\\n      61       25       50 1\\n      62       51       76 1\\n      63       52       77 1\\n      64       53       78 1\\n      65       54       79 1\\n      66       55       80 1\\n      67       56       76 1\\n      68       56       81 1\\n      69       57       76 1\\n      70       57       77 1\\n      71       57       82 1\\n      72       58       77 1\\n      73       58       78 1\\n      74       58       83 1\\n      75       59       78 1\\n      76       59       79 1\\n      77       59       84 1\\n      78       60       79 1\\n      79       60       80 1\\n      80       60       85 1\\n      81       61       81 1\\n      82       61       86 1\\n      83       62       81 1\\n      84       62       82 1\\n      85       62       87 1\\n      86       63       82 1\\n      87       63       83 1\\n      88       63       88 1\\n      89       64       83 1\\n      90       64       84 1\\n      91       64       89 1\\n      92       65       84 1\\n      93       65       85 1\\n      94       65       90 1\\n      95       66       86 1\\n      96       66       91 1\\n      97       67       86 1\\n      98       67       87 1\\n      99       67       92 1\\n     100       68       87 1\\n     101       68       88 1\\n     102       68       93 1\\n     103       69       88 1\\n     104       69       89 1\\n     105       69       94 1\\n     106       70       89 1\\n     107       70       90 1\\n     108       70       95 1\\n     109       71       91 1\\n     110       71       96 1\\n     111       72       91 1\\n     112       72       92 1\\n     113       72       97 1\\n     114       73       92 1\\n     115       73       93 1\\n     116       73       98 1\\n     117       74       93 1\\n     118       74       94 1\\n     119       74       99 1\\n     120       75       94 1\\n     121       75       95 1\\n     122       75      100 1\\n     123      101      126 1\\n     124      102      127 1\\n     125      103      128 1\\n     126      104      129 1\\n     127      105      130 1\\n     128      106      126 1\\n     129      106      131 1\\n     130      107      126 1\\n     131      107      127 1\\n     132      107      132 1\\n     133      108      127 1\\n     134      108      128 1\\n     135      108      133 1\\n     136      109      128 1\\n     137      109      129 1\\n     138      109      134 1\\n     139      110      129 1\\n     140      110      130 1\\n     141      110      135 1\\n     142      111      131 1\\n     143      111      136 1\\n     144      112      131 1\\n     145      112      132 1\\n     146      112      137 1\\n     147      113      132 1\\n     148      113      133 1\\n     149      113      138 1\\n     150      114      133 1\\n     151      114      134 1\\n     152      114      139 1\\n     153      115      134 1\\n     154      115      135 1\\n     155      115      140 1\\n     156      116      136 1\\n     157      116      141 1\\n     158      117      136 1\\n     159      117      137 1\\n     160      117      142 1\\n     161      118      137 1\\n     162      118      138 1\\n     163      118      143 1\\n     164      119      138 1\\n     165      119      139 1\\n     166      119      144 1\\n     167      120      139 1\\n     168      120      140 1\\n     169      120      145 1\\n     170      121      141 1\\n     171      121      146 1\\n     172      122      141 1\\n     173      122      142 1\\n     174      122      147 1\\n     175      123      142 1\\n     176      123      143 1\\n     177      123      148 1\\n     178      124      143 1\\n     179      124      144 1\\n     180      124      149 1\\n     181      125      144 1\\n     182      125      145 1\\n     183      125      150 1\\n     184      151      176 1\\n     185      152      177 1\\n     186      153      178 1\\n     187      154      179 1\\n     188      155      180 1\\n     189      156      176 1\\n     190      156      181 1\\n     191      157      176 1\\n     192      157      177 1\\n     193      157      182 1\\n     194      158      177 1\\n     195      158      178 1\\n     196      158      183 1\\n     197      159      178 1\\n     198      159      179 1\\n     199      159      184 1\\n     200      160      179 1\\n     201      160      180 1\\n     202      160      185 1\\n     203      161      181 1\\n     204      161      186 1\\n     205      162      181 1\\n     206      162      182 1\\n     207      162      187 1\\n     208      163      182 1\\n     209      163      183 1\\n     210      163      188 1\\n     211      164      183 1\\n     212      164      184 1\\n     213      164      189 1\\n     214      165      184 1\\n     215      165      185 1\\n     216      165      190 1\\n     217      166      186 1\\n     218      166      191 1\\n     219      167      186 1\\n     220      167      187 1\\n     221      167      192 1\\n     222      168      187 1\\n     223      168      188 1\\n     224      168      193 1\\n     225      169      188 1\\n     226      169      189 1\\n     227      169      194 1\\n     228      170      189 1\\n     229      170      190 1\\n     230      170      195 1\\n     231      171      191 1\\n     232      171      196 1\\n     233      172      191 1\\n     234      172      192 1\\n     235      172      197 1\\n     236      173      192 1\\n     237      173      193 1\\n     238      173      198 1\\n     239      174      193 1\\n     240      174      194 1\\n     241      174      199 1\\n     242      175      194 1\\n     243      175      195 1\\n     244      175      200 1\\n     245      201      226 1\\n     246      202      227 1\\n     247      203      228 1\\n     248      204      229 1\\n     249      205      230 1\\n     250      206      226 1\\n     251      206      231 1\\n     252      207      226 1\\n     253      207      227 1\\n     254      207      232 1\\n     255      208      227 1\\n     256      208      228 1\\n     257      208      233 1\\n     258      209      228 1\\n     259      209      229 1\\n     260      209      234 1\\n     261      210      229 1\\n     262      210      230 1\\n     263      210      235 1\\n     264      211      231 1\\n     265      211      236 1\\n     266      212      231 1\\n     267      212      232 1\\n     268      212      237 1\\n     269      213      232 1\\n     270      213      233 1\\n     271      213      238 1\\n     272      214      233 1\\n     273      214      234 1\\n     274      214      239 1\\n     275      215      234 1\\n     276      215      235 1\\n     277      215      240 1\\n     278      216      236 1\\n     279      216      241 1\\n     280      217      236 1\\n     281      217      237 1\\n     282      217      242 1\\n     283      218      237 1\\n     284      218      238 1\\n     285      218      243 1\\n     286      219      238 1\\n     287      219      239 1\\n     288      219      244 1\\n     289      220      239 1\\n     290      220      240 1\\n     291      220      245 1\\n     292      221      241 1\\n     293      221      246 1\\n     294      222      241 1\\n     295      222      242 1\\n     296      222      247 1\\n     297      223      242 1\\n     298      223      243 1\\n     299      223      248 1\\n     300      224      243 1\\n     301      224      244 1\\n     302      224      249 1\\n     303      225      244 1\\n     304      225      245 1\\n     305      225      250 1\\n@<TRIPOS>SUBSTRUCTURE\\n       1 RES             1 RESIDUE    0 **** ROOT      0\\n\",\"mol2\");\n\tviewer_17466377177319307.setStyle({\"stick\": {\"radius\": 0.18, \"color\": \"grey\"}, \"sphere\": {\"scale\": 0.3, \"colorscheme\": {}}});\n\tviewer_17466377177319307.zoomTo();\nviewer_17466377177319307.render();\n});\n</script>",
      "text/html": [
       "<div id=\"3dmolviewer_17466377177319307\"  style=\"position: relative; width: 640px; height: 480px;\">\n",
       "        <p id=\"3dmolwarning_17466377177319307\" style=\"background-color:#ffcccc;color:black\">3Dmol.js failed to load for some reason.  Please check your browser console for error messages.<br></p>\n",
       "        </div>\n",
       "<script>\n",
       "\n",
       "var loadScriptAsync = function(uri){\n",
       "  return new Promise((resolve, reject) => {\n",
       "    //this is to ignore the existence of requirejs amd\n",
       "    var savedexports, savedmodule;\n",
       "    if (typeof exports !== 'undefined') savedexports = exports;\n",
       "    else exports = {}\n",
       "    if (typeof module !== 'undefined') savedmodule = module;\n",
       "    else module = {}\n",
       "\n",
       "    var tag = document.createElement('script');\n",
       "    tag.src = uri;\n",
       "    tag.async = true;\n",
       "    tag.onload = () => {\n",
       "        exports = savedexports;\n",
       "        module = savedmodule;\n",
       "        resolve();\n",
       "    };\n",
       "  var firstScriptTag = document.getElementsByTagName('script')[0];\n",
       "  firstScriptTag.parentNode.insertBefore(tag, firstScriptTag);\n",
       "});\n",
       "};\n",
       "\n",
       "if(typeof $3Dmolpromise === 'undefined') {\n",
       "$3Dmolpromise = null;\n",
       "  $3Dmolpromise = loadScriptAsync('https://cdnjs.cloudflare.com/ajax/libs/3Dmol/2.4.2/3Dmol-min.js');\n",
       "}\n",
       "\n",
       "var viewer_17466377177319307 = null;\n",
       "var warn = document.getElementById(\"3dmolwarning_17466377177319307\");\n",
       "if(warn) {\n",
       "    warn.parentNode.removeChild(warn);\n",
       "}\n",
       "$3Dmolpromise.then(function() {\n",
       "viewer_17466377177319307 = $3Dmol.createViewer(document.getElementById(\"3dmolviewer_17466377177319307\"),{backgroundColor:\"white\"});\n",
       "viewer_17466377177319307.zoomTo();\n",
       "\tviewer_17466377177319307.addModel(\"@<TRIPOS>MOLECULE\\nRES\\n250 305 1 0 1\\nSMALL\\nNO_CHARGES\\n@<TRIPOS>CRYSIN\\n  146.0661   146.0661   146.0661    90.0000    90.0000    90.0000 1 1\\n@<TRIPOS>ATOM\\n       1 C            2.1503    25.5064   126.2038 C             1 RES     \\n       2 C            3.2281    26.4606   124.2094 C             1 RES     \\n       3 C            4.3066    27.4153   122.2145 C             1 RES     \\n       4 C            5.3844    28.3695   120.2201 C             1 RES     \\n       5 C            6.4629    29.3242   118.2252 C             1 RES     \\n       6 C            3.2566    25.6662   128.3952 C             1 RES     \\n       7 C            4.3344    26.6204   126.4008 C             1 RES     \\n       8 C            5.4129    27.5751   124.4059 C             1 RES     \\n       9 C            6.4907    28.5293   122.4115 C             1 RES     \\n      10 C            7.5692    29.4839   120.4166 C             1 RES     \\n      11 C            4.3629    25.8260   130.5866 C             1 RES     \\n      12 C            5.4407    26.7802   128.5921 C             1 RES     \\n      13 C            6.5192    27.7348   126.5973 C             1 RES     \\n      14 C            7.5970    28.6890   124.6029 C             1 RES     \\n      15 C            8.6755    29.6437   122.6080 C             1 RES     \\n      16 C            5.4692    25.9857   132.7780 C             1 RES     \\n      17 C            6.5470    26.9399   130.7835 C             1 RES     \\n      18 C            7.6255    27.8946   128.7887 C             1 RES     \\n      19 C            8.7033    28.8488   126.7942 C             1 RES     \\n      20 C            9.7818    29.8035   124.7994 C             1 RES     \\n      21 C            6.5755    26.1455   134.9693 C             1 RES     \\n      22 C            7.6533    27.0997   132.9749 C             1 RES     \\n      23 C            8.7318    28.0544   130.9801 C             1 RES     \\n      24 C            9.8096    29.0085   128.9856 C             1 RES     \\n      25 C           10.8881    29.9632   126.9908 C             1 RES     \\n      26 C            3.2471    25.9310   126.9999 C             1 RES     \\n      27 C            4.3257    26.8857   125.0051 C             1 RES     \\n      28 C            5.4034    27.8399   123.0106 C             1 RES     \\n      29 C            6.4812    28.7941   121.0162 C             1 RES     \\n      30 C            7.5597    29.7487   119.0213 C             1 RES     \\n      31 C            4.3534    26.0908   129.1913 C             1 RES     \\n      32 C            5.4320    27.0454   127.1964 C             1 RES     \\n      33 C            6.5097    27.9996   125.2020 C             1 RES     \\n      34 C            7.5875    28.9538   123.2076 C             1 RES     \\n      35 C            8.6660    29.9085   121.2127 C             1 RES     \\n      36 C            5.4597    26.2505   131.3827 C             1 RES     \\n      37 C            6.5383    27.2052   129.3878 C             1 RES     \\n      38 C            7.6160    28.1594   127.3934 C             1 RES     \\n      39 C            8.6938    29.1136   125.3990 C             1 RES     \\n      40 C            9.7723    30.0683   123.4041 C             1 RES     \\n      41 C            6.5660    26.4103   133.5741 C             1 RES     \\n      42 C            7.6446    27.3650   131.5792 C             1 RES     \\n      43 C            8.7223    28.3192   129.5848 C             1 RES     \\n      44 C            9.8001    29.2734   127.5904 C             1 RES     \\n      45 C           10.8786    30.2280   125.5955 C             1 RES     \\n      46 C            7.6723    26.5701   135.7655 C             1 RES     \\n      47 C            8.7509    27.5247   133.7706 C             1 RES     \\n      48 C            9.8286    28.4789   131.7762 C             1 RES     \\n      49 C           10.9064    29.4331   129.7818 C             1 RES     \\n      50 C           11.9849    30.3878   127.7869 C             1 RES     \\n      51 C           48.3664    28.9751    55.8400 C             1 RES     \\n      52 C           47.4647    29.5991    58.0417 C             1 RES     \\n      53 C           46.5628    30.2227    60.2444 C             1 RES     \\n      54 C           45.6611    30.8467    62.4461 C             1 RES     \\n      55 C           44.7592    31.4703    64.6487 C             1 RES     \\n      56 C           49.3553    26.7482    55.5018 C             1 RES     \\n      57 C           48.4536    27.3721    57.7035 C             1 RES     \\n      58 C           47.5517    27.9958    59.9061 C             1 RES     \\n      59 C           46.6500    28.6197    62.1078 C             1 RES     \\n      60 C           45.7481    29.2434    64.3105 C             1 RES     \\n      61 C           50.3443    24.5213    55.1636 C             1 RES     \\n      62 C           49.4426    25.1452    57.3653 C             1 RES     \\n      63 C           48.5407    25.7689    59.5679 C             1 RES     \\n      64 C           47.6390    26.3928    61.7696 C             1 RES     \\n      65 C           46.7371    27.0165    63.9723 C             1 RES     \\n      66 C           51.3332    22.2944    54.8253 C             1 RES     \\n      67 C           50.4315    22.9183    57.0270 C             1 RES     \\n      68 C           49.5296    23.5420    59.2297 C             1 RES     \\n      69 C           48.6279    24.1659    61.4314 C             1 RES     \\n      70 C           47.7260    24.7895    63.6340 C             1 RES     \\n      71 C           52.3221    20.0674    54.4871 C             1 RES     \\n      72 C           51.4204    20.6913    56.6888 C             1 RES     \\n      73 C           50.5185    21.3150    58.8915 C             1 RES     \\n      74 C           49.6168    21.9389    61.0932 C             1 RES     \\n      75 C           48.7149    22.5626    63.2958 C             1 RES     \\n      76 C           48.7251    27.6985    56.3484 C             1 RES     \\n      77 C           47.8232    28.3222    58.5511 C             1 RES     \\n      78 C           46.9215    28.9461    60.7528 C             1 RES     \\n      79 C           46.0198    29.5700    62.9545 C             1 RES     \\n      80 C           45.1179    30.1937    65.1571 C             1 RES     \\n      81 C           49.7140    25.4716    56.0102 C             1 RES     \\n      82 C           48.8122    26.0953    58.2129 C             1 RES     \\n      83 C           47.9104    26.7192    60.4146 C             1 RES     \\n      84 C           47.0087    27.3431    62.6163 C             1 RES     \\n      85 C           46.1069    27.9668    64.8189 C             1 RES     \\n      86 C           50.7030    23.2446    55.6720 C             1 RES     \\n      87 C           49.8011    23.8683    57.8746 C             1 RES     \\n      88 C           48.8994    24.4922    60.0763 C             1 RES     \\n      89 C           47.9977    25.1161    62.2780 C             1 RES     \\n      90 C           47.0958    25.7398    64.4807 C             1 RES     \\n      91 C           51.6919    21.0177    55.3338 C             1 RES     \\n      92 C           50.7900    21.6414    57.5364 C             1 RES     \\n      93 C           49.8883    22.2653    59.7381 C             1 RES     \\n      94 C           48.9866    22.8892    61.9398 C             1 RES     \\n      95 C           48.0847    23.5129    64.1425 C             1 RES     \\n      96 C           52.6808    18.7908    54.9955 C             1 RES     \\n      97 C           51.7789    19.4145    57.1982 C             1 RES     \\n      98 C           50.8772    20.0384    59.3999 C             1 RES     \\n      99 C           49.9755    20.6623    61.6016 C             1 RES     \\n     100 C           49.0736    21.2860    63.8042 C             1 RES     \\n     101 C           54.0864   103.1600    85.9201 C             1 RES     \\n     102 C           56.0684   101.9815    86.7759 C             1 RES     \\n     103 C           58.0510   100.8022    87.6318 C             1 RES     \\n     104 C           60.0331    99.6237    88.4876 C             1 RES     \\n     105 C           62.0157    98.4444    89.3435 C             1 RES     \\n     106 C           52.4525   101.9646    84.5224 C             1 RES     \\n     107 C           54.4346   100.7862    85.3783 C             1 RES     \\n     108 C           56.4172    99.6069    86.2342 C             1 RES     \\n     109 C           58.3993    98.4284    87.0900 C             1 RES     \\n     110 C           60.3819    97.2491    87.9459 C             1 RES     \\n     111 C           50.8187   100.7693    83.1248 C             1 RES     \\n     112 C           52.8008    99.5908    83.9806 C             1 RES     \\n     113 C           54.7834    98.4115    84.8365 C             1 RES     \\n     114 C           56.7655    97.2331    85.6923 C             1 RES     \\n     115 C           58.7481    96.0537    86.5482 C             1 RES     \\n     116 C           49.1849    99.5740    81.7271 C             1 RES     \\n     117 C           51.1670    98.3955    82.5829 C             1 RES     \\n     118 C           53.1496    97.2162    83.4388 C             1 RES     \\n     119 C           55.1316    96.0377    84.2947 C             1 RES     \\n     120 C           57.1143    94.8584    85.1506 C             1 RES     \\n     121 C           47.5511    98.3787    80.3295 C             1 RES     \\n     122 C           49.5332    97.2002    81.1853 C             1 RES     \\n     123 C           51.5158    96.0209    82.0412 C             1 RES     \\n     124 C           53.4978    94.8424    82.8970 C             1 RES     \\n     125 C           55.4804    93.6631    83.7529 C             1 RES     \\n     126 C           53.6578   101.9703    85.2736 C             1 RES     \\n     127 C           55.6404   100.7909    86.1295 C             1 RES     \\n     128 C           57.6225    99.6125    86.9853 C             1 RES     \\n     129 C           59.6046    98.4340    87.8411 C             1 RES     \\n     130 C           61.5872    97.2547    88.6970 C             1 RES     \\n     131 C           52.0240   100.7749    83.8759 C             1 RES     \\n     132 C           54.0066    99.5956    84.7318 C             1 RES     \\n     133 C           55.9887    98.4171    85.5877 C             1 RES     \\n     134 C           57.9708    97.2387    86.4435 C             1 RES     \\n     135 C           59.9534    96.0594    87.2994 C             1 RES     \\n     136 C           50.3902    99.5796    82.4783 C             1 RES     \\n     137 C           52.3728    98.4003    83.3342 C             1 RES     \\n     138 C           54.3549    97.2218    84.1900 C             1 RES     \\n     139 C           56.3369    96.0433    85.0458 C             1 RES     \\n     140 C           58.3195    94.8640    85.9017 C             1 RES     \\n     141 C           48.7564    98.3843    81.0806 C             1 RES     \\n     142 C           50.7390    97.2050    81.9365 C             1 RES     \\n     143 C           52.7211    96.0265    82.7923 C             1 RES     \\n     144 C           54.7031    94.8480    83.6482 C             1 RES     \\n     145 C           56.6857    93.6687    84.5041 C             1 RES     \\n     146 C           47.1226    97.1890    79.6830 C             1 RES     \\n     147 C           49.1052    96.0096    80.5389 C             1 RES     \\n     148 C           51.0873    94.8312    81.3947 C             1 RES     \\n     149 C           53.0693    93.6527    82.2505 C             1 RES     \\n     150 C           55.0519    92.4734    83.1064 C             1 RES     \\n     151 C          125.1217   116.3406    75.4096 C             1 RES     \\n     152 C          122.8837   116.9058    74.5600 C             1 RES     \\n     153 C          120.6451   117.4713    73.7097 C             1 RES     \\n     154 C          118.4072   118.0365    72.8601 C             1 RES     \\n     155 C          116.1686   118.6021    72.0098 C             1 RES     \\n     156 C          127.1244   117.0788    74.1866 C             1 RES     \\n     157 C          124.8864   117.6439    73.3370 C             1 RES     \\n     158 C          122.6479   118.2095    72.4867 C             1 RES     \\n     159 C          120.4099   118.7747    71.6371 C             1 RES     \\n     160 C          118.1713   119.3403    70.7868 C             1 RES     \\n     161 C          129.1271   117.8169    72.9635 C             1 RES     \\n     162 C          126.8892   118.3821    72.1139 C             1 RES     \\n     163 C          124.6506   118.9477    71.2637 C             1 RES     \\n     164 C          122.4126   119.5128    70.4141 C             1 RES     \\n     165 C          120.1740   120.0784    69.5638 C             1 RES     \\n     166 C          131.1299   118.5551    71.7405 C             1 RES     \\n     167 C          128.8919   119.1203    70.8909 C             1 RES     \\n     168 C          126.6533   119.6859    70.0406 C             1 RES     \\n     169 C          124.4153   120.2510    69.1910 C             1 RES     \\n     170 C          122.1768   120.8166    68.3407 C             1 RES     \\n     171 C          133.1326   119.2933    70.5175 C             1 RES     \\n     172 C          130.8946   119.8584    69.6679 C             1 RES     \\n     173 C          128.6560   120.4240    68.8176 C             1 RES     \\n     174 C          126.4181   120.9892    67.9680 C             1 RES     \\n     175 C          124.1795   121.5548    67.1177 C             1 RES     \\n     176 C          125.7109   117.0211    74.3111 C             1 RES     \\n     177 C          123.4723   117.5867    73.4608 C             1 RES     \\n     178 C          121.2343   118.1518    72.6112 C             1 RES     \\n     179 C          118.9963   118.7170    71.7616 C             1 RES     \\n     180 C          116.7578   119.2826    70.9113 C             1 RES     \\n     181 C          127.7136   117.7593    73.0880 C             1 RES     \\n     182 C          125.4750   118.3249    72.2377 C             1 RES     \\n     183 C          123.2370   118.8900    71.3881 C             1 RES     \\n     184 C          120.9990   119.4552    70.5385 C             1 RES     \\n     185 C          118.7605   120.0208    69.6883 C             1 RES     \\n     186 C          129.7163   118.4974    71.8650 C             1 RES     \\n     187 C          127.4777   119.0630    71.0147 C             1 RES     \\n     188 C          125.2397   119.6282    70.1651 C             1 RES     \\n     189 C          123.0018   120.1933    69.3155 C             1 RES     \\n     190 C          120.7632   120.7589    68.4652 C             1 RES     \\n     191 C          131.7190   119.2356    70.6420 C             1 RES     \\n     192 C          129.4805   119.8012    69.7917 C             1 RES     \\n     193 C          127.2425   120.3664    68.9421 C             1 RES     \\n     194 C          125.0045   120.9315    68.0925 C             1 RES     \\n     195 C          122.7659   121.4971    67.2422 C             1 RES     \\n     196 C          133.7217   119.9738    69.4189 C             1 RES     \\n     197 C          131.4832   120.5394    68.5686 C             1 RES     \\n     198 C          129.2452   121.1045    67.7190 C             1 RES     \\n     199 C          127.0072   121.6697    66.8694 C             1 RES     \\n     200 C          124.7686   122.2353    66.0192 C             1 RES     \\n     201 C           75.3741    72.3097    49.0586 C             1 RES     \\n     202 C           75.4945    73.6546    51.1145 C             1 RES     \\n     203 C           75.6147    75.0003    53.1709 C             1 RES     \\n     204 C           75.7350    76.3451    55.2268 C             1 RES     \\n     205 C           75.8553    77.6908    57.2832 C             1 RES     \\n     206 C           74.5374    73.3178    46.9764 C             1 RES     \\n     207 C           74.6578    74.6626    49.0323 C             1 RES     \\n     208 C           74.7780    76.0083    51.0887 C             1 RES     \\n     209 C           74.8984    77.3531    53.1446 C             1 RES     \\n     210 C           75.0186    78.6988    55.2010 C             1 RES     \\n     211 C           73.7008    74.3258    44.8942 C             1 RES     \\n     212 C           73.8211    75.6707    46.9502 C             1 RES     \\n     213 C           73.9414    77.0164    49.0065 C             1 RES     \\n     214 C           74.0617    78.3612    51.0624 C             1 RES     \\n     215 C           74.1820    79.7069    53.1188 C             1 RES     \\n     216 C           72.8641    75.3339    42.8121 C             1 RES     \\n     217 C           72.9845    76.6787    44.8680 C             1 RES     \\n     218 C           73.1047    78.0244    46.9244 C             1 RES     \\n     219 C           73.2251    79.3692    48.9803 C             1 RES     \\n     220 C           73.3453    80.7149    51.0366 C             1 RES     \\n     221 C           72.0275    76.3419    40.7299 C             1 RES     \\n     222 C           72.1478    77.6868    42.7858 C             1 RES     \\n     223 C           72.2680    79.0325    44.8422 C             1 RES     \\n     224 C           72.3884    80.3773    46.8981 C             1 RES     \\n     225 C           72.5086    81.7230    48.9545 C             1 RES     \\n     226 C           74.8564    73.4300    48.3558 C             1 RES     \\n     227 C           74.9767    74.7757    50.4122 C             1 RES     \\n     228 C           75.0970    76.1206    52.4681 C             1 RES     \\n     229 C           75.2174    77.4654    54.5240 C             1 RES     \\n     230 C           75.3376    78.8111    56.5804 C             1 RES     \\n     231 C           74.0198    74.4381    46.2736 C             1 RES     \\n     232 C           74.1400    75.7838    48.3300 C             1 RES     \\n     233 C           74.2604    77.1286    50.3859 C             1 RES     \\n     234 C           74.3807    78.4734    52.4418 C             1 RES     \\n     235 C           74.5010    79.8191    54.4982 C             1 RES     \\n     236 C           73.1831    75.4461    44.1914 C             1 RES     \\n     237 C           73.3033    76.7918    46.2478 C             1 RES     \\n     238 C           73.4237    78.1367    48.3037 C             1 RES     \\n     239 C           73.5441    79.4815    50.3596 C             1 RES     \\n     240 C           73.6643    80.8272    52.4160 C             1 RES     \\n     241 C           72.3465    76.4542    42.1093 C             1 RES     \\n     242 C           72.4667    77.7999    44.1656 C             1 RES     \\n     243 C           72.5871    79.1447    46.2215 C             1 RES     \\n     244 C           72.7074    80.4895    48.2775 C             1 RES     \\n     245 C           72.8276    81.8352    50.3338 C             1 RES     \\n     246 C           71.5098    77.4622    40.0271 C             1 RES     \\n     247 C           71.6300    78.8079    42.0835 C             1 RES     \\n     248 C           71.7504    80.1528    44.1394 C             1 RES     \\n     249 C           71.8708    81.4976    46.1953 C             1 RES     \\n     250 C           71.9910    82.8433    48.2517 C             1 RES     \\n@<TRIPOS>BOND\\n       1        1       26 1\\n       2        2       27 1\\n       3        3       28 1\\n       4        4       29 1\\n       5        5       30 1\\n       6        6       26 1\\n       7        6       31 1\\n       8        7       26 1\\n       9        7       27 1\\n      10        7       32 1\\n      11        8       27 1\\n      12        8       28 1\\n      13        8       33 1\\n      14        9       28 1\\n      15        9       29 1\\n      16        9       34 1\\n      17       10       29 1\\n      18       10       30 1\\n      19       10       35 1\\n      20       11       31 1\\n      21       11       36 1\\n      22       12       31 1\\n      23       12       32 1\\n      24       12       37 1\\n      25       13       32 1\\n      26       13       33 1\\n      27       13       38 1\\n      28       14       33 1\\n      29       14       34 1\\n      30       14       39 1\\n      31       15       34 1\\n      32       15       35 1\\n      33       15       40 1\\n      34       16       36 1\\n      35       16       41 1\\n      36       17       36 1\\n      37       17       37 1\\n      38       17       42 1\\n      39       18       37 1\\n      40       18       38 1\\n      41       18       43 1\\n      42       19       38 1\\n      43       19       39 1\\n      44       19       44 1\\n      45       20       39 1\\n      46       20       40 1\\n      47       20       45 1\\n      48       21       41 1\\n      49       21       46 1\\n      50       22       41 1\\n      51       22       42 1\\n      52       22       47 1\\n      53       23       42 1\\n      54       23       43 1\\n      55       23       48 1\\n      56       24       43 1\\n      57       24       44 1\\n      58       24       49 1\\n      59       25       44 1\\n      60       25       45 1\\n      61       25       50 1\\n      62       51       76 1\\n      63       52       77 1\\n      64       53       78 1\\n      65       54       79 1\\n      66       55       80 1\\n      67       56       76 1\\n      68       56       81 1\\n      69       57       76 1\\n      70       57       77 1\\n      71       57       82 1\\n      72       58       77 1\\n      73       58       78 1\\n      74       58       83 1\\n      75       59       78 1\\n      76       59       79 1\\n      77       59       84 1\\n      78       60       79 1\\n      79       60       80 1\\n      80       60       85 1\\n      81       61       81 1\\n      82       61       86 1\\n      83       62       81 1\\n      84       62       82 1\\n      85       62       87 1\\n      86       63       82 1\\n      87       63       83 1\\n      88       63       88 1\\n      89       64       83 1\\n      90       64       84 1\\n      91       64       89 1\\n      92       65       84 1\\n      93       65       85 1\\n      94       65       90 1\\n      95       66       86 1\\n      96       66       91 1\\n      97       67       86 1\\n      98       67       87 1\\n      99       67       92 1\\n     100       68       87 1\\n     101       68       88 1\\n     102       68       93 1\\n     103       69       88 1\\n     104       69       89 1\\n     105       69       94 1\\n     106       70       89 1\\n     107       70       90 1\\n     108       70       95 1\\n     109       71       91 1\\n     110       71       96 1\\n     111       72       91 1\\n     112       72       92 1\\n     113       72       97 1\\n     114       73       92 1\\n     115       73       93 1\\n     116       73       98 1\\n     117       74       93 1\\n     118       74       94 1\\n     119       74       99 1\\n     120       75       94 1\\n     121       75       95 1\\n     122       75      100 1\\n     123      101      126 1\\n     124      102      127 1\\n     125      103      128 1\\n     126      104      129 1\\n     127      105      130 1\\n     128      106      126 1\\n     129      106      131 1\\n     130      107      126 1\\n     131      107      127 1\\n     132      107      132 1\\n     133      108      127 1\\n     134      108      128 1\\n     135      108      133 1\\n     136      109      128 1\\n     137      109      129 1\\n     138      109      134 1\\n     139      110      129 1\\n     140      110      130 1\\n     141      110      135 1\\n     142      111      131 1\\n     143      111      136 1\\n     144      112      131 1\\n     145      112      132 1\\n     146      112      137 1\\n     147      113      132 1\\n     148      113      133 1\\n     149      113      138 1\\n     150      114      133 1\\n     151      114      134 1\\n     152      114      139 1\\n     153      115      134 1\\n     154      115      135 1\\n     155      115      140 1\\n     156      116      136 1\\n     157      116      141 1\\n     158      117      136 1\\n     159      117      137 1\\n     160      117      142 1\\n     161      118      137 1\\n     162      118      138 1\\n     163      118      143 1\\n     164      119      138 1\\n     165      119      139 1\\n     166      119      144 1\\n     167      120      139 1\\n     168      120      140 1\\n     169      120      145 1\\n     170      121      141 1\\n     171      121      146 1\\n     172      122      141 1\\n     173      122      142 1\\n     174      122      147 1\\n     175      123      142 1\\n     176      123      143 1\\n     177      123      148 1\\n     178      124      143 1\\n     179      124      144 1\\n     180      124      149 1\\n     181      125      144 1\\n     182      125      145 1\\n     183      125      150 1\\n     184      151      176 1\\n     185      152      177 1\\n     186      153      178 1\\n     187      154      179 1\\n     188      155      180 1\\n     189      156      176 1\\n     190      156      181 1\\n     191      157      176 1\\n     192      157      177 1\\n     193      157      182 1\\n     194      158      177 1\\n     195      158      178 1\\n     196      158      183 1\\n     197      159      178 1\\n     198      159      179 1\\n     199      159      184 1\\n     200      160      179 1\\n     201      160      180 1\\n     202      160      185 1\\n     203      161      181 1\\n     204      161      186 1\\n     205      162      181 1\\n     206      162      182 1\\n     207      162      187 1\\n     208      163      182 1\\n     209      163      183 1\\n     210      163      188 1\\n     211      164      183 1\\n     212      164      184 1\\n     213      164      189 1\\n     214      165      184 1\\n     215      165      185 1\\n     216      165      190 1\\n     217      166      186 1\\n     218      166      191 1\\n     219      167      186 1\\n     220      167      187 1\\n     221      167      192 1\\n     222      168      187 1\\n     223      168      188 1\\n     224      168      193 1\\n     225      169      188 1\\n     226      169      189 1\\n     227      169      194 1\\n     228      170      189 1\\n     229      170      190 1\\n     230      170      195 1\\n     231      171      191 1\\n     232      171      196 1\\n     233      172      191 1\\n     234      172      192 1\\n     235      172      197 1\\n     236      173      192 1\\n     237      173      193 1\\n     238      173      198 1\\n     239      174      193 1\\n     240      174      194 1\\n     241      174      199 1\\n     242      175      194 1\\n     243      175      195 1\\n     244      175      200 1\\n     245      201      226 1\\n     246      202      227 1\\n     247      203      228 1\\n     248      204      229 1\\n     249      205      230 1\\n     250      206      226 1\\n     251      206      231 1\\n     252      207      226 1\\n     253      207      227 1\\n     254      207      232 1\\n     255      208      227 1\\n     256      208      228 1\\n     257      208      233 1\\n     258      209      228 1\\n     259      209      229 1\\n     260      209      234 1\\n     261      210      229 1\\n     262      210      230 1\\n     263      210      235 1\\n     264      211      231 1\\n     265      211      236 1\\n     266      212      231 1\\n     267      212      232 1\\n     268      212      237 1\\n     269      213      232 1\\n     270      213      233 1\\n     271      213      238 1\\n     272      214      233 1\\n     273      214      234 1\\n     274      214      239 1\\n     275      215      234 1\\n     276      215      235 1\\n     277      215      240 1\\n     278      216      236 1\\n     279      216      241 1\\n     280      217      236 1\\n     281      217      237 1\\n     282      217      242 1\\n     283      218      237 1\\n     284      218      238 1\\n     285      218      243 1\\n     286      219      238 1\\n     287      219      239 1\\n     288      219      244 1\\n     289      220      239 1\\n     290      220      240 1\\n     291      220      245 1\\n     292      221      241 1\\n     293      221      246 1\\n     294      222      241 1\\n     295      222      242 1\\n     296      222      247 1\\n     297      223      242 1\\n     298      223      243 1\\n     299      223      248 1\\n     300      224      243 1\\n     301      224      244 1\\n     302      224      249 1\\n     303      225      244 1\\n     304      225      245 1\\n     305      225      250 1\\n@<TRIPOS>SUBSTRUCTURE\\n       1 RES             1 RESIDUE    0 **** ROOT      0\\n\",\"mol2\");\n",
       "\tviewer_17466377177319307.setStyle({\"stick\": {\"radius\": 0.18, \"color\": \"grey\"}, \"sphere\": {\"scale\": 0.3, \"colorscheme\": {}}});\n",
       "\tviewer_17466377177319307.zoomTo();\n",
       "viewer_17466377177319307.render();\n",
       "});\n",
       "</script>"
      ]
     },
     "metadata": {},
     "output_type": "display_data"
    }
   ],
   "source": [
    "system.visualize()"
   ]
  },
  {
   "cell_type": "code",
   "execution_count": 838,
   "id": "d3168d33-3e20-43d4-9d4c-8ddc8cc3568a",
   "metadata": {},
   "outputs": [
    {
     "name": "stdout",
     "output_type": "stream",
     "text": [
      "Distance between particle 0 and 1: 0.24596 dimensionless nm\n"
     ]
    }
   ],
   "source": [
    "positions = system.hoomd_snapshot.particles.position\n",
    "\n",
    "# Example: distance between particle 0 and 1\n",
    "d = np.linalg.norm(positions[0] - positions[1])\n",
    "print(f\"Distance between particle 0 and 1: {d:.5f} nm\")"
   ]
  },
  {
   "cell_type": "code",
   "execution_count": 839,
   "id": "8bfd47cc-779f-4227-b5ce-237c269b264b",
   "metadata": {},
   "outputs": [
    {
     "name": "stdout",
     "output_type": "stream",
     "text": [
      "[-7.0882696 -4.752661   5.3170747] dimensionless\n",
      "[-6.9804935 -4.6572417  5.1176318] dimensionless\n",
      "[-6.8726408 -4.5617739  4.9181467] dimensionless\n",
      "[-6.7648647 -4.4663547  4.7187038] dimensionless\n"
     ]
    }
   ],
   "source": [
    "print(system.hoomd_snapshot.particles.position[0])\n",
    "print(system.hoomd_snapshot.particles.position[1])\n",
    "print(system.hoomd_snapshot.particles.position[2])\n",
    "print(system.hoomd_snapshot.particles.position[3])"
   ]
  },
  {
   "cell_type": "code",
   "execution_count": 840,
   "id": "2bad0aab-9a88-4ab9-bf5e-1e07a498f737",
   "metadata": {},
   "outputs": [
    {
     "data": {
      "text/plain": [
       "0.24596341375113184"
      ]
     },
     "execution_count": 840,
     "metadata": {},
     "output_type": "execute_result"
    }
   ],
   "source": [
    "np.linalg.norm(np.array(system.hoomd_snapshot.particles.position[0]) - np.array(system.hoomd_snapshot.particles.position[1]))"
   ]
  },
  {
   "cell_type": "code",
   "execution_count": 841,
   "id": "4b588b6e-2777-40e6-a64a-866d539bef31",
   "metadata": {},
   "outputs": [
    {
     "data": {
      "text/plain": [
       "0.2460500169805729"
      ]
     },
     "execution_count": 841,
     "metadata": {},
     "output_type": "execute_result"
    }
   ],
   "source": [
    "np.linalg.norm(np.array(system.hoomd_snapshot.particles.position[2]) - np.array(system.hoomd_snapshot.particles.position[1]))"
   ]
  },
  {
   "cell_type": "code",
   "execution_count": 842,
   "id": "0d7cdd91-28ec-417a-85c7-048e2a619c3d",
   "metadata": {},
   "outputs": [
    {
     "data": {
      "text/plain": [
       "0.2459633749570446"
      ]
     },
     "execution_count": 842,
     "metadata": {},
     "output_type": "execute_result"
    }
   ],
   "source": [
    "np.linalg.norm(np.array(system.hoomd_snapshot.particles.position[3]) - np.array(system.hoomd_snapshot.particles.position[2]))"
   ]
  },
  {
   "cell_type": "code",
   "execution_count": 843,
   "id": "e242105f-08e5-4e3a-bcf7-56191447817b",
   "metadata": {},
   "outputs": [
    {
     "data": {
      "text/plain": [
       "0.737976802298359"
      ]
     },
     "execution_count": 843,
     "metadata": {},
     "output_type": "execute_result"
    }
   ],
   "source": [
    "np.linalg.norm(np.array(system.hoomd_snapshot.particles.position[3]) - np.array(system.hoomd_snapshot.particles.position[0]))"
   ]
  },
  {
   "cell_type": "code",
   "execution_count": 844,
   "id": "ce99f011-e6d0-4c2a-8b01-94291834b4aa",
   "metadata": {},
   "outputs": [
    {
     "data": {
      "text/plain": [
       "<Compound 50 particles, 61 bonds, System box: Box: Lx=1.230000, Ly=1.230000, Lz=0.246000, xy=-0.577350, xz=0.000000, yz=-0.577350, , id: 139951740416896>"
      ]
     },
     "execution_count": 844,
     "metadata": {},
     "output_type": "execute_result"
    }
   ],
   "source": [
    "sheet.all_molecules[0]"
   ]
  },
  {
   "cell_type": "code",
   "execution_count": 845,
   "id": "e9326458-8125-46a2-883f-89c1e20d5278",
   "metadata": {},
   "outputs": [
    {
     "data": {
      "text/plain": [
       "5"
      ]
     },
     "execution_count": 845,
     "metadata": {},
     "output_type": "execute_result"
    }
   ],
   "source": [
    "\n",
    "system.n_molecules"
   ]
  },
  {
   "cell_type": "code",
   "execution_count": 846,
   "id": "088d66f1-6a79-4da6-aa01-14d0c53d8f44",
   "metadata": {},
   "outputs": [
    {
     "data": {
      "text/plain": [
       "250"
      ]
     },
     "execution_count": 846,
     "metadata": {},
     "output_type": "execute_result"
    }
   ],
   "source": [
    "system.n_particles"
   ]
  },
  {
   "cell_type": "code",
   "execution_count": 847,
   "id": "211408e5-88c2-47df-a8df-8615f0e0aa55",
   "metadata": {},
   "outputs": [
    {
     "name": "stdout",
     "output_type": "stream",
     "text": [
      "['C']\n",
      "['C-C']\n",
      "['C-C-C']\n",
      "['C-C-C-C']\n"
     ]
    }
   ],
   "source": [
    "snap = system.hoomd_snapshot\n",
    "print(snap.particles.types)\n",
    "print(snap.bonds.types)\n",
    "print(snap.angles.types)\n",
    "print(snap.dihedrals.types)"
   ]
  },
  {
   "cell_type": "code",
   "execution_count": 848,
   "id": "4adf8ce1-d6b7-458c-a0cc-247ccd3b41ff",
   "metadata": {},
   "outputs": [],
   "source": [
    "from flowermd.library.forcefields import BeadSpring"
   ]
  },
  {
   "cell_type": "code",
   "execution_count": 849,
   "id": "8495eb8c-0b82-4c1c-bd46-54a516e7e687",
   "metadata": {},
   "outputs": [],
   "source": [
    "s = 0.246 # 1.0 for scaling"
   ]
  },
  {
   "cell_type": "code",
   "execution_count": 883,
   "id": "05cd20c5-c8bb-443a-859b-9ed6eac6129b",
   "metadata": {},
   "outputs": [],
   "source": [
    "ff = BeadSpring(\n",
    "    r_cut=2.5,\n",
    "    beads={\"C\": dict(epsilon=0.1, sigma=1.0)},\n",
    "    bonds={\"C-C\": dict(r0=0.57736*s, k=500)},\n",
    "    angles={\"C-C-C\": dict(t0=2*np.pi/3, k=500)},\n",
    "    dihedrals={\"C-C-C-C\": dict(phi0=0.1, k=500, d=1, n=1)}\n",
    ")"
   ]
  },
  {
   "cell_type": "code",
   "execution_count": 884,
   "id": "d928a856-7c95-4daf-b8e8-f1b2f410a997",
   "metadata": {},
   "outputs": [
    {
     "name": "stdout",
     "output_type": "stream",
     "text": [
      "1\n",
      "880\n"
     ]
    }
   ],
   "source": [
    "print(len(system.hoomd_snapshot.dihedrals.types))\n",
    "print(len(system.hoomd_snapshot.dihedrals.group))"
   ]
  },
  {
   "cell_type": "code",
   "execution_count": 885,
   "id": "b90f3501-c9c1-4e67-ae9c-fe51a0d734cb",
   "metadata": {},
   "outputs": [],
   "source": [
    "from flowermd.base import Pack, Simulation\n",
    "import hoomd\n",
    "import gsd.hoomd"
   ]
  },
  {
   "cell_type": "code",
   "execution_count": 886,
   "id": "23fc1f43-3e88-4d92-bd17-fcb285069aa8",
   "metadata": {},
   "outputs": [],
   "source": [
    "del sim"
   ]
  },
  {
   "cell_type": "code",
   "execution_count": 887,
   "id": "8ddb54a1-29eb-4b49-b129-81c826c4954f",
   "metadata": {},
   "outputs": [],
   "source": [
    "cpu = hoomd.device.CPU()"
   ]
  },
  {
   "cell_type": "code",
   "execution_count": 888,
   "id": "165b0b63-3a14-4dd6-852f-b3bffeca1a03",
   "metadata": {},
   "outputs": [
    {
     "name": "stdout",
     "output_type": "stream",
     "text": [
      "Initializing simulation state from a gsd.hoomd.Frame.\n"
     ]
    }
   ],
   "source": [
    "sim = Simulation(initial_state=system.hoomd_snapshot, forcefield=ff.hoomd_forces, device = cpu,\n",
    "                 gsd_write_freq=int(1000), gsd_file_name=\"single_sheet.gsd\")"
   ]
  },
  {
   "cell_type": "code",
   "execution_count": 889,
   "id": "a530e99c-13cb-477d-9896-ab73ef5818f2",
   "metadata": {},
   "outputs": [
    {
     "name": "stdout",
     "output_type": "stream",
     "text": [
      "<hoomd.md.pair.pair.LJ object at 0x7f490d47a420>\n",
      "<hoomd.md.bond.Harmonic object at 0x7f490d7c16a0>\n",
      "<hoomd.md.angle.Harmonic object at 0x7f490d284470>\n",
      "<hoomd.md.dihedral.Periodic object at 0x7f490d2852b0>\n"
     ]
    }
   ],
   "source": [
    "for force in sim.forces:\n",
    "    print(force)"
   ]
  },
  {
   "cell_type": "code",
   "execution_count": 890,
   "id": "643531bb-3699-42c8-8812-26693bb629c9",
   "metadata": {},
   "outputs": [],
   "source": [
    "sim.state.thermalize_particle_momenta(filter=hoomd.filter.All(), kT=1.0)"
   ]
  },
  {
   "cell_type": "code",
   "execution_count": 891,
   "id": "9c3971fe-87d6-4e28-9641-a8f36c8cb3d7",
   "metadata": {},
   "outputs": [],
   "source": [
    "from flowermd.utils import get_target_box_number_density\n",
    "import unyt as u"
   ]
  },
  {
   "cell_type": "code",
   "execution_count": 892,
   "id": "89b70fc3-bea5-4ab8-b45f-9dba0245964f",
   "metadata": {},
   "outputs": [
    {
     "name": "stdout",
     "output_type": "stream",
     "text": [
      "Step 1000 of 200000; TPS: 3792.81; ETA: 0.9 minutes\n",
      "Step 2000 of 200000; TPS: 5468.96; ETA: 0.6 minutes\n",
      "Step 3000 of 200000; TPS: 6414.49; ETA: 0.5 minutes\n",
      "Step 4000 of 200000; TPS: 7055.58; ETA: 0.5 minutes\n",
      "Step 5000 of 200000; TPS: 7478.28; ETA: 0.4 minutes\n",
      "Step 6000 of 200000; TPS: 7762.44; ETA: 0.4 minutes\n",
      "Step 7000 of 200000; TPS: 7995.65; ETA: 0.4 minutes\n",
      "Step 8000 of 200000; TPS: 8168.31; ETA: 0.4 minutes\n",
      "Step 9000 of 200000; TPS: 8325.55; ETA: 0.4 minutes\n",
      "Step 10000 of 200000; TPS: 8458.3; ETA: 0.4 minutes\n",
      "Step 11000 of 200000; TPS: 8516.07; ETA: 0.4 minutes\n",
      "Step 12000 of 200000; TPS: 8593.26; ETA: 0.4 minutes\n",
      "Step 13000 of 200000; TPS: 8654.11; ETA: 0.4 minutes\n",
      "Step 14000 of 200000; TPS: 8728.93; ETA: 0.4 minutes\n",
      "Step 15000 of 200000; TPS: 8791.55; ETA: 0.4 minutes\n",
      "Step 16000 of 200000; TPS: 8836.14; ETA: 0.3 minutes\n",
      "Step 17000 of 200000; TPS: 8878.83; ETA: 0.3 minutes\n",
      "Step 18000 of 200000; TPS: 8908.84; ETA: 0.3 minutes\n",
      "Step 19000 of 200000; TPS: 8943.65; ETA: 0.3 minutes\n",
      "Step 20000 of 200000; TPS: 8983.09; ETA: 0.3 minutes\n",
      "Step 21000 of 200000; TPS: 9013.14; ETA: 0.3 minutes\n",
      "Step 22000 of 200000; TPS: 9033.4; ETA: 0.3 minutes\n",
      "Step 23000 of 200000; TPS: 9058.55; ETA: 0.3 minutes\n",
      "Step 24000 of 200000; TPS: 9088.78; ETA: 0.3 minutes\n",
      "Step 25000 of 200000; TPS: 9110.63; ETA: 0.3 minutes\n",
      "Step 26000 of 200000; TPS: 9131.56; ETA: 0.3 minutes\n",
      "Step 27000 of 200000; TPS: 9141.53; ETA: 0.3 minutes\n",
      "Step 28000 of 200000; TPS: 9151.38; ETA: 0.3 minutes\n",
      "Step 29000 of 200000; TPS: 9160.65; ETA: 0.3 minutes\n",
      "Step 30000 of 200000; TPS: 9166.94; ETA: 0.3 minutes\n",
      "Step 31000 of 200000; TPS: 9177.2; ETA: 0.3 minutes\n",
      "Step 32000 of 200000; TPS: 9177.43; ETA: 0.3 minutes\n",
      "Step 33000 of 200000; TPS: 9174.89; ETA: 0.3 minutes\n",
      "Step 34000 of 200000; TPS: 9194.55; ETA: 0.3 minutes\n",
      "Step 35000 of 200000; TPS: 9201.15; ETA: 0.3 minutes\n",
      "Step 36000 of 200000; TPS: 9204.2; ETA: 0.3 minutes\n",
      "Step 37000 of 200000; TPS: 9212.5; ETA: 0.3 minutes\n",
      "Step 38000 of 200000; TPS: 9219.25; ETA: 0.3 minutes\n",
      "Step 39000 of 200000; TPS: 9228.45; ETA: 0.3 minutes\n",
      "Step 40000 of 200000; TPS: 9241.1; ETA: 0.3 minutes\n",
      "Step 41000 of 200000; TPS: 9247.28; ETA: 0.3 minutes\n",
      "Step 42000 of 200000; TPS: 9255.99; ETA: 0.3 minutes\n",
      "Step 43000 of 200000; TPS: 9266.09; ETA: 0.3 minutes\n",
      "Step 44000 of 200000; TPS: 9264.84; ETA: 0.3 minutes\n",
      "Step 45000 of 200000; TPS: 9264.47; ETA: 0.3 minutes\n",
      "Step 46000 of 200000; TPS: 9270.74; ETA: 0.3 minutes\n",
      "Step 47000 of 200000; TPS: 9283.94; ETA: 0.3 minutes\n",
      "Step 48000 of 200000; TPS: 9295.39; ETA: 0.3 minutes\n",
      "Step 49000 of 200000; TPS: 9294.82; ETA: 0.3 minutes\n",
      "Step 50000 of 200000; TPS: 9300.21; ETA: 0.3 minutes\n",
      "Step 51000 of 200000; TPS: 9312.3; ETA: 0.3 minutes\n",
      "Step 52000 of 200000; TPS: 9323.13; ETA: 0.3 minutes\n",
      "Step 53000 of 200000; TPS: 9336.58; ETA: 0.3 minutes\n",
      "Step 54000 of 200000; TPS: 9336.07; ETA: 0.3 minutes\n",
      "Step 55000 of 200000; TPS: 9339.44; ETA: 0.3 minutes\n",
      "Step 56000 of 200000; TPS: 9340.82; ETA: 0.3 minutes\n",
      "Step 57000 of 200000; TPS: 9343.54; ETA: 0.3 minutes\n",
      "Step 58000 of 200000; TPS: 9345.71; ETA: 0.3 minutes\n",
      "Step 59000 of 200000; TPS: 9351.75; ETA: 0.3 minutes\n",
      "Step 60000 of 200000; TPS: 9362.46; ETA: 0.2 minutes\n",
      "Step 61000 of 200000; TPS: 9367.13; ETA: 0.2 minutes\n",
      "Step 62000 of 200000; TPS: 9372.68; ETA: 0.2 minutes\n",
      "Step 63000 of 200000; TPS: 9382.5; ETA: 0.2 minutes\n",
      "Step 64000 of 200000; TPS: 9382.46; ETA: 0.2 minutes\n",
      "Step 65000 of 200000; TPS: 9385.27; ETA: 0.2 minutes\n",
      "Step 66000 of 200000; TPS: 9384.93; ETA: 0.2 minutes\n",
      "Step 67000 of 200000; TPS: 9392.34; ETA: 0.2 minutes\n",
      "Step 68000 of 200000; TPS: 9397.45; ETA: 0.2 minutes\n",
      "Step 69000 of 200000; TPS: 9402.22; ETA: 0.2 minutes\n",
      "Step 70000 of 200000; TPS: 9407.96; ETA: 0.2 minutes\n",
      "Step 71000 of 200000; TPS: 9412.97; ETA: 0.2 minutes\n",
      "Step 72000 of 200000; TPS: 9415.1; ETA: 0.2 minutes\n",
      "Step 73000 of 200000; TPS: 9417.29; ETA: 0.2 minutes\n",
      "Step 74000 of 200000; TPS: 9423.12; ETA: 0.2 minutes\n",
      "Step 75000 of 200000; TPS: 9425.39; ETA: 0.2 minutes\n",
      "Step 76000 of 200000; TPS: 9429.59; ETA: 0.2 minutes\n",
      "Step 77000 of 200000; TPS: 9434.03; ETA: 0.2 minutes\n",
      "Step 78000 of 200000; TPS: 9439.33; ETA: 0.2 minutes\n",
      "Step 79000 of 200000; TPS: 9444.22; ETA: 0.2 minutes\n",
      "Step 80000 of 200000; TPS: 9448.68; ETA: 0.2 minutes\n",
      "Step 81000 of 200000; TPS: 9455.0; ETA: 0.2 minutes\n",
      "Step 82000 of 200000; TPS: 9460.77; ETA: 0.2 minutes\n",
      "Step 83000 of 200000; TPS: 9464.23; ETA: 0.2 minutes\n",
      "Step 84000 of 200000; TPS: 9464.3; ETA: 0.2 minutes\n",
      "Step 85000 of 200000; TPS: 9468.94; ETA: 0.2 minutes\n",
      "Step 86000 of 200000; TPS: 9472.39; ETA: 0.2 minutes\n",
      "Step 87000 of 200000; TPS: 9477.53; ETA: 0.2 minutes\n",
      "Step 88000 of 200000; TPS: 9482.31; ETA: 0.2 minutes\n",
      "Step 89000 of 200000; TPS: 9485.12; ETA: 0.2 minutes\n",
      "Step 90000 of 200000; TPS: 9479.17; ETA: 0.2 minutes\n",
      "Step 91000 of 200000; TPS: 9479.77; ETA: 0.2 minutes\n",
      "Step 92000 of 200000; TPS: 9480.26; ETA: 0.2 minutes\n",
      "Step 93000 of 200000; TPS: 9478.7; ETA: 0.2 minutes\n",
      "Step 94000 of 200000; TPS: 9478.81; ETA: 0.2 minutes\n",
      "Step 95000 of 200000; TPS: 9476.05; ETA: 0.2 minutes\n",
      "Step 96000 of 200000; TPS: 9476.66; ETA: 0.2 minutes\n",
      "Step 97000 of 200000; TPS: 9478.69; ETA: 0.2 minutes\n",
      "Step 98000 of 200000; TPS: 9478.98; ETA: 0.2 minutes\n",
      "Step 99000 of 200000; TPS: 9479.61; ETA: 0.2 minutes\n",
      "Step 100000 of 200000; TPS: 9477.72; ETA: 0.2 minutes\n",
      "Step 101000 of 200000; TPS: 9477.77; ETA: 0.2 minutes\n",
      "Step 102000 of 200000; TPS: 9478.73; ETA: 0.2 minutes\n",
      "Step 103000 of 200000; TPS: 9479.54; ETA: 0.2 minutes\n",
      "Step 104000 of 200000; TPS: 9480.47; ETA: 0.2 minutes\n",
      "Step 105000 of 200000; TPS: 9481.59; ETA: 0.2 minutes\n",
      "Step 106000 of 200000; TPS: 9482.68; ETA: 0.2 minutes\n",
      "Step 107000 of 200000; TPS: 9482.25; ETA: 0.2 minutes\n",
      "Step 108000 of 200000; TPS: 9485.08; ETA: 0.2 minutes\n",
      "Step 109000 of 200000; TPS: 9485.0; ETA: 0.2 minutes\n",
      "Step 110000 of 200000; TPS: 9484.04; ETA: 0.2 minutes\n",
      "Step 111000 of 200000; TPS: 9479.67; ETA: 0.2 minutes\n",
      "Step 112000 of 200000; TPS: 9481.32; ETA: 0.2 minutes\n",
      "Step 113000 of 200000; TPS: 9481.71; ETA: 0.2 minutes\n",
      "Step 114000 of 200000; TPS: 9478.64; ETA: 0.2 minutes\n",
      "Step 115000 of 200000; TPS: 9481.02; ETA: 0.1 minutes\n",
      "Step 116000 of 200000; TPS: 9479.45; ETA: 0.1 minutes\n",
      "Step 117000 of 200000; TPS: 9478.21; ETA: 0.1 minutes\n",
      "Step 118000 of 200000; TPS: 9477.29; ETA: 0.1 minutes\n",
      "Step 119000 of 200000; TPS: 9477.65; ETA: 0.1 minutes\n",
      "Step 120000 of 200000; TPS: 9471.98; ETA: 0.1 minutes\n",
      "Step 121000 of 200000; TPS: 9471.34; ETA: 0.1 minutes\n",
      "Step 122000 of 200000; TPS: 9470.65; ETA: 0.1 minutes\n",
      "Step 123000 of 200000; TPS: 9468.45; ETA: 0.1 minutes\n",
      "Step 124000 of 200000; TPS: 9469.1; ETA: 0.1 minutes\n",
      "Step 125000 of 200000; TPS: 9466.98; ETA: 0.1 minutes\n",
      "Step 126000 of 200000; TPS: 9466.89; ETA: 0.1 minutes\n",
      "Step 127000 of 200000; TPS: 9466.15; ETA: 0.1 minutes\n",
      "Step 128000 of 200000; TPS: 9468.25; ETA: 0.1 minutes\n",
      "Step 129000 of 200000; TPS: 9468.04; ETA: 0.1 minutes\n",
      "Step 130000 of 200000; TPS: 9469.1; ETA: 0.1 minutes\n",
      "Step 131000 of 200000; TPS: 9469.98; ETA: 0.1 minutes\n",
      "Step 132000 of 200000; TPS: 9470.84; ETA: 0.1 minutes\n",
      "Step 133000 of 200000; TPS: 9471.68; ETA: 0.1 minutes\n",
      "Step 134000 of 200000; TPS: 9472.76; ETA: 0.1 minutes\n",
      "Step 135000 of 200000; TPS: 9471.93; ETA: 0.1 minutes\n",
      "Step 136000 of 200000; TPS: 9473.58; ETA: 0.1 minutes\n",
      "Step 137000 of 200000; TPS: 9473.06; ETA: 0.1 minutes\n",
      "Step 138000 of 200000; TPS: 9472.27; ETA: 0.1 minutes\n",
      "Step 139000 of 200000; TPS: 9474.0; ETA: 0.1 minutes\n",
      "Step 140000 of 200000; TPS: 9472.01; ETA: 0.1 minutes\n",
      "Step 141000 of 200000; TPS: 9472.28; ETA: 0.1 minutes\n",
      "Step 142000 of 200000; TPS: 9473.33; ETA: 0.1 minutes\n",
      "Step 143000 of 200000; TPS: 9472.55; ETA: 0.1 minutes\n",
      "Step 144000 of 200000; TPS: 9471.35; ETA: 0.1 minutes\n",
      "Step 145000 of 200000; TPS: 9468.01; ETA: 0.1 minutes\n",
      "Step 146000 of 200000; TPS: 9469.43; ETA: 0.1 minutes\n",
      "Step 147000 of 200000; TPS: 9469.41; ETA: 0.1 minutes\n",
      "Step 148000 of 200000; TPS: 9469.35; ETA: 0.1 minutes\n",
      "Step 149000 of 200000; TPS: 9468.88; ETA: 0.1 minutes\n",
      "Step 150000 of 200000; TPS: 9470.47; ETA: 0.1 minutes\n",
      "Step 151000 of 200000; TPS: 9470.73; ETA: 0.1 minutes\n",
      "Step 152000 of 200000; TPS: 9472.25; ETA: 0.1 minutes\n",
      "Step 153000 of 200000; TPS: 9473.03; ETA: 0.1 minutes\n",
      "Step 154000 of 200000; TPS: 9473.98; ETA: 0.1 minutes\n",
      "Step 155000 of 200000; TPS: 9474.47; ETA: 0.1 minutes\n",
      "Step 156000 of 200000; TPS: 9475.67; ETA: 0.1 minutes\n",
      "Step 157000 of 200000; TPS: 9477.63; ETA: 0.1 minutes\n",
      "Step 158000 of 200000; TPS: 9477.38; ETA: 0.1 minutes\n",
      "Step 159000 of 200000; TPS: 9478.34; ETA: 0.1 minutes\n",
      "Step 160000 of 200000; TPS: 9481.31; ETA: 0.1 minutes\n",
      "Step 161000 of 200000; TPS: 9481.39; ETA: 0.1 minutes\n",
      "Step 162000 of 200000; TPS: 9482.36; ETA: 0.1 minutes\n",
      "Step 163000 of 200000; TPS: 9482.85; ETA: 0.1 minutes\n",
      "Step 164000 of 200000; TPS: 9484.24; ETA: 0.1 minutes\n",
      "Step 165000 of 200000; TPS: 9484.08; ETA: 0.1 minutes\n",
      "Step 166000 of 200000; TPS: 9485.16; ETA: 0.1 minutes\n",
      "Step 167000 of 200000; TPS: 9485.23; ETA: 0.1 minutes\n",
      "Step 168000 of 200000; TPS: 9486.05; ETA: 0.1 minutes\n",
      "Step 169000 of 200000; TPS: 9485.11; ETA: 0.1 minutes\n",
      "Step 170000 of 200000; TPS: 9487.12; ETA: 0.1 minutes\n",
      "Step 171000 of 200000; TPS: 9487.2; ETA: 0.1 minutes\n",
      "Step 172000 of 200000; TPS: 9485.54; ETA: 0.0 minutes\n",
      "Step 173000 of 200000; TPS: 9485.41; ETA: 0.0 minutes\n",
      "Step 174000 of 200000; TPS: 9484.73; ETA: 0.0 minutes\n",
      "Step 175000 of 200000; TPS: 9484.27; ETA: 0.0 minutes\n",
      "Step 176000 of 200000; TPS: 9484.08; ETA: 0.0 minutes\n",
      "Step 177000 of 200000; TPS: 9484.13; ETA: 0.0 minutes\n",
      "Step 178000 of 200000; TPS: 9484.63; ETA: 0.0 minutes\n",
      "Step 179000 of 200000; TPS: 9484.14; ETA: 0.0 minutes\n",
      "Step 180000 of 200000; TPS: 9485.03; ETA: 0.0 minutes\n",
      "Step 181000 of 200000; TPS: 9484.37; ETA: 0.0 minutes\n",
      "Step 182000 of 200000; TPS: 9485.91; ETA: 0.0 minutes\n",
      "Step 183000 of 200000; TPS: 9485.91; ETA: 0.0 minutes\n",
      "Step 184000 of 200000; TPS: 9483.48; ETA: 0.0 minutes\n",
      "Step 185000 of 200000; TPS: 9483.85; ETA: 0.0 minutes\n",
      "Step 186000 of 200000; TPS: 9484.17; ETA: 0.0 minutes\n",
      "Step 187000 of 200000; TPS: 9484.86; ETA: 0.0 minutes\n",
      "Step 188000 of 200000; TPS: 9484.26; ETA: 0.0 minutes\n",
      "Step 189000 of 200000; TPS: 9482.94; ETA: 0.0 minutes\n",
      "Step 190000 of 200000; TPS: 9483.9; ETA: 0.0 minutes\n",
      "Step 191000 of 200000; TPS: 9482.88; ETA: 0.0 minutes\n",
      "Step 192000 of 200000; TPS: 9485.02; ETA: 0.0 minutes\n",
      "Step 193000 of 200000; TPS: 9486.07; ETA: 0.0 minutes\n",
      "Step 194000 of 200000; TPS: 9486.29; ETA: 0.0 minutes\n",
      "Step 195000 of 200000; TPS: 9484.06; ETA: 0.0 minutes\n",
      "Step 196000 of 200000; TPS: 9485.71; ETA: 0.0 minutes\n",
      "Step 197000 of 200000; TPS: 9485.7; ETA: 0.0 minutes\n",
      "Step 198000 of 200000; TPS: 9485.53; ETA: 0.0 minutes\n",
      "Step 199000 of 200000; TPS: 9487.03; ETA: 0.0 minutes\n"
     ]
    }
   ],
   "source": [
    "sim.run_NVT(n_steps=2e5,kT=1.0, tau_kt = 0.1) #short for initial testing\n",
    "sim.flush_writers()"
   ]
  },
  {
   "cell_type": "code",
   "execution_count": 893,
   "id": "15ca407e-de17-4e59-99e2-86b5e36054e4",
   "metadata": {},
   "outputs": [
    {
     "data": {
      "image/png": "[encoded data removed]",
      "text/plain": [
       "<fresnel.util.ImageArray at 0x7f49106cf230>"
      ]
     },
     "execution_count": 893,
     "metadata": {},
     "output_type": "execute_result"
    }
   ],
   "source": [
    "sim_visualizer = FresnelGSD(gsd_file=\"single_sheet.gsd\", frame=1, view_axis=(1, 1, 1))\n",
    "sim_visualizer.view()"
   ]
  },
  {
   "cell_type": "code",
   "execution_count": null,
   "id": "2cb0cabb-abce-4643-ae88-ed68edcdab43",
   "metadata": {},
   "outputs": [],
   "source": []
  }
 ],
 "metadata": {
  "kernelspec": {
   "display_name": "Python 3 (ipykernel)",
   "language": "python",
   "name": "python3"
  },
  "language_info": {
   "codemirror_mode": {
    "name": "ipython",
    "version": 3
   },
   "file_extension": ".py",
   "mimetype": "text/x-python",
   "name": "python",
   "nbconvert_exporter": "python",
   "pygments_lexer": "ipython3",
   "version": "3.12.0"
  }
 },
 "nbformat": 4,
 "nbformat_minor": 5
}
