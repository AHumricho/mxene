{
 "cells": [
  {
   "cell_type": "code",
   "execution_count": 265,
   "id": "697ba6eb-2f90-43b4-ad57-cbd03ef3a0de",
   "metadata": {},
   "outputs": [],
   "source": [
    "from flowermd.base import Molecule\n",
    "from flowermd.base import Pack\n",
    "#from flowermd.library import Graphene\n",
    "import math\n",
    "import numpy as np\n",
    "from flowermd.library import KremerGrestBeadSpring, LJChain\n",
    "from cmeutils.visualize import FresnelGSD"
   ]
  },
  {
   "cell_type": "code",
   "execution_count": 266,
   "id": "b017715f-ba44-4edd-9a69-5524081e1fa9",
   "metadata": {},
   "outputs": [],
   "source": [
    "import mbuild as mb\n",
    "from mbuild.compound import Compound\n",
    "from mbuild.lattice import Lattice\n",
    "\n",
    "from flowermd.base import Molecule, System\n",
    "\n",
    "\n",
    "class Graphene(System):\n",
    "    def __init__(\n",
    "        self,\n",
    "        x_repeat,\n",
    "        y_repeat,\n",
    "        n_layers,\n",
    "        base_units=dict(),\n",
    "        periodicity=(True, True, False),\n",
    "    ):\n",
    "        surface = mb.Compound(periodicity=periodicity)\n",
    "        scale = 1.0 # CHANGE THIS TO SCALE!!\n",
    "        spacings = [s * scale for s in [0.425, 0.246, 0.35]]\n",
    "        points = [\n",
    "            [1 / 6, 0, 0],\n",
    "            [1 / 2, 0, 0],\n",
    "            [0, 1 / 2, 0],\n",
    "            [2 / 3, 1 / 2, 0],\n",
    "        ]\n",
    "        lattice = Lattice(\n",
    "            lattice_spacing=spacings,\n",
    "            angles=[90, 90, 90],\n",
    "            lattice_points={\"A\": points},\n",
    "        )\n",
    "        carbon = Compound(name=\"C\", element=\"C\")\n",
    "        layers = lattice.populate(\n",
    "            compound_dict={\"A\": carbon}, x=x_repeat, y=y_repeat, z=n_layers\n",
    "        )\n",
    "        surface.add(layers)\n",
    "        surface.freud_generate_bonds(\"C\", \"C\", dmin=0.14*scale, dmax=0.145*scale)\n",
    "        surface_mol = Molecule(num_mols=1, compound=surface)\n",
    "        super(Graphene, self).__init__(\n",
    "            molecules=[surface_mol],\n",
    "            base_units=base_units,\n",
    "        )\n",
    "\n",
    "    def _build_system(self):\n",
    "        return self.all_molecules[0]"
   ]
  },
  {
   "cell_type": "code",
   "execution_count": 267,
   "id": "80940c3b-360f-49b6-bf36-0d2fdf00aa67",
   "metadata": {},
   "outputs": [],
   "source": [
    "sheet = Graphene(x_repeat=3, y_repeat=3, n_layers=1, periodicity=(False, False, False))"
   ]
  },
  {
   "cell_type": "code",
   "execution_count": 268,
   "id": "aa297a4b-5dd6-4998-af55-1308a581cf9a",
   "metadata": {},
   "outputs": [
    {
     "name": "stderr",
     "output_type": "stream",
     "text": [
      "/home/eridanirojas/miniconda3/envs/flowermd/lib/python3.12/site-packages/mbuild/compound.py:547: UserWarning: Some particle of <Compound 36 particles, 45 bonds, System box: Box: Lx=1.275000, Ly=0.738000, Lz=0.350000, xy=0.000000, xz=0.000000, yz=0.000000, , id: 140272766451440> does not have a charge.They will not be accounted for during this calculation.\n",
      "  warn(\n",
      "/home/eridanirojas/miniconda3/envs/flowermd/lib/python3.12/site-packages/gmso/external/convert_hoomd.py:459: UserWarning: 74 angles detected\n",
      "  warnings.warn(f\"{top.n_angles} angles detected\")\n",
      "/home/eridanirojas/miniconda3/envs/flowermd/lib/python3.12/site-packages/gmso/external/convert_hoomd.py:505: UserWarning: 123 dihedrals detected\n",
      "  warnings.warn(f\"{top.n_dihedrals} dihedrals detected\")\n",
      "/home/eridanirojas/miniconda3/envs/flowermd/lib/python3.12/site-packages/gmso/external/convert_hoomd.py:551: UserWarning: 20 impropers detected\n",
      "  warnings.warn(f\"{top.n_impropers} impropers detected\")\n"
     ]
    }
   ],
   "source": [
    "system = Pack(molecules= Molecule(compound=sheet.all_molecules[0], num_mols=1), density = 0.2)\n",
    "system.hoomd_snapshot.configuration.box = [8, 8, 8, 0, 0, 0]"
   ]
  },
  {
   "cell_type": "code",
   "execution_count": 272,
   "id": "6b27f7dc-2ba1-4078-b0de-3dc8cbae4d3b",
   "metadata": {
    "scrolled": true
   },
   "outputs": [
    {
     "name": "stderr",
     "output_type": "stream",
     "text": [
      "/home/eridanirojas/miniconda3/envs/flowermd/lib/python3.12/site-packages/mbuild/compound.py:547: UserWarning: Some particle of <Compound 36 particles, 45 bonds, System box: Box: Lx=7.656029, Ly=7.656029, Lz=7.656029, xy=0.000000, xz=0.000000, yz=0.000000, , id: 140266935118128> does not have a charge.They will not be accounted for during this calculation.\n",
      "  warn(\n"
     ]
    },
    {
     "data": {
      "application/3dmoljs_load.v0": "<div id=\"3dmolviewer_17465007029301822\"  style=\"position: relative; width: 640px; height: 480px;\">\n        <p id=\"3dmolwarning_17465007029301822\" style=\"background-color:#ffcccc;color:black\">3Dmol.js failed to load for some reason.  Please check your browser console for error messages.<br></p>\n        </div>\n<script>\n\nvar loadScriptAsync = function(uri){\n  return new Promise((resolve, reject) => {\n    //this is to ignore the existence of requirejs amd\n    var savedexports, savedmodule;\n    if (typeof exports !== 'undefined') savedexports = exports;\n    else exports = {}\n    if (typeof module !== 'undefined') savedmodule = module;\n    else module = {}\n\n    var tag = document.createElement('script');\n    tag.src = uri;\n    tag.async = true;\n    tag.onload = () => {\n        exports = savedexports;\n        module = savedmodule;\n        resolve();\n    };\n  var firstScriptTag = document.getElementsByTagName('script')[0];\n  firstScriptTag.parentNode.insertBefore(tag, firstScriptTag);\n});\n};\n\nif(typeof $3Dmolpromise === 'undefined') {\n$3Dmolpromise = null;\n  $3Dmolpromise = loadScriptAsync('https://cdnjs.cloudflare.com/ajax/libs/3Dmol/2.4.2/3Dmol-min.js');\n}\n\nvar viewer_17465007029301822 = null;\nvar warn = document.getElementById(\"3dmolwarning_17465007029301822\");\nif(warn) {\n    warn.parentNode.removeChild(warn);\n}\n$3Dmolpromise.then(function() {\nviewer_17465007029301822 = $3Dmol.createViewer(document.getElementById(\"3dmolviewer_17465007029301822\"),{backgroundColor:\"white\"});\nviewer_17465007029301822.zoomTo();\n\tviewer_17465007029301822.addModel(\"@<TRIPOS>MOLECULE\\nRES\\n36 45 1 0 1\\nSMALL\\nNO_CHARGES\\n@<TRIPOS>CRYSIN\\n   76.5603    76.5603    76.5603    90.0000    90.0000    90.0000 1 1\\n@<TRIPOS>ATOM\\n       1 C            1.9170    23.2415    53.4067 C             1 RES     \\n       2 C            4.2517    22.9626    54.1298 C             1 RES     \\n       3 C            6.5865    22.6837    54.8529 C             1 RES     \\n       4 C            1.9762    27.2671    54.7683 C             1 RES     \\n       5 C            4.3109    26.9882    55.4914 C             1 RES     \\n       6 C            6.6457    26.7093    56.2145 C             1 RES     \\n       7 C            2.0354    31.2926    56.1298 C             1 RES     \\n       8 C            4.3701    31.0137    56.8529 C             1 RES     \\n       9 C            6.7048    30.7348    57.5760 C             1 RES     \\n      10 C            1.9368    24.5837    53.8607 C             1 RES     \\n      11 C            4.2715    24.3048    54.5838 C             1 RES     \\n      12 C            6.6062    24.0259    55.3069 C             1 RES     \\n      13 C            1.9959    28.6092    55.2222 C             1 RES     \\n      14 C            4.3307    28.3303    55.9453 C             1 RES     \\n      15 C            6.6654    28.0514    56.6684 C             1 RES     \\n      16 C            2.0551    32.6348    56.5838 C             1 RES     \\n      17 C            4.3898    32.3559    57.3069 C             1 RES     \\n      18 C            6.7246    32.0770    58.0300 C             1 RES     \\n      19 C            3.0745    22.4314    53.5414 C             1 RES     \\n      20 C            5.4093    22.1525    54.2645 C             1 RES     \\n      21 C            7.7440    21.8736    54.9876 C             1 RES     \\n      22 C            3.1337    26.4570    54.9030 C             1 RES     \\n      23 C            5.4684    26.1781    55.6261 C             1 RES     \\n      24 C            7.8032    25.8992    56.3492 C             1 RES     \\n      25 C            3.1929    30.4826    56.2646 C             1 RES     \\n      26 C            5.5276    30.2037    56.9877 C             1 RES     \\n      27 C            7.8623    29.9248    57.7108 C             1 RES     \\n      28 C            3.1140    25.1148    54.4490 C             1 RES     \\n      29 C            5.4487    24.8359    55.1721 C             1 RES     \\n      30 C            7.7834    24.5570    55.8952 C             1 RES     \\n      31 C            3.1732    29.1404    55.8106 C             1 RES     \\n      32 C            5.5079    28.8615    56.5337 C             1 RES     \\n      33 C            7.8426    28.5826    57.2568 C             1 RES     \\n      34 C            3.2323    33.1659    57.1722 C             1 RES     \\n      35 C            5.5671    32.8870    57.8953 C             1 RES     \\n      36 C            7.9018    32.6081    58.6184 C             1 RES     \\n@<TRIPOS>BOND\\n       1        1       10 1\\n       2        1       19 1\\n       3        2       11 1\\n       4        2       19 1\\n       5        2       20 1\\n       6        3       12 1\\n       7        3       20 1\\n       8        3       21 1\\n       9        4       13 1\\n      10        4       22 1\\n      11        5       14 1\\n      12        5       22 1\\n      13        5       23 1\\n      14        6       15 1\\n      15        6       23 1\\n      16        6       24 1\\n      17        7       16 1\\n      18        7       25 1\\n      19        8       17 1\\n      20        8       25 1\\n      21        8       26 1\\n      22        9       18 1\\n      23        9       26 1\\n      24        9       27 1\\n      25       10       28 1\\n      26       11       28 1\\n      27       11       29 1\\n      28       12       29 1\\n      29       12       30 1\\n      30       13       31 1\\n      31       14       31 1\\n      32       14       32 1\\n      33       15       32 1\\n      34       15       33 1\\n      35       16       34 1\\n      36       17       34 1\\n      37       17       35 1\\n      38       18       35 1\\n      39       18       36 1\\n      40       22       28 1\\n      41       23       29 1\\n      42       24       30 1\\n      43       25       31 1\\n      44       26       32 1\\n      45       27       33 1\\n@<TRIPOS>SUBSTRUCTURE\\n       1 RES             1 RESIDUE    0 **** ROOT      0\\n\",\"mol2\");\n\tviewer_17465007029301822.setStyle({\"stick\": {\"radius\": 0.18, \"color\": \"grey\"}, \"sphere\": {\"scale\": 0.3, \"colorscheme\": {}}});\n\tviewer_17465007029301822.zoomTo();\nviewer_17465007029301822.render();\n});\n</script>",
      "text/html": [
       "<div id=\"3dmolviewer_17465007029301822\"  style=\"position: relative; width: 640px; height: 480px;\">\n",
       "        <p id=\"3dmolwarning_17465007029301822\" style=\"background-color:#ffcccc;color:black\">3Dmol.js failed to load for some reason.  Please check your browser console for error messages.<br></p>\n",
       "        </div>\n",
       "<script>\n",
       "\n",
       "var loadScriptAsync = function(uri){\n",
       "  return new Promise((resolve, reject) => {\n",
       "    //this is to ignore the existence of requirejs amd\n",
       "    var savedexports, savedmodule;\n",
       "    if (typeof exports !== 'undefined') savedexports = exports;\n",
       "    else exports = {}\n",
       "    if (typeof module !== 'undefined') savedmodule = module;\n",
       "    else module = {}\n",
       "\n",
       "    var tag = document.createElement('script');\n",
       "    tag.src = uri;\n",
       "    tag.async = true;\n",
       "    tag.onload = () => {\n",
       "        exports = savedexports;\n",
       "        module = savedmodule;\n",
       "        resolve();\n",
       "    };\n",
       "  var firstScriptTag = document.getElementsByTagName('script')[0];\n",
       "  firstScriptTag.parentNode.insertBefore(tag, firstScriptTag);\n",
       "});\n",
       "};\n",
       "\n",
       "if(typeof $3Dmolpromise === 'undefined') {\n",
       "$3Dmolpromise = null;\n",
       "  $3Dmolpromise = loadScriptAsync('https://cdnjs.cloudflare.com/ajax/libs/3Dmol/2.4.2/3Dmol-min.js');\n",
       "}\n",
       "\n",
       "var viewer_17465007029301822 = null;\n",
       "var warn = document.getElementById(\"3dmolwarning_17465007029301822\");\n",
       "if(warn) {\n",
       "    warn.parentNode.removeChild(warn);\n",
       "}\n",
       "$3Dmolpromise.then(function() {\n",
       "viewer_17465007029301822 = $3Dmol.createViewer(document.getElementById(\"3dmolviewer_17465007029301822\"),{backgroundColor:\"white\"});\n",
       "viewer_17465007029301822.zoomTo();\n",
       "\tviewer_17465007029301822.addModel(\"@<TRIPOS>MOLECULE\\nRES\\n36 45 1 0 1\\nSMALL\\nNO_CHARGES\\n@<TRIPOS>CRYSIN\\n   76.5603    76.5603    76.5603    90.0000    90.0000    90.0000 1 1\\n@<TRIPOS>ATOM\\n       1 C            1.9170    23.2415    53.4067 C             1 RES     \\n       2 C            4.2517    22.9626    54.1298 C             1 RES     \\n       3 C            6.5865    22.6837    54.8529 C             1 RES     \\n       4 C            1.9762    27.2671    54.7683 C             1 RES     \\n       5 C            4.3109    26.9882    55.4914 C             1 RES     \\n       6 C            6.6457    26.7093    56.2145 C             1 RES     \\n       7 C            2.0354    31.2926    56.1298 C             1 RES     \\n       8 C            4.3701    31.0137    56.8529 C             1 RES     \\n       9 C            6.7048    30.7348    57.5760 C             1 RES     \\n      10 C            1.9368    24.5837    53.8607 C             1 RES     \\n      11 C            4.2715    24.3048    54.5838 C             1 RES     \\n      12 C            6.6062    24.0259    55.3069 C             1 RES     \\n      13 C            1.9959    28.6092    55.2222 C             1 RES     \\n      14 C            4.3307    28.3303    55.9453 C             1 RES     \\n      15 C            6.6654    28.0514    56.6684 C             1 RES     \\n      16 C            2.0551    32.6348    56.5838 C             1 RES     \\n      17 C            4.3898    32.3559    57.3069 C             1 RES     \\n      18 C            6.7246    32.0770    58.0300 C             1 RES     \\n      19 C            3.0745    22.4314    53.5414 C             1 RES     \\n      20 C            5.4093    22.1525    54.2645 C             1 RES     \\n      21 C            7.7440    21.8736    54.9876 C             1 RES     \\n      22 C            3.1337    26.4570    54.9030 C             1 RES     \\n      23 C            5.4684    26.1781    55.6261 C             1 RES     \\n      24 C            7.8032    25.8992    56.3492 C             1 RES     \\n      25 C            3.1929    30.4826    56.2646 C             1 RES     \\n      26 C            5.5276    30.2037    56.9877 C             1 RES     \\n      27 C            7.8623    29.9248    57.7108 C             1 RES     \\n      28 C            3.1140    25.1148    54.4490 C             1 RES     \\n      29 C            5.4487    24.8359    55.1721 C             1 RES     \\n      30 C            7.7834    24.5570    55.8952 C             1 RES     \\n      31 C            3.1732    29.1404    55.8106 C             1 RES     \\n      32 C            5.5079    28.8615    56.5337 C             1 RES     \\n      33 C            7.8426    28.5826    57.2568 C             1 RES     \\n      34 C            3.2323    33.1659    57.1722 C             1 RES     \\n      35 C            5.5671    32.8870    57.8953 C             1 RES     \\n      36 C            7.9018    32.6081    58.6184 C             1 RES     \\n@<TRIPOS>BOND\\n       1        1       10 1\\n       2        1       19 1\\n       3        2       11 1\\n       4        2       19 1\\n       5        2       20 1\\n       6        3       12 1\\n       7        3       20 1\\n       8        3       21 1\\n       9        4       13 1\\n      10        4       22 1\\n      11        5       14 1\\n      12        5       22 1\\n      13        5       23 1\\n      14        6       15 1\\n      15        6       23 1\\n      16        6       24 1\\n      17        7       16 1\\n      18        7       25 1\\n      19        8       17 1\\n      20        8       25 1\\n      21        8       26 1\\n      22        9       18 1\\n      23        9       26 1\\n      24        9       27 1\\n      25       10       28 1\\n      26       11       28 1\\n      27       11       29 1\\n      28       12       29 1\\n      29       12       30 1\\n      30       13       31 1\\n      31       14       31 1\\n      32       14       32 1\\n      33       15       32 1\\n      34       15       33 1\\n      35       16       34 1\\n      36       17       34 1\\n      37       17       35 1\\n      38       18       35 1\\n      39       18       36 1\\n      40       22       28 1\\n      41       23       29 1\\n      42       24       30 1\\n      43       25       31 1\\n      44       26       32 1\\n      45       27       33 1\\n@<TRIPOS>SUBSTRUCTURE\\n       1 RES             1 RESIDUE    0 **** ROOT      0\\n\",\"mol2\");\n",
       "\tviewer_17465007029301822.setStyle({\"stick\": {\"radius\": 0.18, \"color\": \"grey\"}, \"sphere\": {\"scale\": 0.3, \"colorscheme\": {}}});\n",
       "\tviewer_17465007029301822.zoomTo();\n",
       "viewer_17465007029301822.render();\n",
       "});\n",
       "</script>"
      ]
     },
     "metadata": {},
     "output_type": "display_data"
    }
   ],
   "source": [
    "system.visualize()"
   ]
  },
  {
   "cell_type": "code",
   "execution_count": 273,
   "id": "d3168d33-3e20-43d4-9d4c-8ddc8cc3568a",
   "metadata": {},
   "outputs": [
    {
     "name": "stdout",
     "output_type": "stream",
     "text": [
      "Distance between particle 0 and 1: 0.24600 dimensionless nm\n"
     ]
    }
   ],
   "source": [
    "positions = system.hoomd_snapshot.particles.position\n",
    "\n",
    "# Example: distance between particle 0 and 1\n",
    "d = np.linalg.norm(positions[1] - positions[2])\n",
    "print(f\"Distance between particle 0 and 1: {d:.5f} nm\")"
   ]
  },
  {
   "cell_type": "code",
   "execution_count": 274,
   "id": "8bfd47cc-779f-4227-b5ce-237c269b264b",
   "metadata": {},
   "outputs": [
    {
     "name": "stdout",
     "output_type": "stream",
     "text": [
      "[-3.6363125 -1.5038653  1.5126562] dimensionless\n",
      "[-3.4028398 -1.5317549  1.5849657] dimensionless\n",
      "[-3.1693671 -1.5596445  1.6572752] dimensionless\n",
      "[-3.6303945 -1.1013094  1.6488131] dimensionless\n"
     ]
    }
   ],
   "source": [
    "print(system.hoomd_snapshot.particles.position[0])\n",
    "print(system.hoomd_snapshot.particles.position[1])\n",
    "print(system.hoomd_snapshot.particles.position[2])\n",
    "print(system.hoomd_snapshot.particles.position[3])"
   ]
  },
  {
   "cell_type": "code",
   "execution_count": 275,
   "id": "2bad0aab-9a88-4ab9-bf5e-1e07a498f737",
   "metadata": {},
   "outputs": [
    {
     "data": {
      "text/plain": [
       "0.24599999029207287"
      ]
     },
     "execution_count": 275,
     "metadata": {},
     "output_type": "execute_result"
    }
   ],
   "source": [
    "np.linalg.norm(np.array(system.hoomd_snapshot.particles.position[0]) - np.array(system.hoomd_snapshot.particles.position[1]))"
   ]
  },
  {
   "cell_type": "code",
   "execution_count": 276,
   "id": "4b588b6e-2777-40e6-a64a-866d539bef31",
   "metadata": {},
   "outputs": [
    {
     "data": {
      "text/plain": [
       "0.24599999029207312"
      ]
     },
     "execution_count": 276,
     "metadata": {},
     "output_type": "execute_result"
    }
   ],
   "source": [
    "np.linalg.norm(np.array(system.hoomd_snapshot.particles.position[2]) - np.array(system.hoomd_snapshot.particles.position[1]))"
   ]
  },
  {
   "cell_type": "code",
   "execution_count": 277,
   "id": "0d7cdd91-28ec-417a-85c7-048e2a619c3d",
   "metadata": {},
   "outputs": [
    {
     "data": {
      "text/plain": [
       "0.6501453180475729"
      ]
     },
     "execution_count": 277,
     "metadata": {},
     "output_type": "execute_result"
    }
   ],
   "source": [
    "np.linalg.norm(np.array(system.hoomd_snapshot.particles.position[3]) - np.array(system.hoomd_snapshot.particles.position[2]))"
   ]
  },
  {
   "cell_type": "code",
   "execution_count": 278,
   "id": "e242105f-08e5-4e3a-bcf7-56191447817b",
   "metadata": {},
   "outputs": [
    {
     "data": {
      "text/plain": [
       "0.4249999726663753"
      ]
     },
     "execution_count": 278,
     "metadata": {},
     "output_type": "execute_result"
    }
   ],
   "source": [
    "np.linalg.norm(np.array(system.hoomd_snapshot.particles.position[3]) - np.array(system.hoomd_snapshot.particles.position[0]))"
   ]
  },
  {
   "cell_type": "code",
   "execution_count": 279,
   "id": "ce99f011-e6d0-4c2a-8b01-94291834b4aa",
   "metadata": {},
   "outputs": [
    {
     "data": {
      "text/plain": [
       "<Compound 36 particles, 45 bonds, System box: Box: Lx=1.275000, Ly=0.738000, Lz=0.350000, xy=0.000000, xz=0.000000, yz=0.000000, , id: 140270101854976>"
      ]
     },
     "execution_count": 279,
     "metadata": {},
     "output_type": "execute_result"
    }
   ],
   "source": [
    "sheet.all_molecules[0]"
   ]
  },
  {
   "cell_type": "code",
   "execution_count": 280,
   "id": "e9326458-8125-46a2-883f-89c1e20d5278",
   "metadata": {},
   "outputs": [
    {
     "data": {
      "text/plain": [
       "1"
      ]
     },
     "execution_count": 280,
     "metadata": {},
     "output_type": "execute_result"
    }
   ],
   "source": [
    "\n",
    "system.n_molecules"
   ]
  },
  {
   "cell_type": "code",
   "execution_count": 281,
   "id": "088d66f1-6a79-4da6-aa01-14d0c53d8f44",
   "metadata": {},
   "outputs": [
    {
     "data": {
      "text/plain": [
       "36"
      ]
     },
     "execution_count": 281,
     "metadata": {},
     "output_type": "execute_result"
    }
   ],
   "source": [
    "system.n_particles"
   ]
  },
  {
   "cell_type": "code",
   "execution_count": 282,
   "id": "211408e5-88c2-47df-a8df-8615f0e0aa55",
   "metadata": {},
   "outputs": [
    {
     "name": "stdout",
     "output_type": "stream",
     "text": [
      "['C']\n",
      "['C-C']\n",
      "['C-C-C']\n",
      "['C-C-C-C']\n"
     ]
    }
   ],
   "source": [
    "snap = system.hoomd_snapshot\n",
    "print(snap.particles.types)\n",
    "print(snap.bonds.types)\n",
    "print(snap.angles.types)\n",
    "print(snap.dihedrals.types)"
   ]
  },
  {
   "cell_type": "code",
   "execution_count": 283,
   "id": "4adf8ce1-d6b7-458c-a0cc-247ccd3b41ff",
   "metadata": {},
   "outputs": [],
   "source": [
    "from flowermd.library.forcefields import BeadSpring"
   ]
  },
  {
   "cell_type": "code",
   "execution_count": 284,
   "id": "05cd20c5-c8bb-443a-859b-9ed6eac6129b",
   "metadata": {},
   "outputs": [],
   "source": [
    "ff = BeadSpring(\n",
    "    r_cut=1.0,\n",
    "    beads={\"C\": dict(epsilon=0.1, sigma=0.3)},\n",
    "    bonds={\"C-C\": dict(r0=0.24599999029207312, k=10000)},\n",
    "    angles={\"C-C-C\": dict(t0=2*np.pi/3, k=10000)},\n",
    "    dihedrals={\"C-C-C-C\": dict(phi0=0.1, k=10000, d=-1, n=1)}\n",
    ")"
   ]
  },
  {
   "cell_type": "code",
   "execution_count": 285,
   "id": "d928a856-7c95-4daf-b8e8-f1b2f410a997",
   "metadata": {},
   "outputs": [
    {
     "name": "stdout",
     "output_type": "stream",
     "text": [
      "1\n",
      "123\n"
     ]
    }
   ],
   "source": [
    "print(len(system.hoomd_snapshot.dihedrals.types))\n",
    "print(len(system.hoomd_snapshot.dihedrals.group))"
   ]
  },
  {
   "cell_type": "code",
   "execution_count": 286,
   "id": "b90f3501-c9c1-4e67-ae9c-fe51a0d734cb",
   "metadata": {},
   "outputs": [],
   "source": [
    "from flowermd.base import Pack, Simulation\n",
    "import hoomd\n",
    "import gsd.hoomd"
   ]
  },
  {
   "cell_type": "code",
   "execution_count": 287,
   "id": "23fc1f43-3e88-4d92-bd17-fcb285069aa8",
   "metadata": {},
   "outputs": [],
   "source": [
    "del sim"
   ]
  },
  {
   "cell_type": "code",
   "execution_count": 288,
   "id": "8ddb54a1-29eb-4b49-b129-81c826c4954f",
   "metadata": {},
   "outputs": [],
   "source": [
    "cpu = hoomd.device.CPU()"
   ]
  },
  {
   "cell_type": "code",
   "execution_count": 289,
   "id": "165b0b63-3a14-4dd6-852f-b3bffeca1a03",
   "metadata": {},
   "outputs": [
    {
     "name": "stdout",
     "output_type": "stream",
     "text": [
      "Initializing simulation state from a gsd.hoomd.Frame.\n"
     ]
    }
   ],
   "source": [
    "sim = Simulation(initial_state=system.hoomd_snapshot, forcefield=ff.hoomd_forces, device = cpu,\n",
    "                 gsd_write_freq=int(1000), gsd_file_name=\"single_sheet.gsd\")"
   ]
  },
  {
   "cell_type": "code",
   "execution_count": 290,
   "id": "9c3971fe-87d6-4e28-9641-a8f36c8cb3d7",
   "metadata": {},
   "outputs": [],
   "source": [
    "from flowermd.utils import get_target_box_number_density\n",
    "import unyt as u"
   ]
  },
  {
   "cell_type": "code",
   "execution_count": 291,
   "id": "89b70fc3-bea5-4ab8-b45f-9dba0245964f",
   "metadata": {},
   "outputs": [
    {
     "name": "stdout",
     "output_type": "stream",
     "text": [
      "Step 1000 of 20000; TPS: 5546.03; ETA: 0.1 minutes\n",
      "Step 2000 of 20000; TPS: 10279.34; ETA: 0.0 minutes\n",
      "Step 3000 of 20000; TPS: 14106.56; ETA: 0.0 minutes\n",
      "Step 4000 of 20000; TPS: 17629.07; ETA: 0.0 minutes\n",
      "Step 5000 of 20000; TPS: 20703.59; ETA: 0.0 minutes\n",
      "Step 6000 of 20000; TPS: 23463.16; ETA: 0.0 minutes\n",
      "Step 7000 of 20000; TPS: 25915.18; ETA: 0.0 minutes\n",
      "Step 8000 of 20000; TPS: 28114.96; ETA: 0.0 minutes\n",
      "Step 9000 of 20000; TPS: 30076.19; ETA: 0.0 minutes\n",
      "Step 10000 of 20000; TPS: 31910.45; ETA: 0.0 minutes\n",
      "Step 11000 of 20000; TPS: 33507.27; ETA: 0.0 minutes\n",
      "Step 12000 of 20000; TPS: 34968.09; ETA: 0.0 minutes\n",
      "Step 13000 of 20000; TPS: 36325.63; ETA: 0.0 minutes\n",
      "Step 14000 of 20000; TPS: 37630.06; ETA: 0.0 minutes\n",
      "Step 15000 of 20000; TPS: 38789.86; ETA: 0.0 minutes\n",
      "Step 16000 of 20000; TPS: 39832.5; ETA: 0.0 minutes\n",
      "Step 17000 of 20000; TPS: 40767.19; ETA: 0.0 minutes\n",
      "Step 18000 of 20000; TPS: 41673.23; ETA: 0.0 minutes\n",
      "Step 19000 of 20000; TPS: 42514.63; ETA: 0.0 minutes\n"
     ]
    }
   ],
   "source": [
    "sim.run_NVT(n_steps=2e4,kT=2, tau_kt = 0.1) #short for initial testing\n",
    "sim.flush_writers()"
   ]
  },
  {
   "cell_type": "code",
   "execution_count": 292,
   "id": "15ca407e-de17-4e59-99e2-86b5e36054e4",
   "metadata": {},
   "outputs": [
    {
     "data": {
      "image/png": "[encoded data removed]",
      "text/plain": [
       "<fresnel.util.ImageArray at 0x7f93ccb4af90>"
      ]
     },
     "execution_count": 292,
     "metadata": {},
     "output_type": "execute_result"
    }
   ],
   "source": [
    "sim_visualizer = FresnelGSD(gsd_file=\"single_sheet.gsd\", frame=1, view_axis=(1, 1, 1))\n",
    "sim_visualizer.view()"
   ]
  },
  {
   "cell_type": "code",
   "execution_count": null,
   "id": "f8043fd3-77a7-4d3f-96e1-2f4bd4fa129e",
   "metadata": {},
   "outputs": [],
   "source": []
  }
 ],
 "metadata": {
  "kernelspec": {
   "display_name": "Python 3 (ipykernel)",
   "language": "python",
   "name": "python3"
  },
  "language_info": {
   "codemirror_mode": {
    "name": "ipython",
    "version": 3
   },
   "file_extension": ".py",
   "mimetype": "text/x-python",
   "name": "python",
   "nbconvert_exporter": "python",
   "pygments_lexer": "ipython3",
   "version": "3.12.0"
  }
 },
 "nbformat": 4,
 "nbformat_minor": 5
}
