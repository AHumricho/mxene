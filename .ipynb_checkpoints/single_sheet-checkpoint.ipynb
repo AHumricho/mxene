{
 "cells": [
  {
   "cell_type": "code",
   "execution_count": 12,
   "id": "697ba6eb-2f90-43b4-ad57-cbd03ef3a0de",
   "metadata": {},
   "outputs": [],
   "source": [
    "from flowermd.base import Molecule\n",
    "from flowermd.base import Pack\n",
    "#from flowermd.library import Graphene\n",
    "import math\n",
    "import numpy as np\n",
    "from flowermd.library import KremerGrestBeadSpring, LJChain\n",
    "from cmeutils.visualize import FresnelGSD"
   ]
  },
  {
   "cell_type": "code",
   "execution_count": 169,
   "id": "5fcd89c6-e770-4ed8-a8f7-29dfe9708487",
   "metadata": {},
   "outputs": [],
   "source": [
    "import mbuild as mb\n",
    "from mbuild.compound import Compound\n",
    "from mbuild.lattice import Lattice\n",
    "\n",
    "from flowermd.base import Molecule, System\n",
    "\n",
    "\n",
    "class Graphene(System):\n",
    "    def __init__(\n",
    "        self,\n",
    "        x_repeat,\n",
    "        y_repeat,\n",
    "        n_layers,\n",
    "        base_units=dict(),\n",
    "        periodicity=(True, True, False),\n",
    "    ):\n",
    "        surface = mb.Compound(periodicity=periodicity)\n",
    "        scale = 1.0 # CHANGE THIS TO SCALE!!\n",
    "        spacings = [s * scale for s in [1.0, 1.0, 1.0]]\n",
    "        points = [[0, 0, 0], [2/3, 1/3, 0]]\n",
    "        lattice = Lattice(\n",
    "            lattice_spacing=spacings,\n",
    "            angles=[90, 90, 120],\n",
    "            lattice_points={\"A\": points},\n",
    "        )\n",
    "        carbon = Compound(name=\"C\", element=\"C\")\n",
    "        layers = lattice.populate(\n",
    "            compound_dict={\"A\": carbon}, x=x_repeat, y=y_repeat, z=n_layers\n",
    "        )\n",
    "        surface.add(layers)\n",
    "        surface.freud_generate_bonds(\"C\", \"C\", dmin=0.3*scale, dmax=0.6*scale)\n",
    "        surface_mol = Molecule(num_mols=1, compound=surface)\n",
    "        super(Graphene, self).__init__(\n",
    "            molecules=[surface_mol],\n",
    "            base_units=base_units,\n",
    "        )\n",
    "\n",
    "    def _build_system(self):\n",
    "        return self.all_molecules[0]"
   ]
  },
  {
   "cell_type": "code",
   "execution_count": 170,
   "id": "80940c3b-360f-49b6-bf36-0d2fdf00aa67",
   "metadata": {},
   "outputs": [],
   "source": [
    "sheet = Graphene(x_repeat=2, y_repeat=2, n_layers=1, periodicity=(False, False, False))"
   ]
  },
  {
   "cell_type": "code",
   "execution_count": 171,
   "id": "aa297a4b-5dd6-4998-af55-1308a581cf9a",
   "metadata": {},
   "outputs": [
    {
     "name": "stderr",
     "output_type": "stream",
     "text": [
      "/home/eridanirojas/miniconda3/envs/flowermd/lib/python3.12/site-packages/mbuild/compound.py:547: UserWarning: Some particle of <Compound 8 particles, 7 bonds, System box: Box: Lx=2.000000, Ly=2.000000, Lz=1.000000, xy=-0.577350, xz=0.000000, yz=-0.577350, , id: 139954401404320> does not have a charge.They will not be accounted for during this calculation.\n",
      "  warn(\n"
     ]
    }
   ],
   "source": [
    "system = Pack(molecules= Molecule(compound=sheet.all_molecules[0], num_mols=1), density = 0.2)\n",
    "system.hoomd_snapshot.configuration.box = [8, 8, 8, 0, 0, 0]"
   ]
  },
  {
   "cell_type": "code",
   "execution_count": 172,
   "id": "6b27f7dc-2ba1-4078-b0de-3dc8cbae4d3b",
   "metadata": {
    "scrolled": true
   },
   "outputs": [
    {
     "name": "stderr",
     "output_type": "stream",
     "text": [
      "/home/eridanirojas/miniconda3/envs/flowermd/lib/python3.12/site-packages/mbuild/compound.py:547: UserWarning: Some particle of <Compound 8 particles, 7 bonds, System box: Box: Lx=4.637309, Ly=4.637309, Lz=4.637309, xy=0.000000, xz=0.000000, yz=0.000000, , id: 139954401403168> does not have a charge.They will not be accounted for during this calculation.\n",
      "  warn(\n"
     ]
    },
    {
     "data": {
      "application/3dmoljs_load.v0": "<div id=\"3dmolviewer_17465836300233228\"  style=\"position: relative; width: 640px; height: 480px;\">\n        <p id=\"3dmolwarning_17465836300233228\" style=\"background-color:#ffcccc;color:black\">3Dmol.js failed to load for some reason.  Please check your browser console for error messages.<br></p>\n        </div>\n<script>\n\nvar loadScriptAsync = function(uri){\n  return new Promise((resolve, reject) => {\n    //this is to ignore the existence of requirejs amd\n    var savedexports, savedmodule;\n    if (typeof exports !== 'undefined') savedexports = exports;\n    else exports = {}\n    if (typeof module !== 'undefined') savedmodule = module;\n    else module = {}\n\n    var tag = document.createElement('script');\n    tag.src = uri;\n    tag.async = true;\n    tag.onload = () => {\n        exports = savedexports;\n        module = savedmodule;\n        resolve();\n    };\n  var firstScriptTag = document.getElementsByTagName('script')[0];\n  firstScriptTag.parentNode.insertBefore(tag, firstScriptTag);\n});\n};\n\nif(typeof $3Dmolpromise === 'undefined') {\n$3Dmolpromise = null;\n  $3Dmolpromise = loadScriptAsync('https://cdnjs.cloudflare.com/ajax/libs/3Dmol/2.4.2/3Dmol-min.js');\n}\n\nvar viewer_17465836300233228 = null;\nvar warn = document.getElementById(\"3dmolwarning_17465836300233228\");\nif(warn) {\n    warn.parentNode.removeChild(warn);\n}\n$3Dmolpromise.then(function() {\nviewer_17465836300233228 = $3Dmol.createViewer(document.getElementById(\"3dmolviewer_17465836300233228\"),{backgroundColor:\"white\"});\nviewer_17465836300233228.zoomTo();\n\tviewer_17465836300233228.addModel(\"@<TRIPOS>MOLECULE\\nRES\\n8 7 1 0 1\\nSMALL\\nNO_CHARGES\\n@<TRIPOS>CRYSIN\\n   46.3731    46.3731    46.3731    90.0000    90.0000    90.0000 1 1\\n@<TRIPOS>ATOM\\n       1 C            4.1846    25.0150    18.6738 C             1 RES     \\n       2 C           10.6482    17.9378    21.5252 C             1 RES     \\n       3 C            1.9951    32.5687    24.8502 C             1 RES     \\n       4 C            8.4586    25.4915    27.7016 C             1 RES     \\n       5 C            4.8797    27.6916    23.7421 C             1 RES     \\n       6 C           11.3432    20.6144    26.5935 C             1 RES     \\n       7 C            2.6901    35.2453    29.9185 C             1 RES     \\n       8 C            9.1537    28.1680    32.7699 C             1 RES     \\n@<TRIPOS>BOND\\n       1        1        5 1\\n       2        2        6 1\\n       3        3        5 1\\n       4        3        7 1\\n       5        4        5 1\\n       6        4        6 1\\n       7        4        8 1\\n@<TRIPOS>SUBSTRUCTURE\\n       1 RES             1 RESIDUE    0 **** ROOT      0\\n\",\"mol2\");\n\tviewer_17465836300233228.setStyle({\"stick\": {\"radius\": 0.18, \"color\": \"grey\"}, \"sphere\": {\"scale\": 0.3, \"colorscheme\": {}}});\n\tviewer_17465836300233228.zoomTo();\nviewer_17465836300233228.render();\n});\n</script>",
      "text/html": [
       "<div id=\"3dmolviewer_17465836300233228\"  style=\"position: relative; width: 640px; height: 480px;\">\n",
       "        <p id=\"3dmolwarning_17465836300233228\" style=\"background-color:#ffcccc;color:black\">3Dmol.js failed to load for some reason.  Please check your browser console for error messages.<br></p>\n",
       "        </div>\n",
       "<script>\n",
       "\n",
       "var loadScriptAsync = function(uri){\n",
       "  return new Promise((resolve, reject) => {\n",
       "    //this is to ignore the existence of requirejs amd\n",
       "    var savedexports, savedmodule;\n",
       "    if (typeof exports !== 'undefined') savedexports = exports;\n",
       "    else exports = {}\n",
       "    if (typeof module !== 'undefined') savedmodule = module;\n",
       "    else module = {}\n",
       "\n",
       "    var tag = document.createElement('script');\n",
       "    tag.src = uri;\n",
       "    tag.async = true;\n",
       "    tag.onload = () => {\n",
       "        exports = savedexports;\n",
       "        module = savedmodule;\n",
       "        resolve();\n",
       "    };\n",
       "  var firstScriptTag = document.getElementsByTagName('script')[0];\n",
       "  firstScriptTag.parentNode.insertBefore(tag, firstScriptTag);\n",
       "});\n",
       "};\n",
       "\n",
       "if(typeof $3Dmolpromise === 'undefined') {\n",
       "$3Dmolpromise = null;\n",
       "  $3Dmolpromise = loadScriptAsync('https://cdnjs.cloudflare.com/ajax/libs/3Dmol/2.4.2/3Dmol-min.js');\n",
       "}\n",
       "\n",
       "var viewer_17465836300233228 = null;\n",
       "var warn = document.getElementById(\"3dmolwarning_17465836300233228\");\n",
       "if(warn) {\n",
       "    warn.parentNode.removeChild(warn);\n",
       "}\n",
       "$3Dmolpromise.then(function() {\n",
       "viewer_17465836300233228 = $3Dmol.createViewer(document.getElementById(\"3dmolviewer_17465836300233228\"),{backgroundColor:\"white\"});\n",
       "viewer_17465836300233228.zoomTo();\n",
       "\tviewer_17465836300233228.addModel(\"@<TRIPOS>MOLECULE\\nRES\\n8 7 1 0 1\\nSMALL\\nNO_CHARGES\\n@<TRIPOS>CRYSIN\\n   46.3731    46.3731    46.3731    90.0000    90.0000    90.0000 1 1\\n@<TRIPOS>ATOM\\n       1 C            4.1846    25.0150    18.6738 C             1 RES     \\n       2 C           10.6482    17.9378    21.5252 C             1 RES     \\n       3 C            1.9951    32.5687    24.8502 C             1 RES     \\n       4 C            8.4586    25.4915    27.7016 C             1 RES     \\n       5 C            4.8797    27.6916    23.7421 C             1 RES     \\n       6 C           11.3432    20.6144    26.5935 C             1 RES     \\n       7 C            2.6901    35.2453    29.9185 C             1 RES     \\n       8 C            9.1537    28.1680    32.7699 C             1 RES     \\n@<TRIPOS>BOND\\n       1        1        5 1\\n       2        2        6 1\\n       3        3        5 1\\n       4        3        7 1\\n       5        4        5 1\\n       6        4        6 1\\n       7        4        8 1\\n@<TRIPOS>SUBSTRUCTURE\\n       1 RES             1 RESIDUE    0 **** ROOT      0\\n\",\"mol2\");\n",
       "\tviewer_17465836300233228.setStyle({\"stick\": {\"radius\": 0.18, \"color\": \"grey\"}, \"sphere\": {\"scale\": 0.3, \"colorscheme\": {}}});\n",
       "\tviewer_17465836300233228.zoomTo();\n",
       "viewer_17465836300233228.render();\n",
       "});\n",
       "</script>"
      ]
     },
     "metadata": {},
     "output_type": "display_data"
    }
   ],
   "source": [
    "system.visualize()"
   ]
  },
  {
   "cell_type": "code",
   "execution_count": 173,
   "id": "d3168d33-3e20-43d4-9d4c-8ddc8cc3568a",
   "metadata": {},
   "outputs": [
    {
     "name": "stdout",
     "output_type": "stream",
     "text": [
      "Distance between particle 0 and 1: 0.99998 dimensionless nm\n"
     ]
    }
   ],
   "source": [
    "positions = system.hoomd_snapshot.particles.position\n",
    "\n",
    "# Example: distance between particle 0 and 1\n",
    "d = np.linalg.norm(positions[0] - positions[1])\n",
    "print(f\"Distance between particle 0 and 1: {d:.5f} nm\")"
   ]
  },
  {
   "cell_type": "code",
   "execution_count": 174,
   "id": "8bfd47cc-779f-4227-b5ce-237c269b264b",
   "metadata": {},
   "outputs": [
    {
     "name": "stdout",
     "output_type": "stream",
     "text": [
      "[-1.9001921  0.1828495 -0.4512752] dimensionless\n",
      "[-1.2538358 -0.5248754 -0.1661347] dimensionless\n",
      "[-2.119147   0.9382158  0.1663658] dimensionless\n",
      "[-1.4727907  0.230491   0.4515063] dimensionless\n"
     ]
    }
   ],
   "source": [
    "print(system.hoomd_snapshot.particles.position[0])\n",
    "print(system.hoomd_snapshot.particles.position[1])\n",
    "print(system.hoomd_snapshot.particles.position[2])\n",
    "print(system.hoomd_snapshot.particles.position[3])"
   ]
  },
  {
   "cell_type": "code",
   "execution_count": 175,
   "id": "2bad0aab-9a88-4ab9-bf5e-1e07a498f737",
   "metadata": {},
   "outputs": [
    {
     "data": {
      "text/plain": [
       "0.9999780524441273"
      ]
     },
     "execution_count": 175,
     "metadata": {},
     "output_type": "execute_result"
    }
   ],
   "source": [
    "np.linalg.norm(np.array(system.hoomd_snapshot.particles.position[0]) - np.array(system.hoomd_snapshot.particles.position[1]))"
   ]
  },
  {
   "cell_type": "code",
   "execution_count": 176,
   "id": "4b588b6e-2777-40e6-a64a-866d539bef31",
   "metadata": {},
   "outputs": [
    {
     "data": {
      "text/plain": [
       "1.732038081239304"
      ]
     },
     "execution_count": 176,
     "metadata": {},
     "output_type": "execute_result"
    }
   ],
   "source": [
    "np.linalg.norm(np.array(system.hoomd_snapshot.particles.position[2]) - np.array(system.hoomd_snapshot.particles.position[1]))"
   ]
  },
  {
   "cell_type": "code",
   "execution_count": 177,
   "id": "0d7cdd91-28ec-417a-85c7-048e2a619c3d",
   "metadata": {},
   "outputs": [
    {
     "data": {
      "text/plain": [
       "0.9999779816700863"
      ]
     },
     "execution_count": 177,
     "metadata": {},
     "output_type": "execute_result"
    }
   ],
   "source": [
    "np.linalg.norm(np.array(system.hoomd_snapshot.particles.position[3]) - np.array(system.hoomd_snapshot.particles.position[2]))"
   ]
  },
  {
   "cell_type": "code",
   "execution_count": 178,
   "id": "e242105f-08e5-4e3a-bcf7-56191447817b",
   "metadata": {},
   "outputs": [
    {
     "data": {
      "text/plain": [
       "0.999978052752389"
      ]
     },
     "execution_count": 178,
     "metadata": {},
     "output_type": "execute_result"
    }
   ],
   "source": [
    "np.linalg.norm(np.array(system.hoomd_snapshot.particles.position[3]) - np.array(system.hoomd_snapshot.particles.position[0]))"
   ]
  },
  {
   "cell_type": "code",
   "execution_count": 179,
   "id": "ce99f011-e6d0-4c2a-8b01-94291834b4aa",
   "metadata": {},
   "outputs": [
    {
     "data": {
      "text/plain": [
       "<Compound 8 particles, 7 bonds, System box: Box: Lx=2.000000, Ly=2.000000, Lz=1.000000, xy=-0.577350, xz=0.000000, yz=-0.577350, , id: 139948820359568>"
      ]
     },
     "execution_count": 179,
     "metadata": {},
     "output_type": "execute_result"
    }
   ],
   "source": [
    "sheet.all_molecules[0]"
   ]
  },
  {
   "cell_type": "code",
   "execution_count": 180,
   "id": "e9326458-8125-46a2-883f-89c1e20d5278",
   "metadata": {},
   "outputs": [
    {
     "data": {
      "text/plain": [
       "1"
      ]
     },
     "execution_count": 180,
     "metadata": {},
     "output_type": "execute_result"
    }
   ],
   "source": [
    "\n",
    "system.n_molecules"
   ]
  },
  {
   "cell_type": "code",
   "execution_count": 181,
   "id": "088d66f1-6a79-4da6-aa01-14d0c53d8f44",
   "metadata": {},
   "outputs": [
    {
     "data": {
      "text/plain": [
       "8"
      ]
     },
     "execution_count": 181,
     "metadata": {},
     "output_type": "execute_result"
    }
   ],
   "source": [
    "system.n_particles"
   ]
  },
  {
   "cell_type": "code",
   "execution_count": 182,
   "id": "211408e5-88c2-47df-a8df-8615f0e0aa55",
   "metadata": {},
   "outputs": [
    {
     "name": "stdout",
     "output_type": "stream",
     "text": [
      "['C']\n",
      "['C-C']\n",
      "['C-C-C']\n",
      "['C-C-C-C']\n"
     ]
    }
   ],
   "source": [
    "snap = system.hoomd_snapshot\n",
    "print(snap.particles.types)\n",
    "print(snap.bonds.types)\n",
    "print(snap.angles.types)\n",
    "print(snap.dihedrals.types)"
   ]
  },
  {
   "cell_type": "code",
   "execution_count": 204,
   "id": "4adf8ce1-d6b7-458c-a0cc-247ccd3b41ff",
   "metadata": {},
   "outputs": [],
   "source": [
    "from flowermd.library.forcefields import BeadSpring"
   ]
  },
  {
   "cell_type": "code",
   "execution_count": 205,
   "id": "05cd20c5-c8bb-443a-859b-9ed6eac6129b",
   "metadata": {},
   "outputs": [],
   "source": [
    "ff = BeadSpring(\n",
    "    r_cut=2.5,\n",
    "    beads={\"C\": dict(epsilon=0.1, sigma=1.0)},\n",
    "    bonds={\"C-C\": dict(r0=0.57736, k=500)},\n",
    "    angles={\"C-C-C\": dict(t0=2*np.pi/3, k=500)},\n",
    "    dihedrals={\"C-C-C-C\": dict(phi0=0.1, k=500, d=1, n=1)}\n",
    ")"
   ]
  },
  {
   "cell_type": "code",
   "execution_count": 206,
   "id": "d928a856-7c95-4daf-b8e8-f1b2f410a997",
   "metadata": {},
   "outputs": [
    {
     "name": "stdout",
     "output_type": "stream",
     "text": [
      "1\n",
      "8\n"
     ]
    }
   ],
   "source": [
    "print(len(system.hoomd_snapshot.dihedrals.types))\n",
    "print(len(system.hoomd_snapshot.dihedrals.group))"
   ]
  },
  {
   "cell_type": "code",
   "execution_count": 207,
   "id": "b90f3501-c9c1-4e67-ae9c-fe51a0d734cb",
   "metadata": {},
   "outputs": [],
   "source": [
    "from flowermd.base import Pack, Simulation\n",
    "import hoomd\n",
    "import gsd.hoomd"
   ]
  },
  {
   "cell_type": "code",
   "execution_count": 208,
   "id": "23fc1f43-3e88-4d92-bd17-fcb285069aa8",
   "metadata": {},
   "outputs": [],
   "source": [
    "del sim"
   ]
  },
  {
   "cell_type": "code",
   "execution_count": 209,
   "id": "8ddb54a1-29eb-4b49-b129-81c826c4954f",
   "metadata": {},
   "outputs": [],
   "source": [
    "cpu = hoomd.device.CPU()"
   ]
  },
  {
   "cell_type": "code",
   "execution_count": 210,
   "id": "165b0b63-3a14-4dd6-852f-b3bffeca1a03",
   "metadata": {},
   "outputs": [
    {
     "name": "stdout",
     "output_type": "stream",
     "text": [
      "Initializing simulation state from a gsd.hoomd.Frame.\n"
     ]
    }
   ],
   "source": [
    "sim = Simulation(initial_state=system.hoomd_snapshot, forcefield=ff.hoomd_forces, device = cpu,\n",
    "                 gsd_write_freq=int(1000), gsd_file_name=\"single_sheet.gsd\")"
   ]
  },
  {
   "cell_type": "code",
   "execution_count": 211,
   "id": "9c3971fe-87d6-4e28-9641-a8f36c8cb3d7",
   "metadata": {},
   "outputs": [],
   "source": [
    "from flowermd.utils import get_target_box_number_density\n",
    "import unyt as u"
   ]
  },
  {
   "cell_type": "code",
   "execution_count": 212,
   "id": "89b70fc3-bea5-4ab8-b45f-9dba0245964f",
   "metadata": {},
   "outputs": [
    {
     "name": "stdout",
     "output_type": "stream",
     "text": [
      "Step 1000 of 200000; TPS: 6324.63; ETA: 0.5 minutes\n",
      "Step 2000 of 200000; TPS: 12448.42; ETA: 0.3 minutes\n",
      "Step 3000 of 200000; TPS: 18398.47; ETA: 0.2 minutes\n",
      "Step 4000 of 200000; TPS: 24177.51; ETA: 0.1 minutes\n",
      "Step 5000 of 200000; TPS: 29777.86; ETA: 0.1 minutes\n",
      "Step 6000 of 200000; TPS: 35205.48; ETA: 0.1 minutes\n",
      "Step 7000 of 200000; TPS: 40523.56; ETA: 0.1 minutes\n",
      "Step 8000 of 200000; TPS: 45697.83; ETA: 0.1 minutes\n",
      "Step 9000 of 200000; TPS: 50742.53; ETA: 0.1 minutes\n",
      "Step 10000 of 200000; TPS: 55655.43; ETA: 0.1 minutes\n",
      "Step 11000 of 200000; TPS: 60430.93; ETA: 0.1 minutes\n",
      "Step 12000 of 200000; TPS: 64995.91; ETA: 0.0 minutes\n",
      "Step 13000 of 200000; TPS: 69434.8; ETA: 0.0 minutes\n",
      "Step 14000 of 200000; TPS: 73816.69; ETA: 0.0 minutes\n",
      "Step 15000 of 200000; TPS: 78128.66; ETA: 0.0 minutes\n",
      "Step 16000 of 200000; TPS: 82287.17; ETA: 0.0 minutes\n",
      "Step 17000 of 200000; TPS: 86275.58; ETA: 0.0 minutes\n",
      "Step 18000 of 200000; TPS: 90165.45; ETA: 0.0 minutes\n",
      "Step 19000 of 200000; TPS: 94012.86; ETA: 0.0 minutes\n",
      "Step 20000 of 200000; TPS: 97655.77; ETA: 0.0 minutes\n",
      "Step 21000 of 200000; TPS: 101203.36; ETA: 0.0 minutes\n",
      "Step 22000 of 200000; TPS: 104848.78; ETA: 0.0 minutes\n",
      "Step 23000 of 200000; TPS: 108280.64; ETA: 0.0 minutes\n",
      "Step 24000 of 200000; TPS: 111675.69; ETA: 0.0 minutes\n",
      "Step 25000 of 200000; TPS: 115028.73; ETA: 0.0 minutes\n",
      "Step 26000 of 200000; TPS: 118383.07; ETA: 0.0 minutes\n",
      "Step 27000 of 200000; TPS: 121436.73; ETA: 0.0 minutes\n",
      "Step 28000 of 200000; TPS: 124468.23; ETA: 0.0 minutes\n",
      "Step 29000 of 200000; TPS: 127568.41; ETA: 0.0 minutes\n",
      "Step 30000 of 200000; TPS: 130598.31; ETA: 0.0 minutes\n",
      "Step 31000 of 200000; TPS: 133474.56; ETA: 0.0 minutes\n",
      "Step 32000 of 200000; TPS: 136377.97; ETA: 0.0 minutes\n",
      "Step 33000 of 200000; TPS: 139052.17; ETA: 0.0 minutes\n",
      "Step 34000 of 200000; TPS: 141978.43; ETA: 0.0 minutes\n",
      "Step 35000 of 200000; TPS: 144646.03; ETA: 0.0 minutes\n",
      "Step 36000 of 200000; TPS: 147280.83; ETA: 0.0 minutes\n",
      "Step 37000 of 200000; TPS: 149832.75; ETA: 0.0 minutes\n",
      "Step 38000 of 200000; TPS: 152406.01; ETA: 0.0 minutes\n",
      "Step 39000 of 200000; TPS: 154995.01; ETA: 0.0 minutes\n",
      "Step 40000 of 200000; TPS: 157449.32; ETA: 0.0 minutes\n",
      "Step 41000 of 200000; TPS: 159768.06; ETA: 0.0 minutes\n",
      "Step 42000 of 200000; TPS: 162101.45; ETA: 0.0 minutes\n",
      "Step 43000 of 200000; TPS: 164414.57; ETA: 0.0 minutes\n",
      "Step 44000 of 200000; TPS: 166591.57; ETA: 0.0 minutes\n",
      "Step 45000 of 200000; TPS: 168799.8; ETA: 0.0 minutes\n",
      "Step 46000 of 200000; TPS: 171043.78; ETA: 0.0 minutes\n",
      "Step 47000 of 200000; TPS: 173213.78; ETA: 0.0 minutes\n",
      "Step 48000 of 200000; TPS: 175259.24; ETA: 0.0 minutes\n",
      "Step 49000 of 200000; TPS: 177278.66; ETA: 0.0 minutes\n",
      "Step 50000 of 200000; TPS: 179397.94; ETA: 0.0 minutes\n",
      "Step 51000 of 200000; TPS: 181350.1; ETA: 0.0 minutes\n",
      "Step 52000 of 200000; TPS: 183360.07; ETA: 0.0 minutes\n",
      "Step 53000 of 200000; TPS: 185343.2; ETA: 0.0 minutes\n",
      "Step 54000 of 200000; TPS: 187419.31; ETA: 0.0 minutes\n",
      "Step 55000 of 200000; TPS: 189448.74; ETA: 0.0 minutes\n",
      "Step 56000 of 200000; TPS: 191405.22; ETA: 0.0 minutes\n",
      "Step 57000 of 200000; TPS: 193191.52; ETA: 0.0 minutes\n",
      "Step 58000 of 200000; TPS: 195202.07; ETA: 0.0 minutes\n",
      "Step 59000 of 200000; TPS: 196635.21; ETA: 0.0 minutes\n",
      "Step 60000 of 200000; TPS: 198026.99; ETA: 0.0 minutes\n",
      "Step 61000 of 200000; TPS: 199786.46; ETA: 0.0 minutes\n",
      "Step 62000 of 200000; TPS: 201660.77; ETA: 0.0 minutes\n",
      "Step 63000 of 200000; TPS: 203336.0; ETA: 0.0 minutes\n",
      "Step 64000 of 200000; TPS: 205087.45; ETA: 0.0 minutes\n",
      "Step 65000 of 200000; TPS: 206716.7; ETA: 0.0 minutes\n",
      "Step 66000 of 200000; TPS: 208403.72; ETA: 0.0 minutes\n",
      "Step 67000 of 200000; TPS: 210123.57; ETA: 0.0 minutes\n",
      "Step 68000 of 200000; TPS: 211592.14; ETA: 0.0 minutes\n",
      "Step 69000 of 200000; TPS: 212705.62; ETA: 0.0 minutes\n",
      "Step 70000 of 200000; TPS: 214347.18; ETA: 0.0 minutes\n",
      "Step 71000 of 200000; TPS: 216006.38; ETA: 0.0 minutes\n",
      "Step 72000 of 200000; TPS: 217529.89; ETA: 0.0 minutes\n",
      "Step 73000 of 200000; TPS: 219120.52; ETA: 0.0 minutes\n",
      "Step 74000 of 200000; TPS: 216288.26; ETA: 0.0 minutes\n",
      "Step 75000 of 200000; TPS: 216334.09; ETA: 0.0 minutes\n",
      "Step 76000 of 200000; TPS: 217802.49; ETA: 0.0 minutes\n",
      "Step 77000 of 200000; TPS: 219312.61; ETA: 0.0 minutes\n",
      "Step 78000 of 200000; TPS: 220758.05; ETA: 0.0 minutes\n",
      "Step 79000 of 200000; TPS: 222172.85; ETA: 0.0 minutes\n",
      "Step 80000 of 200000; TPS: 223549.24; ETA: 0.0 minutes\n",
      "Step 81000 of 200000; TPS: 224986.25; ETA: 0.0 minutes\n",
      "Step 82000 of 200000; TPS: 226233.11; ETA: 0.0 minutes\n",
      "Step 83000 of 200000; TPS: 227300.74; ETA: 0.0 minutes\n",
      "Step 84000 of 200000; TPS: 228661.65; ETA: 0.0 minutes\n",
      "Step 85000 of 200000; TPS: 229919.88; ETA: 0.0 minutes\n",
      "Step 86000 of 200000; TPS: 231103.9; ETA: 0.0 minutes\n",
      "Step 87000 of 200000; TPS: 232263.85; ETA: 0.0 minutes\n",
      "Step 88000 of 200000; TPS: 233420.51; ETA: 0.0 minutes\n",
      "Step 89000 of 200000; TPS: 234501.18; ETA: 0.0 minutes\n",
      "Step 90000 of 200000; TPS: 235563.24; ETA: 0.0 minutes\n",
      "Step 91000 of 200000; TPS: 236771.99; ETA: 0.0 minutes\n",
      "Step 92000 of 200000; TPS: 237952.37; ETA: 0.0 minutes\n",
      "Step 93000 of 200000; TPS: 239184.0; ETA: 0.0 minutes\n",
      "Step 94000 of 200000; TPS: 240387.69; ETA: 0.0 minutes\n",
      "Step 95000 of 200000; TPS: 241235.53; ETA: 0.0 minutes\n",
      "Step 96000 of 200000; TPS: 242398.53; ETA: 0.0 minutes\n",
      "Step 97000 of 200000; TPS: 243475.73; ETA: 0.0 minutes\n",
      "Step 98000 of 200000; TPS: 244631.22; ETA: 0.0 minutes\n",
      "Step 99000 of 200000; TPS: 245761.24; ETA: 0.0 minutes\n",
      "Step 100000 of 200000; TPS: 246766.74; ETA: 0.0 minutes\n",
      "Step 101000 of 200000; TPS: 247460.47; ETA: 0.0 minutes\n",
      "Step 102000 of 200000; TPS: 248554.97; ETA: 0.0 minutes\n",
      "Step 103000 of 200000; TPS: 249669.13; ETA: 0.0 minutes\n",
      "Step 104000 of 200000; TPS: 250790.96; ETA: 0.0 minutes\n",
      "Step 105000 of 200000; TPS: 251940.54; ETA: 0.0 minutes\n",
      "Step 106000 of 200000; TPS: 252949.49; ETA: 0.0 minutes\n",
      "Step 107000 of 200000; TPS: 253920.34; ETA: 0.0 minutes\n",
      "Step 108000 of 200000; TPS: 254903.35; ETA: 0.0 minutes\n",
      "Step 109000 of 200000; TPS: 255967.09; ETA: 0.0 minutes\n",
      "Step 110000 of 200000; TPS: 256993.73; ETA: 0.0 minutes\n",
      "Step 111000 of 200000; TPS: 258032.72; ETA: 0.0 minutes\n",
      "Step 112000 of 200000; TPS: 259033.8; ETA: 0.0 minutes\n",
      "Step 113000 of 200000; TPS: 259918.3; ETA: 0.0 minutes\n",
      "Step 114000 of 200000; TPS: 260966.91; ETA: 0.0 minutes\n",
      "Step 115000 of 200000; TPS: 261950.05; ETA: 0.0 minutes\n",
      "Step 116000 of 200000; TPS: 262862.71; ETA: 0.0 minutes\n",
      "Step 117000 of 200000; TPS: 263789.78; ETA: 0.0 minutes\n",
      "Step 118000 of 200000; TPS: 264758.02; ETA: 0.0 minutes\n",
      "Step 119000 of 200000; TPS: 265520.69; ETA: 0.0 minutes\n",
      "Step 120000 of 200000; TPS: 266480.72; ETA: 0.0 minutes\n",
      "Step 121000 of 200000; TPS: 267423.41; ETA: 0.0 minutes\n",
      "Step 122000 of 200000; TPS: 267744.08; ETA: 0.0 minutes\n",
      "Step 123000 of 200000; TPS: 264414.34; ETA: 0.0 minutes\n",
      "Step 124000 of 200000; TPS: 265137.99; ETA: 0.0 minutes\n",
      "Step 125000 of 200000; TPS: 265832.45; ETA: 0.0 minutes\n",
      "Step 126000 of 200000; TPS: 266561.73; ETA: 0.0 minutes\n",
      "Step 127000 of 200000; TPS: 267194.6; ETA: 0.0 minutes\n",
      "Step 128000 of 200000; TPS: 267802.6; ETA: 0.0 minutes\n",
      "Step 129000 of 200000; TPS: 268402.75; ETA: 0.0 minutes\n",
      "Step 130000 of 200000; TPS: 269005.78; ETA: 0.0 minutes\n",
      "Step 131000 of 200000; TPS: 269537.34; ETA: 0.0 minutes\n",
      "Step 132000 of 200000; TPS: 269562.15; ETA: 0.0 minutes\n",
      "Step 133000 of 200000; TPS: 270331.25; ETA: 0.0 minutes\n",
      "Step 134000 of 200000; TPS: 271148.03; ETA: 0.0 minutes\n",
      "Step 135000 of 200000; TPS: 271837.07; ETA: 0.0 minutes\n",
      "Step 136000 of 200000; TPS: 272667.49; ETA: 0.0 minutes\n",
      "Step 137000 of 200000; TPS: 273380.52; ETA: 0.0 minutes\n",
      "Step 138000 of 200000; TPS: 274195.79; ETA: 0.0 minutes\n",
      "Step 139000 of 200000; TPS: 275024.78; ETA: 0.0 minutes\n",
      "Step 140000 of 200000; TPS: 275827.83; ETA: 0.0 minutes\n",
      "Step 141000 of 200000; TPS: 276557.89; ETA: 0.0 minutes\n",
      "Step 142000 of 200000; TPS: 277355.13; ETA: 0.0 minutes\n",
      "Step 143000 of 200000; TPS: 278127.87; ETA: 0.0 minutes\n",
      "Step 144000 of 200000; TPS: 278835.24; ETA: 0.0 minutes\n",
      "Step 145000 of 200000; TPS: 279494.9; ETA: 0.0 minutes\n",
      "Step 146000 of 200000; TPS: 280255.61; ETA: 0.0 minutes\n",
      "Step 147000 of 200000; TPS: 280698.81; ETA: 0.0 minutes\n",
      "Step 148000 of 200000; TPS: 281435.7; ETA: 0.0 minutes\n",
      "Step 149000 of 200000; TPS: 282116.29; ETA: 0.0 minutes\n",
      "Step 150000 of 200000; TPS: 282687.11; ETA: 0.0 minutes\n",
      "Step 151000 of 200000; TPS: 283457.89; ETA: 0.0 minutes\n",
      "Step 152000 of 200000; TPS: 284170.05; ETA: 0.0 minutes\n",
      "Step 153000 of 200000; TPS: 284793.16; ETA: 0.0 minutes\n",
      "Step 154000 of 200000; TPS: 285512.47; ETA: 0.0 minutes\n",
      "Step 155000 of 200000; TPS: 286202.28; ETA: 0.0 minutes\n",
      "Step 156000 of 200000; TPS: 286906.05; ETA: 0.0 minutes\n",
      "Step 157000 of 200000; TPS: 287573.18; ETA: 0.0 minutes\n",
      "Step 158000 of 200000; TPS: 288265.93; ETA: 0.0 minutes\n",
      "Step 159000 of 200000; TPS: 288796.86; ETA: 0.0 minutes\n",
      "Step 160000 of 200000; TPS: 289325.69; ETA: 0.0 minutes\n",
      "Step 161000 of 200000; TPS: 289902.57; ETA: 0.0 minutes\n",
      "Step 162000 of 200000; TPS: 290182.69; ETA: 0.0 minutes\n",
      "Step 163000 of 200000; TPS: 290870.94; ETA: 0.0 minutes\n",
      "Step 164000 of 200000; TPS: 291430.69; ETA: 0.0 minutes\n",
      "Step 165000 of 200000; TPS: 292021.44; ETA: 0.0 minutes\n",
      "Step 166000 of 200000; TPS: 292534.21; ETA: 0.0 minutes\n",
      "Step 167000 of 200000; TPS: 293112.04; ETA: 0.0 minutes\n",
      "Step 168000 of 200000; TPS: 293449.78; ETA: 0.0 minutes\n",
      "Step 169000 of 200000; TPS: 293994.85; ETA: 0.0 minutes\n",
      "Step 170000 of 200000; TPS: 294595.73; ETA: 0.0 minutes\n",
      "Step 171000 of 200000; TPS: 294975.07; ETA: 0.0 minutes\n",
      "Step 172000 of 200000; TPS: 295355.03; ETA: 0.0 minutes\n",
      "Step 173000 of 200000; TPS: 295873.17; ETA: 0.0 minutes\n",
      "Step 174000 of 200000; TPS: 296356.35; ETA: 0.0 minutes\n",
      "Step 175000 of 200000; TPS: 296904.56; ETA: 0.0 minutes\n",
      "Step 176000 of 200000; TPS: 297410.33; ETA: 0.0 minutes\n",
      "Step 177000 of 200000; TPS: 297989.83; ETA: 0.0 minutes\n",
      "Step 178000 of 200000; TPS: 298520.98; ETA: 0.0 minutes\n",
      "Step 179000 of 200000; TPS: 299062.55; ETA: 0.0 minutes\n",
      "Step 180000 of 200000; TPS: 299597.54; ETA: 0.0 minutes\n",
      "Step 181000 of 200000; TPS: 300119.05; ETA: 0.0 minutes\n",
      "Step 182000 of 200000; TPS: 300704.67; ETA: 0.0 minutes\n",
      "Step 183000 of 200000; TPS: 301232.09; ETA: 0.0 minutes\n",
      "Step 184000 of 200000; TPS: 301750.65; ETA: 0.0 minutes\n",
      "Step 185000 of 200000; TPS: 302352.3; ETA: 0.0 minutes\n",
      "Step 186000 of 200000; TPS: 302805.84; ETA: 0.0 minutes\n",
      "Step 187000 of 200000; TPS: 303409.87; ETA: 0.0 minutes\n",
      "Step 188000 of 200000; TPS: 303883.57; ETA: 0.0 minutes\n",
      "Step 189000 of 200000; TPS: 304443.42; ETA: 0.0 minutes\n",
      "Step 190000 of 200000; TPS: 304852.61; ETA: 0.0 minutes\n",
      "Step 191000 of 200000; TPS: 305224.94; ETA: 0.0 minutes\n",
      "Step 192000 of 200000; TPS: 305639.04; ETA: 0.0 minutes\n",
      "Step 193000 of 200000; TPS: 306014.53; ETA: 0.0 minutes\n",
      "Step 194000 of 200000; TPS: 306549.25; ETA: 0.0 minutes\n",
      "Step 195000 of 200000; TPS: 306841.62; ETA: 0.0 minutes\n",
      "Step 196000 of 200000; TPS: 307319.38; ETA: 0.0 minutes\n",
      "Step 197000 of 200000; TPS: 307792.3; ETA: 0.0 minutes\n",
      "Step 198000 of 200000; TPS: 308315.17; ETA: 0.0 minutes\n",
      "Step 199000 of 200000; TPS: 308752.59; ETA: 0.0 minutes\n"
     ]
    }
   ],
   "source": [
    "sim.run_NVT(n_steps=2e5,kT=1.0, tau_kt = 0.1) #short for initial testing\n",
    "sim.flush_writers()"
   ]
  },
  {
   "cell_type": "code",
   "execution_count": 213,
   "id": "15ca407e-de17-4e59-99e2-86b5e36054e4",
   "metadata": {},
   "outputs": [
    {
     "data": {
      "image/png": "[encoded data removed]",
      "text/plain": [
       "<fresnel.util.ImageArray at 0x7f49ac9780e0>"
      ]
     },
     "execution_count": 213,
     "metadata": {},
     "output_type": "execute_result"
    }
   ],
   "source": [
    "sim_visualizer = FresnelGSD(gsd_file=\"single_sheet.gsd\", frame=1, view_axis=(1, 1, 1))\n",
    "sim_visualizer.view()"
   ]
  }
 ],
 "metadata": {
  "kernelspec": {
   "display_name": "Python 3 (ipykernel)",
   "language": "python",
   "name": "python3"
  },
  "language_info": {
   "codemirror_mode": {
    "name": "ipython",
    "version": 3
   },
   "file_extension": ".py",
   "mimetype": "text/x-python",
   "name": "python",
   "nbconvert_exporter": "python",
   "pygments_lexer": "ipython3",
   "version": "3.12.0"
  }
 },
 "nbformat": 4,
 "nbformat_minor": 5
}
