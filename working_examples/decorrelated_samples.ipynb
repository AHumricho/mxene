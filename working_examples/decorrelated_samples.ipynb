{
 "cells": [
  {
   "cell_type": "code",
   "execution_count": 19,
   "id": "1a216ffd-536f-4a87-a0ef-2ca071f16d0e",
   "metadata": {},
   "outputs": [
    {
     "name": "stdout",
     "output_type": "stream",
     "text": [
      "[True, 15070, 1.4930146, 33443.746]\n"
     ]
    }
   ],
   "source": [
    "from cmeutils import sampling\n",
    "import numpy as np\n",
    "\n",
    "data = np.genfromtxt(\"100_10mer10f_0.0005dt_7kT_large.txt\", names=True, dtype=None)\n",
    "potential_energy = data['mdcomputeThermodynamicQuantitiespotential_energy']\n",
    "result = sampling.is_equilibrated(potential_energy)\n",
    "print(result)"
   ]
  },
  {
   "cell_type": "code",
   "execution_count": null,
   "id": "3dc11990-7115-44d6-9d63-2efbbddb2834",
   "metadata": {},
   "outputs": [],
   "source": []
  }
 ],
 "metadata": {
  "kernelspec": {
   "display_name": "Python 3 (ipykernel)",
   "language": "python",
   "name": "python3"
  },
  "language_info": {
   "codemirror_mode": {
    "name": "ipython",
    "version": 3
   },
   "file_extension": ".py",
   "mimetype": "text/x-python",
   "name": "python",
   "nbconvert_exporter": "python",
   "pygments_lexer": "ipython3",
   "version": "3.12.11"
  }
 },
 "nbformat": 4,
 "nbformat_minor": 5
}
