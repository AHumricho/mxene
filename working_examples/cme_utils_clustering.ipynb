{
 "cells": [
  {
   "cell_type": "code",
   "execution_count": 5,
   "id": "e2dfae09-6c79-4956-a9c4-53c6ee9cffc3",
   "metadata": {},
   "outputs": [],
   "source": [
    "import warnings\n",
    "import freud\n",
    "import gsd.hoomd\n",
    "import numpy as np\n",
    "from boltons.setutils import IndexedSet"
   ]
  },
  {
   "cell_type": "code",
   "execution_count": 6,
   "id": "5ef273b6-c4fb-4ba9-96b4-b68142a80988",
   "metadata": {},
   "outputs": [],
   "source": [
    "gsd_file = gsd.hoomd.open(\"100_10mer10f_0.0005dt_7kT_large.gsd\")\n",
    "frame = gsd_file[65000]"
   ]
  },
  {
   "cell_type": "code",
   "execution_count": 7,
   "id": "778b57f9-e1c0-4645-bb64-ee23e1b848fa",
   "metadata": {},
   "outputs": [],
   "source": [
    "def _validate_inputs(gsd_file, snap, gsd_frame):\n",
    "    if all([gsd_file, snap]):\n",
    "        raise ValueError(\"Only pass in a snapshot or a gsd_file\")\n",
    "    if gsd_file:\n",
    "        assert isinstance(gsd_frame, int)\n",
    "        try:\n",
    "            with gsd.hoomd.open(name=gsd_file, mode=\"r\") as f:\n",
    "                snap = f[gsd_frame]\n",
    "        except Exception as e:\n",
    "            print(\"Unable to open the gsd_file\")\n",
    "            raise e\n",
    "    elif snap:\n",
    "        assert isinstance(snap, gsd.hoomd.Frame)\n",
    "    return snap"
   ]
  },
  {
   "cell_type": "code",
   "execution_count": 8,
   "id": "6167b4ea-4b3a-4d4a-8ce0-4964d4192420",
   "metadata": {},
   "outputs": [],
   "source": [
    "def get_all_types(gsd_file=None, snap=frame, gsd_frame=None):\n",
    "    snap = _validate_inputs(gsd_file, snap, gsd_frame)\n",
    "    return snap.particles.types"
   ]
  },
  {
   "cell_type": "code",
   "execution_count": 9,
   "id": "329d96f2-4553-42eb-8f71-ccb9d1b2985f",
   "metadata": {},
   "outputs": [
    {
     "name": "stdout",
     "output_type": "stream",
     "text": [
      "['A', 'F']\n"
     ]
    }
   ],
   "source": [
    "print(get_all_types())"
   ]
  },
  {
   "cell_type": "code",
   "execution_count": 10,
   "id": "40a8e323-7d2b-42e4-bc53-e26edb4b15b7",
   "metadata": {},
   "outputs": [],
   "source": [
    "def get_type_position(typename, gsd_file=None, snap=frame, gsd_frame=None, images=False):\n",
    "    snap = _validate_inputs(gsd_file, snap, gsd_frame)\n",
    "    if isinstance(typename, str):\n",
    "        typename = [typename]\n",
    "\n",
    "    type_pos = []\n",
    "    type_images = []\n",
    "    for _type in typename:\n",
    "        type_pos.extend(\n",
    "            snap.particles.position[\n",
    "                snap.particles.typeid == snap.particles.types.index(_type)\n",
    "            ]\n",
    "        )\n",
    "        if images:\n",
    "            type_images.extend(\n",
    "                snap.particles.image[\n",
    "                    snap.particles.typeid == snap.particles.types.index(_type)\n",
    "                ]\n",
    "            )\n",
    "    if images:\n",
    "        return np.array(type_pos), np.array(type_images)\n",
    "    else:\n",
    "        return np.array(type_pos)\n"
   ]
  },
  {
   "cell_type": "code",
   "execution_count": 11,
   "id": "e2b54d19-b6f6-430b-9dc7-8ad6b23bfb02",
   "metadata": {},
   "outputs": [],
   "source": [
    "def snap_delete_type_A(snap):\n",
    "    new_snap = gsd.hoomd.Frame()\n",
    "    try:\n",
    "        delete_id = snap.particles.types.index('A')\n",
    "    except ValueError:\n",
    "        return snap\n",
    "    selection = np.where(snap.particles.typeid != delete_id)[0]\n",
    "    new_types = [t for t in snap.particles.types if t != 'A']\n",
    "    new_snap.particles.N = len(selection)\n",
    "    new_snap.particles.types = new_types\n",
    "    typeid_map = {\n",
    "        old_id: new_types.index(t)\n",
    "        for old_id, t in enumerate(snap.particles.types)\n",
    "        if t != 'A'\n",
    "    }\n",
    "    new_snap.particles.position = snap.particles.position[selection]\n",
    "    new_snap.particles.image = snap.particles.image[selection]\n",
    "    new_snap.particles.typeid = np.vectorize(typeid_map.get)(\n",
    "        snap.particles.typeid[selection]\n",
    "    )\n",
    "    new_snap.configuration.box = snap.configuration.box\n",
    "    if snap.bonds.N > 0:\n",
    "        bonds = np.isin(snap.bonds.group, selection).all(axis=1)\n",
    "        if bonds.any():\n",
    "            inds = {old: new for new, old in enumerate(selection)}\n",
    "            new_snap.bonds.group = np.vectorize(inds.get)(\n",
    "                snap.bonds.group[bonds]\n",
    "            )\n",
    "            new_snap.bonds.N = len(new_snap.bonds.group)\n",
    "    new_snap.validate()\n",
    "    return new_snap"
   ]
  },
  {
   "cell_type": "code",
   "execution_count": 12,
   "id": "88bb4ba7-85a3-4c6d-b4a1-5838c176b0d9",
   "metadata": {},
   "outputs": [],
   "source": [
    "def get_molecule_cluster(gsd_file=None, snap=frame, gsd_frame=None):\n",
    "    snap = _validate_inputs(gsd_file, snap, gsd_frame)\n",
    "    snap = snap_delete_type_A(snap)\n",
    "    system = freud.AABBQuery.from_system(snap)\n",
    "    n_query_points = n_points = snap.particles.N\n",
    "    query_point_indices = snap.bonds.group[:, 0]\n",
    "    point_indices = snap.bonds.group[:, 1]\n",
    "    box = freud.box.Box(snap.configuration.box[0], snap.configuration.box[1], snap.configuration.box[2])\n",
    "    vectors = box.wrap(snap.particles.position[query_point_indices] - snap.particles.position[point_indices])\n",
    "    nlist = freud.NeighborList.from_arrays(num_query_points=n_query_points, num_points=n_points, query_point_indices=query_point_indices, point_indices=point_indices, vectors=vectors)\n",
    "    cluster = freud.cluster.Cluster()\n",
    "    cluster.compute(system=system, neighbors=nlist)\n",
    "    return cluster.cluster_idx"
   ]
  },
  {
   "cell_type": "code",
   "execution_count": 13,
   "id": "6a27eef2-283a-48c7-8b8f-89829e6e9a64",
   "metadata": {},
   "outputs": [
    {
     "name": "stdout",
     "output_type": "stream",
     "text": [
      "[0 0 0 0 0 0 0 0 0 0 0 0 0 0 0 0 0 0 0 0 0 0 0 0 0 0 0 0 0 0 0 0 0 0 0 0 0\n",
      " 0 0 0 0 0 0 0 0 0 0 0 0 0 1 1 1 1 1 1 1 1 1 1 1 1 1 1 1 1 1 1 1 1 1 1 1 1\n",
      " 1 1 1 1 1 1 1 1 1 1 1 1 1 1 1 1 1 1 1 1 1 1 1 1 1 1 2 2 2 2 2 2 2 2 2 2 2\n",
      " 2 2 2 2 2 2 2 2 2 2 2 2 2 2 2 2 2 2 2 2 2 2 2 2 2 2 2 2 2 2 2 2 2 2 2 2 2\n",
      " 2 2 3 3 3 3 3 3 3 3 3 3 3 3 3 3 3 3 3 3 3 3 3 3 3 3 3 3 3 3 3 3 3 3 3 3 3\n",
      " 3 3 3 3 3 3 3 3 3 3 3 3 3 3 3 4 4 4 4 4 4 4 4 4 4 4 4 4 4 4 4 4 4 4 4 4 4\n",
      " 4 4 4 4 4 4 4 4 4 4 4 4 4 4 4 4 4 4 4 4 4 4 4 4 4 4 4 4 5 5 5 5 5 5 5 5 5\n",
      " 5 5 5 5 5 5 5 5 5 5 5 5 5 5 5 5 5 5 5 5 5 5 5 5 5 5 5 5 5 5 5 5 5 5 5 5 5\n",
      " 5 5 5 5 6 6 6 6 6 6 6 6 6 6 6 6 6 6 6 6 6 6 6 6 6 6 6 6 6 6 6 6 6 6 6 6 6\n",
      " 6 6 6 6 6 6 6 6 6 6 6 6 6 6 6 6 6 7 7 7 7 7 7 7 7 7 7 7 7 7 7 7 7 7 7 7 7\n",
      " 7 7 7 7 7 7 7 7 7 7 7 7 7 7 7 7 7 7 7 7 7 7 7 7 7 7 7 7 7 7 8 8 8 8 8 8 8\n",
      " 8 8 8 8 8 8 8 8 8 8 8 8 8 8 8 8 8 8 8 8 8 8 8 8 8 8 8 8 8 8 8 8 8 8 8 8 8\n",
      " 8 8 8 8 8 8 9 9 9 9 9 9 9 9 9 9 9 9 9 9 9 9 9 9 9 9 9 9 9 9 9 9 9 9 9 9 9\n",
      " 9 9 9 9 9 9 9 9 9 9 9 9 9 9 9 9 9 9 9]\n"
     ]
    }
   ],
   "source": [
    "print(get_molecule_cluster())"
   ]
  },
  {
   "cell_type": "code",
   "execution_count": null,
   "id": "2c34b792-9ffd-4abf-8106-9754f174f696",
   "metadata": {},
   "outputs": [],
   "source": []
  },
  {
   "cell_type": "code",
   "execution_count": null,
   "id": "93177fde-31d5-4e60-b41a-5a69ba73b319",
   "metadata": {},
   "outputs": [],
   "source": []
  }
 ],
 "metadata": {
  "kernelspec": {
   "display_name": "Python 3 (ipykernel)",
   "language": "python",
   "name": "python3"
  },
  "language_info": {
   "codemirror_mode": {
    "name": "ipython",
    "version": 3
   },
   "file_extension": ".py",
   "mimetype": "text/x-python",
   "name": "python",
   "nbconvert_exporter": "python",
   "pygments_lexer": "ipython3",
   "version": "3.12.11"
  }
 },
 "nbformat": 4,
 "nbformat_minor": 5
}
