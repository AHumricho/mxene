{
 "cells": [
  {
   "cell_type": "code",
   "execution_count": 1,
   "id": "2d444c51-d6ec-40b2-9ed3-140009674ede",
   "metadata": {},
   "outputs": [],
   "source": [
    "import gsd\n",
    "import hoomd\n",
    "import gsd.hoomd\n",
    "import numpy as np\n",
    "from cmeutils import gsd_utils"
   ]
  },
  {
   "cell_type": "code",
   "execution_count": 2,
   "id": "6a27eef2-283a-48c7-8b8f-89829e6e9a64",
   "metadata": {},
   "outputs": [],
   "source": [
    "gsd_file = gsd.hoomd.open(\"100_10mer10f_0.0005dt_7kT_large.gsd\")\n",
    "snap = gsd_file[65000]\n",
    "positions = gsd_utils.get_type_position(\"F\", snap=snap)\n",
    "particle_types = gsd_utils.get_all_types(snap=snap)\n",
    "delete_chains = gsd_utils.snap_delete_types(snap, 'A')\n",
    "flakes = gsd_utils.get_molecule_cluster(snap=delete_chains)"
   ]
  },
  {
   "cell_type": "code",
   "execution_count": 3,
   "id": "f29c254b-6eee-487a-8566-0f6e90afd8be",
   "metadata": {},
   "outputs": [],
   "source": [
    "def compute_flake_COMs(positions, flake_labels):\n",
    "    flake_ids = np.unique(flake_labels)\n",
    "    coms = [positions[flake_labels == f].mean(axis=0) for f in flake_ids]\n",
    "    return np.array(coms), flake_ids\n",
    "\n",
    "def find_neighbors(coms, flake_ids, cutoff):\n",
    "    neighbors = {f: [] for f in flake_ids}\n",
    "    for i, f in enumerate(flake_ids):\n",
    "        for j, g in enumerate(flake_ids):\n",
    "            if i != j and np.linalg.norm(coms[i] - coms[j]) <= cutoff:\n",
    "                neighbors[f].append(g)\n",
    "    return neighbors"
   ]
  },
  {
   "cell_type": "code",
   "execution_count": 4,
   "id": "46a88364-6b10-4744-8c11-a774c2a8762e",
   "metadata": {},
   "outputs": [],
   "source": [
    "cutoff = 2.0\n",
    "coms, flake_ids = compute_flake_COMs(positions, flakes)\n",
    "neighbors = find_neighbors(coms, flake_ids, cutoff)"
   ]
  },
  {
   "cell_type": "code",
   "execution_count": 5,
   "id": "1aba3b24-59f3-4282-885d-7abf074ce5b0",
   "metadata": {},
   "outputs": [
    {
     "name": "stdout",
     "output_type": "stream",
     "text": [
      "[0] Neighbors: [6]\n",
      "[1] Neighbors: [7]\n",
      "[2] Neighbors: []\n",
      "[3] Neighbors: []\n",
      "[4] Neighbors: []\n",
      "[5] Neighbors: []\n",
      "[6] Neighbors: [0]\n",
      "[7] Neighbors: [1]\n",
      "[8] Neighbors: [9]\n",
      "[9] Neighbors: [8]\n"
     ]
    }
   ],
   "source": [
    "for flake_id in range(10):\n",
    "    neighbor_ids = neighbors.get(flake_id, [])\n",
    "    print(f\"[{flake_id}] Neighbors: {neighbor_ids}\")"
   ]
  },
  {
   "cell_type": "code",
   "execution_count": 6,
   "id": "ee4e0edf-b37a-4306-9155-18ffab8ed860",
   "metadata": {},
   "outputs": [
    {
     "name": "stdout",
     "output_type": "stream",
     "text": [
      "Flake cluster 0: [0, 6]\n",
      "Flake cluster 1: [1, 7]\n",
      "Flake cluster 2: [2]\n",
      "Flake cluster 3: [3]\n",
      "Flake cluster 4: [4]\n",
      "Flake cluster 5: [5]\n",
      "Flake cluster 6: [8, 9]\n"
     ]
    }
   ],
   "source": [
    "#need to keep working on this, not sure if measuring flake cluster correctly \n",
    "import networkx as nx\n",
    "G = nx.Graph()\n",
    "G.add_nodes_from(flake_ids)\n",
    "\n",
    "for flake, nbrs in neighbors.items():\n",
    "    for nbr in nbrs:\n",
    "        G.add_edge(flake, nbr)\n",
    "        \n",
    "flake_clusters = list(nx.connected_components(G))\n",
    "for i, cluster in enumerate(flake_clusters):\n",
    "    print(f\"Flake cluster {i}: {sorted(cluster)}\")"
   ]
  },
  {
   "cell_type": "code",
   "execution_count": null,
   "id": "3c0cc5af-18ba-4785-aae7-6bd25eea1c64",
   "metadata": {},
   "outputs": [],
   "source": []
  }
 ],
 "metadata": {
  "kernelspec": {
   "display_name": "Python 3 (ipykernel)",
   "language": "python",
   "name": "python3"
  },
  "language_info": {
   "codemirror_mode": {
    "name": "ipython",
    "version": 3
   },
   "file_extension": ".py",
   "mimetype": "text/x-python",
   "name": "python",
   "nbconvert_exporter": "python",
   "pygments_lexer": "ipython3",
   "version": "3.12.11"
  }
 },
 "nbformat": 4,
 "nbformat_minor": 5
}
