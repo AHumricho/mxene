{
 "cells": [
  {
   "cell_type": "code",
   "execution_count": 83,
   "id": "2eadee4b-e3fc-4dd6-9709-a92a0d91f5a9",
   "metadata": {},
   "outputs": [],
   "source": [
    "import gsd.hoomd\n",
    "import numpy as np"
   ]
  },
  {
   "cell_type": "code",
   "execution_count": 84,
   "id": "d07d2bcc-875d-4a60-82d4-2cda752b53ef",
   "metadata": {},
   "outputs": [],
   "source": [
    "def compute_all_flake_coms(flake_positions, box_lengths, beads_per_flake=50):\n",
    "    Lx, Ly, Lz = box_lengths\n",
    "    n_flakes = len(flake_positions) // beads_per_flake\n",
    "    flake_coms = []\n",
    "\n",
    "    for i in range(n_flakes):\n",
    "        flake = flake_positions[i * beads_per_flake : (i + 1) * beads_per_flake]\n",
    "        ref = flake[0]\n",
    "        delta = flake - ref\n",
    "\n",
    "        # Minimum image convention\n",
    "        delta[:, 0] -= Lx * np.round(delta[:, 0] / Lx)\n",
    "        delta[:, 1] -= Ly * np.round(delta[:, 1] / Ly)\n",
    "        delta[:, 2] -= Lz * np.round(delta[:, 2] / Lz)\n",
    "\n",
    "        unwrapped = ref + delta\n",
    "        com = np.mean(unwrapped, axis=0)\n",
    "\n",
    "        # Wrap CoM into [-L/2, L/2]\n",
    "        com[0] = (com[0] + Lx/2) % Lx - Lx/2\n",
    "        com[1] = (com[1] + Ly/2) % Ly - Ly/2\n",
    "        com[2] = (com[2] + Lz/2) % Lz - Lz/2\n",
    "\n",
    "        flake_coms.append(com)\n",
    "\n",
    "    return np.array(flake_coms)\n"
   ]
  },
  {
   "cell_type": "code",
   "execution_count": 85,
   "id": "a634b1c3-8f25-4328-86a6-01a3e3363022",
   "metadata": {},
   "outputs": [],
   "source": [
    "def compute_all_flake_coms_from_38th(flake_positions, box_lengths, beads_per_flake=50):\n",
    "    Lx, Ly, Lz = box_lengths\n",
    "    n_flakes = len(flake_positions) // beads_per_flake\n",
    "    flake_coms = []\n",
    "\n",
    "    for i in range(n_flakes):\n",
    "        idx = i * beads_per_flake + 37\n",
    "        pos = np.array(flake_positions[idx])\n",
    "\n",
    "        # Wrap position into [-L/2, L/2]\n",
    "        pos[0] = (pos[0] + Lx / 2) % Lx - Lx / 2\n",
    "        pos[1] = (pos[1] + Ly / 2) % Ly - Ly / 2\n",
    "        pos[2] = (pos[2] + Lz / 2) % Lz - Lz / 2\n",
    "\n",
    "        flake_coms.append(pos)\n",
    "\n",
    "    return np.array(flake_coms)"
   ]
  },
  {
   "cell_type": "code",
   "execution_count": 86,
   "id": "d65c9660-1876-4497-96eb-afcc930d73b1",
   "metadata": {},
   "outputs": [],
   "source": [
    "def find_flake_neighbors(coms, box_lengths, cutoff):\n",
    "    Lx, Ly, Lz = box_lengths\n",
    "    n = len(coms)\n",
    "    for i in range(n):\n",
    "        neighbors = []\n",
    "        for j in range(n):\n",
    "            if i == j:\n",
    "                continue\n",
    "            dr = coms[j] - coms[i]\n",
    "            dr[0] -= Lx * np.round(dr[0] / Lx)\n",
    "            dr[1] -= Ly * np.round(dr[1] / Ly)\n",
    "            dr[2] -= Lz * np.round(dr[2] / Lz)\n",
    "            dist = np.linalg.norm(dr)\n",
    "            if dist < cutoff:\n",
    "                neighbors.append((j, dist))\n",
    "        if neighbors:\n",
    "            neighbor_str = \", \".join([f\"Flake {j} (distance: {d:.2f})\" for j, d in neighbors])\n",
    "            print(f\"Flake {i} is neighbors with: {neighbor_str}\")\n",
    "        else:\n",
    "            print(f\"Flake {i} has no neighbors within cutoff range.\")"
   ]
  },
  {
   "cell_type": "code",
   "execution_count": 87,
   "id": "fb604c84-7a90-4505-9d2d-7e0d690e0576",
   "metadata": {},
   "outputs": [],
   "source": [
    "traj = gsd.hoomd.open(\"100_10mer10f_0.0005dt_7kT_large.gsd\")\n",
    "frame = traj[93220]  # frame index"
   ]
  },
  {
   "cell_type": "code",
   "execution_count": 92,
   "id": "a418fa72-f6e3-471f-844c-13637692f3e9",
   "metadata": {},
   "outputs": [
    {
     "name": "stdout",
     "output_type": "stream",
     "text": [
      "Flake 0 has no neighbors within cutoff range.\n",
      "Flake 1 has no neighbors within cutoff range.\n",
      "Flake 2 has no neighbors within cutoff range.\n",
      "Flake 3 has no neighbors within cutoff range.\n",
      "Flake 4 has no neighbors within cutoff range.\n",
      "Flake 5 has no neighbors within cutoff range.\n",
      "Flake 6 is neighbors with: Flake 8 (distance: 1.11), Flake 9 (distance: 2.44)\n",
      "Flake 7 has no neighbors within cutoff range.\n",
      "Flake 8 is neighbors with: Flake 6 (distance: 1.11), Flake 9 (distance: 1.34)\n",
      "Flake 9 is neighbors with: Flake 6 (distance: 2.44), Flake 8 (distance: 1.34)\n"
     ]
    }
   ],
   "source": [
    "flake_type = \"F\"\n",
    "flake_typeid = frame.particles.types.index(flake_type)\n",
    "positions = frame.particles.position\n",
    "typeids = frame.particles.typeid\n",
    "flake_positions = positions[typeids == flake_typeid]\n",
    "\n",
    "Lx, Ly, Lz = frame.configuration.box[:3]\n",
    "\n",
    "flake_coms = compute_all_flake_coms_from_38th(flake_positions, (Lx, Ly, Lz), beads_per_flake=50)\n",
    "find_flake_neighbors(flake_coms, (Lx, Ly, Lz), cutoff=2.5)"
   ]
  },
  {
   "cell_type": "code",
   "execution_count": 93,
   "id": "413fc08e-fc83-4211-83d0-9ab0c0f262e6",
   "metadata": {},
   "outputs": [
    {
     "name": "stdout",
     "output_type": "stream",
     "text": [
      "17.09976 17.09976 17.09976\n"
     ]
    }
   ],
   "source": [
    "print(Lx,Ly,Lz)"
   ]
  },
  {
   "cell_type": "code",
   "execution_count": 94,
   "id": "1dd91d43-1db7-46f2-8e8c-7173db07b95b",
   "metadata": {},
   "outputs": [
    {
     "name": "stdout",
     "output_type": "stream",
     "text": [
      "[[-1.8657905   7.174376    0.13797691]\n",
      " [-6.596167    7.675875   -7.200569  ]\n",
      " [ 8.170121   -1.5282594   3.7152588 ]\n",
      " [ 4.464428    2.351693    5.5135465 ]\n",
      " [-1.7335142  -5.094418    1.9472373 ]\n",
      " [-2.6565433  -4.2195535  -3.1058908 ]\n",
      " [ 4.866673   -2.4554129   2.6737108 ]\n",
      " [-4.514638    2.8086731  -7.7552233 ]\n",
      " [ 4.31046    -1.4952607   2.7449508 ]\n",
      " [ 3.8405015  -0.24392131  2.6731768 ]]\n"
     ]
    }
   ],
   "source": [
    "print(flake_coms)"
   ]
  },
  {
   "cell_type": "code",
   "execution_count": 38,
   "id": "87344f42-7f98-4b1d-9217-1eb6e7295bd8",
   "metadata": {},
   "outputs": [
    {
     "data": {
      "text/plain": [
       "array([0.58595276, 7.2629943 , 8.231641  ], dtype=float32)"
      ]
     },
     "execution_count": 38,
     "metadata": {},
     "output_type": "execute_result"
    }
   ],
   "source": [
    "flake_coms[7]"
   ]
  },
  {
   "cell_type": "code",
   "execution_count": 39,
   "id": "58259768-6eb2-4e32-b3bb-63ebbc620efb",
   "metadata": {},
   "outputs": [
    {
     "data": {
      "text/plain": [
       "10"
      ]
     },
     "execution_count": 39,
     "metadata": {},
     "output_type": "execute_result"
    }
   ],
   "source": [
    "len(flake_coms)"
   ]
  },
  {
   "cell_type": "code",
   "execution_count": 45,
   "id": "69cfce68-09a0-4a2e-ab8c-4d0fec8d902a",
   "metadata": {},
   "outputs": [
    {
     "data": {
      "text/plain": [
       "array([-0.8008323, -4.3493123, -6.192117 ], dtype=float32)"
      ]
     },
     "execution_count": 45,
     "metadata": {},
     "output_type": "execute_result"
    }
   ],
   "source": [
    "flake_coms[9]"
   ]
  },
  {
   "cell_type": "code",
   "execution_count": 47,
   "id": "74532be1-384a-488e-9912-a6b3bfed738b",
   "metadata": {},
   "outputs": [
    {
     "data": {
      "text/plain": [
       "array([0.58595276, 7.2629943 , 8.231641  ], dtype=float32)"
      ]
     },
     "execution_count": 47,
     "metadata": {},
     "output_type": "execute_result"
    }
   ],
   "source": [
    "flake_coms[7]"
   ]
  },
  {
   "cell_type": "code",
   "execution_count": 50,
   "id": "1be516f2-43b9-43fb-946d-1dc1feb11035",
   "metadata": {},
   "outputs": [],
   "source": [
    "def mic_distance(pos1, pos2, box_lengths):\n",
    "    Lx, Ly, Lz = box_lengths\n",
    "    dr = pos1 - pos2\n",
    "    dr[0] -= Lx * np.round(dr[0] / Lx)\n",
    "    dr[1] -= Ly * np.round(dr[1] / Ly)\n",
    "    dr[2] -= Lz * np.round(dr[2] / Lz)\n",
    "    return np.linalg.norm(dr)"
   ]
  },
  {
   "cell_type": "code",
   "execution_count": 65,
   "id": "9aba9f26-b512-4d04-8aa6-8df014a8c3c8",
   "metadata": {},
   "outputs": [
    {
     "name": "stdout",
     "output_type": "stream",
     "text": [
      "2.165086\n"
     ]
    }
   ],
   "source": [
    "box_lengths = (17.09976, 17.09976, 17.09976)\n",
    "distance = mic_distance(flake_coms[8], flake_coms[9], box_lengths)\n",
    "print(distance)"
   ]
  },
  {
   "cell_type": "code",
   "execution_count": 66,
   "id": "2a5aef84-3546-4579-8f0a-cb5f24bbf185",
   "metadata": {},
   "outputs": [
    {
     "name": "stdout",
     "output_type": "stream",
     "text": [
      "2.165086\n"
     ]
    }
   ],
   "source": [
    "distance = np.linalg.norm(flake_coms[8] - flake_coms[9])\n",
    "print(distance)"
   ]
  },
  {
   "cell_type": "code",
   "execution_count": 67,
   "id": "63ce001d-7a02-459c-8f82-3e02768f75d8",
   "metadata": {},
   "outputs": [
    {
     "name": "stdout",
     "output_type": "stream",
     "text": [
      "[ 4.5307055 -1.2893027  4.8112273]\n"
     ]
    }
   ],
   "source": [
    "print(flake_coms[8])"
   ]
  },
  {
   "cell_type": "code",
   "execution_count": 68,
   "id": "c79f95e0-c2ab-48e3-b86c-a5c9ea248df2",
   "metadata": {},
   "outputs": [
    {
     "name": "stdout",
     "output_type": "stream",
     "text": [
      "[ 4.0351806  -0.09554996  6.5481806 ]\n"
     ]
    }
   ],
   "source": [
    "print(flake_coms[9])"
   ]
  },
  {
   "cell_type": "code",
   "execution_count": null,
   "id": "333adb30-4913-46f2-9aac-52eab2386c95",
   "metadata": {},
   "outputs": [],
   "source": []
  }
 ],
 "metadata": {
  "kernelspec": {
   "display_name": "Python 3 (ipykernel)",
   "language": "python",
   "name": "python3"
  },
  "language_info": {
   "codemirror_mode": {
    "name": "ipython",
    "version": 3
   },
   "file_extension": ".py",
   "mimetype": "text/x-python",
   "name": "python",
   "nbconvert_exporter": "python",
   "pygments_lexer": "ipython3",
   "version": "3.12.0"
  }
 },
 "nbformat": 4,
 "nbformat_minor": 5
}
