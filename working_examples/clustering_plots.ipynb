{
 "cells": [
  {
   "cell_type": "code",
   "execution_count": 9,
   "id": "2eadee4b-e3fc-4dd6-9709-a92a0d91f5a9",
   "metadata": {},
   "outputs": [],
   "source": [
    "import gsd.hoomd\n",
    "import numpy as np\n",
    "import matplotlib.pyplot as plt"
   ]
  },
  {
   "cell_type": "code",
   "execution_count": 10,
   "id": "d07d2bcc-875d-4a60-82d4-2cda752b53ef",
   "metadata": {},
   "outputs": [],
   "source": [
    "def compute_all_flake_coms(flake_positions, box_lengths, beads_per_flake=50):\n",
    "    Lx, Ly, Lz = box_lengths\n",
    "    n_flakes = len(flake_positions) // beads_per_flake\n",
    "    flake_coms = []\n",
    "\n",
    "    for i in range(n_flakes):\n",
    "        flake = flake_positions[i * beads_per_flake : (i + 1) * beads_per_flake]\n",
    "        ref = flake[0]\n",
    "        delta = flake - ref\n",
    "\n",
    "        # Minimum image convention\n",
    "        delta[:, 0] -= Lx * np.round(delta[:, 0] / Lx)\n",
    "        delta[:, 1] -= Ly * np.round(delta[:, 1] / Ly)\n",
    "        delta[:, 2] -= Lz * np.round(delta[:, 2] / Lz)\n",
    "\n",
    "        unwrapped = ref + delta\n",
    "        com = np.mean(unwrapped, axis=0)\n",
    "\n",
    "        # Wrap CoM into [-L/2, L/2]\n",
    "        com[0] = (com[0] + Lx/2) % Lx - Lx/2\n",
    "        com[1] = (com[1] + Ly/2) % Ly - Ly/2\n",
    "        com[2] = (com[2] + Lz/2) % Lz - Lz/2\n",
    "\n",
    "        flake_coms.append(com)\n",
    "\n",
    "    return np.array(flake_coms)\n"
   ]
  },
  {
   "cell_type": "code",
   "execution_count": 11,
   "id": "44a4b5b1-3a0a-499c-a4f8-a2b0fdf2eaaa",
   "metadata": {},
   "outputs": [],
   "source": [
    "def count_clusters(flake_coms, box_lengths, cutoff):\n",
    "    Lx, Ly, Lz = box_lengths\n",
    "    n = len(flake_coms)\n",
    "    adjacency = [set() for _ in range(n)]\n",
    "\n",
    "    # Build adjacency list using MIC\n",
    "    for i in range(n):\n",
    "        for j in range(i + 1, n):\n",
    "            dr = flake_coms[j] - flake_coms[i]\n",
    "            dr[0] -= Lx * np.round(dr[0] / Lx)\n",
    "            dr[1] -= Ly * np.round(dr[1] / Ly)\n",
    "            dr[2] -= Lz * np.round(dr[2] / Lz)\n",
    "            dist = np.linalg.norm(dr)\n",
    "            if dist < cutoff:\n",
    "                adjacency[i].add(j)\n",
    "                adjacency[j].add(i)\n",
    "\n",
    "    visited = set()\n",
    "    clusters = []\n",
    "\n",
    "    # DFS to build clusters\n",
    "    for i in range(n):\n",
    "        if i not in visited and adjacency[i]:\n",
    "            cluster = []\n",
    "            stack = [i]\n",
    "            while stack:\n",
    "                current = stack.pop()\n",
    "                if current not in visited:\n",
    "                    visited.add(current)\n",
    "                    cluster.append(current)\n",
    "                    stack.extend(adjacency[current] - visited)\n",
    "            if len(cluster) > 1:  # Only count as cluster if size > 1\n",
    "                clusters.append(cluster)\n",
    "\n",
    "    return len(clusters), [len(c) for c in clusters]\n"
   ]
  },
  {
   "cell_type": "code",
   "execution_count": 12,
   "id": "1e2a8371-8fc0-44f7-ae7f-c004eb1771a3",
   "metadata": {},
   "outputs": [],
   "source": [
    "def analyze_clusters_over_time(traj, start=0, step=1000, cutoff=2.5, beads_per_flake=50):\n",
    "    times = []\n",
    "    n_clusters_list = []\n",
    "    avg_cluster_sizes = []\n",
    "\n",
    "    for frame_idx in range(start, len(traj), step):\n",
    "        frame = traj[frame_idx]\n",
    "        box_lengths = frame.configuration.box[:3]\n",
    "\n",
    "        flake_type = \"F\"\n",
    "        flake_typeid = frame.particles.types.index(flake_type)\n",
    "        positions = frame.particles.position\n",
    "        typeids = frame.particles.typeid\n",
    "        flake_positions = positions[typeids == flake_typeid]\n",
    "\n",
    "        flake_coms = compute_all_flake_coms(flake_positions, box_lengths, beads_per_flake)\n",
    "        n_clusters, sizes = count_clusters(flake_coms, box_lengths, cutoff)\n",
    "\n",
    "        times.append(frame_idx)\n",
    "        n_clusters_list.append(n_clusters)\n",
    "        avg_cluster_sizes.append(np.mean(sizes) if sizes else 0)\n",
    "\n",
    "    return times, n_clusters_list, avg_cluster_sizes"
   ]
  },
  {
   "cell_type": "code",
   "execution_count": 13,
   "id": "330a659a-e793-441f-8467-ece43451d4a8",
   "metadata": {},
   "outputs": [],
   "source": [
    "traj = gsd.hoomd.open(\"100_10mer10f_0.0005dt_7kT_large.gsd\")\n",
    "times, n_clusters, avg_sizes = analyze_clusters_over_time(\n",
    "    traj,\n",
    "    start=5000,   # post-shrink\n",
    "    step=20,\n",
    "    cutoff=2.5,\n",
    "    beads_per_flake=50\n",
    ")"
   ]
  },
  {
   "cell_type": "code",
   "execution_count": 14,
   "id": "7217fadb-1e36-4144-856e-5e0ed85d6a1d",
   "metadata": {},
   "outputs": [
    {
     "data": {
      "image/png": "[encoded data removed]",
      "text/plain": [
       "<Figure size 1200x500 with 2 Axes>"
      ]
     },
     "metadata": {},
     "output_type": "display_data"
    }
   ],
   "source": [
    "plt.figure(figsize=(12, 5))\n",
    "plt.subplot(1, 2, 1)\n",
    "plt.plot(times[4400:4415], n_clusters[4400:4415], marker='o')\n",
    "plt.title(\"Number of Clusters Over Time\")\n",
    "plt.xlabel(\"Frame\")\n",
    "plt.ylabel(\"Cluster Count\")\n",
    "\n",
    "plt.subplot(1, 2, 2)\n",
    "plt.plot(times[4400:4415], avg_sizes[4400:4415], marker='s', color='orange')\n",
    "plt.title(\"Average Cluster Size Over Time\")\n",
    "plt.xlabel(\"Frame\")\n",
    "plt.ylabel(\"Avg. Cluster Size\")\n",
    "\n",
    "plt.tight_layout()\n",
    "plt.show()"
   ]
  },
  {
   "cell_type": "code",
   "execution_count": 17,
   "id": "ee8ac22b-7e20-4df4-bec7-cbfdfe654a4e",
   "metadata": {},
   "outputs": [
    {
     "ename": "IndexError",
     "evalue": "list index out of range",
     "output_type": "error",
     "traceback": [
      "\u001b[31m---------------------------------------------------------------------------\u001b[39m",
      "\u001b[31mIndexError\u001b[39m                                Traceback (most recent call last)",
      "\u001b[36mCell\u001b[39m\u001b[36m \u001b[39m\u001b[32mIn[17]\u001b[39m\u001b[32m, line 1\u001b[39m\n\u001b[32m----> \u001b[39m\u001b[32m1\u001b[39m \u001b[38;5;28mprint\u001b[39m(\u001b[43mavg_sizes\u001b[49m\u001b[43m[\u001b[49m\u001b[32;43m4411\u001b[39;49m\u001b[43m]\u001b[49m)\n",
      "\u001b[31mIndexError\u001b[39m: list index out of range"
     ]
    }
   ],
   "source": [
    "print(avg_sizes[4411])"
   ]
  },
  {
   "cell_type": "code",
   "execution_count": 7,
   "id": "db8aad27-7ad7-4427-a0c1-087c25a04b6c",
   "metadata": {},
   "outputs": [
    {
     "data": {
      "text/plain": [
       "5001"
      ]
     },
     "execution_count": 7,
     "metadata": {},
     "output_type": "execute_result"
    }
   ],
   "source": [
    "len(times)"
   ]
  },
  {
   "cell_type": "code",
   "execution_count": 8,
   "id": "a634b1c3-8f25-4328-86a6-01a3e3363022",
   "metadata": {},
   "outputs": [],
   "source": [
    "def compute_all_flake_coms_from_38th(flake_positions, box_lengths, beads_per_flake=50):\n",
    "    Lx, Ly, Lz = box_lengths\n",
    "    n_flakes = len(flake_positions) // beads_per_flake\n",
    "    flake_coms = []\n",
    "\n",
    "    for i in range(n_flakes):\n",
    "        idx = i * beads_per_flake + 37\n",
    "        pos = np.array(flake_positions[idx])\n",
    "\n",
    "        # Wrap position into [-L/2, L/2]\n",
    "        pos[0] = (pos[0] + Lx / 2) % Lx - Lx / 2\n",
    "        pos[1] = (pos[1] + Ly / 2) % Ly - Ly / 2\n",
    "        pos[2] = (pos[2] + Lz / 2) % Lz - Lz / 2\n",
    "\n",
    "        flake_coms.append(pos)\n",
    "\n",
    "    return np.array(flake_coms)"
   ]
  },
  {
   "cell_type": "code",
   "execution_count": 9,
   "id": "d65c9660-1876-4497-96eb-afcc930d73b1",
   "metadata": {},
   "outputs": [],
   "source": [
    "def find_flake_neighbors(coms, box_lengths, cutoff):\n",
    "    Lx, Ly, Lz = box_lengths\n",
    "    n = len(coms)\n",
    "    for i in range(n):\n",
    "        neighbors = []\n",
    "        for j in range(n):\n",
    "            if i == j:\n",
    "                continue\n",
    "            dr = coms[j] - coms[i]\n",
    "            dr[0] -= Lx * np.round(dr[0] / Lx)\n",
    "            dr[1] -= Ly * np.round(dr[1] / Ly)\n",
    "            dr[2] -= Lz * np.round(dr[2] / Lz)\n",
    "            dist = np.linalg.norm(dr)\n",
    "            if dist < cutoff:\n",
    "                neighbors.append((j, dist))\n",
    "        if neighbors:\n",
    "            neighbor_str = \", \".join([f\"Flake {j} (distance: {d:.2f})\" for j, d in neighbors])\n",
    "            print(f\"Flake {i} is neighbors with: {neighbor_str}\")\n",
    "        else:\n",
    "            print(f\"Flake {i} has no neighbors within cutoff range.\")"
   ]
  },
  {
   "cell_type": "code",
   "execution_count": 23,
   "id": "fb604c84-7a90-4505-9d2d-7e0d690e0576",
   "metadata": {},
   "outputs": [],
   "source": [
    "traj = gsd.hoomd.open(\"100_10mer10f_0.0005dt_7kT_large.gsd\")\n",
    "frame = traj[93180]  # frame index"
   ]
  },
  {
   "cell_type": "code",
   "execution_count": 24,
   "id": "a418fa72-f6e3-471f-844c-13637692f3e9",
   "metadata": {},
   "outputs": [
    {
     "name": "stdout",
     "output_type": "stream",
     "text": [
      "Flake 0 is neighbors with: Flake 6 (distance: 1.04)\n",
      "Flake 1 has no neighbors within cutoff range.\n",
      "Flake 2 has no neighbors within cutoff range.\n",
      "Flake 3 is neighbors with: Flake 9 (distance: 2.35)\n",
      "Flake 4 has no neighbors within cutoff range.\n",
      "Flake 5 has no neighbors within cutoff range.\n",
      "Flake 6 is neighbors with: Flake 8 (distance: 1.26)\n",
      "Flake 7 has no neighbors within cutoff range.\n",
      "Flake 8 is neighbors with: Flake 6 (distance: 1.26)\n",
      "Flake 9 is neighbors with: Flake 3 (distance: 2.35)\n"
     ]
    }
   ],
   "source": [
    "flake_type = \"F\"\n",
    "flake_typeid = frame.particles.types.index(flake_type)\n",
    "positions = frame.particles.position\n",
    "typeids = frame.particles.typeid\n",
    "flake_positions = positions[typeids == flake_typeid]\n",
    "\n",
    "Lx, Ly, Lz = frame.configuration.box[:3]\n",
    "\n",
    "flake_coms = compute_all_flake_coms(flake_positions, (Lx, Ly, Lz), beads_per_flake=50)\n",
    "find_flake_neighbors(flake_coms, (Lx, Ly, Lz), cutoff=2.5)"
   ]
  },
  {
   "cell_type": "code",
   "execution_count": 67,
   "id": "413fc08e-fc83-4211-83d0-9ab0c0f262e6",
   "metadata": {},
   "outputs": [
    {
     "name": "stdout",
     "output_type": "stream",
     "text": [
      "17.09976 17.09976 17.09976\n"
     ]
    }
   ],
   "source": [
    "print(Lx,Ly,Lz)"
   ]
  },
  {
   "cell_type": "code",
   "execution_count": 68,
   "id": "1dd91d43-1db7-46f2-8e8c-7173db07b95b",
   "metadata": {},
   "outputs": [
    {
     "name": "stdout",
     "output_type": "stream",
     "text": [
      "[[-1.8657905   7.174376    0.13797691]\n",
      " [-6.596167    7.675875   -7.200569  ]\n",
      " [ 8.170121   -1.5282594   3.7152588 ]\n",
      " [ 4.464428    2.351693    5.5135465 ]\n",
      " [-1.7335142  -5.094418    1.9472373 ]\n",
      " [-2.6565433  -4.2195535  -3.1058908 ]\n",
      " [ 4.866673   -2.4554129   2.6737108 ]\n",
      " [-4.514638    2.8086731  -7.7552233 ]\n",
      " [ 4.31046    -1.4952607   2.7449508 ]\n",
      " [ 3.8405015  -0.24392131  2.6731768 ]]\n"
     ]
    }
   ],
   "source": [
    "print(flake_coms)"
   ]
  },
  {
   "cell_type": "code",
   "execution_count": 10,
   "id": "87344f42-7f98-4b1d-9217-1eb6e7295bd8",
   "metadata": {},
   "outputs": [
    {
     "data": {
      "text/plain": [
       "array([-4.514638 ,  2.8086731, -7.7552233], dtype=float32)"
      ]
     },
     "execution_count": 10,
     "metadata": {},
     "output_type": "execute_result"
    }
   ],
   "source": [
    "flake_coms[7]"
   ]
  },
  {
   "cell_type": "code",
   "execution_count": 11,
   "id": "58259768-6eb2-4e32-b3bb-63ebbc620efb",
   "metadata": {},
   "outputs": [
    {
     "data": {
      "text/plain": [
       "10"
      ]
     },
     "execution_count": 11,
     "metadata": {},
     "output_type": "execute_result"
    }
   ],
   "source": [
    "len(flake_coms)"
   ]
  },
  {
   "cell_type": "code",
   "execution_count": 12,
   "id": "69cfce68-09a0-4a2e-ab8c-4d0fec8d902a",
   "metadata": {},
   "outputs": [
    {
     "data": {
      "text/plain": [
       "array([ 3.8405015 , -0.24392131,  2.6731768 ], dtype=float32)"
      ]
     },
     "execution_count": 12,
     "metadata": {},
     "output_type": "execute_result"
    }
   ],
   "source": [
    "flake_coms[9]"
   ]
  },
  {
   "cell_type": "code",
   "execution_count": 13,
   "id": "74532be1-384a-488e-9912-a6b3bfed738b",
   "metadata": {},
   "outputs": [
    {
     "data": {
      "text/plain": [
       "array([-4.514638 ,  2.8086731, -7.7552233], dtype=float32)"
      ]
     },
     "execution_count": 13,
     "metadata": {},
     "output_type": "execute_result"
    }
   ],
   "source": [
    "flake_coms[7]"
   ]
  },
  {
   "cell_type": "code",
   "execution_count": 14,
   "id": "1be516f2-43b9-43fb-946d-1dc1feb11035",
   "metadata": {},
   "outputs": [],
   "source": [
    "def mic_distance(pos1, pos2, box_lengths):\n",
    "    Lx, Ly, Lz = box_lengths\n",
    "    dr = pos1 - pos2\n",
    "    dr[0] -= Lx * np.round(dr[0] / Lx)\n",
    "    dr[1] -= Ly * np.round(dr[1] / Ly)\n",
    "    dr[2] -= Lz * np.round(dr[2] / Lz)\n",
    "    return np.linalg.norm(dr)"
   ]
  },
  {
   "cell_type": "code",
   "execution_count": 15,
   "id": "9aba9f26-b512-4d04-8aa6-8df014a8c3c8",
   "metadata": {},
   "outputs": [
    {
     "name": "stdout",
     "output_type": "stream",
     "text": [
      "1.3386048\n"
     ]
    }
   ],
   "source": [
    "box_lengths = (17.09976, 17.09976, 17.09976)\n",
    "distance = mic_distance(flake_coms[8], flake_coms[9], box_lengths)\n",
    "print(distance)"
   ]
  },
  {
   "cell_type": "code",
   "execution_count": 16,
   "id": "2a5aef84-3546-4579-8f0a-cb5f24bbf185",
   "metadata": {},
   "outputs": [
    {
     "name": "stdout",
     "output_type": "stream",
     "text": [
      "1.3386048\n"
     ]
    }
   ],
   "source": [
    "distance = np.linalg.norm(flake_coms[8] - flake_coms[9])\n",
    "print(distance)"
   ]
  },
  {
   "cell_type": "code",
   "execution_count": 17,
   "id": "63ce001d-7a02-459c-8f82-3e02768f75d8",
   "metadata": {},
   "outputs": [
    {
     "name": "stdout",
     "output_type": "stream",
     "text": [
      "[ 4.31046   -1.4952607  2.7449508]\n"
     ]
    }
   ],
   "source": [
    "print(flake_coms[8])"
   ]
  },
  {
   "cell_type": "code",
   "execution_count": 18,
   "id": "c79f95e0-c2ab-48e3-b86c-a5c9ea248df2",
   "metadata": {},
   "outputs": [
    {
     "name": "stdout",
     "output_type": "stream",
     "text": [
      "[ 3.8405015  -0.24392131  2.6731768 ]\n"
     ]
    }
   ],
   "source": [
    "print(flake_coms[9])"
   ]
  },
  {
   "cell_type": "code",
   "execution_count": null,
   "id": "2e9163c9-415d-44c1-8494-d04689ae33f9",
   "metadata": {},
   "outputs": [],
   "source": []
  }
 ],
 "metadata": {
  "kernelspec": {
   "display_name": "Python 3 (ipykernel)",
   "language": "python",
   "name": "python3"
  },
  "language_info": {
   "codemirror_mode": {
    "name": "ipython",
    "version": 3
   },
   "file_extension": ".py",
   "mimetype": "text/x-python",
   "name": "python",
   "nbconvert_exporter": "python",
   "pygments_lexer": "ipython3",
   "version": "3.12.11"
  }
 },
 "nbformat": 4,
 "nbformat_minor": 5
}
