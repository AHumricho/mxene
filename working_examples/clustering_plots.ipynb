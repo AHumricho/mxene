{
 "cells": [
  {
   "cell_type": "code",
   "execution_count": 1,
   "id": "2eadee4b-e3fc-4dd6-9709-a92a0d91f5a9",
   "metadata": {},
   "outputs": [],
   "source": [
    "import gsd.hoomd\n",
    "import numpy as np"
   ]
  },
  {
   "cell_type": "code",
   "execution_count": 2,
   "id": "d07d2bcc-875d-4a60-82d4-2cda752b53ef",
   "metadata": {},
   "outputs": [],
   "source": [
    "def compute_all_flake_coms(flake_positions, box_lengths, beads_per_flake=50):\n",
    "    Lx, Ly, Lz = box_lengths\n",
    "    n_flakes = len(flake_positions) // beads_per_flake\n",
    "    flake_coms = []\n",
    "\n",
    "    for i in range(n_flakes):\n",
    "        flake = flake_positions[i * beads_per_flake : (i + 1) * beads_per_flake]\n",
    "        ref = flake[0]\n",
    "        delta = flake - ref\n",
    "\n",
    "        # Minimum image convention\n",
    "        delta[:, 0] -= Lx * np.round(delta[:, 0] / Lx)\n",
    "        delta[:, 1] -= Ly * np.round(delta[:, 1] / Ly)\n",
    "        delta[:, 2] -= Lz * np.round(delta[:, 2] / Lz)\n",
    "\n",
    "        unwrapped = ref + delta\n",
    "        com = np.mean(unwrapped, axis=0)\n",
    "        flake_coms.append(com)\n",
    "\n",
    "    return np.array(flake_coms)"
   ]
  },
  {
   "cell_type": "code",
   "execution_count": 3,
   "id": "d65c9660-1876-4497-96eb-afcc930d73b1",
   "metadata": {},
   "outputs": [],
   "source": [
    "def find_flake_neighbors(coms, box_lengths, cutoff):\n",
    "    Lx, Ly, Lz = box_lengths\n",
    "    n = len(coms)\n",
    "    for i in range(n):\n",
    "        neighbors = []\n",
    "        for j in range(n):\n",
    "            if i == j:\n",
    "                continue\n",
    "            dr = coms[j] - coms[i]\n",
    "            dr[0] -= Lx * np.round(dr[0] / Lx)\n",
    "            dr[1] -= Ly * np.round(dr[1] / Ly)\n",
    "            dr[2] -= Lz * np.round(dr[2] / Lz)\n",
    "            dist = np.linalg.norm(dr)\n",
    "            if dist < cutoff:\n",
    "                neighbors.append((j, dist))\n",
    "        if neighbors:\n",
    "            neighbor_str = \", \".join([f\"Flake {j} (distance: {d:.2f})\" for j, d in neighbors])\n",
    "            print(f\"Flake {i} is neighbors with: {neighbor_str}\")\n",
    "        else:\n",
    "            print(f\"Flake {i} has no neighbors within cutoff range.\")"
   ]
  },
  {
   "cell_type": "code",
   "execution_count": 4,
   "id": "fb604c84-7a90-4505-9d2d-7e0d690e0576",
   "metadata": {},
   "outputs": [],
   "source": [
    "traj = gsd.hoomd.open(\"100_10mer10f_0.0005dt_7kT_large.gsd\")\n",
    "frame = traj[93220]  # frame index"
   ]
  },
  {
   "cell_type": "code",
   "execution_count": 5,
   "id": "a418fa72-f6e3-471f-844c-13637692f3e9",
   "metadata": {},
   "outputs": [
    {
     "name": "stdout",
     "output_type": "stream",
     "text": [
      "Flake 0 has no neighbors within cutoff range.\n",
      "Flake 1 has no neighbors within cutoff range.\n",
      "Flake 2 is neighbors with: Flake 6 (distance: 1.15), Flake 8 (distance: 2.27)\n",
      "Flake 3 has no neighbors within cutoff range.\n",
      "Flake 4 has no neighbors within cutoff range.\n",
      "Flake 5 has no neighbors within cutoff range.\n",
      "Flake 6 is neighbors with: Flake 2 (distance: 1.15)\n",
      "Flake 7 has no neighbors within cutoff range.\n",
      "Flake 8 is neighbors with: Flake 2 (distance: 2.27), Flake 9 (distance: 2.17)\n",
      "Flake 9 is neighbors with: Flake 8 (distance: 2.17)\n"
     ]
    }
   ],
   "source": [
    "flake_type = \"F\"\n",
    "flake_typeid = frame.particles.types.index(flake_type)\n",
    "positions = frame.particles.position\n",
    "typeids = frame.particles.typeid\n",
    "flake_positions = positions[typeids == flake_typeid]\n",
    "\n",
    "Lx, Ly, Lz = frame.configuration.box[:3]\n",
    "\n",
    "flake_coms = compute_all_flake_coms(flake_positions, (Lx, Ly, Lz), beads_per_flake=50)\n",
    "find_flake_neighbors(flake_coms, (Lx, Ly, Lz), cutoff=2.5)"
   ]
  },
  {
   "cell_type": "code",
   "execution_count": null,
   "id": "1dd91d43-1db7-46f2-8e8c-7173db07b95b",
   "metadata": {},
   "outputs": [],
   "source": []
  }
 ],
 "metadata": {
  "kernelspec": {
   "display_name": "Python 3 (ipykernel)",
   "language": "python",
   "name": "python3"
  },
  "language_info": {
   "codemirror_mode": {
    "name": "ipython",
    "version": 3
   },
   "file_extension": ".py",
   "mimetype": "text/x-python",
   "name": "python",
   "nbconvert_exporter": "python",
   "pygments_lexer": "ipython3",
   "version": "3.12.0"
  }
 },
 "nbformat": 4,
 "nbformat_minor": 5
}
