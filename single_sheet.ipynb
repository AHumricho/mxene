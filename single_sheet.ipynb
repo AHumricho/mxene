{
 "cells": [
  {
   "cell_type": "code",
   "execution_count": 39,
   "id": "fab69424-bc80-46ed-b299-8abc057381d6",
   "metadata": {},
   "outputs": [
    {
     "name": "stderr",
     "output_type": "stream",
     "text": [
      "/home/eridanirojas/miniconda3/envs/flowermd-dev/lib/python3.12/site-packages/mbuild/compound.py:547: UserWarning: Some particle of <Compound 100 particles, 135 bonds, System box: Box: Lx=2.125000, Ly=1.230000, Lz=0.350000, xy=0.000000, xz=0.000000, yz=0.000000, , id: 140269008245952> does not have a charge.They will not be accounted for during this calculation.\n",
      "  warn(\n"
     ]
    }
   ],
   "source": [
    "from flowermd.base import Molecule\n",
    "from flowermd.base import Pack\n",
    "from flowermd.library import Graphene\n",
    "import math\n",
    "\n",
    "sheet = Graphene(x_repeat=5, y_repeat=5, n_layers=1, periodicity=(False,False,False))\n",
    "system = Pack(molecules= Molecule(compound=sheet.all_molecules[0], num_mols=1), density = 0.5)"
   ]
  },
  {
   "cell_type": "code",
   "execution_count": 40,
   "id": "6b27f7dc-2ba1-4078-b0de-3dc8cbae4d3b",
   "metadata": {},
   "outputs": [
    {
     "name": "stderr",
     "output_type": "stream",
     "text": [
      "/home/eridanirojas/miniconda3/envs/flowermd-dev/lib/python3.12/site-packages/mbuild/compound.py:547: UserWarning: Some particle of <Compound 100 particles, 135 bonds, System box: Box: Lx=7.929688, Ly=7.929688, Lz=7.929688, xy=0.000000, xz=0.000000, yz=0.000000, , id: 140269007943824> does not have a charge.They will not be accounted for during this calculation.\n",
      "  warn(\n"
     ]
    },
    {
     "data": {
      "application/3dmoljs_load.v0": "<div id=\"3dmolviewer_1743008627931599\"  style=\"position: relative; width: 640px; height: 480px;\">\n        <p id=\"3dmolwarning_1743008627931599\" style=\"background-color:#ffcccc;color:black\">3Dmol.js failed to load for some reason.  Please check your browser console for error messages.<br></p>\n        </div>\n<script>\n\nvar loadScriptAsync = function(uri){\n  return new Promise((resolve, reject) => {\n    //this is to ignore the existence of requirejs amd\n    var savedexports, savedmodule;\n    if (typeof exports !== 'undefined') savedexports = exports;\n    else exports = {}\n    if (typeof module !== 'undefined') savedmodule = module;\n    else module = {}\n\n    var tag = document.createElement('script');\n    tag.src = uri;\n    tag.async = true;\n    tag.onload = () => {\n        exports = savedexports;\n        module = savedmodule;\n        resolve();\n    };\n  var firstScriptTag = document.getElementsByTagName('script')[0];\n  firstScriptTag.parentNode.insertBefore(tag, firstScriptTag);\n});\n};\n\nif(typeof $3Dmolpromise === 'undefined') {\n$3Dmolpromise = null;\n  $3Dmolpromise = loadScriptAsync('https://cdnjs.cloudflare.com/ajax/libs/3Dmol/2.4.2/3Dmol-min.js');\n}\n\nvar viewer_1743008627931599 = null;\nvar warn = document.getElementById(\"3dmolwarning_1743008627931599\");\nif(warn) {\n    warn.parentNode.removeChild(warn);\n}\n$3Dmolpromise.then(function() {\nviewer_1743008627931599 = $3Dmol.createViewer(document.getElementById(\"3dmolviewer_1743008627931599\"),{backgroundColor:\"white\"});\nviewer_1743008627931599.zoomTo();\n\tviewer_1743008627931599.addModel(\"@<TRIPOS>MOLECULE\\nRES\\n100 135 1 0 1\\nSMALL\\nNO_CHARGES\\n@<TRIPOS>CRYSIN\\n   79.2969    79.2969    79.2969    90.0000    90.0000    90.0000 1 1\\n@<TRIPOS>ATOM\\n       1 C            2.9208    16.5565    58.8680 C             1 RES     \\n       2 C            5.3721    16.6703    59.0405 C             1 RES     \\n       3 C            7.8234    16.7841    59.2129 C             1 RES     \\n       4 C           10.2747    16.8980    59.3854 C             1 RES     \\n       5 C           12.7260    17.0118    59.5579 C             1 RES     \\n       6 C            2.7016    20.7885    59.1906 C             1 RES     \\n       7 C            5.1529    20.9024    59.3630 C             1 RES     \\n       8 C            7.6042    21.0162    59.5355 C             1 RES     \\n       9 C           10.0555    21.1300    59.7080 C             1 RES     \\n      10 C           12.5068    21.2439    59.8804 C             1 RES     \\n      11 C            2.4823    25.0206    59.5131 C             1 RES     \\n      12 C            4.9337    25.1344    59.6856 C             1 RES     \\n      13 C            7.3850    25.2483    59.8581 C             1 RES     \\n      14 C            9.8363    25.3621    60.0305 C             1 RES     \\n      15 C           12.2876    25.4760    60.2030 C             1 RES     \\n      16 C            2.2631    29.2526    59.8357 C             1 RES     \\n      17 C            4.7144    29.3665    60.0082 C             1 RES     \\n      18 C            7.1657    29.4803    60.1806 C             1 RES     \\n      19 C            9.6170    29.5942    60.3531 C             1 RES     \\n      20 C           12.0683    29.7080    60.5256 C             1 RES     \\n      21 C            2.0439    33.4847    60.1583 C             1 RES     \\n      22 C            4.4952    33.5986    60.3308 C             1 RES     \\n      23 C            6.9465    33.7124    60.5032 C             1 RES     \\n      24 C            9.3978    33.8262    60.6757 C             1 RES     \\n      25 C           11.8491    33.9401    60.8481 C             1 RES     \\n      26 C            2.8477    17.9675    58.9756 C             1 RES     \\n      27 C            5.2990    18.0813    59.1480 C             1 RES     \\n      28 C            7.7503    18.1952    59.3205 C             1 RES     \\n      29 C           10.2016    18.3090    59.4929 C             1 RES     \\n      30 C           12.6529    18.4228    59.6654 C             1 RES     \\n      31 C            2.6285    22.1995    59.2981 C             1 RES     \\n      32 C            5.0798    22.3134    59.4706 C             1 RES     \\n      33 C            7.5311    22.4272    59.6431 C             1 RES     \\n      34 C            9.9824    22.5411    59.8155 C             1 RES     \\n      35 C           12.4337    22.6549    59.9880 C             1 RES     \\n      36 C            2.4092    26.4316    59.6207 C             1 RES     \\n      37 C            4.8606    26.5454    59.7932 C             1 RES     \\n      38 C            7.3119    26.6593    59.9656 C             1 RES     \\n      39 C            9.7632    26.7731    60.1381 C             1 RES     \\n      40 C           12.2145    26.8870    60.3105 C             1 RES     \\n      41 C            2.1900    30.6637    59.9433 C             1 RES     \\n      42 C            4.6413    30.7775    60.1157 C             1 RES     \\n      43 C            7.0926    30.8914    60.2882 C             1 RES     \\n      44 C            9.5439    31.0052    60.4607 C             1 RES     \\n      45 C           11.9952    31.1190    60.6331 C             1 RES     \\n      46 C            1.9708    34.8957    60.2658 C             1 RES     \\n      47 C            4.4221    35.0096    60.4383 C             1 RES     \\n      48 C            6.8734    35.1234    60.6108 C             1 RES     \\n      49 C            9.3247    35.2373    60.7832 C             1 RES     \\n      50 C           11.7760    35.3511    60.9557 C             1 RES     \\n      51 C            4.1830    15.9084    58.9005 C             1 RES     \\n      52 C            6.6343    16.0222    59.0730 C             1 RES     \\n      53 C            9.0856    16.1360    59.2454 C             1 RES     \\n      54 C           11.5369    16.2499    59.4179 C             1 RES     \\n      55 C           13.9882    16.3637    59.5903 C             1 RES     \\n      56 C            3.9638    20.1404    59.2231 C             1 RES     \\n      57 C            6.4151    20.2543    59.3955 C             1 RES     \\n      58 C            8.8664    20.3681    59.5680 C             1 RES     \\n      59 C           11.3177    20.4820    59.7405 C             1 RES     \\n      60 C           13.7690    20.5958    59.9129 C             1 RES     \\n      61 C            3.7445    24.3725    59.5456 C             1 RES     \\n      62 C            6.1958    24.4863    59.7181 C             1 RES     \\n      63 C            8.6471    24.6002    59.8906 C             1 RES     \\n      64 C           11.0984    24.7140    60.0630 C             1 RES     \\n      65 C           13.5497    24.8279    60.2355 C             1 RES     \\n      66 C            3.5253    28.6046    59.8682 C             1 RES     \\n      67 C            5.9766    28.7184    60.0407 C             1 RES     \\n      68 C            8.4279    28.8322    60.2131 C             1 RES     \\n      69 C           10.8792    28.9461    60.3856 C             1 RES     \\n      70 C           13.3305    29.0599    60.5581 C             1 RES     \\n      71 C            3.3060    32.8366    60.1908 C             1 RES     \\n      72 C            5.7573    32.9505    60.3632 C             1 RES     \\n      73 C            8.2087    33.0643    60.5357 C             1 RES     \\n      74 C           10.6600    33.1782    60.7082 C             1 RES     \\n      75 C           13.1113    33.2920    60.8806 C             1 RES     \\n      76 C            4.0369    18.7294    59.1155 C             1 RES     \\n      77 C            6.4882    18.8432    59.2880 C             1 RES     \\n      78 C            8.9395    18.9571    59.4604 C             1 RES     \\n      79 C           11.3908    19.0709    59.6329 C             1 RES     \\n      80 C           13.8421    19.1848    59.8054 C             1 RES     \\n      81 C            3.8176    22.9615    59.4381 C             1 RES     \\n      82 C            6.2689    23.0753    59.6106 C             1 RES     \\n      83 C            8.7202    23.1892    59.7830 C             1 RES     \\n      84 C           11.1715    23.3030    59.9555 C             1 RES     \\n      85 C           13.6228    23.4168    60.1279 C             1 RES     \\n      86 C            3.5984    27.1935    59.7607 C             1 RES     \\n      87 C            6.0497    27.3074    59.9331 C             1 RES     \\n      88 C            8.5010    27.4212    60.1056 C             1 RES     \\n      89 C           10.9523    27.5351    60.2781 C             1 RES     \\n      90 C           13.4036    27.6489    60.4505 C             1 RES     \\n      91 C            3.3791    31.4256    60.0832 C             1 RES     \\n      92 C            5.8304    31.5394    60.2557 C             1 RES     \\n      93 C            8.2818    31.6533    60.4282 C             1 RES     \\n      94 C           10.7331    31.7671    60.6006 C             1 RES     \\n      95 C           13.1844    31.8810    60.7731 C             1 RES     \\n      96 C            3.1599    35.6577    60.4058 C             1 RES     \\n      97 C            5.6112    35.7715    60.5783 C             1 RES     \\n      98 C            8.0625    35.8854    60.7507 C             1 RES     \\n      99 C           10.5138    35.9992    60.9232 C             1 RES     \\n     100 C           12.9651    36.1130    61.0957 C             1 RES     \\n@<TRIPOS>BOND\\n       1        1       26 1\\n       2        1       51 1\\n       3        2       27 1\\n       4        2       51 1\\n       5        2       52 1\\n       6        3       28 1\\n       7        3       52 1\\n       8        3       53 1\\n       9        4       29 1\\n      10        4       53 1\\n      11        4       54 1\\n      12        5       30 1\\n      13        5       54 1\\n      14        5       55 1\\n      15        6       31 1\\n      16        6       56 1\\n      17        7       32 1\\n      18        7       56 1\\n      19        7       57 1\\n      20        8       33 1\\n      21        8       57 1\\n      22        8       58 1\\n      23        9       34 1\\n      24        9       58 1\\n      25        9       59 1\\n      26       10       35 1\\n      27       10       59 1\\n      28       10       60 1\\n      29       11       36 1\\n      30       11       61 1\\n      31       12       37 1\\n      32       12       61 1\\n      33       12       62 1\\n      34       13       38 1\\n      35       13       62 1\\n      36       13       63 1\\n      37       14       39 1\\n      38       14       63 1\\n      39       14       64 1\\n      40       15       40 1\\n      41       15       64 1\\n      42       15       65 1\\n      43       16       41 1\\n      44       16       66 1\\n      45       17       42 1\\n      46       17       66 1\\n      47       17       67 1\\n      48       18       43 1\\n      49       18       67 1\\n      50       18       68 1\\n      51       19       44 1\\n      52       19       68 1\\n      53       19       69 1\\n      54       20       45 1\\n      55       20       69 1\\n      56       20       70 1\\n      57       21       46 1\\n      58       21       71 1\\n      59       22       47 1\\n      60       22       71 1\\n      61       22       72 1\\n      62       23       48 1\\n      63       23       72 1\\n      64       23       73 1\\n      65       24       49 1\\n      66       24       73 1\\n      67       24       74 1\\n      68       25       50 1\\n      69       25       74 1\\n      70       25       75 1\\n      71       26       76 1\\n      72       27       76 1\\n      73       27       77 1\\n      74       28       77 1\\n      75       28       78 1\\n      76       29       78 1\\n      77       29       79 1\\n      78       30       79 1\\n      79       30       80 1\\n      80       31       81 1\\n      81       32       81 1\\n      82       32       82 1\\n      83       33       82 1\\n      84       33       83 1\\n      85       34       83 1\\n      86       34       84 1\\n      87       35       84 1\\n      88       35       85 1\\n      89       36       86 1\\n      90       37       86 1\\n      91       37       87 1\\n      92       38       87 1\\n      93       38       88 1\\n      94       39       88 1\\n      95       39       89 1\\n      96       40       89 1\\n      97       40       90 1\\n      98       41       91 1\\n      99       42       91 1\\n     100       42       92 1\\n     101       43       92 1\\n     102       43       93 1\\n     103       44       93 1\\n     104       44       94 1\\n     105       45       94 1\\n     106       45       95 1\\n     107       46       96 1\\n     108       47       96 1\\n     109       47       97 1\\n     110       48       97 1\\n     111       48       98 1\\n     112       49       98 1\\n     113       49       99 1\\n     114       50       99 1\\n     115       50      100 1\\n     116       56       76 1\\n     117       57       77 1\\n     118       58       78 1\\n     119       59       79 1\\n     120       60       80 1\\n     121       61       81 1\\n     122       62       82 1\\n     123       63       83 1\\n     124       64       84 1\\n     125       65       85 1\\n     126       66       86 1\\n     127       67       87 1\\n     128       68       88 1\\n     129       69       89 1\\n     130       70       90 1\\n     131       71       91 1\\n     132       72       92 1\\n     133       73       93 1\\n     134       74       94 1\\n     135       75       95 1\\n@<TRIPOS>SUBSTRUCTURE\\n       1 RES             1 RESIDUE    0 **** ROOT      0\\n\",\"mol2\");\n\tviewer_1743008627931599.setStyle({\"stick\": {\"radius\": 0.18, \"color\": \"grey\"}, \"sphere\": {\"scale\": 0.3, \"colorscheme\": {}}});\n\tviewer_1743008627931599.zoomTo();\nviewer_1743008627931599.render();\n});\n</script>",
      "text/html": [
       "<div id=\"3dmolviewer_1743008627931599\"  style=\"position: relative; width: 640px; height: 480px;\">\n",
       "        <p id=\"3dmolwarning_1743008627931599\" style=\"background-color:#ffcccc;color:black\">3Dmol.js failed to load for some reason.  Please check your browser console for error messages.<br></p>\n",
       "        </div>\n",
       "<script>\n",
       "\n",
       "var loadScriptAsync = function(uri){\n",
       "  return new Promise((resolve, reject) => {\n",
       "    //this is to ignore the existence of requirejs amd\n",
       "    var savedexports, savedmodule;\n",
       "    if (typeof exports !== 'undefined') savedexports = exports;\n",
       "    else exports = {}\n",
       "    if (typeof module !== 'undefined') savedmodule = module;\n",
       "    else module = {}\n",
       "\n",
       "    var tag = document.createElement('script');\n",
       "    tag.src = uri;\n",
       "    tag.async = true;\n",
       "    tag.onload = () => {\n",
       "        exports = savedexports;\n",
       "        module = savedmodule;\n",
       "        resolve();\n",
       "    };\n",
       "  var firstScriptTag = document.getElementsByTagName('script')[0];\n",
       "  firstScriptTag.parentNode.insertBefore(tag, firstScriptTag);\n",
       "});\n",
       "};\n",
       "\n",
       "if(typeof $3Dmolpromise === 'undefined') {\n",
       "$3Dmolpromise = null;\n",
       "  $3Dmolpromise = loadScriptAsync('https://cdnjs.cloudflare.com/ajax/libs/3Dmol/2.4.2/3Dmol-min.js');\n",
       "}\n",
       "\n",
       "var viewer_1743008627931599 = null;\n",
       "var warn = document.getElementById(\"3dmolwarning_1743008627931599\");\n",
       "if(warn) {\n",
       "    warn.parentNode.removeChild(warn);\n",
       "}\n",
       "$3Dmolpromise.then(function() {\n",
       "viewer_1743008627931599 = $3Dmol.createViewer(document.getElementById(\"3dmolviewer_1743008627931599\"),{backgroundColor:\"white\"});\n",
       "viewer_1743008627931599.zoomTo();\n",
       "\tviewer_1743008627931599.addModel(\"@<TRIPOS>MOLECULE\\nRES\\n100 135 1 0 1\\nSMALL\\nNO_CHARGES\\n@<TRIPOS>CRYSIN\\n   79.2969    79.2969    79.2969    90.0000    90.0000    90.0000 1 1\\n@<TRIPOS>ATOM\\n       1 C            2.9208    16.5565    58.8680 C             1 RES     \\n       2 C            5.3721    16.6703    59.0405 C             1 RES     \\n       3 C            7.8234    16.7841    59.2129 C             1 RES     \\n       4 C           10.2747    16.8980    59.3854 C             1 RES     \\n       5 C           12.7260    17.0118    59.5579 C             1 RES     \\n       6 C            2.7016    20.7885    59.1906 C             1 RES     \\n       7 C            5.1529    20.9024    59.3630 C             1 RES     \\n       8 C            7.6042    21.0162    59.5355 C             1 RES     \\n       9 C           10.0555    21.1300    59.7080 C             1 RES     \\n      10 C           12.5068    21.2439    59.8804 C             1 RES     \\n      11 C            2.4823    25.0206    59.5131 C             1 RES     \\n      12 C            4.9337    25.1344    59.6856 C             1 RES     \\n      13 C            7.3850    25.2483    59.8581 C             1 RES     \\n      14 C            9.8363    25.3621    60.0305 C             1 RES     \\n      15 C           12.2876    25.4760    60.2030 C             1 RES     \\n      16 C            2.2631    29.2526    59.8357 C             1 RES     \\n      17 C            4.7144    29.3665    60.0082 C             1 RES     \\n      18 C            7.1657    29.4803    60.1806 C             1 RES     \\n      19 C            9.6170    29.5942    60.3531 C             1 RES     \\n      20 C           12.0683    29.7080    60.5256 C             1 RES     \\n      21 C            2.0439    33.4847    60.1583 C             1 RES     \\n      22 C            4.4952    33.5986    60.3308 C             1 RES     \\n      23 C            6.9465    33.7124    60.5032 C             1 RES     \\n      24 C            9.3978    33.8262    60.6757 C             1 RES     \\n      25 C           11.8491    33.9401    60.8481 C             1 RES     \\n      26 C            2.8477    17.9675    58.9756 C             1 RES     \\n      27 C            5.2990    18.0813    59.1480 C             1 RES     \\n      28 C            7.7503    18.1952    59.3205 C             1 RES     \\n      29 C           10.2016    18.3090    59.4929 C             1 RES     \\n      30 C           12.6529    18.4228    59.6654 C             1 RES     \\n      31 C            2.6285    22.1995    59.2981 C             1 RES     \\n      32 C            5.0798    22.3134    59.4706 C             1 RES     \\n      33 C            7.5311    22.4272    59.6431 C             1 RES     \\n      34 C            9.9824    22.5411    59.8155 C             1 RES     \\n      35 C           12.4337    22.6549    59.9880 C             1 RES     \\n      36 C            2.4092    26.4316    59.6207 C             1 RES     \\n      37 C            4.8606    26.5454    59.7932 C             1 RES     \\n      38 C            7.3119    26.6593    59.9656 C             1 RES     \\n      39 C            9.7632    26.7731    60.1381 C             1 RES     \\n      40 C           12.2145    26.8870    60.3105 C             1 RES     \\n      41 C            2.1900    30.6637    59.9433 C             1 RES     \\n      42 C            4.6413    30.7775    60.1157 C             1 RES     \\n      43 C            7.0926    30.8914    60.2882 C             1 RES     \\n      44 C            9.5439    31.0052    60.4607 C             1 RES     \\n      45 C           11.9952    31.1190    60.6331 C             1 RES     \\n      46 C            1.9708    34.8957    60.2658 C             1 RES     \\n      47 C            4.4221    35.0096    60.4383 C             1 RES     \\n      48 C            6.8734    35.1234    60.6108 C             1 RES     \\n      49 C            9.3247    35.2373    60.7832 C             1 RES     \\n      50 C           11.7760    35.3511    60.9557 C             1 RES     \\n      51 C            4.1830    15.9084    58.9005 C             1 RES     \\n      52 C            6.6343    16.0222    59.0730 C             1 RES     \\n      53 C            9.0856    16.1360    59.2454 C             1 RES     \\n      54 C           11.5369    16.2499    59.4179 C             1 RES     \\n      55 C           13.9882    16.3637    59.5903 C             1 RES     \\n      56 C            3.9638    20.1404    59.2231 C             1 RES     \\n      57 C            6.4151    20.2543    59.3955 C             1 RES     \\n      58 C            8.8664    20.3681    59.5680 C             1 RES     \\n      59 C           11.3177    20.4820    59.7405 C             1 RES     \\n      60 C           13.7690    20.5958    59.9129 C             1 RES     \\n      61 C            3.7445    24.3725    59.5456 C             1 RES     \\n      62 C            6.1958    24.4863    59.7181 C             1 RES     \\n      63 C            8.6471    24.6002    59.8906 C             1 RES     \\n      64 C           11.0984    24.7140    60.0630 C             1 RES     \\n      65 C           13.5497    24.8279    60.2355 C             1 RES     \\n      66 C            3.5253    28.6046    59.8682 C             1 RES     \\n      67 C            5.9766    28.7184    60.0407 C             1 RES     \\n      68 C            8.4279    28.8322    60.2131 C             1 RES     \\n      69 C           10.8792    28.9461    60.3856 C             1 RES     \\n      70 C           13.3305    29.0599    60.5581 C             1 RES     \\n      71 C            3.3060    32.8366    60.1908 C             1 RES     \\n      72 C            5.7573    32.9505    60.3632 C             1 RES     \\n      73 C            8.2087    33.0643    60.5357 C             1 RES     \\n      74 C           10.6600    33.1782    60.7082 C             1 RES     \\n      75 C           13.1113    33.2920    60.8806 C             1 RES     \\n      76 C            4.0369    18.7294    59.1155 C             1 RES     \\n      77 C            6.4882    18.8432    59.2880 C             1 RES     \\n      78 C            8.9395    18.9571    59.4604 C             1 RES     \\n      79 C           11.3908    19.0709    59.6329 C             1 RES     \\n      80 C           13.8421    19.1848    59.8054 C             1 RES     \\n      81 C            3.8176    22.9615    59.4381 C             1 RES     \\n      82 C            6.2689    23.0753    59.6106 C             1 RES     \\n      83 C            8.7202    23.1892    59.7830 C             1 RES     \\n      84 C           11.1715    23.3030    59.9555 C             1 RES     \\n      85 C           13.6228    23.4168    60.1279 C             1 RES     \\n      86 C            3.5984    27.1935    59.7607 C             1 RES     \\n      87 C            6.0497    27.3074    59.9331 C             1 RES     \\n      88 C            8.5010    27.4212    60.1056 C             1 RES     \\n      89 C           10.9523    27.5351    60.2781 C             1 RES     \\n      90 C           13.4036    27.6489    60.4505 C             1 RES     \\n      91 C            3.3791    31.4256    60.0832 C             1 RES     \\n      92 C            5.8304    31.5394    60.2557 C             1 RES     \\n      93 C            8.2818    31.6533    60.4282 C             1 RES     \\n      94 C           10.7331    31.7671    60.6006 C             1 RES     \\n      95 C           13.1844    31.8810    60.7731 C             1 RES     \\n      96 C            3.1599    35.6577    60.4058 C             1 RES     \\n      97 C            5.6112    35.7715    60.5783 C             1 RES     \\n      98 C            8.0625    35.8854    60.7507 C             1 RES     \\n      99 C           10.5138    35.9992    60.9232 C             1 RES     \\n     100 C           12.9651    36.1130    61.0957 C             1 RES     \\n@<TRIPOS>BOND\\n       1        1       26 1\\n       2        1       51 1\\n       3        2       27 1\\n       4        2       51 1\\n       5        2       52 1\\n       6        3       28 1\\n       7        3       52 1\\n       8        3       53 1\\n       9        4       29 1\\n      10        4       53 1\\n      11        4       54 1\\n      12        5       30 1\\n      13        5       54 1\\n      14        5       55 1\\n      15        6       31 1\\n      16        6       56 1\\n      17        7       32 1\\n      18        7       56 1\\n      19        7       57 1\\n      20        8       33 1\\n      21        8       57 1\\n      22        8       58 1\\n      23        9       34 1\\n      24        9       58 1\\n      25        9       59 1\\n      26       10       35 1\\n      27       10       59 1\\n      28       10       60 1\\n      29       11       36 1\\n      30       11       61 1\\n      31       12       37 1\\n      32       12       61 1\\n      33       12       62 1\\n      34       13       38 1\\n      35       13       62 1\\n      36       13       63 1\\n      37       14       39 1\\n      38       14       63 1\\n      39       14       64 1\\n      40       15       40 1\\n      41       15       64 1\\n      42       15       65 1\\n      43       16       41 1\\n      44       16       66 1\\n      45       17       42 1\\n      46       17       66 1\\n      47       17       67 1\\n      48       18       43 1\\n      49       18       67 1\\n      50       18       68 1\\n      51       19       44 1\\n      52       19       68 1\\n      53       19       69 1\\n      54       20       45 1\\n      55       20       69 1\\n      56       20       70 1\\n      57       21       46 1\\n      58       21       71 1\\n      59       22       47 1\\n      60       22       71 1\\n      61       22       72 1\\n      62       23       48 1\\n      63       23       72 1\\n      64       23       73 1\\n      65       24       49 1\\n      66       24       73 1\\n      67       24       74 1\\n      68       25       50 1\\n      69       25       74 1\\n      70       25       75 1\\n      71       26       76 1\\n      72       27       76 1\\n      73       27       77 1\\n      74       28       77 1\\n      75       28       78 1\\n      76       29       78 1\\n      77       29       79 1\\n      78       30       79 1\\n      79       30       80 1\\n      80       31       81 1\\n      81       32       81 1\\n      82       32       82 1\\n      83       33       82 1\\n      84       33       83 1\\n      85       34       83 1\\n      86       34       84 1\\n      87       35       84 1\\n      88       35       85 1\\n      89       36       86 1\\n      90       37       86 1\\n      91       37       87 1\\n      92       38       87 1\\n      93       38       88 1\\n      94       39       88 1\\n      95       39       89 1\\n      96       40       89 1\\n      97       40       90 1\\n      98       41       91 1\\n      99       42       91 1\\n     100       42       92 1\\n     101       43       92 1\\n     102       43       93 1\\n     103       44       93 1\\n     104       44       94 1\\n     105       45       94 1\\n     106       45       95 1\\n     107       46       96 1\\n     108       47       96 1\\n     109       47       97 1\\n     110       48       97 1\\n     111       48       98 1\\n     112       49       98 1\\n     113       49       99 1\\n     114       50       99 1\\n     115       50      100 1\\n     116       56       76 1\\n     117       57       77 1\\n     118       58       78 1\\n     119       59       79 1\\n     120       60       80 1\\n     121       61       81 1\\n     122       62       82 1\\n     123       63       83 1\\n     124       64       84 1\\n     125       65       85 1\\n     126       66       86 1\\n     127       67       87 1\\n     128       68       88 1\\n     129       69       89 1\\n     130       70       90 1\\n     131       71       91 1\\n     132       72       92 1\\n     133       73       93 1\\n     134       74       94 1\\n     135       75       95 1\\n@<TRIPOS>SUBSTRUCTURE\\n       1 RES             1 RESIDUE    0 **** ROOT      0\\n\",\"mol2\");\n",
       "\tviewer_1743008627931599.setStyle({\"stick\": {\"radius\": 0.18, \"color\": \"grey\"}, \"sphere\": {\"scale\": 0.3, \"colorscheme\": {}}});\n",
       "\tviewer_1743008627931599.zoomTo();\n",
       "viewer_1743008627931599.render();\n",
       "});\n",
       "</script>"
      ]
     },
     "metadata": {},
     "output_type": "display_data"
    }
   ],
   "source": [
    "system.visualize()"
   ]
  },
  {
   "cell_type": "code",
   "execution_count": 41,
   "id": "e9326458-8125-46a2-883f-89c1e20d5278",
   "metadata": {},
   "outputs": [
    {
     "data": {
      "text/plain": [
       "1"
      ]
     },
     "execution_count": 41,
     "metadata": {},
     "output_type": "execute_result"
    }
   ],
   "source": [
    "system.n_molecules"
   ]
  },
  {
   "cell_type": "code",
   "execution_count": 42,
   "id": "088d66f1-6a79-4da6-aa01-14d0c53d8f44",
   "metadata": {},
   "outputs": [
    {
     "data": {
      "text/plain": [
       "100"
      ]
     },
     "execution_count": 42,
     "metadata": {},
     "output_type": "execute_result"
    }
   ],
   "source": [
    "system.n_particles"
   ]
  },
  {
   "cell_type": "code",
   "execution_count": 43,
   "id": "211408e5-88c2-47df-a8df-8615f0e0aa55",
   "metadata": {},
   "outputs": [
    {
     "name": "stdout",
     "output_type": "stream",
     "text": [
      "['C']\n",
      "['C-C']\n",
      "['C-C-C']\n",
      "['C-C-C-C']\n"
     ]
    }
   ],
   "source": [
    "snap = system.hoomd_snapshot\n",
    "print(snap.particles.types)\n",
    "print(snap.bonds.types)\n",
    "print(snap.angles.types)\n",
    "print(snap.dihedrals.types)"
   ]
  },
  {
   "cell_type": "code",
   "execution_count": 57,
   "id": "4adf8ce1-d6b7-458c-a0cc-247ccd3b41ff",
   "metadata": {},
   "outputs": [],
   "source": [
    "from flowermd.library.forcefields import BeadSpring"
   ]
  },
  {
   "cell_type": "code",
   "execution_count": 58,
   "id": "05cd20c5-c8bb-443a-859b-9ed6eac6129b",
   "metadata": {},
   "outputs": [],
   "source": [
    "ff = BeadSpring(r_cut=1.0,\n",
    "        beads={\"C\": dict(epsilon=1.0, sigma=1.0)},\n",
    "        bonds={\"C-C\": dict(r0=0.5, k=100)},\n",
    "        angles={\"C-C-C\": dict(t0=2.0944, k=0)},\n",
    "        dihedrals={\"C-C-C-C\": dict(phi0=0.0, k=0, d=-1, n=1)})"
   ]
  },
  {
   "cell_type": "code",
   "execution_count": 59,
   "id": "b90f3501-c9c1-4e67-ae9c-fe51a0d734cb",
   "metadata": {},
   "outputs": [],
   "source": [
    "from flowermd.base import Pack, Simulation\n",
    "import hoomd\n",
    "import gsd.hoomd"
   ]
  },
  {
   "cell_type": "code",
   "execution_count": 60,
   "id": "8ddb54a1-29eb-4b49-b129-81c826c4954f",
   "metadata": {},
   "outputs": [],
   "source": [
    "cpu = hoomd.device.CPU()"
   ]
  },
  {
   "cell_type": "code",
   "execution_count": 61,
   "id": "165b0b63-3a14-4dd6-852f-b3bffeca1a03",
   "metadata": {},
   "outputs": [
    {
     "name": "stdout",
     "output_type": "stream",
     "text": [
      "Initializing simulation state from a gsd.hoomd.Frame.\n"
     ]
    }
   ],
   "source": [
    "sim = Simulation(initial_state=system.hoomd_snapshot, forcefield=ff.hoomd_forces, device = cpu)"
   ]
  },
  {
   "cell_type": "code",
   "execution_count": 62,
   "id": "9c3971fe-87d6-4e28-9641-a8f36c8cb3d7",
   "metadata": {},
   "outputs": [],
   "source": [
    "from flowermd.utils import get_target_box_number_density\n",
    "import unyt as u"
   ]
  },
  {
   "cell_type": "code",
   "execution_count": 63,
   "id": "89b70fc3-bea5-4ab8-b45f-9dba0245964f",
   "metadata": {},
   "outputs": [
    {
     "name": "stderr",
     "output_type": "stream",
     "text": [
      "*Warning*: angle.harmonic: specified K <= 0\n",
      "*Warning*: dihedral.harmonic: specified K <= 0\n"
     ]
    },
    {
     "name": "stdout",
     "output_type": "stream",
     "text": [
      "Step 5500 of 100000; TPS: 12271.53; ETA: 0.1 minutes\n",
      "Step 11000 of 100000; TPS: 14833.23; ETA: 0.1 minutes\n",
      "Step 16500 of 100000; TPS: 15955.16; ETA: 0.1 minutes\n",
      "Step 22000 of 100000; TPS: 16601.56; ETA: 0.1 minutes\n",
      "Step 27500 of 100000; TPS: 16940.73; ETA: 0.1 minutes\n",
      "Step 33000 of 100000; TPS: 17177.46; ETA: 0.1 minutes\n",
      "Step 38500 of 100000; TPS: 17369.88; ETA: 0.1 minutes\n",
      "Step 44000 of 100000; TPS: 17532.93; ETA: 0.1 minutes\n",
      "Step 49500 of 100000; TPS: 17668.22; ETA: 0.0 minutes\n",
      "Step 55000 of 100000; TPS: 17752.31; ETA: 0.0 minutes\n",
      "Step 60500 of 100000; TPS: 17843.9; ETA: 0.0 minutes\n",
      "Step 66000 of 100000; TPS: 17893.3; ETA: 0.0 minutes\n",
      "Step 71500 of 100000; TPS: 17835.17; ETA: 0.0 minutes\n",
      "Step 77000 of 100000; TPS: 17881.78; ETA: 0.0 minutes\n",
      "Step 82500 of 100000; TPS: 17930.23; ETA: 0.0 minutes\n",
      "Step 88000 of 100000; TPS: 17969.68; ETA: 0.0 minutes\n",
      "Step 93500 of 100000; TPS: 18019.59; ETA: 0.0 minutes\n",
      "Step 99000 of 100000; TPS: 18060.16; ETA: 0.0 minutes\n"
     ]
    }
   ],
   "source": [
    "sim.run_NVT(n_steps=100000, kT = 0.005, tau_kt = 0.001)"
   ]
  },
  {
   "cell_type": "code",
   "execution_count": null,
   "id": "ddf088b1-4cc0-4479-a743-8c5c9871958a",
   "metadata": {},
   "outputs": [],
   "source": []
  }
 ],
 "metadata": {
  "kernelspec": {
   "display_name": "Python 3 (ipykernel)",
   "language": "python",
   "name": "python3"
  },
  "language_info": {
   "codemirror_mode": {
    "name": "ipython",
    "version": 3
   },
   "file_extension": ".py",
   "mimetype": "text/x-python",
   "name": "python",
   "nbconvert_exporter": "python",
   "pygments_lexer": "ipython3",
   "version": "3.12.0"
  }
 },
 "nbformat": 4,
 "nbformat_minor": 5
}
