{
 "cells": [
  {
   "cell_type": "code",
   "execution_count": 1,
   "id": "bfd51354-cfc1-4932-a600-c8f9d244d260",
   "metadata": {},
   "outputs": [
    {
     "ename": "ModuleNotFoundError",
     "evalue": "No module named 'flowermd'",
     "output_type": "error",
     "traceback": [
      "\u001b[31m---------------------------------------------------------------------------\u001b[39m",
      "\u001b[31mModuleNotFoundError\u001b[39m                       Traceback (most recent call last)",
      "\u001b[36mCell\u001b[39m\u001b[36m \u001b[39m\u001b[32mIn[1]\u001b[39m\u001b[32m, line 1\u001b[39m\n\u001b[32m----> \u001b[39m\u001b[32m1\u001b[39m \u001b[38;5;28;01mimport\u001b[39;00m\u001b[38;5;250m \u001b[39m\u001b[34;01mflowermd\u001b[39;00m\n\u001b[32m      2\u001b[39m \u001b[38;5;28;01mimport\u001b[39;00m\u001b[38;5;250m \u001b[39m\u001b[34;01mhoomd\u001b[39;00m\n\u001b[32m      3\u001b[39m \u001b[38;5;28;01mimport\u001b[39;00m\u001b[38;5;250m \u001b[39m\u001b[34;01mgsd\u001b[39;00m\n",
      "\u001b[31mModuleNotFoundError\u001b[39m: No module named 'flowermd'"
     ]
    }
   ],
   "source": [
    "import flowermd\n",
    "import hoomd\n",
    "import gsd\n",
    "import matplotlib.pyplot as plt\n",
    "import numpy as np\n",
    "import gsd.hoomd\n",
    "from flowermd.base import Pack, Simulation\n",
    "from flowermd.library import KremerGrestBeadSpring, LJChain\n",
    "from flowermd.utils import get_target_box_number_density\n",
    "import unyt as u\n",
    "import hoomd"
   ]
  },
  {
   "cell_type": "code",
   "execution_count": null,
   "id": "ca149296-37d1-4f4c-b726-0a6735a83fce",
   "metadata": {},
   "outputs": [],
   "source": [
    "cpu = hoomd.device.CPU()"
   ]
  },
  {
   "cell_type": "code",
   "execution_count": null,
   "id": "210dacdf-f516-4465-9a81-5f8674635573",
   "metadata": {},
   "outputs": [],
   "source": [
    "kg_chain = LJChain(lengths= 20 ,num_mols=1)"
   ]
  },
  {
   "cell_type": "code",
   "execution_count": null,
   "id": "10cf0f14-2767-4e03-892e-879e4813635e",
   "metadata": {},
   "outputs": [],
   "source": [
    "ff = KremerGrestBeadSpring(bond_k=2.5,bond_max=2.5)"
   ]
  },
  {
   "cell_type": "code",
   "execution_count": null,
   "id": "87b0e189-e852-4166-abb4-87df578474ea",
   "metadata": {},
   "outputs": [],
   "source": [
    "system = Pack(molecules=kg_chain, density=0.85*u.Unit(\"nm**-3\"), packing_expand_factor=11,edge=2,overlap=1)"
   ]
  },
  {
   "cell_type": "code",
   "execution_count": null,
   "id": "0c6f5154-d0ef-4607-b502-731d6d9b2512",
   "metadata": {},
   "outputs": [],
   "source": [
    "sim = Simulation(\n",
    "        initial_state=system.hoomd_snapshot,\n",
    "        forcefield=ff.hoomd_forces,\n",
    "        gsd_write_freq=int(1e5/10),\n",
    "        device = cpu)"
   ]
  },
  {
   "cell_type": "code",
   "execution_count": null,
   "id": "eea6d48c-f8fb-4715-98d8-02ab6dd67058",
   "metadata": {},
   "outputs": [],
   "source": [
    "target_box = get_target_box_number_density(density=0.85*u.Unit(\"nm**-3\"),n_beads=10*20)\n",
    "sim.run_update_volume(final_box_lengths=target_box, kT=2.0, n_steps=1e5,tau_kt=sim.dt,period=10,thermalize_particles=True)\n",
    "sim.run_NVT(n_steps=1e4, kT=1, tau_kt=sim.dt*100)\n",
    "sim.flush_writers()"
   ]
  },
  {
   "cell_type": "code",
   "execution_count": null,
   "id": "515c1536-1574-416c-bde9-d1db18e35897",
   "metadata": {},
   "outputs": [],
   "source": [
    "system.visualize()"
   ]
  },
  {
   "cell_type": "code",
   "execution_count": null,
   "id": "7fd41a16-ec0f-46be-b666-54d740c33d23",
   "metadata": {},
   "outputs": [],
   "source": []
  }
 ],
 "metadata": {
  "kernelspec": {
   "display_name": "Python 3 (ipykernel)",
   "language": "python",
   "name": "python3"
  },
  "language_info": {
   "codemirror_mode": {
    "name": "ipython",
    "version": 3
   },
   "file_extension": ".py",
   "mimetype": "text/x-python",
   "name": "python",
   "nbconvert_exporter": "python",
   "pygments_lexer": "ipython3",
   "version": "3.12.0"
  }
 },
 "nbformat": 4,
 "nbformat_minor": 5
}
