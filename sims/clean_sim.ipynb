{
 "cells": [
  {
   "cell_type": "code",
   "execution_count": null,
   "id": "6cef10db-1cf2-4d9a-a56d-9f4eec7f1e5a",
   "metadata": {
    "scrolled": true
   },
   "outputs": [],
   "source": [
    "# import necessary libraries, filter warnings\n",
    "import flowermd\n",
    "import gsd\n",
    "import gsd.hoomd\n",
    "import hoomd\n",
    "import matplotlib.pyplot as plt\n",
    "import mbuild as mb\n",
    "import numpy as np\n",
    "import warnings\n",
    "from cmeutils.visualize import FresnelGSD\n",
    "from flowermd.base import Pack, Simulation, System, Molecule\n",
    "from flowermd.base.forcefield import BaseHOOMDForcefield\n",
    "from flowermd.library import KremerGrestBeadSpring, LJChain\n",
    "from flowermd.library.forcefields import BeadSpring\n",
    "from flowermd.utils import get_target_box_number_density\n",
    "from mbuild.compound import Compound\n",
    "from mbuild.lattice import Lattice\n",
    "import unyt as u\n",
    "warnings.filterwarnings('ignore')"
   ]
  },
  {
   "cell_type": "markdown",
   "id": "4577acb4-a6e4-4d60-8d3e-40381c215496",
   "metadata": {},
   "source": [
    "## Define Flake Geometry"
   ]
  },
  {
   "cell_type": "code",
   "execution_count": null,
   "id": "4bb641a0-5cb8-4843-8f3d-b247cd75a81c",
   "metadata": {
    "scrolled": true
   },
   "outputs": [],
   "source": [
    "class Graphene(System):\n",
    "    def __init__(\n",
    "        self,\n",
    "        x_repeat,\n",
    "        y_repeat,\n",
    "        n_layers,\n",
    "        base_units=dict(),\n",
    "        periodicity=(True, True, False),\n",
    "    ):\n",
    "        surface = mb.Compound(periodicity=periodicity)\n",
    "        a = 3**.5\n",
    "\n",
    "\n",
    "\n",
    "        \n",
    "        lattice = Lattice(\n",
    "            lattice_spacing=[a,a,a],\n",
    "            lattice_vectors=  [[a,0,0],[a/2,3/2,0],[0,0,1]],\n",
    "            lattice_points={\"A\": [[1/3,1/3,0], [2/3, 2/3, 0]]},\n",
    "        ) \n",
    "        Flakium = Compound(name=\"F\", element=\"F\") # defines a carbon atom that will be used to populate lattice points\n",
    "        layers = lattice.populate(\n",
    "            compound_dict={\"A\": Flakium}, x=x_repeat, y=y_repeat, z=n_layers\n",
    "        ) # populates the lattice using the previously defined carbon atom for every \"A\" site, repeated in all x,y, and z directions\n",
    "        surface.add(layers) # adds populated carbon lattice layers to the 'surface' compound, which represents our graphene structure \n",
    "        surface.freud_generate_bonds(\"F\", \"F\", dmin=0.9, dmax=1.1) # generates bonds depending on input distance range, scales with lattice\n",
    "        surface_mol = Molecule(num_mols=1, compound=surface) # wraps into a Molecule object, creating \"1\" instance of this molecule\n",
    "\n",
    "        super(Graphene, self).__init__(\n",
    "            molecules=[surface_mol],\n",
    "            base_units=base_units,\n",
    "        )\n",
    "\n",
    "    def _build_system(self):\n",
    "        return self.all_molecules[0]"
   ]
  },
  {
   "cell_type": "markdown",
   "id": "3f88e122-6c5f-4c04-b547-2511f9012344",
   "metadata": {},
   "source": [
    "## Define Forcefield for WCA Interactions\n",
    "Essentially zero attraction; pure repulsion."
   ]
  },
  {
   "cell_type": "code",
   "execution_count": null,
   "id": "f0a777f9-bcbd-41b4-8687-0dc45705e2d4",
   "metadata": {},
   "outputs": [],
   "source": [
    "ff = BeadSpring(\n",
    "    r_cut=2**(1/6),  \n",
    "    beads={\n",
    "        \"A\": dict(epsilon=1.0, sigma=1.0),  # chains\n",
    "        \"F\": dict(epsilon=1.0, sigma=1.0),  # flakes\n",
    "    },\n",
    "    bonds={\n",
    "        \"F-F\": dict(r0=1.0, k=1000),\n",
    "        \"A-A\": dict(r0=1.0, k=1000.0),  # increased k to avoid chain collapse\n",
    "    },\n",
    "    angles={\n",
    "        \"A-A-A\": dict(t0=2* np.pi / 3., k=100.0),   # moderate stiffness for chains\n",
    "        \"F-F-F\": dict(t0=2 * np.pi / 3., k=5000),\n",
    "    },\n",
    "    dihedrals={\n",
    "        \"A-A-A-A\": dict(phi0=0.0, k=0, d=-1, n=2), #need to turn this on later, messed up with straight chains\n",
    "        \"F-F-F-F\": dict(phi0=0.0, k=500, d=-1, n=2),\n",
    "    }\n",
    ")"
   ]
  },
  {
   "cell_type": "markdown",
   "id": "422d2814-271f-49cf-beca-4479f87834e1",
   "metadata": {},
   "source": [
    "# Define Simulation"
   ]
  },
  {
   "cell_type": "code",
   "execution_count": null,
   "id": "e9df9bc1-9499-4bc5-843d-209e5c6e2d3d",
   "metadata": {},
   "outputs": [],
   "source": [
    "def run_simulation(N_chains=40, initial_dens=0.001, final_dens=0.3, N_flakes=10, \n",
    "                   chain_length=10, dt=0.0005, temp=3, device='CPU'):\n",
    "    \"\"\"\n",
    "    Runs an entropy-driven aggregation simulation on HOOMD with the specified parameters.\n",
    "\n",
    "    Parameters:\n",
    "    - N_chains: Number of polymer chains.\n",
    "    - initial_dens: Initial density of the system.\n",
    "    - final_dens: Final target density for the system.\n",
    "    - N_flakes: Number of flakes.\n",
    "    - chain_length: Length of each chain.\n",
    "    - dt: Time step size.\n",
    "    - temp: Temperature.\n",
    "    - device: 'CPU' or 'GPU' for the simulation device.\n",
    "    \"\"\"\n",
    "\n",
    "    # Set device (CPU or GPU), defaulted to CPU\n",
    "    if device == 'GPU':\n",
    "        device = hoomd.device.GPU()\n",
    "    else:\n",
    "        device = hoomd.device.CPU()\n",
    "\n",
    "    # Initialize the chain and sheet\n",
    "    kg_chain = LJChain(lengths=chain_length, num_mols=N_chains)\n",
    "    sheet = Graphene(x_repeat=5, y_repeat=5, n_layers=1, periodicity=(False, False, False))\n",
    "    \n",
    "    # Initialize the system\n",
    "    system = Pack(molecules=[Molecule(compound=sheet.all_molecules[0], num_mols=N_flakes), kg_chain], \n",
    "                  density=initial_dens, packing_expand_factor=6, seed=2)\n",
    "    \n",
    "    # Get the target box size based on the final density\n",
    "    target_box = get_target_box_number_density(density=final_dens * u.Unit(\"nm**-3\"), n_beads=(500 + (N_chains * 10)))\n",
    "\n",
    "    # Prepare file output\n",
    "    gsd = f\"{N_chains}_{chain_length}mer{N_flakes}f_{dt}dt.gsd\"\n",
    "    log = f\"{N_chains}_{chain_length}mer{N_flakes}f_{dt}dt.txt\"\n",
    "\n",
    "    # Initialize the simulation object\n",
    "    sim = Simulation(initial_state=system.hoomd_snapshot, forcefield=ff.hoomd_forces, \n",
    "                     device=device, dt=dt, gsd_write_freq=1000, log_file_name=log, gsd_file_name=gsd)\n",
    "\n",
    "    # Run the simulation with volume update and thermalization\n",
    "    sim.run_update_volume(final_box_lengths=target_box, kT=6.0, n_steps=5e6, \n",
    "                          tau_kt=100 * sim.dt, period=10, thermalize_particles=True)\n",
    "\n",
    "    # Run NVT ensemble simulation\n",
    "    sim.run_NVT(n_steps=5e6, kT=temp, tau_kt=dt * 100)\n",
    "    sim.flush_writers() # Flush data into output files\n",
    "\n",
    "    # Visualize results - TODO, add as function parameters or prompt options after simulation\n",
    "    sim_visualizer = FresnelGSD(gsd_file=gsd, frame=-1, view_axis=(1, 1, 1))\n",
    "    sim_visualizer.view()"
   ]
  },
  {
   "cell_type": "code",
   "execution_count": null,
   "id": "d484286a-c195-4d1f-9078-1cb5c906ef7c",
   "metadata": {},
   "outputs": [],
   "source": [
    "# example function usage\n",
    "# run_simulation(30,0.001,0.3,10,10,0.0005,3,'CPU');"
   ]
  },
  {
   "cell_type": "code",
   "execution_count": null,
   "id": "f58547b4-530f-46ee-8a2b-d0ef320f1638",
   "metadata": {},
   "outputs": [],
   "source": [
    "# Add command line usage\n",
    "if __name__ == \"__main__\":\n",
    "    import argparse\n",
    "\n",
    "    parser = argparse.ArgumentParser(description=\"Run HOOMD simulation with custom parameters.\")\n",
    "    parser.add_argument(\"--N_chains\", type=int, default=40)\n",
    "    parser.add_argument(\"--initial_dens\", type=float, default=0.001)\n",
    "    parser.add_argument(\"--final_dens\", type=float, default=0.3)\n",
    "    parser.add_argument(\"--N_flakes\", type=int, default=10)\n",
    "    parser.add_argument(\"--chain_length\", type=int, default=10)\n",
    "    parser.add_argument(\"--dt\", type=float, default=0.0005)\n",
    "    parser.add_argument(\"--temp\", type=float, default=3)\n",
    "    parser.add_argument(\"--device\", choices=[\"CPU\", \"GPU\"], default=\"CPU\")\n",
    "\n",
    "    args = parser.parse_args(args=[])\n",
    "\n",
    "    run_simulation(\n",
    "        N_chains=args.N_chains,\n",
    "        initial_dens=args.initial_dens,\n",
    "        final_dens=args.final_dens,\n",
    "        N_flakes=args.N_flakes,\n",
    "        chain_length=args.chain_length,\n",
    "        dt=args.dt,\n",
    "        temp=args.temp,\n",
    "        device=args.device\n",
    "    )"
   ]
  },
  {
   "cell_type": "code",
   "execution_count": null,
   "id": "b9bcf5dc-7b15-4b16-8073-30b0f97877ad",
   "metadata": {},
   "outputs": [],
   "source": []
  }
 ],
 "metadata": {
  "kernelspec": {
   "display_name": "Python 3 (ipykernel)",
   "language": "python",
   "name": "python3"
  },
  "language_info": {
   "codemirror_mode": {
    "name": "ipython",
    "version": 3
   },
   "file_extension": ".py",
   "mimetype": "text/x-python",
   "name": "python",
   "nbconvert_exporter": "python",
   "pygments_lexer": "ipython3",
   "version": "3.12.12"
  }
 },
 "nbformat": 4,
 "nbformat_minor": 5
}
