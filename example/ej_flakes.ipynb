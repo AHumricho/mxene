{
 "cells": [
  {
   "cell_type": "code",
<<<<<<< HEAD
   "execution_count": null,
   "id": "3ab2f67e-8182-4b7d-8540-313085494a9e",
   "metadata": {},
   "outputs": [],
   "source": [
    "import flowermd\n",
    "import gsd\n",
    "import gsd.hoomd\n",
    "import hoomd\n",
    "import matplotlib.pyplot as plt\n",
    "import mbuild as mb\n",
    "import numpy as np\n",
    "import warnings\n",
    "from cmeutils.visualize import FresnelGSD\n",
    "from flowermd.base import Pack, Simulation, System, Molecule\n",
    "from flowermd.base.forcefield import BaseHOOMDForcefield\n",
    "from flowermd.library import KremerGrestBeadSpring, LJChain\n",
    "from flowermd.library.forcefields import BeadSpring\n",
    "from flowermd.utils import get_target_box_number_density\n",
    "from mbuild.compound import Compound\n",
    "from mbuild.lattice import Lattice\n",
    "warnings.filterwarnings('ignore')\n",
    "\n",
    "class Graphene(System):\n",
    "    def __init__(\n",
    "        self,\n",
    "        x_repeat,\n",
    "        y_repeat,\n",
    "        n_layers,\n",
    "        base_units=dict(),\n",
    "        periodicity=(True, True, False),\n",
    "    ):\n",
    "        surface = mb.Compound(periodicity=periodicity)\n",
    "        a = 3**.5\n",
    "        lattice = Lattice(\n",
    "            lattice_spacing=[a,a,a],\n",
    "            lattice_vectors=  [[a,0,0],[a/2,3/2,0],[0,0,1]],\n",
    "            lattice_points={\"A\": [[1/3,1/3,0], [2/3, 2/3, 0]]},\n",
    "        ) \n",
    "        Flakium = Compound(name=\"F\", element=\"F\") # defines a carbon atom that will be used to populate lattice points\n",
    "        layers = lattice.populate(\n",
    "            compound_dict={\"A\": Flakium}, x=x_repeat, y=y_repeat, z=n_layers\n",
    "        ) # populates the lattice using the previously defined carbon atom for every \"A\" site, repeated in all x,y, and z directions\n",
    "        surface.add(layers) # adds populated carbon lattice layers to the 'surface' compound, which represents our graphene structure \n",
    "        surface.freud_generate_bonds(\"F\", \"F\", dmin=0.9, dmax=1.1) # generates bonds depending on input distance range, scales with lattice\n",
    "        surface_mol = Molecule(num_mols=1, compound=surface) # wraps into a Molecule object, creating \"1\" instance of this molecule\n",
    "\n",
    "        super(Graphene, self).__init__(\n",
    "            molecules=[surface_mol],\n",
    "            base_units=base_units,\n",
    "        )\n",
    "\n",
    "    def _build_system(self):\n",
    "        return self.all_molecules[0]\n",
    "#OK, so we want to initialize a system with some chains and some flakes\n",
<<<<<<< HEAD
    "kg_chain = LJChain(lengths=5,num_mols=300)\n",
    "sheet = Graphene(x_repeat=5, y_repeat=5, n_layers=1, periodicity=(False, False, False))\n",
    "system = Pack(molecules=[Molecule(compound=sheet.all_molecules[0], num_mols=2), kg_chain], density=0.1, packing_expand_factor = 6, seed=2,overlap=1.1)\n",
    "system.visualize()\n"
  {
   "cell_type": "code",
<<<<<<< HEAD
   "execution_count": null,
   "id": "8dd592a3-a92a-409a-b0ca-83067d740e54",
   "metadata": {
    "scrolled": true
   },
<<<<<<< HEAD
   "outputs": [],
   "source": [
    "# this FF is for research question\n",
    "ff = BeadSpring(\n",
    "    #r_cut=2.5, \n",
    "    r_cut=2**(1/6),\n",
    "    beads={\n",
    "        \"A\": dict(epsilon=1.0, sigma=1.0),  # chains\n",
    "        \"F\": dict(epsilon=1.0, sigma=1.0),  # flakes\n",
    "    },\n",
    "    bonds={\n",
    "        \"F-F\": dict(r0=1.0, k=1000),\n",
    "        \"A-A\": dict(r0=1.0, k=1000.0),  # increased k to avoid chain collapse\n",
    "    },\n",
    "    angles={\n",
    "        \"A-A-A\": dict(t0=2* np.pi / 3., k=100.0),   # moderate stiffness for chains\n",
    "        \"F-F-F\": dict(t0=2 * np.pi / 3., k=5000),\n",
    "    },\n",
    "    dihedrals={\n",
    "        \"A-A-A-A\": dict(phi0=0.0, k=0, d=-1, n=2), # need to turn this on later, messed up with straight chains\n",
    "        \"F-F-F-F\": dict(phi0=0.0, k=500, d=-1, n=2),\n",
    "    }\n",
    ")\n",
    "gsd =\"22_20ch12f_0005dt.gsd\"\n",
    "log =\"22_20ch12f_0005dt.txt\"\n",
    "cpu = hoomd.device.CPU()\n",
<<<<<<< HEAD
    "sim = Simulation(initial_state=system.hoomd_snapshot, forcefield=ff.hoomd_forces, device=cpu, dt = 0.0005, gsd_write_freq=int(1000), log_file_name = \"ej_flakes.txt\")\n",
    "sim.run_NVT(n_steps=1_000_000, kT=10, tau_kt=.1,thermalize_particles=True)\n",
    "sim.flush_writers()\n",
    "sim_visualizer = FresnelGSD(gsd_file=gsd, frame=-1, view_axis=(1, 1, 1))\n",
    "sim_visualizer.view()"
   ]
  },
  {
   "cell_type": "code",
   "execution_count": 28,
   "id": "a719b77c-57df-4f9f-ad17-177dad1ae731",
   "metadata": {},
   "outputs": [],
   "source": [
    "# for 2 chains, flake # does not matter at all, was able to go up to 12 flakes with ease\n",
    "# 22 chains is the limit"
   ]
  },
  {
   "cell_type": "code",
   "execution_count": 29,
   "id": "3135cd58-0b06-4771-9d4d-78a4482b7954",
   "metadata": {},
   "outputs": [],
   "source": [
    "data = np.genfromtxt(\"22_20ch12f_0005dt.txt\", names=True)\n",
    "pe = data[\"mdcomputeThermodynamicQuantitiespotential_energy\"]\n",
    "x = data[\"flowermdbasesimulationSimulationtimestep\"]"
   ]
  },
  {
   "cell_type": "code",
   "execution_count": 30,
   "id": "f4fbdd06-7933-4415-ba18-00bb156076ea",
   "metadata": {},
   "outputs": [
    {
     "data": {
      "text/plain": [
       "[<matplotlib.lines.Line2D at 0x79e8dc435a00>]"
      ]
     },
     "execution_count": 30,
     "metadata": {},
     "output_type": "execute_result"
    },
    {
     "data": {
      "image/png": "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",
      "text/plain": [
       "<Figure size 640x480 with 1 Axes>"
      ]
     },
     "metadata": {},
     "output_type": "display_data"
    }
   ],
   "source": [
    "plt.plot(x,pe)"
   ]
  },
  {
   "cell_type": "code",
   "execution_count": null,
<<<<<<< HEAD
   "id": "ac1baff8-d653-4fd9-9ced-77796f3f0da2",
   "metadata": {},
   "outputs": [],
   "source": []
  },
  {
   "cell_type": "code",
   "execution_count": null,
   "id": "d43261ac-62d6-4c0f-9527-6b9ab155e96f",
   "metadata": {},
   "outputs": [],
   "source": []
  }
 ],
 "metadata": {
  "kernelspec": {
   "display_name": "Python 3 (ipykernel)",
   "language": "python",
   "name": "python3"
  },
  "language_info": {
   "codemirror_mode": {
    "name": "ipython",
    "version": 3
   },
   "file_extension": ".py",
   "mimetype": "text/x-python",
   "name": "python",
   "nbconvert_exporter": "python",
   "pygments_lexer": "ipython3",
   "version": "3.12.11"
  }
 },
 "nbformat": 4,
 "nbformat_minor": 5
}
