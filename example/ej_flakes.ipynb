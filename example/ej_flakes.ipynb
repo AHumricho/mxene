{
 "cells": [
  {
   "cell_type": "code",
   "execution_count": 14,
   "id": "bab94102-2c7a-42c9-9018-dc4b57a645bb",
   "metadata": {},
   "outputs": [],
   "source": [
    "tps = []\n",
    "N = []\n",
    "PE = []\n",
    "timesteps = []\n",
    "densities = []\n",
    "dts = []"
   ]
  },
  {
   "cell_type": "code",
   "execution_count": null,
   "id": "3ab2f67e-8182-4b7d-8540-313085494a9e",
   "metadata": {},
   "outputs": [],
   "source": [
    "import flowermd\n",
    "import gsd\n",
    "import gsd.hoomd\n",
    "import hoomd\n",
    "import matplotlib.pyplot as plt\n",
    "import mbuild as mb\n",
    "import numpy as np\n",
    "import warnings\n",
    "from cmeutils.visualize import FresnelGSD\n",
    "from flowermd.base import Pack, Simulation, System, Molecule\n",
    "from flowermd.base.forcefield import BaseHOOMDForcefield\n",
    "from flowermd.library import KremerGrestBeadSpring, LJChain\n",
    "from flowermd.library.forcefields import BeadSpring\n",
    "from flowermd.utils import get_target_box_number_density\n",
    "from mbuild.compound import Compound\n",
    "from mbuild.lattice import Lattice\n",
    "warnings.filterwarnings('ignore')\n",
    "class Graphene(System):\n",
    "    def __init__(\n",
    "        self,\n",
    "        x_repeat,\n",
    "        y_repeat,\n",
    "        n_layers,\n",
    "        base_units=dict(),\n",
    "        periodicity=(True, True, False),\n",
    "    ):\n",
    "        surface = mb.Compound(periodicity=periodicity)\n",
    "        a = 3**.5\n",
    "        lattice = Lattice(\n",
    "            lattice_spacing=[a,a,a],\n",
    "            lattice_vectors=  [[a,0,0],[a/2,3/2,0],[0,0,1]],\n",
    "            lattice_points={\"A\": [[1/3,1/3,0], [2/3, 2/3, 0]]},\n",
    "        ) \n",
    "        Flakium = Compound(name=\"F\", element=\"F\") # defines a carbon atom that will be used to populate lattice points\n",
    "        layers = lattice.populate(\n",
    "            compound_dict={\"A\": Flakium}, x=x_repeat, y=y_repeat, z=n_layers\n",
    "        ) # populates the lattice using the previously defined carbon atom for every \"A\" site, repeated in all x,y, and z directions\n",
    "        surface.add(layers) # adds populated carbon lattice layers to the 'surface' compound, which represents our graphene structure \n",
    "        surface.freud_generate_bonds(\"F\", \"F\", dmin=0.9, dmax=1.1) # generates bonds depending on input distance range, scales with lattice\n",
    "        surface_mol = Molecule(num_mols=1, compound=surface) # wraps into a Molecule object, creating \"1\" instance of this molecule\n",
    "\n",
    "        super(Graphene, self).__init__(\n",
    "            molecules=[surface_mol],\n",
    "            base_units=base_units,\n",
    "        )\n",
    "\n",
    "    def _build_system(self):\n",
    "        return self.all_molecules[0]\n",
    "#OK, so we want to initialize a system with some chains and some flakes\n",
    "N_chains = 500\n",
    "dens = 0.0001\n",
    "kg_chain = LJChain(lengths=10,num_mols=N_chains)\n",
    "sheet = Graphene(x_repeat=5, y_repeat=5, n_layers=1, periodicity=(False, False, False))\n",
    "system = Pack(molecules=[Molecule(compound=sheet.all_molecules[0], num_mols=10), kg_chain], \n",
    "              density=dens, packing_expand_factor = 6, seed=2, overlap = 3)\n",
    "system.visualize()"
   ]
  },
  {
   "cell_type": "code",
   "execution_count": null,
   "id": "8dd592a3-a92a-409a-b0ca-83067d740e54",
   "metadata": {
    "scrolled": true
   },
   "outputs": [],
   "source": [
    "# this FF is for research question\n",
    "# WCA = 2.5 **1/6, kT = 3.0, needs thousand chains, maybe 10-12 flakes. large system, need lots of steps. 5e6 probably good. \n",
    "ff = BeadSpring(\n",
    "    r_cut=2**(1/6),  \n",
    "    beads={\n",
    "        \"A\": dict(epsilon=1.0, sigma=1.0),  # chains\n",
    "        \"F\": dict(epsilon=1.0, sigma=1.0),  # flakes\n",
    "    },\n",
    "    bonds={\n",
    "        \"F-F\": dict(r0=1.0, k=1000),\n",
    "        \"A-A\": dict(r0=1.0, k=1000.0),  # increased k to avoid chain collapse\n",
    "    },\n",
    "    angles={\n",
    "        \"A-A-A\": dict(t0=2* np.pi / 3., k=100.0),   # moderate stiffness for chains\n",
    "        \"F-F-F\": dict(t0=2 * np.pi / 3., k=5000),\n",
    "    },\n",
    "    dihedrals={\n",
    "        \"A-A-A-A\": dict(phi0=0.0, k=0, d=-1, n=2), #need to turn this on later, messed up with straight chains\n",
    "        \"F-F-F-F\": dict(phi0=0.0, k=500, d=-1, n=2),\n",
    "    }\n",
    ")\n",
    "dt = 0.0005\n",
    "gsd = f\"{N_chains}_10mer10f_{dt}dt.gsd\"\n",
    "log = f\"{N_chains}_10mer10f_{dt}dt.txt\"\n",
    "cpu = hoomd.device.CPU()\n",
    "sim = Simulation(initial_state=system.hoomd_snapshot, forcefield=ff.hoomd_forces, device=cpu, dt = dt, gsd_write_freq=int(1000), log_file_name = log, gsd_file_name = gsd)\n",
    "sim.run_NVT(n_steps=1e5, kT=7, tau_kt=.1)\n",
    "sim.flush_writers()\n",
    "sim_visualizer = FresnelGSD(gsd_file=gsd, frame=-1, view_axis=(1, 1, 1))\n",
    "sim_visualizer.view()"
   ]
  },
  {
   "cell_type": "code",
   "execution_count": null,
   "id": "3135cd58-0b06-4771-9d4d-78a4482b7954",
   "metadata": {},
   "outputs": [],
   "source": [
    "data = np.genfromtxt(log, names=True)"
   ]
  },
  {
   "cell_type": "code",
   "execution_count": null,
   "id": "42c71fa9-5d81-44f9-a704-4751b8a10755",
   "metadata": {},
   "outputs": [],
   "source": [
    "N.append(N_chains)"
   ]
  },
  {
   "cell_type": "code",
   "execution_count": null,
   "id": "97038e77-a992-4711-bd00-e37d89c6a2a1",
   "metadata": {},
   "outputs": [],
   "source": [
    "tps.append(np.average(data[\"flowermdbasesimulationSimulationtps\"]))"
   ]
  },
  {
   "cell_type": "code",
   "execution_count": null,
   "id": "f06e397c-74c2-4f86-afe9-4622da7b5642",
   "metadata": {},
   "outputs": [],
   "source": [
    "PE.append(data[\"mdcomputeThermodynamicQuantitiespotential_energy\"])"
   ]
  },
  {
   "cell_type": "code",
   "execution_count": null,
   "id": "63803287-b8f6-422f-8084-56a18783bcce",
   "metadata": {},
   "outputs": [],
   "source": [
    "timesteps.append(data[\"flowermdbasesimulationSimulationtimestep\"])"
   ]
  },
  {
   "cell_type": "code",
   "execution_count": null,
   "id": "a2f9d27e-b5a8-413c-bfeb-ac6508c12c10",
   "metadata": {},
   "outputs": [],
   "source": [
    "densities.append(dens)\n",
    "dts.append(dt)"
   ]
  },
  {
   "cell_type": "code",
   "execution_count": null,
   "id": "fb8b7431-1128-4d44-aa2e-23b9d95db46d",
   "metadata": {},
   "outputs": [],
   "source": [
    "np.savetxt('N.txt', N, delimiter=' ')\n",
    "np.savetxt('tps.txt', tps, delimiter=' ')\n",
    "np.savetxt('PE.txt', PE, delimiter=' ')\n",
    "np.savetxt('timesteps.txt', timesteps, delimiter=' ')\n",
    "np.savetxt('densities.txt', densities, delimiter=' ')\n",
    "np.savetxt('dts.txt', dts, delimiter=' ')"
   ]
  },
  {
   "cell_type": "code",
   "execution_count": null,
   "id": "3780bdc7-85b1-44cb-b4ba-f88b8d2f21d6",
   "metadata": {},
   "outputs": [],
   "source": []
  }
 ],
 "metadata": {
  "kernelspec": {
   "display_name": "Python 3 (ipykernel)",
   "language": "python",
   "name": "python3"
  },
  "language_info": {
   "codemirror_mode": {
    "name": "ipython",
    "version": 3
   },
   "file_extension": ".py",
   "mimetype": "text/x-python",
   "name": "python",
   "nbconvert_exporter": "python",
   "pygments_lexer": "ipython3",
   "version": "3.12.0"
  }
 },
 "nbformat": 4,
 "nbformat_minor": 5
}
