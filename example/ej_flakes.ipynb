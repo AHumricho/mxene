{
 "cells": [
  {
   "cell_type": "code",
   "execution_count": 18,
   "id": "3ab2f67e-8182-4b7d-8540-313085494a9e",
   "metadata": {},
   "outputs": [],
   "source": [
    "import flowermd\n",
    "import gsd\n",
    "import gsd.hoomd\n",
    "import hoomd\n",
    "import matplotlib.pyplot as plt\n",
    "import mbuild as mb\n",
    "import numpy as np\n",
    "import warnings\n",
    "\n",
    "from cmeutils.visualize import FresnelGSD\n",
    "from flowermd.base import Pack, Simulation, System, Molecule\n",
    "from flowermd.base.forcefield import BaseHOOMDForcefield\n",
    "from flowermd.library import KremerGrestBeadSpring, LJChain\n",
    "from flowermd.library.forcefields import BeadSpring\n",
    "from flowermd.utils import get_target_box_number_density\n",
    "from mbuild.compound import Compound\n",
    "from mbuild.lattice import Lattice\n",
    "warnings.filterwarnings('ignore')\n",
    "\n",
    "class Graphene(System):\n",
    "    def __init__(\n",
    "        self,\n",
    "        x_repeat,\n",
    "        y_repeat,\n",
    "        n_layers,\n",
    "        base_units=dict(),\n",
    "        periodicity=(True, True, False),\n",
    "    ):\n",
    "        surface = mb.Compound(periodicity=periodicity)\n",
    "        scale = 1.0 # 1.0 for testing, 0.246 for graphene bond lengths\n",
    "        spacings = [s * scale for s in [1.0, 1.0, 1.0]] # lattice spacing\n",
    "        points = [[0, 0, 0], [2/3, 1/3, 0]] # unit cell points\n",
    "        lattice = Lattice(\n",
    "            lattice_spacing=spacings,\n",
    "            angles=[90, 90, 120],\n",
    "            lattice_points={\"A\": points},\n",
    "        ) # angles between lattice vectors, 90-90-120 define a 2D hexagonal lattice extended into 3D.\n",
    "        carbon = Compound(name=\"C\", element=\"C\") # defines a carbon atom that will be used to populate lattice points\n",
    "        layers = lattice.populate(\n",
    "            compound_dict={\"A\": carbon}, x=x_repeat, y=y_repeat, z=n_layers\n",
    "        ) # populates the lattice using the previously defined carbon atom for every \"A\" site, repeated in all x,y, and z directions\n",
    "        surface.add(layers) # adds populated carbon lattice layers to the 'surface' compound, which represents our graphene structure \n",
    "        surface.freud_generate_bonds(\"C\", \"C\", dmin=0.3*scale, dmax=0.6*scale) # generates bonds depending on input distance range, scales with lattice\n",
    "        surface_mol = Molecule(num_mols=1, compound=surface) # wraps into a Molecule object, creating \"1\" instance of this molecule\n",
    "\n",
    "        super(Graphene, self).__init__(\n",
    "            molecules=[surface_mol],\n",
    "            base_units=base_units,\n",
    "        )\n",
    "\n",
    "    def _build_system(self):\n",
    "        return self.all_molecules[0]\n",
    "#OK, so we want to initialize a system with some chains and some flakes\n",
    "kg_chain = LJChain(lengths=2,num_mols=1)\n",
    "sheet = Graphene(x_repeat=2, y_repeat=2, n_layers=1, periodicity=(False, False, False))\n",
    "system = Pack(molecules=[Molecule(compound=sheet.all_molecules[0], num_mols=1), kg_chain], density=0.01, packing_expand_factor = 5, seed=5)\n",
    "system.visualize()\n"
   ]
  },
  {
   "cell_type": "code",
   "execution_count": 29,
   "id": "890820a8-cf0d-47e0-b8a7-f656907c1d7c",
   "metadata": {},
   "outputs": [
    {
     "data": {
      "application/3dmoljs_load.v0": "<div id=\"3dmolviewer_1749674305731765\"  style=\"position: relative; width: 640px; height: 480px;\">\n        <p id=\"3dmolwarning_1749674305731765\" style=\"background-color:#ffcccc;color:black\">3Dmol.js failed to load for some reason.  Please check your browser console for error messages.<br></p>\n        </div>\n<script>\n\nvar loadScriptAsync = function(uri){\n  return new Promise((resolve, reject) => {\n    //this is to ignore the existence of requirejs amd\n    var savedexports, savedmodule;\n    if (typeof exports !== 'undefined') savedexports = exports;\n    else exports = {}\n    if (typeof module !== 'undefined') savedmodule = module;\n    else module = {}\n\n    var tag = document.createElement('script');\n    tag.src = uri;\n    tag.async = true;\n    tag.onload = () => {\n        exports = savedexports;\n        module = savedmodule;\n        resolve();\n    };\n  var firstScriptTag = document.getElementsByTagName('script')[0];\n  firstScriptTag.parentNode.insertBefore(tag, firstScriptTag);\n});\n};\n\nif(typeof $3Dmolpromise === 'undefined') {\n$3Dmolpromise = null;\n  $3Dmolpromise = loadScriptAsync('https://cdn.jsdelivr.net/npm/3dmol@2.5.0/build/3Dmol-min.js');\n}\n\nvar viewer_1749674305731765 = null;\nvar warn = document.getElementById(\"3dmolwarning_1749674305731765\");\nif(warn) {\n    warn.parentNode.removeChild(warn);\n}\n$3Dmolpromise.then(function() {\nviewer_1749674305731765 = $3Dmol.createViewer(document.getElementById(\"3dmolviewer_1749674305731765\"),{backgroundColor:\"white\"});\nviewer_1749674305731765.zoomTo();\n\tviewer_1749674305731765.addModel(\"@<TRIPOS>MOLECULE\\nRES\\n10 8 1 0 1\\nSMALL\\nNO_CHARGES\\n@<TRIPOS>CRYSIN\\n  126.7433   126.7433   126.7433    90.0000    90.0000    90.0000 1 1\\n@<TRIPOS>ATOM\\n       1 C           11.9936    17.6172     3.7928 C             1 RES     \\n       2 C            2.0120    17.6318     4.3953 C             1 RES     \\n       3 C           16.9474     8.9595     3.0828 C             1 RES     \\n       4 C            6.9658     8.9740     3.6853 C             1 RES     \\n       5 C           11.9687    11.8501     3.5203 C             1 RES     \\n       6 C            1.9871    11.8646     4.1228 C             1 RES     \\n       7 C           16.9224     3.1924     2.8103 C             1 RES     \\n       8 C            6.9408     3.2069     3.4128 C             1 RES     \\n       9 A          121.2573   117.9516    95.0524 A             1 RES     \\n      10 A          121.6016   117.2072    85.0861 A             1 RES     \\n@<TRIPOS>BOND\\n       1        1        5 1\\n       2        2        6 1\\n       3        3        5 1\\n       4        3        7 1\\n       5        4        5 1\\n       6        4        6 1\\n       7        4        8 1\\n       8        9       10 1\\n@<TRIPOS>SUBSTRUCTURE\\n       1 RES             1 RESIDUE    0 **** ROOT      0\\n\",\"mol2\");\n\tviewer_1749674305731765.setStyle({\"stick\": {\"radius\": 0.18, \"color\": \"grey\"}, \"sphere\": {\"scale\": 0.3, \"colorscheme\": {}}});\n\tviewer_1749674305731765.zoomTo();\nviewer_1749674305731765.render();\n});\n</script>",
      "text/html": [
       "<div id=\"3dmolviewer_1749674305731765\"  style=\"position: relative; width: 640px; height: 480px;\">\n",
       "        <p id=\"3dmolwarning_1749674305731765\" style=\"background-color:#ffcccc;color:black\">3Dmol.js failed to load for some reason.  Please check your browser console for error messages.<br></p>\n",
       "        </div>\n",
       "<script>\n",
       "\n",
       "var loadScriptAsync = function(uri){\n",
       "  return new Promise((resolve, reject) => {\n",
       "    //this is to ignore the existence of requirejs amd\n",
       "    var savedexports, savedmodule;\n",
       "    if (typeof exports !== 'undefined') savedexports = exports;\n",
       "    else exports = {}\n",
       "    if (typeof module !== 'undefined') savedmodule = module;\n",
       "    else module = {}\n",
       "\n",
       "    var tag = document.createElement('script');\n",
       "    tag.src = uri;\n",
       "    tag.async = true;\n",
       "    tag.onload = () => {\n",
       "        exports = savedexports;\n",
       "        module = savedmodule;\n",
       "        resolve();\n",
       "    };\n",
       "  var firstScriptTag = document.getElementsByTagName('script')[0];\n",
       "  firstScriptTag.parentNode.insertBefore(tag, firstScriptTag);\n",
       "});\n",
       "};\n",
       "\n",
       "if(typeof $3Dmolpromise === 'undefined') {\n",
       "$3Dmolpromise = null;\n",
       "  $3Dmolpromise = loadScriptAsync('https://cdn.jsdelivr.net/npm/3dmol@2.5.0/build/3Dmol-min.js');\n",
       "}\n",
       "\n",
       "var viewer_1749674305731765 = null;\n",
       "var warn = document.getElementById(\"3dmolwarning_1749674305731765\");\n",
       "if(warn) {\n",
       "    warn.parentNode.removeChild(warn);\n",
       "}\n",
       "$3Dmolpromise.then(function() {\n",
       "viewer_1749674305731765 = $3Dmol.createViewer(document.getElementById(\"3dmolviewer_1749674305731765\"),{backgroundColor:\"white\"});\n",
       "viewer_1749674305731765.zoomTo();\n",
       "\tviewer_1749674305731765.addModel(\"@<TRIPOS>MOLECULE\\nRES\\n10 8 1 0 1\\nSMALL\\nNO_CHARGES\\n@<TRIPOS>CRYSIN\\n  126.7433   126.7433   126.7433    90.0000    90.0000    90.0000 1 1\\n@<TRIPOS>ATOM\\n       1 C           11.9936    17.6172     3.7928 C             1 RES     \\n       2 C            2.0120    17.6318     4.3953 C             1 RES     \\n       3 C           16.9474     8.9595     3.0828 C             1 RES     \\n       4 C            6.9658     8.9740     3.6853 C             1 RES     \\n       5 C           11.9687    11.8501     3.5203 C             1 RES     \\n       6 C            1.9871    11.8646     4.1228 C             1 RES     \\n       7 C           16.9224     3.1924     2.8103 C             1 RES     \\n       8 C            6.9408     3.2069     3.4128 C             1 RES     \\n       9 A          121.2573   117.9516    95.0524 A             1 RES     \\n      10 A          121.6016   117.2072    85.0861 A             1 RES     \\n@<TRIPOS>BOND\\n       1        1        5 1\\n       2        2        6 1\\n       3        3        5 1\\n       4        3        7 1\\n       5        4        5 1\\n       6        4        6 1\\n       7        4        8 1\\n       8        9       10 1\\n@<TRIPOS>SUBSTRUCTURE\\n       1 RES             1 RESIDUE    0 **** ROOT      0\\n\",\"mol2\");\n",
       "\tviewer_1749674305731765.setStyle({\"stick\": {\"radius\": 0.18, \"color\": \"grey\"}, \"sphere\": {\"scale\": 0.3, \"colorscheme\": {}}});\n",
       "\tviewer_1749674305731765.zoomTo();\n",
       "viewer_1749674305731765.render();\n",
       "});\n",
       "</script>"
      ]
     },
     "metadata": {},
     "output_type": "display_data"
    }
   ],
   "source": []
  },
  {
   "cell_type": "code",
   "execution_count": 30,
   "id": "cc666779-8b17-43e6-87e1-1815a7e22b90",
   "metadata": {},
   "outputs": [],
   "source": [
    "# this FF is for research question\n",
    "ff = BeadSpring(\n",
    "    r_cut=2.5,  \n",
    "    beads={\n",
    "        \"A\": dict(epsilon=1.0, sigma=1.0),  # chains\n",
    "        \"C\": dict(epsilon=1.0, sigma=1.0),  # flakes\n",
    "    },\n",
    "    bonds={\n",
    "        \"C-C\": dict(r0=1.0, k=10),\n",
    "        \"A-A\": dict(r0=1.0, k=10.0),  # increased k to avoid chain collapse\n",
    "    },\n",
    "    angles={\n",
    "        \"A-A-A\": dict(t0=2*np.pi/3, k=10.0),   # moderate stiffness for chains\n",
    "        \"C-C-C\": dict(t0=2 * np.pi / 3., k=500),\n",
    "    },\n",
    "    dihedrals={\n",
    "        \"A-A-A-A\": dict(phi0=0.0, k=1.0, d=-1, n=1),\n",
    "        \"C-C-C-C\": dict(phi0=0.0, k=500, d=-1, n=1),\n",
    "    }\n",
    ")"
   ]
  },
  {
   "cell_type": "code",
   "execution_count": 32,
   "id": "8dd592a3-a92a-409a-b0ca-83067d740e54",
   "metadata": {
    "scrolled": true
   },
   "outputs": [
    {
     "name": "stdout",
     "output_type": "stream",
     "text": [
      "Initializing simulation state from a gsd.hoomd.Frame.\n",
      "Step 1000 of 20000; TPS: 8539.78; ETA: 0.0 minutes\n",
      "Step 2000 of 20000; TPS: 16852.47; ETA: 0.0 minutes\n",
      "Step 3000 of 20000; TPS: 24966.09; ETA: 0.0 minutes\n",
      "Step 4000 of 20000; TPS: 32882.57; ETA: 0.0 minutes\n",
      "Step 5000 of 20000; TPS: 40538.68; ETA: 0.0 minutes\n",
      "Step 6000 of 20000; TPS: 48026.9; ETA: 0.0 minutes\n",
      "Step 7000 of 20000; TPS: 55282.22; ETA: 0.0 minutes\n",
      "Step 8000 of 20000; TPS: 62413.69; ETA: 0.0 minutes\n",
      "Step 9000 of 20000; TPS: 69397.32; ETA: 0.0 minutes\n",
      "Step 10000 of 20000; TPS: 76226.48; ETA: 0.0 minutes\n",
      "Step 11000 of 20000; TPS: 82813.86; ETA: 0.0 minutes\n",
      "Step 12000 of 20000; TPS: 89268.45; ETA: 0.0 minutes\n",
      "Step 13000 of 20000; TPS: 95630.43; ETA: 0.0 minutes\n",
      "Step 14000 of 20000; TPS: 101866.34; ETA: 0.0 minutes\n",
      "Step 15000 of 20000; TPS: 107971.15; ETA: 0.0 minutes\n",
      "Step 16000 of 20000; TPS: 113870.9; ETA: 0.0 minutes\n",
      "Step 17000 of 20000; TPS: 119607.97; ETA: 0.0 minutes\n",
      "Step 18000 of 20000; TPS: 125313.28; ETA: 0.0 minutes\n",
      "Step 19000 of 20000; TPS: 130893.66; ETA: 0.0 minutes\n"
     ]
    },
    {
     "data": {
      "image/png": "[encoded data removed]",
      "text/plain": [
       "<fresnel.util.ImageArray at 0x31df4a1b0>"
      ]
     },
     "execution_count": 32,
     "metadata": {},
     "output_type": "execute_result"
    }
   ],
   "source": [
    "cpu = hoomd.device.CPU()\n",
    "sim = Simulation(initial_state=system.hoomd_snapshot, forcefield=ff.hoomd_forces, device=cpu, dt = 0.0001, gsd_write_freq=int(1000), log_file_name = \"ej_flakes.txt\")\n",
    "sim.run_NVT(n_steps=20000, kT=1., tau_kt=.1)\n",
    "sim.flush_writers()\n",
    "sim_visualizer = FresnelGSD(gsd_file=\"trajectory.gsd\", frame=-1, view_axis=(1, 1, 1))\n",
    "sim_visualizer.view()"
   ]
  },
  {
   "cell_type": "code",
   "execution_count": null,
   "id": "8b7f430b-5dec-400b-bb8d-2a36b7e3cbf1",
   "metadata": {},
   "outputs": [],
   "source": []
  }
 ],
 "metadata": {
  "kernelspec": {
   "display_name": "Python 3 (ipykernel)",
   "language": "python",
   "name": "python3"
  },
  "language_info": {
   "codemirror_mode": {
    "name": "ipython",
    "version": 3
   },
   "file_extension": ".py",
   "mimetype": "text/x-python",
   "name": "python",
   "nbconvert_exporter": "python",
   "pygments_lexer": "ipython3",
   "version": "3.12.0"
  }
 },
 "nbformat": 4,
 "nbformat_minor": 5
}
