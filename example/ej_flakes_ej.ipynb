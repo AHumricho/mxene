{
 "cells": [
  {
   "cell_type": "code",
   "execution_count": 23,
   "id": "3ab2f67e-8182-4b7d-8540-313085494a9e",
   "metadata": {},
   "outputs": [],
   "source": [
    "import warnings\n",
    "warnings.filterwarnings('ignore')\n",
    "import flowermd\n",
    "import hoomd\n",
    "import gsd\n",
    "import matplotlib.pyplot as plt\n",
    "import numpy as np\n",
    "import gsd.hoomd\n",
    "from flowermd.base import Pack, Simulation\n",
    "from flowermd.library import KremerGrestBeadSpring, LJChain\n",
    "from flowermd.utils import get_target_box_number_density\n",
    "from flowermd.base import Molecule\n",
    "#from flowermd.library import Graphene\n",
    "from flowermd.library.forcefields import BeadSpring\n",
    "from flowermd.base.forcefield import BaseHOOMDForcefield\n",
    "import unyt as u\n",
    "import hoomd\n",
    "import mbuild as mb\n",
    "import numpy as np\n",
    "from cmeutils.visualize import FresnelGSD\n",
    "cpu = hoomd.device.CPU()"
   ]
  },
  {
   "cell_type": "code",
   "execution_count": 24,
   "id": "39e12b41-17c8-4627-b8fe-6f4dbe615809",
   "metadata": {},
   "outputs": [],
   "source": [
    "del sim"
   ]
  },
  {
   "cell_type": "code",
   "execution_count": 25,
   "id": "a83d9e43-96e1-4d16-9639-def29502aeae",
   "metadata": {},
   "outputs": [],
   "source": [
    "import mbuild as mb\n",
    "from mbuild.compound import Compound\n",
    "from mbuild.lattice import Lattice\n",
    "\n",
    "from flowermd.base import Molecule, System\n",
    "\n",
    "\n",
    "class Graphene(System):\n",
    "    def __init__(\n",
    "        self,\n",
    "        x_repeat,\n",
    "        y_repeat,\n",
    "        n_layers,\n",
    "        base_units=dict(),\n",
    "        periodicity=(True, True, False),\n",
    "    ):\n",
    "        surface = mb.Compound(periodicity=periodicity)\n",
    "        scale = 1.0 # CHANGE THIS TO SCALE!!\n",
    "        spacings = [s * scale for s in [0.425, 0.246, 0.35]]\n",
    "        points = [\n",
    "            [1 / 6, 0, 0],\n",
    "            [1 / 2, 0, 0],\n",
    "            [0, 1 / 2, 0],\n",
    "            [2 / 3, 1 / 2, 0],\n",
    "        ]\n",
    "        lattice = Lattice(\n",
    "            lattice_spacing=spacings,\n",
    "            angles=[90, 90, 90],\n",
    "            lattice_points={\"A\": points},\n",
    "        )\n",
    "        carbon = Compound(name=\"C\", element=\"C\")\n",
    "        layers = lattice.populate(\n",
    "            compound_dict={\"A\": carbon}, x=x_repeat, y=y_repeat, z=n_layers\n",
    "        )\n",
    "        surface.add(layers)\n",
    "        surface.freud_generate_bonds(\"C\", \"C\", dmin=0.14*scale, dmax=0.145*scale)\n",
    "        surface_mol = Molecule(num_mols=1, compound=surface)\n",
    "        super(Graphene, self).__init__(\n",
    "            molecules=[surface_mol],\n",
    "            base_units=base_units,\n",
    "        )\n",
    "\n",
    "    def _build_system(self):\n",
    "        return self.all_molecules[0]"
   ]
  },
  {
   "cell_type": "code",
   "execution_count": 26,
   "id": "890820a8-cf0d-47e0-b8a7-f656907c1d7c",
   "metadata": {},
   "outputs": [],
   "source": [
    "#OK, so we want to initialize a system with some chains and some flakes\n",
    "kg_chain = LJChain(lengths=10,num_mols=1)\n",
    "sheet = Graphene(x_repeat=3, y_repeat=3, n_layers=1, periodicity=(False,False,False))\n",
    "#system = Pack(molecules=[Molecule(compound=sheet.all_molecules[0], num_mols=1), kg_chain], density=0.2)"
   ]
  },
  {
   "cell_type": "code",
   "execution_count": 27,
   "id": "d149470a-44b1-42be-83bc-0460944623ed",
   "metadata": {},
   "outputs": [],
   "source": [
    "system.hoomd_snapshot.configuration.box = [10, 10, 10, 0, 0, 0]"
   ]
  },
  {
   "cell_type": "code",
   "execution_count": 28,
   "id": "cb6df85e-6c9c-4b89-beaa-42543e8ea421",
   "metadata": {
    "scrolled": true
   },
   "outputs": [
    {
     "name": "stderr",
     "output_type": "stream",
     "text": [
      "*Warning*: pos 0:-5.20539522171 -1.93681716919 3.47975516319\n",
      "*Warning*: fractional pos :-0.020539522171 0.306318283081 0.847975516319\n",
      "*Warning*: lo: -5 -5 -5\n",
      "*Warning*: hi: 5 5 5\n",
      "*Warning*: Not all particles were found inside the given box\n"
     ]
    },
    {
     "name": "stdout",
     "output_type": "stream",
     "text": [
      "Initializing simulation state from a gsd.hoomd.Frame.\n"
     ]
    },
    {
     "ename": "RuntimeError",
     "evalue": "Error initializing ParticleData",
     "output_type": "error",
     "traceback": [
      "\u001b[31m---------------------------------------------------------------------------\u001b[39m",
      "\u001b[31mRuntimeError\u001b[39m                              Traceback (most recent call last)",
      "\u001b[36mCell\u001b[39m\u001b[36m \u001b[39m\u001b[32mIn[28]\u001b[39m\u001b[32m, line 8\u001b[39m\n\u001b[32m      1\u001b[39m ff = BeadSpring(r_cut=\u001b[32m2.5\u001b[39m,\n\u001b[32m      2\u001b[39m         beads={\u001b[33m\"\u001b[39m\u001b[33mA\u001b[39m\u001b[33m\"\u001b[39m: \u001b[38;5;28mdict\u001b[39m(epsilon=\u001b[32m.1\u001b[39m, sigma=\u001b[32m1.0\u001b[39m),\n\u001b[32m      3\u001b[39m                \u001b[33m\"\u001b[39m\u001b[33mC\u001b[39m\u001b[33m\"\u001b[39m: \u001b[38;5;28mdict\u001b[39m(epsilon=\u001b[32m0.1\u001b[39m, sigma=\u001b[32m1.0\u001b[39m)},\n\u001b[32m   (...)\u001b[39m\u001b[32m      6\u001b[39m                 \u001b[33m\"\u001b[39m\u001b[33mC-C-C\u001b[39m\u001b[33m\"\u001b[39m: \u001b[38;5;28mdict\u001b[39m(t0=\u001b[32m2\u001b[39m*np.pi/\u001b[32m3.\u001b[39m, k=\u001b[32m0.1\u001b[39m)},\n\u001b[32m      7\u001b[39m         dihedrals={\u001b[33m\"\u001b[39m\u001b[33mA-A-A-A\u001b[39m\u001b[33m\"\u001b[39m: \u001b[38;5;28mdict\u001b[39m(phi0=\u001b[32m0.0\u001b[39m, k=\u001b[32m0.1\u001b[39m, d=-\u001b[32m1\u001b[39m, n=\u001b[32m1\u001b[39m), \u001b[33m\"\u001b[39m\u001b[33mC-C-C-C\u001b[39m\u001b[33m\"\u001b[39m: \u001b[38;5;28mdict\u001b[39m(phi0=\u001b[32m0.1\u001b[39m, k=\u001b[32m0.1\u001b[39m, d=-\u001b[32m1\u001b[39m, n=\u001b[32m1\u001b[39m)})\n\u001b[32m----> \u001b[39m\u001b[32m8\u001b[39m sim = \u001b[43mSimulation\u001b[49m\u001b[43m(\u001b[49m\u001b[43minitial_state\u001b[49m\u001b[43m=\u001b[49m\u001b[43msystem\u001b[49m\u001b[43m.\u001b[49m\u001b[43mhoomd_snapshot\u001b[49m\u001b[43m,\u001b[49m\u001b[43m \u001b[49m\u001b[43mforcefield\u001b[49m\u001b[43m=\u001b[49m\u001b[43mff\u001b[49m\u001b[43m.\u001b[49m\u001b[43mhoomd_forces\u001b[49m\u001b[43m,\u001b[49m\u001b[43m \u001b[49m\u001b[43mdevice\u001b[49m\u001b[43m=\u001b[49m\u001b[43mcpu\u001b[49m\u001b[43m,\u001b[49m\u001b[43m \u001b[49m\u001b[43mdt\u001b[49m\u001b[43m \u001b[49m\u001b[43m=\u001b[49m\u001b[43m \u001b[49m\u001b[32;43m0.0001\u001b[39;49m\u001b[43m)\u001b[49m\n\u001b[32m      9\u001b[39m sim.state.thermalize_particle_momenta(\u001b[38;5;28mfilter\u001b[39m=hoomd.filter.All(), kT=\u001b[32m0.1\u001b[39m)\n\u001b[32m     10\u001b[39m sim.run_NVT(n_steps=\u001b[32m2e4\u001b[39m,kT=\u001b[32m2.0\u001b[39m, tau_kt = \u001b[32m0.1\u001b[39m) \u001b[38;5;66;03m#short for initial testing\u001b[39;00m\n",
      "\u001b[36mFile \u001b[39m\u001b[32m/mnt/c/Users/rojas/OneDrive/Desktop/Work/CMELab/flowerMD/flowermd/base/simulation.py:120\u001b[39m, in \u001b[36mSimulation.__init__\u001b[39m\u001b[34m(self, initial_state, forcefield, reference_values, dt, device, seed, gsd_write_freq, gsd_file_name, gsd_max_buffer_size, log_write_freq, log_file_name, thermostat, rigid_constraint)\u001b[39m\n\u001b[32m    116\u001b[39m \u001b[38;5;28mself\u001b[39m._integrate_group = \u001b[38;5;28mself\u001b[39m._create_integrate_group(\n\u001b[32m    117\u001b[39m     rigid=\u001b[38;5;28;01mTrue\u001b[39;00m \u001b[38;5;28;01mif\u001b[39;00m rigid_constraint \u001b[38;5;28;01melse\u001b[39;00m \u001b[38;5;28;01mFalse\u001b[39;00m\n\u001b[32m    118\u001b[39m )\n\u001b[32m    119\u001b[39m \u001b[38;5;28mself\u001b[39m._wall_forces = \u001b[38;5;28mdict\u001b[39m()\n\u001b[32m--> \u001b[39m\u001b[32m120\u001b[39m \u001b[38;5;28;43mself\u001b[39;49m\u001b[43m.\u001b[49m\u001b[43m_create_state\u001b[49m\u001b[43m(\u001b[49m\u001b[38;5;28;43mself\u001b[39;49m\u001b[43m.\u001b[49m\u001b[43minitial_state\u001b[49m\u001b[43m)\u001b[49m\n\u001b[32m    121\u001b[39m \u001b[38;5;66;03m# Add a gsd and thermo props logger to sim operations\u001b[39;00m\n\u001b[32m    122\u001b[39m \u001b[38;5;28mself\u001b[39m._add_hoomd_writers()\n",
      "\u001b[36mFile \u001b[39m\u001b[32m/mnt/c/Users/rojas/OneDrive/Desktop/Work/CMELab/flowerMD/flowermd/base/simulation.py:1258\u001b[39m, in \u001b[36mSimulation._create_state\u001b[39m\u001b[34m(self, initial_state)\u001b[39m\n\u001b[32m   1256\u001b[39m \u001b[38;5;28;01melif\u001b[39;00m \u001b[38;5;28misinstance\u001b[39m(initial_state, gsd.hoomd.Frame):\n\u001b[32m   1257\u001b[39m     \u001b[38;5;28mprint\u001b[39m(\u001b[33m\"\u001b[39m\u001b[33mInitializing simulation state from a gsd.hoomd.Frame.\u001b[39m\u001b[33m\"\u001b[39m)\n\u001b[32m-> \u001b[39m\u001b[32m1258\u001b[39m     \u001b[38;5;28;43mself\u001b[39;49m\u001b[43m.\u001b[49m\u001b[43mcreate_state_from_snapshot\u001b[49m\u001b[43m(\u001b[49m\u001b[43minitial_state\u001b[49m\u001b[43m)\u001b[49m\n",
      "\u001b[36mFile \u001b[39m\u001b[32m~/miniconda3/envs/flowermd/lib/python3.12/site-packages/hoomd/simulation.py:297\u001b[39m, in \u001b[36mSimulation.create_state_from_snapshot\u001b[39m\u001b[34m(self, snapshot, domain_decomposition)\u001b[39m\n\u001b[32m    293\u001b[39m \u001b[38;5;28;01melif\u001b[39;00m _match_class_path(snapshot, \u001b[33m'\u001b[39m\u001b[33mgsd.hoomd.Frame\u001b[39m\u001b[33m'\u001b[39m):\n\u001b[32m    294\u001b[39m     \u001b[38;5;66;03m# snapshot is gsd.hoomd.Frame (gsd 2.8+, 3.x)\u001b[39;00m\n\u001b[32m    295\u001b[39m     snapshot = Snapshot.from_gsd_frame(snapshot,\n\u001b[32m    296\u001b[39m                                        \u001b[38;5;28mself\u001b[39m._device.communicator)\n\u001b[32m--> \u001b[39m\u001b[32m297\u001b[39m     \u001b[38;5;28mself\u001b[39m._state = \u001b[43mState\u001b[49m\u001b[43m(\u001b[49m\u001b[38;5;28;43mself\u001b[39;49m\u001b[43m,\u001b[49m\u001b[43m \u001b[49m\u001b[43msnapshot\u001b[49m\u001b[43m,\u001b[49m\u001b[43m \u001b[49m\u001b[43mdomain_decomposition\u001b[49m\u001b[43m)\u001b[49m\n\u001b[32m    298\u001b[39m \u001b[38;5;28;01melif\u001b[39;00m _match_class_path(snapshot, \u001b[33m'\u001b[39m\u001b[33mgsd.hoomd.Snapshot\u001b[39m\u001b[33m'\u001b[39m):\n\u001b[32m    299\u001b[39m     \u001b[38;5;66;03m# snapshot is gsd.hoomd.Snapshot (gsd 2.x)\u001b[39;00m\n\u001b[32m    300\u001b[39m     snapshot = Snapshot.from_gsd_snapshot(snapshot,\n\u001b[32m    301\u001b[39m                                           \u001b[38;5;28mself\u001b[39m._device.communicator)\n",
      "\u001b[36mFile \u001b[39m\u001b[32m~/miniconda3/envs/flowermd/lib/python3.12/site-packages/hoomd/state.py:263\u001b[39m, in \u001b[36mState.__init__\u001b[39m\u001b[34m(self, simulation, snapshot, domain_decomposition)\u001b[39m\n\u001b[32m    259\u001b[39m     \u001b[38;5;28mself\u001b[39m._cpp_sys_def = _hoomd.SystemDefinition(\n\u001b[32m    260\u001b[39m         snapshot._cpp_obj, simulation.device._cpp_exec_conf,\n\u001b[32m    261\u001b[39m         decomposition)\n\u001b[32m    262\u001b[39m \u001b[38;5;28;01melse\u001b[39;00m:\n\u001b[32m--> \u001b[39m\u001b[32m263\u001b[39m     \u001b[38;5;28mself\u001b[39m._cpp_sys_def = \u001b[43m_hoomd\u001b[49m\u001b[43m.\u001b[49m\u001b[43mSystemDefinition\u001b[49m\u001b[43m(\u001b[49m\n\u001b[32m    264\u001b[39m \u001b[43m        \u001b[49m\u001b[43msnapshot\u001b[49m\u001b[43m.\u001b[49m\u001b[43m_cpp_obj\u001b[49m\u001b[43m,\u001b[49m\u001b[43m \u001b[49m\u001b[43msimulation\u001b[49m\u001b[43m.\u001b[49m\u001b[43mdevice\u001b[49m\u001b[43m.\u001b[49m\u001b[43m_cpp_exec_conf\u001b[49m\u001b[43m)\u001b[49m\n\u001b[32m    266\u001b[39m \u001b[38;5;66;03m# Necessary for local snapshot API. This is used to ensure two local\u001b[39;00m\n\u001b[32m    267\u001b[39m \u001b[38;5;66;03m# snapshots are not contexted at once.\u001b[39;00m\n\u001b[32m    268\u001b[39m \u001b[38;5;28mself\u001b[39m._in_context_manager = \u001b[38;5;28;01mFalse\u001b[39;00m\n",
      "\u001b[31mRuntimeError\u001b[39m: Error initializing ParticleData"
     ]
    }
   ],
   "source": [
    "ff = BeadSpring(r_cut=2.5,\n",
    "        beads={\"A\": dict(epsilon=.1, sigma=1.0),\n",
    "               \"C\": dict(epsilon=0.1, sigma=1.0)},\n",
    "        bonds={\"C-C\": dict(r0=0.24599999029207287, k=50), \"A-A\": dict(r0=1.1, k=0.01)},\n",
    "        angles={\"A-A-A\": dict(t0=np.pi, k=0.1),\n",
    "                \"C-C-C\": dict(t0=2*np.pi/3., k=0.1)},\n",
    "        dihedrals={\"A-A-A-A\": dict(phi0=0.0, k=0.1, d=-1, n=1), \"C-C-C-C\": dict(phi0=0.1, k=0.1, d=-1, n=1)})\n",
    "sim = Simulation(initial_state=system.hoomd_snapshot, forcefield=ff.hoomd_forces, device=cpu, dt = 0.0001)\n",
    "sim.state.thermalize_particle_momenta(filter=hoomd.filter.All(), kT=0.1)\n",
    "sim.run_NVT(n_steps=2e4,kT=2.0, tau_kt = 0.1) #short for initial testing\n",
    "sim.flush_writers()\n",
    "sim_visualizer = FresnelGSD(gsd_file=\"trajectory.gsd\", frame=2, view_axis=(1, 1, 1))\n",
    "sim_visualizer.view()\n",
    "# dt of .0001 is as big as we can get with the current parameterization\n",
    "#Issues:\n",
    "# Graphene flakes are initialized way too small, or the bond lengths are wrong\n",
    "# Need to double-check all the bonds, angle, dihedral parameters\n",
    "# then need to go back and get some chain lengths and flake sizes right."
   ]
  },
  {
   "cell_type": "code",
   "execution_count": null,
   "id": "8e9f404f-69f1-46ed-a0af-82ad619a8ced",
   "metadata": {},
   "outputs": [],
   "source": []
  }
 ],
 "metadata": {
  "kernelspec": {
   "display_name": "Python 3 (ipykernel)",
   "language": "python",
   "name": "python3"
  },
  "language_info": {
   "codemirror_mode": {
    "name": "ipython",
    "version": 3
   },
   "file_extension": ".py",
   "mimetype": "text/x-python",
   "name": "python",
   "nbconvert_exporter": "python",
   "pygments_lexer": "ipython3",
   "version": "3.12.0"
  }
 },
 "nbformat": 4,
 "nbformat_minor": 5
}
