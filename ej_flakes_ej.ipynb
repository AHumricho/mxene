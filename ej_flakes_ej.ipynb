{
 "cells": [
  {
   "cell_type": "code",
   "execution_count": 8,
   "id": "3ab2f67e-8182-4b7d-8540-313085494a9e",
   "metadata": {},
   "outputs": [],
   "source": [
    "import warnings\n",
    "warnings.filterwarnings('ignore')\n",
    "import flowermd\n",
    "import hoomd\n",
    "import gsd\n",
    "import matplotlib.pyplot as plt\n",
    "import numpy as np\n",
    "import gsd.hoomd\n",
    "from flowermd.base import Pack, Simulation\n",
    "from flowermd.library import KremerGrestBeadSpring, LJChain\n",
    "from flowermd.utils import get_target_box_number_density\n",
    "from flowermd.base import Molecule\n",
    "#from flowermd.library import Graphene\n",
    "from flowermd.library.forcefields import BeadSpring\n",
    "from flowermd.base.forcefield import BaseHOOMDForcefield\n",
    "import unyt as u\n",
    "import hoomd\n",
    "import mbuild as mb\n",
    "import numpy as np\n",
    "from cmeutils.visualize import FresnelGSD\n",
    "cpu = hoomd.device.CPU()"
   ]
  },
  {
   "cell_type": "code",
   "execution_count": 9,
   "id": "39e12b41-17c8-4627-b8fe-6f4dbe615809",
   "metadata": {},
   "outputs": [],
   "source": [
    "del sim"
   ]
  },
  {
   "cell_type": "code",
   "execution_count": 10,
   "id": "a83d9e43-96e1-4d16-9639-def29502aeae",
   "metadata": {},
   "outputs": [],
   "source": [
    "import mbuild as mb\n",
    "from mbuild.compound import Compound\n",
    "from mbuild.lattice import Lattice\n",
    "\n",
    "from flowermd.base import Molecule, System\n",
    "\n",
    "\n",
    "class Graphene(System):\n",
    "    def __init__(\n",
    "        self,\n",
    "        x_repeat,\n",
    "        y_repeat,\n",
    "        n_layers,\n",
    "        base_units=dict(),\n",
    "        periodicity=(True, True, False),\n",
    "    ):\n",
    "        surface = mb.Compound(periodicity=periodicity)\n",
    "        scale = 1.0 # CHANGE THIS TO SCALE!!\n",
    "        spacings = [s * scale for s in [0.425, 0.246, 0.35]]\n",
    "        points = [\n",
    "            [1 / 6, 0, 0],\n",
    "            [1 / 2, 0, 0],\n",
    "            [0, 1 / 2, 0],\n",
    "            [2 / 3, 1 / 2, 0],\n",
    "        ]\n",
    "        lattice = Lattice(\n",
    "            lattice_spacing=spacings,\n",
    "            angles=[90, 90, 90],\n",
    "            lattice_points={\"A\": points},\n",
    "        )\n",
    "        carbon = Compound(name=\"C\", element=\"C\")\n",
    "        layers = lattice.populate(\n",
    "            compound_dict={\"A\": carbon}, x=x_repeat, y=y_repeat, z=n_layers\n",
    "        )\n",
    "        surface.add(layers)\n",
    "        surface.freud_generate_bonds(\"C\", \"C\", dmin=0.14*scale, dmax=0.145*scale)\n",
    "        surface_mol = Molecule(num_mols=1, compound=surface)\n",
    "        super(Graphene, self).__init__(\n",
    "            molecules=[surface_mol],\n",
    "            base_units=base_units,\n",
    "        )\n",
    "\n",
    "    def _build_system(self):\n",
    "        return self.all_molecules[0]"
   ]
  },
  {
   "cell_type": "code",
   "execution_count": 11,
   "id": "890820a8-cf0d-47e0-b8a7-f656907c1d7c",
   "metadata": {},
   "outputs": [],
   "source": [
    "#OK, so we want to initialize a system with some chains and some flakes\n",
    "kg_chain = LJChain(lengths=10,num_mols=1)\n",
    "sheet = Graphene(x_repeat=3, y_repeat=3, n_layers=1, periodicity=(False,False,False))\n",
    "#system = Pack(molecules=[Molecule(compound=sheet.all_molecules[0], num_mols=1), kg_chain], density=0.2)"
   ]
  },
  {
   "cell_type": "code",
   "execution_count": 12,
   "id": "1470fc87-cb54-4ecf-96cb-5df742964fc4",
   "metadata": {},
   "outputs": [],
   "source": [
    "system = Pack(molecules= Molecule(compound=sheet.all_molecules[0], num_mols=1), density = 0.2)"
   ]
  },
  {
   "cell_type": "code",
   "execution_count": 13,
   "id": "d149470a-44b1-42be-83bc-0460944623ed",
   "metadata": {},
   "outputs": [],
   "source": [
    "system.hoomd_snapshot.configuration.box = [10, 10, 10, 0, 0, 0]"
   ]
  },
  {
   "cell_type": "code",
   "execution_count": 20,
   "id": "cb6df85e-6c9c-4b89-beaa-42543e8ea421",
   "metadata": {
    "scrolled": true
   },
   "outputs": [
    {
     "name": "stdout",
     "output_type": "stream",
     "text": [
      "Initializing simulation state from a gsd.hoomd.Frame.\n",
      "Step 5500 of 20000; TPS: 21863.31; ETA: 0.0 minutes\n",
      "Step 11000 of 20000; TPS: 32610.66; ETA: 0.0 minutes\n",
      "Step 16500 of 20000; TPS: 39540.09; ETA: 0.0 minutes\n"
     ]
    },
    {
     "data": {
      "image/png": "[encoded data removed]",
      "text/plain": [
       "<fresnel.util.ImageArray at 0x7f41c8657f50>"
      ]
     },
     "execution_count": 20,
     "metadata": {},
     "output_type": "execute_result"
    }
   ],
   "source": [
    "ff = BeadSpring(r_cut=2.5,\n",
    "        beads={\"A\": dict(epsilon=.1, sigma=1.0),\n",
    "               \"C\": dict(epsilon=0.1, sigma=1.0)},\n",
    "        bonds={\"C-C\": dict(r0=0.24599999029207287, k=50), \"A-A\": dict(r0=1.1, k=0.01)},\n",
    "        angles={\"A-A-A\": dict(t0=np.pi, k=0.1),\n",
    "                \"C-C-C\": dict(t0=2*np.pi/3., k=0.1)},\n",
    "        dihedrals={\"A-A-A-A\": dict(phi0=0.0, k=0.1, d=-1, n=1), \"C-C-C-C\": dict(phi0=0.1, k=0.1, d=-1, n=1)})\n",
    "sim = Simulation(initial_state=system.hoomd_snapshot, forcefield=ff.hoomd_forces, device=cpu, dt = 0.0001)\n",
    "sim.run_NVT(n_steps=2e4,kT=2.0, tau_kt = 0.1) #short for initial testing\n",
    "sim.flush_writers()\n",
    "sim_visualizer = FresnelGSD(gsd_file=\"trajectory.gsd\", frame=2, view_axis=(1, 1, 1))\n",
    "sim_visualizer.view()\n",
    "# dt of .0001 is as big as we can get with the current parameterization\n",
    "#Issues:\n",
    "# Graphene flakes are initialized way too small, or the bond lengths are wrong\n",
    "# Need to double-check all the bonds, angle, dihedral parameters\n",
    "# then need to go back and get some chain lengths and flake sizes right."
   ]
  },
  {
   "cell_type": "code",
   "execution_count": 19,
   "id": "52d0b3ae-4e0e-461a-b3dd-096120b6859b",
   "metadata": {},
   "outputs": [
    {
     "data": {
      "application/3dmoljs_load.v0": "<div id=\"3dmolviewer_17465013314998233\"  style=\"position: relative; width: 640px; height: 480px;\">\n        <p id=\"3dmolwarning_17465013314998233\" style=\"background-color:#ffcccc;color:black\">3Dmol.js failed to load for some reason.  Please check your browser console for error messages.<br></p>\n        </div>\n<script>\n\nvar loadScriptAsync = function(uri){\n  return new Promise((resolve, reject) => {\n    //this is to ignore the existence of requirejs amd\n    var savedexports, savedmodule;\n    if (typeof exports !== 'undefined') savedexports = exports;\n    else exports = {}\n    if (typeof module !== 'undefined') savedmodule = module;\n    else module = {}\n\n    var tag = document.createElement('script');\n    tag.src = uri;\n    tag.async = true;\n    tag.onload = () => {\n        exports = savedexports;\n        module = savedmodule;\n        resolve();\n    };\n  var firstScriptTag = document.getElementsByTagName('script')[0];\n  firstScriptTag.parentNode.insertBefore(tag, firstScriptTag);\n});\n};\n\nif(typeof $3Dmolpromise === 'undefined') {\n$3Dmolpromise = null;\n  $3Dmolpromise = loadScriptAsync('https://cdnjs.cloudflare.com/ajax/libs/3Dmol/2.4.2/3Dmol-min.js');\n}\n\nvar viewer_17465013314998233 = null;\nvar warn = document.getElementById(\"3dmolwarning_17465013314998233\");\nif(warn) {\n    warn.parentNode.removeChild(warn);\n}\n$3Dmolpromise.then(function() {\nviewer_17465013314998233 = $3Dmol.createViewer(document.getElementById(\"3dmolviewer_17465013314998233\"),{backgroundColor:\"white\"});\nviewer_17465013314998233.zoomTo();\n\tviewer_17465013314998233.addModel(\"@<TRIPOS>MOLECULE\\nRES\\n36 45 1 0 1\\nSMALL\\nNO_CHARGES\\n@<TRIPOS>CRYSIN\\n   76.5603    76.5603    76.5603    90.0000    90.0000    90.0000 1 1\\n@<TRIPOS>ATOM\\n       1 C            1.9170    23.2415    53.4067 C             1 RES     \\n       2 C            4.2517    22.9626    54.1298 C             1 RES     \\n       3 C            6.5865    22.6837    54.8529 C             1 RES     \\n       4 C            1.9762    27.2671    54.7683 C             1 RES     \\n       5 C            4.3109    26.9882    55.4914 C             1 RES     \\n       6 C            6.6457    26.7093    56.2145 C             1 RES     \\n       7 C            2.0354    31.2926    56.1298 C             1 RES     \\n       8 C            4.3701    31.0137    56.8529 C             1 RES     \\n       9 C            6.7048    30.7348    57.5760 C             1 RES     \\n      10 C            1.9368    24.5837    53.8607 C             1 RES     \\n      11 C            4.2715    24.3048    54.5838 C             1 RES     \\n      12 C            6.6062    24.0259    55.3069 C             1 RES     \\n      13 C            1.9959    28.6092    55.2222 C             1 RES     \\n      14 C            4.3307    28.3303    55.9453 C             1 RES     \\n      15 C            6.6654    28.0514    56.6684 C             1 RES     \\n      16 C            2.0551    32.6348    56.5838 C             1 RES     \\n      17 C            4.3898    32.3559    57.3069 C             1 RES     \\n      18 C            6.7246    32.0770    58.0300 C             1 RES     \\n      19 C            3.0745    22.4314    53.5414 C             1 RES     \\n      20 C            5.4093    22.1525    54.2645 C             1 RES     \\n      21 C            7.7440    21.8736    54.9876 C             1 RES     \\n      22 C            3.1337    26.4570    54.9030 C             1 RES     \\n      23 C            5.4684    26.1781    55.6261 C             1 RES     \\n      24 C            7.8032    25.8992    56.3492 C             1 RES     \\n      25 C            3.1929    30.4826    56.2646 C             1 RES     \\n      26 C            5.5276    30.2037    56.9877 C             1 RES     \\n      27 C            7.8623    29.9248    57.7108 C             1 RES     \\n      28 C            3.1140    25.1148    54.4490 C             1 RES     \\n      29 C            5.4487    24.8359    55.1721 C             1 RES     \\n      30 C            7.7834    24.5570    55.8952 C             1 RES     \\n      31 C            3.1732    29.1404    55.8106 C             1 RES     \\n      32 C            5.5079    28.8615    56.5337 C             1 RES     \\n      33 C            7.8426    28.5826    57.2568 C             1 RES     \\n      34 C            3.2323    33.1659    57.1722 C             1 RES     \\n      35 C            5.5671    32.8870    57.8953 C             1 RES     \\n      36 C            7.9018    32.6081    58.6184 C             1 RES     \\n@<TRIPOS>BOND\\n       1        1       10 1\\n       2        1       19 1\\n       3        2       11 1\\n       4        2       19 1\\n       5        2       20 1\\n       6        3       12 1\\n       7        3       20 1\\n       8        3       21 1\\n       9        4       13 1\\n      10        4       22 1\\n      11        5       14 1\\n      12        5       22 1\\n      13        5       23 1\\n      14        6       15 1\\n      15        6       23 1\\n      16        6       24 1\\n      17        7       16 1\\n      18        7       25 1\\n      19        8       17 1\\n      20        8       25 1\\n      21        8       26 1\\n      22        9       18 1\\n      23        9       26 1\\n      24        9       27 1\\n      25       10       28 1\\n      26       11       28 1\\n      27       11       29 1\\n      28       12       29 1\\n      29       12       30 1\\n      30       13       31 1\\n      31       14       31 1\\n      32       14       32 1\\n      33       15       32 1\\n      34       15       33 1\\n      35       16       34 1\\n      36       17       34 1\\n      37       17       35 1\\n      38       18       35 1\\n      39       18       36 1\\n      40       22       28 1\\n      41       23       29 1\\n      42       24       30 1\\n      43       25       31 1\\n      44       26       32 1\\n      45       27       33 1\\n@<TRIPOS>SUBSTRUCTURE\\n       1 RES             1 RESIDUE    0 **** ROOT      0\\n\",\"mol2\");\n\tviewer_17465013314998233.setStyle({\"stick\": {\"radius\": 0.18, \"color\": \"grey\"}, \"sphere\": {\"scale\": 0.3, \"colorscheme\": {}}});\n\tviewer_17465013314998233.zoomTo();\nviewer_17465013314998233.render();\n});\n</script>",
      "text/html": [
       "<div id=\"3dmolviewer_17465013314998233\"  style=\"position: relative; width: 640px; height: 480px;\">\n",
       "        <p id=\"3dmolwarning_17465013314998233\" style=\"background-color:#ffcccc;color:black\">3Dmol.js failed to load for some reason.  Please check your browser console for error messages.<br></p>\n",
       "        </div>\n",
       "<script>\n",
       "\n",
       "var loadScriptAsync = function(uri){\n",
       "  return new Promise((resolve, reject) => {\n",
       "    //this is to ignore the existence of requirejs amd\n",
       "    var savedexports, savedmodule;\n",
       "    if (typeof exports !== 'undefined') savedexports = exports;\n",
       "    else exports = {}\n",
       "    if (typeof module !== 'undefined') savedmodule = module;\n",
       "    else module = {}\n",
       "\n",
       "    var tag = document.createElement('script');\n",
       "    tag.src = uri;\n",
       "    tag.async = true;\n",
       "    tag.onload = () => {\n",
       "        exports = savedexports;\n",
       "        module = savedmodule;\n",
       "        resolve();\n",
       "    };\n",
       "  var firstScriptTag = document.getElementsByTagName('script')[0];\n",
       "  firstScriptTag.parentNode.insertBefore(tag, firstScriptTag);\n",
       "});\n",
       "};\n",
       "\n",
       "if(typeof $3Dmolpromise === 'undefined') {\n",
       "$3Dmolpromise = null;\n",
       "  $3Dmolpromise = loadScriptAsync('https://cdnjs.cloudflare.com/ajax/libs/3Dmol/2.4.2/3Dmol-min.js');\n",
       "}\n",
       "\n",
       "var viewer_17465013314998233 = null;\n",
       "var warn = document.getElementById(\"3dmolwarning_17465013314998233\");\n",
       "if(warn) {\n",
       "    warn.parentNode.removeChild(warn);\n",
       "}\n",
       "$3Dmolpromise.then(function() {\n",
       "viewer_17465013314998233 = $3Dmol.createViewer(document.getElementById(\"3dmolviewer_17465013314998233\"),{backgroundColor:\"white\"});\n",
       "viewer_17465013314998233.zoomTo();\n",
       "\tviewer_17465013314998233.addModel(\"@<TRIPOS>MOLECULE\\nRES\\n36 45 1 0 1\\nSMALL\\nNO_CHARGES\\n@<TRIPOS>CRYSIN\\n   76.5603    76.5603    76.5603    90.0000    90.0000    90.0000 1 1\\n@<TRIPOS>ATOM\\n       1 C            1.9170    23.2415    53.4067 C             1 RES     \\n       2 C            4.2517    22.9626    54.1298 C             1 RES     \\n       3 C            6.5865    22.6837    54.8529 C             1 RES     \\n       4 C            1.9762    27.2671    54.7683 C             1 RES     \\n       5 C            4.3109    26.9882    55.4914 C             1 RES     \\n       6 C            6.6457    26.7093    56.2145 C             1 RES     \\n       7 C            2.0354    31.2926    56.1298 C             1 RES     \\n       8 C            4.3701    31.0137    56.8529 C             1 RES     \\n       9 C            6.7048    30.7348    57.5760 C             1 RES     \\n      10 C            1.9368    24.5837    53.8607 C             1 RES     \\n      11 C            4.2715    24.3048    54.5838 C             1 RES     \\n      12 C            6.6062    24.0259    55.3069 C             1 RES     \\n      13 C            1.9959    28.6092    55.2222 C             1 RES     \\n      14 C            4.3307    28.3303    55.9453 C             1 RES     \\n      15 C            6.6654    28.0514    56.6684 C             1 RES     \\n      16 C            2.0551    32.6348    56.5838 C             1 RES     \\n      17 C            4.3898    32.3559    57.3069 C             1 RES     \\n      18 C            6.7246    32.0770    58.0300 C             1 RES     \\n      19 C            3.0745    22.4314    53.5414 C             1 RES     \\n      20 C            5.4093    22.1525    54.2645 C             1 RES     \\n      21 C            7.7440    21.8736    54.9876 C             1 RES     \\n      22 C            3.1337    26.4570    54.9030 C             1 RES     \\n      23 C            5.4684    26.1781    55.6261 C             1 RES     \\n      24 C            7.8032    25.8992    56.3492 C             1 RES     \\n      25 C            3.1929    30.4826    56.2646 C             1 RES     \\n      26 C            5.5276    30.2037    56.9877 C             1 RES     \\n      27 C            7.8623    29.9248    57.7108 C             1 RES     \\n      28 C            3.1140    25.1148    54.4490 C             1 RES     \\n      29 C            5.4487    24.8359    55.1721 C             1 RES     \\n      30 C            7.7834    24.5570    55.8952 C             1 RES     \\n      31 C            3.1732    29.1404    55.8106 C             1 RES     \\n      32 C            5.5079    28.8615    56.5337 C             1 RES     \\n      33 C            7.8426    28.5826    57.2568 C             1 RES     \\n      34 C            3.2323    33.1659    57.1722 C             1 RES     \\n      35 C            5.5671    32.8870    57.8953 C             1 RES     \\n      36 C            7.9018    32.6081    58.6184 C             1 RES     \\n@<TRIPOS>BOND\\n       1        1       10 1\\n       2        1       19 1\\n       3        2       11 1\\n       4        2       19 1\\n       5        2       20 1\\n       6        3       12 1\\n       7        3       20 1\\n       8        3       21 1\\n       9        4       13 1\\n      10        4       22 1\\n      11        5       14 1\\n      12        5       22 1\\n      13        5       23 1\\n      14        6       15 1\\n      15        6       23 1\\n      16        6       24 1\\n      17        7       16 1\\n      18        7       25 1\\n      19        8       17 1\\n      20        8       25 1\\n      21        8       26 1\\n      22        9       18 1\\n      23        9       26 1\\n      24        9       27 1\\n      25       10       28 1\\n      26       11       28 1\\n      27       11       29 1\\n      28       12       29 1\\n      29       12       30 1\\n      30       13       31 1\\n      31       14       31 1\\n      32       14       32 1\\n      33       15       32 1\\n      34       15       33 1\\n      35       16       34 1\\n      36       17       34 1\\n      37       17       35 1\\n      38       18       35 1\\n      39       18       36 1\\n      40       22       28 1\\n      41       23       29 1\\n      42       24       30 1\\n      43       25       31 1\\n      44       26       32 1\\n      45       27       33 1\\n@<TRIPOS>SUBSTRUCTURE\\n       1 RES             1 RESIDUE    0 **** ROOT      0\\n\",\"mol2\");\n",
       "\tviewer_17465013314998233.setStyle({\"stick\": {\"radius\": 0.18, \"color\": \"grey\"}, \"sphere\": {\"scale\": 0.3, \"colorscheme\": {}}});\n",
       "\tviewer_17465013314998233.zoomTo();\n",
       "viewer_17465013314998233.render();\n",
       "});\n",
       "</script>"
      ]
     },
     "metadata": {},
     "output_type": "display_data"
    }
   ],
   "source": [
    "system.visualize()"
   ]
  },
  {
   "cell_type": "code",
   "execution_count": null,
   "id": "8e9f404f-69f1-46ed-a0af-82ad619a8ced",
   "metadata": {},
   "outputs": [],
   "source": []
  }
 ],
 "metadata": {
  "kernelspec": {
   "display_name": "Python 3 (ipykernel)",
   "language": "python",
   "name": "python3"
  },
  "language_info": {
   "codemirror_mode": {
    "name": "ipython",
    "version": 3
   },
   "file_extension": ".py",
   "mimetype": "text/x-python",
   "name": "python",
   "nbconvert_exporter": "python",
   "pygments_lexer": "ipython3",
   "version": "3.12.0"
  }
 },
 "nbformat": 4,
 "nbformat_minor": 5
}
