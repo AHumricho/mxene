{
 "cells": [
  {
   "cell_type": "code",
   "execution_count": 376,
   "id": "bfd51354-cfc1-4932-a600-c8f9d244d260",
   "metadata": {},
   "outputs": [],
   "source": [
    "import flowermd\n",
    "import hoomd\n",
    "import gsd\n",
    "import matplotlib.pyplot as plt\n",
    "import numpy as np\n",
    "import gsd.hoomd\n",
    "from flowermd.library.forcefields import BeadSpring\n",
    "from flowermd.base import Pack, Simulation\n",
    "from flowermd.library import KremerGrestBeadSpring, LJChain\n",
    "from flowermd.utils import get_target_box_number_density\n",
    "import unyt as u\n",
    "import hoomd"
   ]
  },
  {
   "cell_type": "code",
   "execution_count": 377,
   "id": "ca149296-37d1-4f4c-b726-0a6735a83fce",
   "metadata": {},
   "outputs": [],
   "source": [
    "cpu = hoomd.device.CPU()"
   ]
  },
  {
   "cell_type": "code",
   "execution_count": 378,
   "id": "10cf0f14-2767-4e03-892e-879e4813635e",
   "metadata": {},
   "outputs": [
    {
     "name": "stdout",
     "output_type": "stream",
     "text": [
      "Initializing simulation state from a gsd.hoomd.Frame.\n",
      "Step 50500 of 1000000; TPS: 62440.03; ETA: 0.3 minutes\n",
      "Step 101000 of 1000000; TPS: 68273.69; ETA: 0.2 minutes\n",
      "Step 151500 of 1000000; TPS: 70329.33; ETA: 0.2 minutes\n",
      "Step 202000 of 1000000; TPS: 71420.19; ETA: 0.2 minutes\n",
      "Step 252500 of 1000000; TPS: 71630.68; ETA: 0.2 minutes\n",
      "Step 303000 of 1000000; TPS: 71512.66; ETA: 0.2 minutes\n",
      "Step 353500 of 1000000; TPS: 71927.5; ETA: 0.1 minutes\n",
      "Step 404000 of 1000000; TPS: 72239.89; ETA: 0.1 minutes\n",
      "Step 454500 of 1000000; TPS: 72356.96; ETA: 0.1 minutes\n",
      "Step 505000 of 1000000; TPS: 72248.59; ETA: 0.1 minutes\n",
      "Step 555500 of 1000000; TPS: 72212.72; ETA: 0.1 minutes\n",
      "Step 606000 of 1000000; TPS: 72121.62; ETA: 0.1 minutes\n",
      "Step 656500 of 1000000; TPS: 71999.9; ETA: 0.1 minutes\n",
      "Step 707000 of 1000000; TPS: 71887.6; ETA: 0.1 minutes\n",
      "Step 757500 of 1000000; TPS: 71793.55; ETA: 0.1 minutes\n",
      "Step 808000 of 1000000; TPS: 71765.91; ETA: 0.0 minutes\n",
      "Step 858500 of 1000000; TPS: 71685.37; ETA: 0.0 minutes\n",
      "Step 909000 of 1000000; TPS: 71749.77; ETA: 0.0 minutes\n",
      "Step 959500 of 1000000; TPS: 71802.44; ETA: 0.0 minutes\n"
     ]
    }
   ],
   "source": [
    "T = 1.5\n",
    "kg_chain = LJChain(lengths=10,num_mols=10)\n",
    "ff = BeadSpring(r_cut=2.5,\n",
    "        beads={\"A\": dict(epsilon=.1, sigma=1.0)},\n",
    "        bonds={\"A-A\": dict(r0=1.0, k=5000.0)},\n",
    "        angles={\"A-A-A\": dict(t0=np.pi, k=1.0)},\n",
    "        dihedrals={\"A-A-A-A\": dict(phi0=0.0, k=0.1, d=-1, n=1)})\n",
    "system = Pack(molecules = kg_chain, density=0.001)\n",
    "sim = Simulation(\n",
    "        initial_state=system.hoomd_snapshot,\n",
    "        forcefield=ff.hoomd_forces,\n",
    "        gsd_write_freq=int(1e5),\n",
    "        device = cpu, gsd_file_name=\"single_chain.gsd\")\n",
    "sim.state.thermalize_particle_momenta(filter=hoomd.filter.All(), kT=T)\n",
    "sim.run_NVT(n_steps=1e6, kT=T, tau_kt=1)\n",
    "sim.flush_writers()"
   ]
  },
  {
   "cell_type": "code",
   "execution_count": 360,
   "id": "515c1536-1574-416c-bde9-d1db18e35897",
   "metadata": {},
   "outputs": [
    {
     "name": "stderr",
     "output_type": "stream",
     "text": [
      "/home/eridanirojas/miniconda3/envs/flowermd/lib/python3.12/site-packages/mbuild/conversion.py:1994: UserWarning: No element attribute associated with '<A pos=([1.8922 7.0948 6.616 ]), 1 bonds, id: 140474971776848>'; and no matching elements found based upon the compound name. Setting atomic number to zero.\n",
      "  warn(warn_msg)\n"
     ]
    },
    {
     "data": {
      "application/3dmoljs_load.v0": "<div id=\"3dmolviewer_174673027104785\"  style=\"position: relative; width: 640px; height: 480px;\">\n        <p id=\"3dmolwarning_174673027104785\" style=\"background-color:#ffcccc;color:black\">3Dmol.js failed to load for some reason.  Please check your browser console for error messages.<br></p>\n        </div>\n<script>\n\nvar loadScriptAsync = function(uri){\n  return new Promise((resolve, reject) => {\n    //this is to ignore the existence of requirejs amd\n    var savedexports, savedmodule;\n    if (typeof exports !== 'undefined') savedexports = exports;\n    else exports = {}\n    if (typeof module !== 'undefined') savedmodule = module;\n    else module = {}\n\n    var tag = document.createElement('script');\n    tag.src = uri;\n    tag.async = true;\n    tag.onload = () => {\n        exports = savedexports;\n        module = savedmodule;\n        resolve();\n    };\n  var firstScriptTag = document.getElementsByTagName('script')[0];\n  firstScriptTag.parentNode.insertBefore(tag, firstScriptTag);\n});\n};\n\nif(typeof $3Dmolpromise === 'undefined') {\n$3Dmolpromise = null;\n  $3Dmolpromise = loadScriptAsync('https://cdnjs.cloudflare.com/ajax/libs/3Dmol/2.4.2/3Dmol-min.js');\n}\n\nvar viewer_174673027104785 = null;\nvar warn = document.getElementById(\"3dmolwarning_174673027104785\");\nif(warn) {\n    warn.parentNode.removeChild(warn);\n}\n$3Dmolpromise.then(function() {\nviewer_174673027104785 = $3Dmol.createViewer(document.getElementById(\"3dmolviewer_174673027104785\"),{backgroundColor:\"white\"});\nviewer_174673027104785.zoomTo();\n\tviewer_174673027104785.addModel(\"@<TRIPOS>MOLECULE\\nRES\\n20 18 1 0 1\\nSMALL\\nNO_CHARGES\\n@<TRIPOS>CRYSIN\\n   74.5984    74.5984    74.5984    90.0000    90.0000    90.0000 1 1\\n@<TRIPOS>ATOM\\n       1 A           18.9218    70.9485    66.1603 A             1 RES     \\n       2 A           17.1080    63.4533    59.7938 A             1 RES     \\n       3 A           15.2943    55.9581    53.4272 A             1 RES     \\n       4 A           13.4806    48.4630    47.0607 A             1 RES     \\n       5 A           11.6669    40.9678    40.6941 A             1 RES     \\n       6 A            9.8531    33.4727    34.3276 A             1 RES     \\n       7 A            8.0394    25.9775    27.9610 A             1 RES     \\n       8 A            6.2257    18.4823    21.5945 A             1 RES     \\n       9 A            4.4119    10.9872    15.2280 A             1 RES     \\n      10 A            2.5982     3.4920     8.8614 A             1 RES     \\n      11 A            4.9859    65.9416     2.0000 A             1 RES     \\n      12 A           12.0282    58.8418     2.0000 A             1 RES     \\n      13 A           19.0705    51.7421     2.0000 A             1 RES     \\n      14 A           26.1128    44.6424     2.0000 A             1 RES     \\n      15 A           33.1551    37.5427     2.0000 A             1 RES     \\n      16 A           40.1974    30.4429     2.0000 A             1 RES     \\n      17 A           47.2397    23.3432     2.0000 A             1 RES     \\n      18 A           54.2820    16.2435     2.0000 A             1 RES     \\n      19 A           61.3242     9.1438     2.0000 A             1 RES     \\n      20 A           68.3665     2.0440     2.0000 A             1 RES     \\n@<TRIPOS>BOND\\n       1        1        2 1\\n       2        2        3 1\\n       3        3        4 1\\n       4        4        5 1\\n       5        5        6 1\\n       6        6        7 1\\n       7        7        8 1\\n       8        8        9 1\\n       9        9       10 1\\n      10       11       12 1\\n      11       12       13 1\\n      12       13       14 1\\n      13       14       15 1\\n      14       15       16 1\\n      15       16       17 1\\n      16       17       18 1\\n      17       18       19 1\\n      18       19       20 1\\n@<TRIPOS>SUBSTRUCTURE\\n       1 RES             1 RESIDUE    0 **** ROOT      0\\n\",\"mol2\");\n\tviewer_174673027104785.setStyle({\"stick\": {\"radius\": 0.18, \"color\": \"grey\"}, \"sphere\": {\"scale\": 0.3, \"colorscheme\": {}}});\n\tviewer_174673027104785.zoomTo();\nviewer_174673027104785.render();\n});\n</script>",
      "text/html": [
       "<div id=\"3dmolviewer_174673027104785\"  style=\"position: relative; width: 640px; height: 480px;\">\n",
       "        <p id=\"3dmolwarning_174673027104785\" style=\"background-color:#ffcccc;color:black\">3Dmol.js failed to load for some reason.  Please check your browser console for error messages.<br></p>\n",
       "        </div>\n",
       "<script>\n",
       "\n",
       "var loadScriptAsync = function(uri){\n",
       "  return new Promise((resolve, reject) => {\n",
       "    //this is to ignore the existence of requirejs amd\n",
       "    var savedexports, savedmodule;\n",
       "    if (typeof exports !== 'undefined') savedexports = exports;\n",
       "    else exports = {}\n",
       "    if (typeof module !== 'undefined') savedmodule = module;\n",
       "    else module = {}\n",
       "\n",
       "    var tag = document.createElement('script');\n",
       "    tag.src = uri;\n",
       "    tag.async = true;\n",
       "    tag.onload = () => {\n",
       "        exports = savedexports;\n",
       "        module = savedmodule;\n",
       "        resolve();\n",
       "    };\n",
       "  var firstScriptTag = document.getElementsByTagName('script')[0];\n",
       "  firstScriptTag.parentNode.insertBefore(tag, firstScriptTag);\n",
       "});\n",
       "};\n",
       "\n",
       "if(typeof $3Dmolpromise === 'undefined') {\n",
       "$3Dmolpromise = null;\n",
       "  $3Dmolpromise = loadScriptAsync('https://cdnjs.cloudflare.com/ajax/libs/3Dmol/2.4.2/3Dmol-min.js');\n",
       "}\n",
       "\n",
       "var viewer_174673027104785 = null;\n",
       "var warn = document.getElementById(\"3dmolwarning_174673027104785\");\n",
       "if(warn) {\n",
       "    warn.parentNode.removeChild(warn);\n",
       "}\n",
       "$3Dmolpromise.then(function() {\n",
       "viewer_174673027104785 = $3Dmol.createViewer(document.getElementById(\"3dmolviewer_174673027104785\"),{backgroundColor:\"white\"});\n",
       "viewer_174673027104785.zoomTo();\n",
       "\tviewer_174673027104785.addModel(\"@<TRIPOS>MOLECULE\\nRES\\n20 18 1 0 1\\nSMALL\\nNO_CHARGES\\n@<TRIPOS>CRYSIN\\n   74.5984    74.5984    74.5984    90.0000    90.0000    90.0000 1 1\\n@<TRIPOS>ATOM\\n       1 A           18.9218    70.9485    66.1603 A             1 RES     \\n       2 A           17.1080    63.4533    59.7938 A             1 RES     \\n       3 A           15.2943    55.9581    53.4272 A             1 RES     \\n       4 A           13.4806    48.4630    47.0607 A             1 RES     \\n       5 A           11.6669    40.9678    40.6941 A             1 RES     \\n       6 A            9.8531    33.4727    34.3276 A             1 RES     \\n       7 A            8.0394    25.9775    27.9610 A             1 RES     \\n       8 A            6.2257    18.4823    21.5945 A             1 RES     \\n       9 A            4.4119    10.9872    15.2280 A             1 RES     \\n      10 A            2.5982     3.4920     8.8614 A             1 RES     \\n      11 A            4.9859    65.9416     2.0000 A             1 RES     \\n      12 A           12.0282    58.8418     2.0000 A             1 RES     \\n      13 A           19.0705    51.7421     2.0000 A             1 RES     \\n      14 A           26.1128    44.6424     2.0000 A             1 RES     \\n      15 A           33.1551    37.5427     2.0000 A             1 RES     \\n      16 A           40.1974    30.4429     2.0000 A             1 RES     \\n      17 A           47.2397    23.3432     2.0000 A             1 RES     \\n      18 A           54.2820    16.2435     2.0000 A             1 RES     \\n      19 A           61.3242     9.1438     2.0000 A             1 RES     \\n      20 A           68.3665     2.0440     2.0000 A             1 RES     \\n@<TRIPOS>BOND\\n       1        1        2 1\\n       2        2        3 1\\n       3        3        4 1\\n       4        4        5 1\\n       5        5        6 1\\n       6        6        7 1\\n       7        7        8 1\\n       8        8        9 1\\n       9        9       10 1\\n      10       11       12 1\\n      11       12       13 1\\n      12       13       14 1\\n      13       14       15 1\\n      14       15       16 1\\n      15       16       17 1\\n      16       17       18 1\\n      17       18       19 1\\n      18       19       20 1\\n@<TRIPOS>SUBSTRUCTURE\\n       1 RES             1 RESIDUE    0 **** ROOT      0\\n\",\"mol2\");\n",
       "\tviewer_174673027104785.setStyle({\"stick\": {\"radius\": 0.18, \"color\": \"grey\"}, \"sphere\": {\"scale\": 0.3, \"colorscheme\": {}}});\n",
       "\tviewer_174673027104785.zoomTo();\n",
       "viewer_174673027104785.render();\n",
       "});\n",
       "</script>"
      ]
     },
     "metadata": {},
     "output_type": "display_data"
    }
   ],
   "source": [
    "system.visualize()"
   ]
  },
  {
   "cell_type": "code",
   "execution_count": 342,
   "id": "7fd41a16-ec0f-46be-b666-54d740c33d23",
   "metadata": {},
   "outputs": [
    {
     "name": "stdout",
     "output_type": "stream",
     "text": [
      "Distance between particle 0 and 1: 6.58470 nm\n"
     ]
    }
   ],
   "source": [
    "positions = system.hoomd_snapshot.particles.position\n",
    "\n",
    "# Example: distance between particle 0 and 1\n",
    "d = np.linalg.norm(positions[0] - positions[10])\n",
    "print(f\"Distance between particle 0 and 1: {d:.5f} nm\")"
   ]
  },
  {
   "cell_type": "code",
   "execution_count": null,
   "id": "04bbf21f-7cee-49d5-8200-6dab2c77ad54",
   "metadata": {},
   "outputs": [],
   "source": []
  }
 ],
 "metadata": {
  "kernelspec": {
   "display_name": "Python 3 (ipykernel)",
   "language": "python",
   "name": "python3"
  },
  "language_info": {
   "codemirror_mode": {
    "name": "ipython",
    "version": 3
   },
   "file_extension": ".py",
   "mimetype": "text/x-python",
   "name": "python",
   "nbconvert_exporter": "python",
   "pygments_lexer": "ipython3",
   "version": "3.12.0"
  }
 },
 "nbformat": 4,
 "nbformat_minor": 5
}
