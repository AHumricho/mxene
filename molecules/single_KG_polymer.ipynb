{
 "cells": [
  {
   "cell_type": "code",
   "execution_count": 13,
   "id": "bfd51354-cfc1-4932-a600-c8f9d244d260",
   "metadata": {},
   "outputs": [],
   "source": [
    "import flowermd\n",
    "import hoomd\n",
    "import numpy as np\n",
    "from flowermd.library.forcefields import BeadSpring\n",
    "from flowermd.base import Pack, Simulation\n",
    "from flowermd.library import LJChain\n",
    "# importing tools"
   ]
  },
  {
   "cell_type": "code",
   "execution_count": 14,
   "id": "ca149296-37d1-4f4c-b726-0a6735a83fce",
   "metadata": {},
   "outputs": [],
   "source": [
    "cpu = hoomd.device.CPU() # defining device for simulation"
   ]
  },
  {
   "cell_type": "code",
   "execution_count": 15,
   "id": "10cf0f14-2767-4e03-892e-879e4813635e",
   "metadata": {},
   "outputs": [
    {
     "name": "stdout",
     "output_type": "stream",
     "text": [
      "Initializing simulation state from a gsd.hoomd.Frame.\n",
      "Step 50500 of 1000000; TPS: 84016.42; ETA: 0.2 minutes\n",
      "Step 101000 of 1000000; TPS: 118916.14; ETA: 0.1 minutes\n",
      "Step 151500 of 1000000; TPS: 137423.94; ETA: 0.1 minutes\n",
      "Step 202000 of 1000000; TPS: 149462.45; ETA: 0.1 minutes\n",
      "Step 252500 of 1000000; TPS: 157725.46; ETA: 0.1 minutes\n",
      "Step 303000 of 1000000; TPS: 163431.74; ETA: 0.1 minutes\n",
      "Step 353500 of 1000000; TPS: 167577.56; ETA: 0.1 minutes\n",
      "Step 404000 of 1000000; TPS: 170861.51; ETA: 0.1 minutes\n",
      "Step 454500 of 1000000; TPS: 173647.0; ETA: 0.1 minutes\n",
      "Step 505000 of 1000000; TPS: 174995.47; ETA: 0.0 minutes\n",
      "Step 555500 of 1000000; TPS: 169138.02; ETA: 0.0 minutes\n",
      "Step 606000 of 1000000; TPS: 164488.15; ETA: 0.0 minutes\n",
      "Step 656500 of 1000000; TPS: 160888.41; ETA: 0.0 minutes\n",
      "Step 707000 of 1000000; TPS: 155356.24; ETA: 0.0 minutes\n",
      "Step 757500 of 1000000; TPS: 157272.69; ETA: 0.0 minutes\n",
      "Step 808000 of 1000000; TPS: 155362.36; ETA: 0.0 minutes\n",
      "Step 858500 of 1000000; TPS: 151885.69; ETA: 0.0 minutes\n",
      "Step 909000 of 1000000; TPS: 153986.39; ETA: 0.0 minutes\n",
      "Step 959500 of 1000000; TPS: 155902.82; ETA: 0.0 minutes\n"
     ]
    }
   ],
   "source": [
    "T = 1.5 # temperature for simulation\n",
    "kg_chain = LJChain(lengths=10,num_mols=1) # creating a single polymer chain of length 10\n",
    "ff = BeadSpring(r_cut=2.5,\n",
    "        beads={\"A\": dict(epsilon=.1, sigma=1.0)},\n",
    "        bonds={\"A-A\": dict(r0=1.0, k=5000.0)},\n",
    "        angles={\"A-A-A\": dict(t0=np.pi, k=1.0)},\n",
    "        dihedrals={\"A-A-A-A\": dict(phi0=0.0, k=0.1, d=-1, n=1)}) # forcefield with r0 = 1.0, as it is the initialized bond length. higher k \n",
    "        # will increase the stiffness of the chain\n",
    "system = Pack(molecules = kg_chain, density=0.001) # creating a system with the polymer chain, low density is helpful for overlaps for multiple chains\n",
    "sim = Simulation(\n",
    "        initial_state=system.hoomd_snapshot,\n",
    "        forcefield=ff.hoomd_forces,\n",
    "        gsd_write_freq=int(1e5),\n",
    "        device = cpu, gsd_file_name=\"single_chain.gsd\") # passing in initial system snapshot, forcefield, writing frequency, device, and output file name\n",
    "sim.state.thermalize_particle_momenta(filter=hoomd.filter.All(), kT=T) # initializing velocity of chain\n",
    "sim.run_NVT(n_steps=1e6, kT=T, tau_kt=1) # running simulation \n",
    "sim.flush_writers() # logging data"
   ]
  },
  {
   "cell_type": "code",
   "execution_count": 16,
   "id": "515c1536-1574-416c-bde9-d1db18e35897",
   "metadata": {},
   "outputs": [
    {
     "name": "stderr",
     "output_type": "stream",
     "text": [
      "/home/eridanirojas/miniconda3/envs/flowermd/lib/python3.12/site-packages/mbuild/conversion.py:1994: UserWarning: No element attribute associated with '<A pos=([ 0.2     0.5238 10.5721]), 1 bonds, id: 140681064721120>'; and no matching elements found based upon the compound name. Setting atomic number to zero.\n",
      "  warn(warn_msg)\n"
     ]
    },
    {
     "data": {
      "application/3dmoljs_load.v0": "<div id=\"3dmolviewer_17483752365670981\"  style=\"position: relative; width: 640px; height: 480px;\">\n        <p id=\"3dmolwarning_17483752365670981\" style=\"background-color:#ffcccc;color:black\">3Dmol.js failed to load for some reason.  Please check your browser console for error messages.<br></p>\n        </div>\n<script>\n\nvar loadScriptAsync = function(uri){\n  return new Promise((resolve, reject) => {\n    //this is to ignore the existence of requirejs amd\n    var savedexports, savedmodule;\n    if (typeof exports !== 'undefined') savedexports = exports;\n    else exports = {}\n    if (typeof module !== 'undefined') savedmodule = module;\n    else module = {}\n\n    var tag = document.createElement('script');\n    tag.src = uri;\n    tag.async = true;\n    tag.onload = () => {\n        exports = savedexports;\n        module = savedmodule;\n        resolve();\n    };\n  var firstScriptTag = document.getElementsByTagName('script')[0];\n  firstScriptTag.parentNode.insertBefore(tag, firstScriptTag);\n});\n};\n\nif(typeof $3Dmolpromise === 'undefined') {\n$3Dmolpromise = null;\n  $3Dmolpromise = loadScriptAsync('https://cdnjs.cloudflare.com/ajax/libs/3Dmol/2.4.2/3Dmol-min.js');\n}\n\nvar viewer_17483752365670981 = null;\nvar warn = document.getElementById(\"3dmolwarning_17483752365670981\");\nif(warn) {\n    warn.parentNode.removeChild(warn);\n}\n$3Dmolpromise.then(function() {\nviewer_17483752365670981 = $3Dmol.createViewer(document.getElementById(\"3dmolviewer_17483752365670981\"),{backgroundColor:\"white\"});\nviewer_17483752365670981.zoomTo();\n\tviewer_17483752365670981.addModel(\"@<TRIPOS>MOLECULE\\nRES\\n10 9 1 0 1\\nSMALL\\nNO_CHARGES\\n@<TRIPOS>CRYSIN\\n  127.5615   127.5615   127.5615    90.0000    90.0000    90.0000 1 1\\n@<TRIPOS>ATOM\\n       1 A            2.0000     5.2383   105.7207 A             1 RES     \\n       2 A            2.2506    14.7495   102.6428 A             1 RES     \\n       3 A            2.5012    24.2608    99.5649 A             1 RES     \\n       4 A            2.7519    33.7720    96.4870 A             1 RES     \\n       5 A            3.0025    43.2832    93.4091 A             1 RES     \\n       6 A            3.2531    52.7945    90.3312 A             1 RES     \\n       7 A            3.5037    62.3057    87.2533 A             1 RES     \\n       8 A            3.7543    71.8170    84.1754 A             1 RES     \\n       9 A            4.0049    81.3282    81.0975 A             1 RES     \\n      10 A            4.2556    90.8394    78.0196 A             1 RES     \\n@<TRIPOS>BOND\\n       1        1        2 1\\n       2        2        3 1\\n       3        3        4 1\\n       4        4        5 1\\n       5        5        6 1\\n       6        6        7 1\\n       7        7        8 1\\n       8        8        9 1\\n       9        9       10 1\\n@<TRIPOS>SUBSTRUCTURE\\n       1 RES             1 RESIDUE    0 **** ROOT      0\\n\",\"mol2\");\n\tviewer_17483752365670981.setStyle({\"stick\": {\"radius\": 0.18, \"color\": \"grey\"}, \"sphere\": {\"scale\": 0.3, \"colorscheme\": {}}});\n\tviewer_17483752365670981.zoomTo();\nviewer_17483752365670981.render();\n});\n</script>",
      "text/html": [
       "<div id=\"3dmolviewer_17483752365670981\"  style=\"position: relative; width: 640px; height: 480px;\">\n",
       "        <p id=\"3dmolwarning_17483752365670981\" style=\"background-color:#ffcccc;color:black\">3Dmol.js failed to load for some reason.  Please check your browser console for error messages.<br></p>\n",
       "        </div>\n",
       "<script>\n",
       "\n",
       "var loadScriptAsync = function(uri){\n",
       "  return new Promise((resolve, reject) => {\n",
       "    //this is to ignore the existence of requirejs amd\n",
       "    var savedexports, savedmodule;\n",
       "    if (typeof exports !== 'undefined') savedexports = exports;\n",
       "    else exports = {}\n",
       "    if (typeof module !== 'undefined') savedmodule = module;\n",
       "    else module = {}\n",
       "\n",
       "    var tag = document.createElement('script');\n",
       "    tag.src = uri;\n",
       "    tag.async = true;\n",
       "    tag.onload = () => {\n",
       "        exports = savedexports;\n",
       "        module = savedmodule;\n",
       "        resolve();\n",
       "    };\n",
       "  var firstScriptTag = document.getElementsByTagName('script')[0];\n",
       "  firstScriptTag.parentNode.insertBefore(tag, firstScriptTag);\n",
       "});\n",
       "};\n",
       "\n",
       "if(typeof $3Dmolpromise === 'undefined') {\n",
       "$3Dmolpromise = null;\n",
       "  $3Dmolpromise = loadScriptAsync('https://cdnjs.cloudflare.com/ajax/libs/3Dmol/2.4.2/3Dmol-min.js');\n",
       "}\n",
       "\n",
       "var viewer_17483752365670981 = null;\n",
       "var warn = document.getElementById(\"3dmolwarning_17483752365670981\");\n",
       "if(warn) {\n",
       "    warn.parentNode.removeChild(warn);\n",
       "}\n",
       "$3Dmolpromise.then(function() {\n",
       "viewer_17483752365670981 = $3Dmol.createViewer(document.getElementById(\"3dmolviewer_17483752365670981\"),{backgroundColor:\"white\"});\n",
       "viewer_17483752365670981.zoomTo();\n",
       "\tviewer_17483752365670981.addModel(\"@<TRIPOS>MOLECULE\\nRES\\n10 9 1 0 1\\nSMALL\\nNO_CHARGES\\n@<TRIPOS>CRYSIN\\n  127.5615   127.5615   127.5615    90.0000    90.0000    90.0000 1 1\\n@<TRIPOS>ATOM\\n       1 A            2.0000     5.2383   105.7207 A             1 RES     \\n       2 A            2.2506    14.7495   102.6428 A             1 RES     \\n       3 A            2.5012    24.2608    99.5649 A             1 RES     \\n       4 A            2.7519    33.7720    96.4870 A             1 RES     \\n       5 A            3.0025    43.2832    93.4091 A             1 RES     \\n       6 A            3.2531    52.7945    90.3312 A             1 RES     \\n       7 A            3.5037    62.3057    87.2533 A             1 RES     \\n       8 A            3.7543    71.8170    84.1754 A             1 RES     \\n       9 A            4.0049    81.3282    81.0975 A             1 RES     \\n      10 A            4.2556    90.8394    78.0196 A             1 RES     \\n@<TRIPOS>BOND\\n       1        1        2 1\\n       2        2        3 1\\n       3        3        4 1\\n       4        4        5 1\\n       5        5        6 1\\n       6        6        7 1\\n       7        7        8 1\\n       8        8        9 1\\n       9        9       10 1\\n@<TRIPOS>SUBSTRUCTURE\\n       1 RES             1 RESIDUE    0 **** ROOT      0\\n\",\"mol2\");\n",
       "\tviewer_17483752365670981.setStyle({\"stick\": {\"radius\": 0.18, \"color\": \"grey\"}, \"sphere\": {\"scale\": 0.3, \"colorscheme\": {}}});\n",
       "\tviewer_17483752365670981.zoomTo();\n",
       "viewer_17483752365670981.render();\n",
       "});\n",
       "</script>"
      ]
     },
     "metadata": {},
     "output_type": "display_data"
    }
   ],
   "source": [
    "system.visualize() # visualizing chain"
   ]
  },
  {
   "cell_type": "code",
   "execution_count": 17,
   "id": "7fd41a16-ec0f-46be-b666-54d740c33d23",
   "metadata": {},
   "outputs": [
    {
     "name": "stdout",
     "output_type": "stream",
     "text": [
      "Distance between particle 0 and 1: 1.00000 nm\n"
     ]
    }
   ],
   "source": [
    "positions = system.hoomd_snapshot.particles.position\n",
    "d = np.linalg.norm(positions[0] - positions[1])\n",
    "print(f\"Distance between particle 0 and 1: {d:.5f} nm\")"
   ]
  }
 ],
 "metadata": {
  "kernelspec": {
   "display_name": "Python 3 (ipykernel)",
   "language": "python",
   "name": "python3"
  },
  "language_info": {
   "codemirror_mode": {
    "name": "ipython",
    "version": 3
   },
   "file_extension": ".py",
   "mimetype": "text/x-python",
   "name": "python",
   "nbconvert_exporter": "python",
   "pygments_lexer": "ipython3",
   "version": "3.12.0"
  }
 },
 "nbformat": 4,
 "nbformat_minor": 5
}
