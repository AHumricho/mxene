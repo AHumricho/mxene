{
 "cells": [
  {
   "cell_type": "markdown",
   "id": "cb41ae93-7b1e-4232-be98-0c5983b28ed2",
   "metadata": {},
   "source": [
    "## Importing tools we are going to use for creating flakes/sheets."
   ]
  },
  {
   "cell_type": "code",
   "execution_count": 27,
   "id": "697ba6eb-2f90-43b4-ad57-cbd03ef3a0de",
   "metadata": {},
   "outputs": [],
   "source": [
    "from flowermd.base import Molecule\n",
    "from flowermd.base import Pack, Simulation\n",
    "import hoomd\n",
    "import gsd.hoomd\n",
    "#from flowermd.library import Graphene\n",
    "import math\n",
    "import numpy as np\n",
    "from cmeutils.visualize import FresnelGSD\n",
    "from flowermd.library.forcefields import BeadSpring\n",
    "import mbuild as mb\n",
    "from mbuild.compound import Compound\n",
    "from mbuild.lattice import Lattice\n",
    "from flowermd.base import Molecule, System"
   ]
  },
  {
   "cell_type": "markdown",
   "id": "b1e6eeed-cae6-4f69-875f-b6f76e44d6fc",
   "metadata": {},
   "source": [
    "## In this example, I took flowermd's Graphene object and manipulated its geometry. How I did this was by setting the spacings, as in the space in between unit cells in any given direction, to 1.0 with a scalable variable multiplied by it. This way, it is very easy to visualize unit cells as well as complete lattices."
   ]
  },
  {
   "cell_type": "code",
   "execution_count": 28,
   "id": "5fcd89c6-e770-4ed8-a8f7-29dfe9708487",
   "metadata": {},
   "outputs": [],
   "source": [
    "class Graphene(System):\n",
    "    def __init__(\n",
    "        self,\n",
    "        x_repeat,\n",
    "        y_repeat,\n",
    "        n_layers,\n",
    "        base_units=dict(),\n",
    "        periodicity=(True, True, False),\n",
    "    ):\n",
    "        # creates an empty 'Compound' object to hold the graphene sheet with 'periodicity' defining whether the structure repeats in x,y,z\n",
    "        surface = mb.Compound(periodicity=periodicity)\n",
    "        scale = 1.732021616 # 1.0 for testing, 0.246 for graphene bond lengths\n",
    "        spacings = [s * scale for s in [1.0, 1.0, 1.0]] # lattice spacing\n",
    "        points = [[0, 0, 0], [2/3, 1/3, 0]] # unit cell points\n",
    "        lattice = Lattice(\n",
    "            lattice_spacing=spacings,\n",
    "            angles=[90, 90, 120],\n",
    "            lattice_points={\"A\": points},\n",
    "        ) # angles between lattice vectors, 90-90-120 define a 2D hexagonal lattice extended into 3D.\n",
    "        carbon = Compound(name=\"C\", element=\"C\") # defines a carbon atom that will be used to populate lattice points\n",
    "        layers = lattice.populate(\n",
    "            compound_dict={\"A\": carbon}, x=x_repeat, y=y_repeat, z=n_layers\n",
    "        ) # populates the lattice using the previously defined carbon atom for every \"A\" site, repeated in all x,y, and z directions\n",
    "        surface.add(layers) # adds populated carbon lattice layers to the 'surface' compound, which represents our graphene structure \n",
    "        surface.freud_generate_bonds(\"C\", \"C\", dmin=0.3*scale, dmax=0.6*scale) # generates bonds depending on input distance range, scales with lattice\n",
    "        surface_mol = Molecule(num_mols=1, compound=surface) # wraps into a Molecule object, creating \"1\" instance of this molecule\n",
    "\n",
    "        super(Graphene, self).__init__(\n",
    "            molecules=[surface_mol],\n",
    "            base_units=base_units,\n",
    "        )\n",
    "\n",
    "    def _build_system(self):\n",
    "        return self.all_molecules[0]"
   ]
  },
  {
   "cell_type": "markdown",
   "id": "853b67d4-ac04-49fc-87e8-dd8c906b0cde",
   "metadata": {},
   "source": [
    "## Creating a system with a defined quantity of sheets/flakes"
   ]
  },
  {
   "cell_type": "code",
   "execution_count": 32,
   "id": "80940c3b-360f-49b6-bf36-0d2fdf00aa67",
   "metadata": {},
   "outputs": [],
   "source": [
    "sheet = Graphene(x_repeat=5, y_repeat=5, n_layers=1, periodicity=(False, False, False)) # Creates a sheet, with inputs for xyz repeats of unit cells\n",
    "# periodicity being \"True\" in any direction essentially makes the sheet infinitely repeating in that direction"
   ]
  },
  {
   "cell_type": "code",
   "execution_count": 33,
   "id": "aa297a4b-5dd6-4998-af55-1308a581cf9a",
   "metadata": {},
   "outputs": [
    {
     "name": "stderr",
     "output_type": "stream",
     "text": [
      "/home/eridanirojas/miniconda3/envs/flowermd/lib/python3.12/site-packages/mbuild/compound.py:547: UserWarning: Some particle of <Compound 50 particles, 61 bonds, System box: Box: Lx=8.660108, Ly=8.660108, Lz=1.732022, xy=-0.577350, xz=0.000000, yz=-0.577350, , id: 132576707915328> does not have a charge.They will not be accounted for during this calculation.\n",
      "  warn(\n"
     ]
    }
   ],
   "source": [
    "# packs 5 copies of the sheet into a simulation box at a target density of 0.2\n",
    "system = Pack(molecules= Molecule(compound=sheet.all_molecules[0], num_mols=1), density = 0.2)\n",
    "# manually adjusting size of the box, commenting out is OK too as Pack automatically sets box size related to target density argument\n",
    "system.hoomd_snapshot.configuration.box = [15, 15, 15, 0, 0, 0]"
   ]
  },
  {
   "cell_type": "code",
   "execution_count": 34,
   "id": "6b27f7dc-2ba1-4078-b0de-3dc8cbae4d3b",
   "metadata": {
    "scrolled": true
   },
   "outputs": [
    {
     "name": "stderr",
     "output_type": "stream",
     "text": [
      "/home/eridanirojas/miniconda3/envs/flowermd/lib/python3.12/site-packages/mbuild/compound.py:547: UserWarning: Some particle of <Compound 50 particles, 61 bonds, System box: Box: Lx=8.541997, Ly=8.541997, Lz=8.541997, xy=0.000000, xz=0.000000, yz=0.000000, , id: 132573025860016> does not have a charge.They will not be accounted for during this calculation.\n",
      "  warn(\n"
     ]
    },
    {
     "data": {
      "application/3dmoljs_load.v0": "<div id=\"3dmolviewer_17495830308550735\"  style=\"position: relative; width: 640px; height: 480px;\">\n        <p id=\"3dmolwarning_17495830308550735\" style=\"background-color:#ffcccc;color:black\">3Dmol.js failed to load for some reason.  Please check your browser console for error messages.<br></p>\n        </div>\n<script>\n\nvar loadScriptAsync = function(uri){\n  return new Promise((resolve, reject) => {\n    //this is to ignore the existence of requirejs amd\n    var savedexports, savedmodule;\n    if (typeof exports !== 'undefined') savedexports = exports;\n    else exports = {}\n    if (typeof module !== 'undefined') savedmodule = module;\n    else module = {}\n\n    var tag = document.createElement('script');\n    tag.src = uri;\n    tag.async = true;\n    tag.onload = () => {\n        exports = savedexports;\n        module = savedmodule;\n        resolve();\n    };\n  var firstScriptTag = document.getElementsByTagName('script')[0];\n  firstScriptTag.parentNode.insertBefore(tag, firstScriptTag);\n});\n};\n\nif(typeof $3Dmolpromise === 'undefined') {\n$3Dmolpromise = null;\n  $3Dmolpromise = loadScriptAsync('https://cdnjs.cloudflare.com/ajax/libs/3Dmol/2.4.2/3Dmol-min.js');\n}\n\nvar viewer_17495830308550735 = null;\nvar warn = document.getElementById(\"3dmolwarning_17495830308550735\");\nif(warn) {\n    warn.parentNode.removeChild(warn);\n}\n$3Dmolpromise.then(function() {\nviewer_17495830308550735 = $3Dmol.createViewer(document.getElementById(\"3dmolviewer_17495830308550735\"),{backgroundColor:\"white\"});\nviewer_17495830308550735.zoomTo();\n\tviewer_17495830308550735.addModel(\"@<TRIPOS>MOLECULE\\nRES\\n50 61 1 0 1\\nSMALL\\nNO_CHARGES\\n@<TRIPOS>CRYSIN\\n   85.4200    85.4200    85.4200    90.0000    90.0000    90.0000 1 1\\n@<TRIPOS>ATOM\\n       1 C           19.7914    10.0575    23.1930 C             1 RES     \\n       2 C           28.7936     8.0324    37.8509 C             1 RES     \\n       3 C           37.7954     6.0069    52.5081 C             1 RES     \\n       4 C           46.7976     3.9818    67.1660 C             1 RES     \\n       5 C           55.7998     1.9567    81.8239 C             1 RES     \\n       6 C           15.3298    25.9318    17.8935 C             1 RES     \\n       7 C           24.3321    23.9067    32.5514 C             1 RES     \\n       8 C           33.3338    21.8812    47.2085 C             1 RES     \\n       9 C           42.3361    19.8561    61.8664 C             1 RES     \\n      10 C           51.3383    17.8309    76.5243 C             1 RES     \\n      11 C           10.8683    41.8060    12.5939 C             1 RES     \\n      12 C           19.8706    39.7809    27.2518 C             1 RES     \\n      13 C           28.8723    37.7554    41.9089 C             1 RES     \\n      14 C           37.8746    35.7303    56.5668 C             1 RES     \\n      15 C           46.8768    33.7052    71.2247 C             1 RES     \\n      16 C            6.4066    57.6812     7.2940 C             1 RES     \\n      17 C           15.4088    55.6561    21.9519 C             1 RES     \\n      18 C           24.4108    53.6297    36.6094 C             1 RES     \\n      19 C           33.4131    51.6046    51.2673 C             1 RES     \\n      20 C           42.4153    49.5795    65.9252 C             1 RES     \\n      21 C            1.9451    73.5555     1.9944 C             1 RES     \\n      22 C           10.9473    71.5304    16.6524 C             1 RES     \\n      23 C           19.9491    69.5048    31.3095 C             1 RES     \\n      24 C           28.9513    67.4797    45.9674 C             1 RES     \\n      25 C           37.9538    65.4537    60.6256 C             1 RES     \\n      26 C           19.8178    19.9653    24.5459 C             1 RES     \\n      27 C           28.8200    17.9402    39.2039 C             1 RES     \\n      28 C           37.8218    15.9147    53.8610 C             1 RES     \\n      29 C           46.8240    13.8896    68.5189 C             1 RES     \\n      30 C           55.8262    11.8645    83.1768 C             1 RES     \\n      31 C           15.3563    35.8396    19.2464 C             1 RES     \\n      32 C           24.3585    33.8145    33.9043 C             1 RES     \\n      33 C           33.3603    31.7890    48.5614 C             1 RES     \\n      34 C           42.3625    29.7639    63.2193 C             1 RES     \\n      35 C           51.3647    27.7387    77.8772 C             1 RES     \\n      36 C           10.8945    51.7148    13.9465 C             1 RES     \\n      37 C           19.8970    49.6887    28.6047 C             1 RES     \\n      38 C           28.8987    47.6632    43.2618 C             1 RES     \\n      39 C           37.9010    45.6381    57.9198 C             1 RES     \\n      40 C           46.9032    43.6130    72.5777 C             1 RES     \\n      41 C            6.4330    67.5890     8.6469 C             1 RES     \\n      42 C           15.4352    65.5639    23.3049 C             1 RES     \\n      43 C           24.4370    63.5384    37.9620 C             1 RES     \\n      44 C           33.4395    61.5124    52.6202 C             1 RES     \\n      45 C           42.4417    59.4873    67.2781 C             1 RES     \\n      46 C            1.9715    83.4633     3.3474 C             1 RES     \\n      47 C           10.9737    81.4382    18.0053 C             1 RES     \\n      48 C           19.9755    79.4126    32.6624 C             1 RES     \\n      49 C           28.9777    77.3875    47.3203 C             1 RES     \\n      50 C           37.9799    75.3624    61.9782 C             1 RES     \\n@<TRIPOS>BOND\\n       1        1       26 1\\n       2        2       27 1\\n       3        3       28 1\\n       4        4       29 1\\n       5        5       30 1\\n       6        6       26 1\\n       7        6       31 1\\n       8        7       26 1\\n       9        7       27 1\\n      10        7       32 1\\n      11        8       27 1\\n      12        8       28 1\\n      13        8       33 1\\n      14        9       28 1\\n      15        9       29 1\\n      16        9       34 1\\n      17       10       29 1\\n      18       10       30 1\\n      19       10       35 1\\n      20       11       31 1\\n      21       11       36 1\\n      22       12       31 1\\n      23       12       32 1\\n      24       12       37 1\\n      25       13       32 1\\n      26       13       33 1\\n      27       13       38 1\\n      28       14       33 1\\n      29       14       34 1\\n      30       14       39 1\\n      31       15       34 1\\n      32       15       35 1\\n      33       15       40 1\\n      34       16       36 1\\n      35       16       41 1\\n      36       17       36 1\\n      37       17       37 1\\n      38       17       42 1\\n      39       18       37 1\\n      40       18       38 1\\n      41       18       43 1\\n      42       19       38 1\\n      43       19       39 1\\n      44       19       44 1\\n      45       20       39 1\\n      46       20       40 1\\n      47       20       45 1\\n      48       21       41 1\\n      49       21       46 1\\n      50       22       41 1\\n      51       22       42 1\\n      52       22       47 1\\n      53       23       42 1\\n      54       23       43 1\\n      55       23       48 1\\n      56       24       43 1\\n      57       24       44 1\\n      58       24       49 1\\n      59       25       44 1\\n      60       25       45 1\\n      61       25       50 1\\n@<TRIPOS>SUBSTRUCTURE\\n       1 RES             1 RESIDUE    0 **** ROOT      0\\n\",\"mol2\");\n\tviewer_17495830308550735.setStyle({\"stick\": {\"radius\": 0.18, \"color\": \"grey\"}, \"sphere\": {\"scale\": 0.3, \"colorscheme\": {}}});\n\tviewer_17495830308550735.zoomTo();\nviewer_17495830308550735.render();\n});\n</script>",
      "text/html": [
       "<div id=\"3dmolviewer_17495830308550735\"  style=\"position: relative; width: 640px; height: 480px;\">\n",
       "        <p id=\"3dmolwarning_17495830308550735\" style=\"background-color:#ffcccc;color:black\">3Dmol.js failed to load for some reason.  Please check your browser console for error messages.<br></p>\n",
       "        </div>\n",
       "<script>\n",
       "\n",
       "var loadScriptAsync = function(uri){\n",
       "  return new Promise((resolve, reject) => {\n",
       "    //this is to ignore the existence of requirejs amd\n",
       "    var savedexports, savedmodule;\n",
       "    if (typeof exports !== 'undefined') savedexports = exports;\n",
       "    else exports = {}\n",
       "    if (typeof module !== 'undefined') savedmodule = module;\n",
       "    else module = {}\n",
       "\n",
       "    var tag = document.createElement('script');\n",
       "    tag.src = uri;\n",
       "    tag.async = true;\n",
       "    tag.onload = () => {\n",
       "        exports = savedexports;\n",
       "        module = savedmodule;\n",
       "        resolve();\n",
       "    };\n",
       "  var firstScriptTag = document.getElementsByTagName('script')[0];\n",
       "  firstScriptTag.parentNode.insertBefore(tag, firstScriptTag);\n",
       "});\n",
       "};\n",
       "\n",
       "if(typeof $3Dmolpromise === 'undefined') {\n",
       "$3Dmolpromise = null;\n",
       "  $3Dmolpromise = loadScriptAsync('https://cdnjs.cloudflare.com/ajax/libs/3Dmol/2.4.2/3Dmol-min.js');\n",
       "}\n",
       "\n",
       "var viewer_17495830308550735 = null;\n",
       "var warn = document.getElementById(\"3dmolwarning_17495830308550735\");\n",
       "if(warn) {\n",
       "    warn.parentNode.removeChild(warn);\n",
       "}\n",
       "$3Dmolpromise.then(function() {\n",
       "viewer_17495830308550735 = $3Dmol.createViewer(document.getElementById(\"3dmolviewer_17495830308550735\"),{backgroundColor:\"white\"});\n",
       "viewer_17495830308550735.zoomTo();\n",
       "\tviewer_17495830308550735.addModel(\"@<TRIPOS>MOLECULE\\nRES\\n50 61 1 0 1\\nSMALL\\nNO_CHARGES\\n@<TRIPOS>CRYSIN\\n   85.4200    85.4200    85.4200    90.0000    90.0000    90.0000 1 1\\n@<TRIPOS>ATOM\\n       1 C           19.7914    10.0575    23.1930 C             1 RES     \\n       2 C           28.7936     8.0324    37.8509 C             1 RES     \\n       3 C           37.7954     6.0069    52.5081 C             1 RES     \\n       4 C           46.7976     3.9818    67.1660 C             1 RES     \\n       5 C           55.7998     1.9567    81.8239 C             1 RES     \\n       6 C           15.3298    25.9318    17.8935 C             1 RES     \\n       7 C           24.3321    23.9067    32.5514 C             1 RES     \\n       8 C           33.3338    21.8812    47.2085 C             1 RES     \\n       9 C           42.3361    19.8561    61.8664 C             1 RES     \\n      10 C           51.3383    17.8309    76.5243 C             1 RES     \\n      11 C           10.8683    41.8060    12.5939 C             1 RES     \\n      12 C           19.8706    39.7809    27.2518 C             1 RES     \\n      13 C           28.8723    37.7554    41.9089 C             1 RES     \\n      14 C           37.8746    35.7303    56.5668 C             1 RES     \\n      15 C           46.8768    33.7052    71.2247 C             1 RES     \\n      16 C            6.4066    57.6812     7.2940 C             1 RES     \\n      17 C           15.4088    55.6561    21.9519 C             1 RES     \\n      18 C           24.4108    53.6297    36.6094 C             1 RES     \\n      19 C           33.4131    51.6046    51.2673 C             1 RES     \\n      20 C           42.4153    49.5795    65.9252 C             1 RES     \\n      21 C            1.9451    73.5555     1.9944 C             1 RES     \\n      22 C           10.9473    71.5304    16.6524 C             1 RES     \\n      23 C           19.9491    69.5048    31.3095 C             1 RES     \\n      24 C           28.9513    67.4797    45.9674 C             1 RES     \\n      25 C           37.9538    65.4537    60.6256 C             1 RES     \\n      26 C           19.8178    19.9653    24.5459 C             1 RES     \\n      27 C           28.8200    17.9402    39.2039 C             1 RES     \\n      28 C           37.8218    15.9147    53.8610 C             1 RES     \\n      29 C           46.8240    13.8896    68.5189 C             1 RES     \\n      30 C           55.8262    11.8645    83.1768 C             1 RES     \\n      31 C           15.3563    35.8396    19.2464 C             1 RES     \\n      32 C           24.3585    33.8145    33.9043 C             1 RES     \\n      33 C           33.3603    31.7890    48.5614 C             1 RES     \\n      34 C           42.3625    29.7639    63.2193 C             1 RES     \\n      35 C           51.3647    27.7387    77.8772 C             1 RES     \\n      36 C           10.8945    51.7148    13.9465 C             1 RES     \\n      37 C           19.8970    49.6887    28.6047 C             1 RES     \\n      38 C           28.8987    47.6632    43.2618 C             1 RES     \\n      39 C           37.9010    45.6381    57.9198 C             1 RES     \\n      40 C           46.9032    43.6130    72.5777 C             1 RES     \\n      41 C            6.4330    67.5890     8.6469 C             1 RES     \\n      42 C           15.4352    65.5639    23.3049 C             1 RES     \\n      43 C           24.4370    63.5384    37.9620 C             1 RES     \\n      44 C           33.4395    61.5124    52.6202 C             1 RES     \\n      45 C           42.4417    59.4873    67.2781 C             1 RES     \\n      46 C            1.9715    83.4633     3.3474 C             1 RES     \\n      47 C           10.9737    81.4382    18.0053 C             1 RES     \\n      48 C           19.9755    79.4126    32.6624 C             1 RES     \\n      49 C           28.9777    77.3875    47.3203 C             1 RES     \\n      50 C           37.9799    75.3624    61.9782 C             1 RES     \\n@<TRIPOS>BOND\\n       1        1       26 1\\n       2        2       27 1\\n       3        3       28 1\\n       4        4       29 1\\n       5        5       30 1\\n       6        6       26 1\\n       7        6       31 1\\n       8        7       26 1\\n       9        7       27 1\\n      10        7       32 1\\n      11        8       27 1\\n      12        8       28 1\\n      13        8       33 1\\n      14        9       28 1\\n      15        9       29 1\\n      16        9       34 1\\n      17       10       29 1\\n      18       10       30 1\\n      19       10       35 1\\n      20       11       31 1\\n      21       11       36 1\\n      22       12       31 1\\n      23       12       32 1\\n      24       12       37 1\\n      25       13       32 1\\n      26       13       33 1\\n      27       13       38 1\\n      28       14       33 1\\n      29       14       34 1\\n      30       14       39 1\\n      31       15       34 1\\n      32       15       35 1\\n      33       15       40 1\\n      34       16       36 1\\n      35       16       41 1\\n      36       17       36 1\\n      37       17       37 1\\n      38       17       42 1\\n      39       18       37 1\\n      40       18       38 1\\n      41       18       43 1\\n      42       19       38 1\\n      43       19       39 1\\n      44       19       44 1\\n      45       20       39 1\\n      46       20       40 1\\n      47       20       45 1\\n      48       21       41 1\\n      49       21       46 1\\n      50       22       41 1\\n      51       22       42 1\\n      52       22       47 1\\n      53       23       42 1\\n      54       23       43 1\\n      55       23       48 1\\n      56       24       43 1\\n      57       24       44 1\\n      58       24       49 1\\n      59       25       44 1\\n      60       25       45 1\\n      61       25       50 1\\n@<TRIPOS>SUBSTRUCTURE\\n       1 RES             1 RESIDUE    0 **** ROOT      0\\n\",\"mol2\");\n",
       "\tviewer_17495830308550735.setStyle({\"stick\": {\"radius\": 0.18, \"color\": \"grey\"}, \"sphere\": {\"scale\": 0.3, \"colorscheme\": {}}});\n",
       "\tviewer_17495830308550735.zoomTo();\n",
       "viewer_17495830308550735.render();\n",
       "});\n",
       "</script>"
      ]
     },
     "metadata": {},
     "output_type": "display_data"
    }
   ],
   "source": [
    "system.visualize()"
   ]
  },
  {
   "cell_type": "markdown",
   "id": "421f343c-de8d-406e-bcc4-4aed62213224",
   "metadata": {},
   "source": [
    "## These blocks help us understand where we are at with bond lengths, number of atoms, molecules, etc.; are they what we expect them to be?"
   ]
  },
  {
   "cell_type": "code",
   "execution_count": 35,
   "id": "d3168d33-3e20-43d4-9d4c-8ddc8cc3568a",
   "metadata": {},
   "outputs": [
    {
     "name": "stdout",
     "output_type": "stream",
     "text": [
      "Distance between particle 0 and 1: 1.73204 dimensionless nm\n"
     ]
    }
   ],
   "source": [
    "positions = system.hoomd_snapshot.particles.position\n",
    "\n",
    "# Example: distance between particle 0 and 1\n",
    "d = np.linalg.norm(positions[0] - positions[1])\n",
    "print(f\"Distance between particle 0 and 1: {d:.5f} nm\")"
   ]
  },
  {
   "cell_type": "code",
   "execution_count": 36,
   "id": "8bfd47cc-779f-4227-b5ce-237c269b264b",
   "metadata": {},
   "outputs": [
    {
     "name": "stdout",
     "output_type": "stream",
     "text": [
      "[-2.2918633 -3.2652457 -1.9516962] dimensionless\n",
      "[-1.3916408 -3.4677567 -0.4859047] dimensionless\n",
      "[-0.4914633 -3.6703072  0.9798067] dimensionless\n",
      "[ 0.4087592 -3.8728183  2.4455981] dimensionless\n"
     ]
    }
   ],
   "source": [
    "print(system.hoomd_snapshot.particles.position[0])\n",
    "print(system.hoomd_snapshot.particles.position[1])\n",
    "print(system.hoomd_snapshot.particles.position[2])\n",
    "print(system.hoomd_snapshot.particles.position[3])"
   ]
  },
  {
   "cell_type": "code",
   "execution_count": 28,
   "id": "2bad0aab-9a88-4ab9-bf5e-1e07a498f737",
   "metadata": {},
   "outputs": [
    {
     "data": {
      "text/plain": [
       "0.9999780212786428"
      ]
     },
     "execution_count": 28,
     "metadata": {},
     "output_type": "execute_result"
    }
   ],
   "source": [
    "np.linalg.norm(np.array(system.hoomd_snapshot.particles.position[0]) - np.array(system.hoomd_snapshot.particles.position[1]))"
   ]
  },
  {
   "cell_type": "code",
   "execution_count": 29,
   "id": "4b588b6e-2777-40e6-a64a-866d539bef31",
   "metadata": {},
   "outputs": [
    {
     "data": {
      "text/plain": [
       "1.0000646249819303"
      ]
     },
     "execution_count": 29,
     "metadata": {},
     "output_type": "execute_result"
    }
   ],
   "source": [
    "np.linalg.norm(np.array(system.hoomd_snapshot.particles.position[2]) - np.array(system.hoomd_snapshot.particles.position[1]))"
   ]
  },
  {
   "cell_type": "code",
   "execution_count": 30,
   "id": "0d7cdd91-28ec-417a-85c7-048e2a619c3d",
   "metadata": {},
   "outputs": [
    {
     "data": {
      "text/plain": [
       "0.9999779231463118"
      ]
     },
     "execution_count": 30,
     "metadata": {},
     "output_type": "execute_result"
    }
   ],
   "source": [
    "np.linalg.norm(np.array(system.hoomd_snapshot.particles.position[3]) - np.array(system.hoomd_snapshot.particles.position[2]))"
   ]
  },
  {
   "cell_type": "code",
   "execution_count": 31,
   "id": "e242105f-08e5-4e3a-bcf7-56191447817b",
   "metadata": {},
   "outputs": [
    {
     "data": {
      "text/plain": [
       "3.000020568574244"
      ]
     },
     "execution_count": 31,
     "metadata": {},
     "output_type": "execute_result"
    }
   ],
   "source": [
    "np.linalg.norm(np.array(system.hoomd_snapshot.particles.position[3]) - np.array(system.hoomd_snapshot.particles.position[0]))"
   ]
  },
  {
   "cell_type": "code",
   "execution_count": 32,
   "id": "ce99f011-e6d0-4c2a-8b01-94291834b4aa",
   "metadata": {},
   "outputs": [
    {
     "data": {
      "text/plain": [
       "<Compound 50 particles, 61 bonds, System box: Box: Lx=5.000000, Ly=5.000000, Lz=1.000000, xy=-0.577350, xz=0.000000, yz=-0.577350, , id: 140656305694928>"
      ]
     },
     "execution_count": 32,
     "metadata": {},
     "output_type": "execute_result"
    }
   ],
   "source": [
    "sheet.all_molecules[0]"
   ]
  },
  {
   "cell_type": "code",
   "execution_count": 33,
   "id": "e9326458-8125-46a2-883f-89c1e20d5278",
   "metadata": {},
   "outputs": [
    {
     "data": {
      "text/plain": [
       "5"
      ]
     },
     "execution_count": 33,
     "metadata": {},
     "output_type": "execute_result"
    }
   ],
   "source": [
    "system.n_molecules"
   ]
  },
  {
   "cell_type": "code",
   "execution_count": 34,
   "id": "088d66f1-6a79-4da6-aa01-14d0c53d8f44",
   "metadata": {},
   "outputs": [
    {
     "data": {
      "text/plain": [
       "250"
      ]
     },
     "execution_count": 34,
     "metadata": {},
     "output_type": "execute_result"
    }
   ],
   "source": [
    "system.n_particles"
   ]
  },
  {
   "cell_type": "code",
   "execution_count": 35,
   "id": "211408e5-88c2-47df-a8df-8615f0e0aa55",
   "metadata": {},
   "outputs": [
    {
     "name": "stdout",
     "output_type": "stream",
     "text": [
      "['C']\n",
      "['C-C']\n",
      "['C-C-C']\n",
      "['C-C-C-C']\n"
     ]
    }
   ],
   "source": [
    "snap = system.hoomd_snapshot\n",
    "print(snap.particles.types)\n",
    "print(snap.bonds.types)\n",
    "print(snap.angles.types)\n",
    "print(snap.dihedrals.types)"
   ]
  },
  {
   "cell_type": "markdown",
   "id": "5e12096d-1bbe-4bac-9a86-c2f396230860",
   "metadata": {},
   "source": [
    "## Forcefield defines how these sheets interact amongst themselves as well as with other sheets. \"beads\" represents interactions with other particles it is not bonded to, \"bonds\" define the equilibrium bond length for bonded particles, \"angles\" defines the equilibrium angle between three bonded particles, and \"dihedrals\" defines the equilibrium torsion angle between 4 bonded particles. k is a stiffness constant associated with every bonded interactions, ensuring structural rigidity."
   ]
  },
  {
   "cell_type": "code",
   "execution_count": 36,
   "id": "8495eb8c-0b82-4c1c-bd46-54a516e7e687",
   "metadata": {},
   "outputs": [],
   "source": [
    "s = 1.0 # 1.0 for scaling"
   ]
  },
  {
   "cell_type": "code",
   "execution_count": 37,
   "id": "05cd20c5-c8bb-443a-859b-9ed6eac6129b",
   "metadata": {},
   "outputs": [],
   "source": [
    "ff = BeadSpring(\n",
    "    r_cut=2.5,  # cutoff distance for non-bonded interactions, for \"beads\"\n",
    "    beads={\n",
    "        \"C\": dict(epsilon=0.1, sigma=1.0)\n",
    "        # non-bonded Lennard-Jones parameters for carbon beads:\n",
    "        # epsilon: depth of the potential well (interaction strength)\n",
    "        # sigma: finite distance at which the potential is zero (bead size)\n",
    "    },\n",
    "    bonds={\n",
    "        \"C-C\": dict(r0=0.57736*s, k=500)\n",
    "        # harmonic bond potential between bonded carbon atoms:\n",
    "        # r0: equilibrium bond length (scaled by s)\n",
    "        # k: bond stiffness (force constant)\n",
    "    },\n",
    "    angles={\n",
    "        \"C-C-C\": dict(t0=2*np.pi/3, k=500)\n",
    "        # harmonic angle potential between three bonded carbons:\n",
    "        # t0: equilibrium bond angle (120° for sp2 bonding)\n",
    "        # k: angular stiffness\n",
    "    },\n",
    "    dihedrals={\n",
    "        \"C-C-C-C\": dict(phi0=0.1, k=500, d=1, n=1)\n",
    "        # dihedral potential (torsion) for four bonded carbons:\n",
    "        # phi0: equilibrium dihedral angle (in radians)\n",
    "        # k: torsional stiffness\n",
    "        # d: phase shift direction (±1)\n",
    "        # n: periodicity (number of minima per 2π)\n",
    "    }\n",
    ")"
   ]
  },
  {
   "cell_type": "code",
   "execution_count": 38,
   "id": "d928a856-7c95-4daf-b8e8-f1b2f410a997",
   "metadata": {},
   "outputs": [
    {
     "name": "stdout",
     "output_type": "stream",
     "text": [
      "1\n",
      "880\n"
     ]
    }
   ],
   "source": [
    "print(len(system.hoomd_snapshot.dihedrals.types))\n",
    "print(len(system.hoomd_snapshot.dihedrals.group))"
   ]
  },
  {
   "cell_type": "markdown",
   "id": "709e90f6-b722-4172-af85-f35ad2644ed7",
   "metadata": {},
   "source": [
    "## Running an NVT simulation, holding number of molecules, volume, and temperature constant."
   ]
  },
  {
   "cell_type": "code",
   "execution_count": 39,
   "id": "23fc1f43-3e88-4d92-bd17-fcb285069aa8",
   "metadata": {},
   "outputs": [
    {
     "ename": "NameError",
     "evalue": "name 'sim' is not defined",
     "output_type": "error",
     "traceback": [
      "\u001b[31m---------------------------------------------------------------------------\u001b[39m",
      "\u001b[31mNameError\u001b[39m                                 Traceback (most recent call last)",
      "\u001b[36mCell\u001b[39m\u001b[36m \u001b[39m\u001b[32mIn[39]\u001b[39m\u001b[32m, line 1\u001b[39m\n\u001b[32m----> \u001b[39m\u001b[32m1\u001b[39m \u001b[38;5;28;01mdel\u001b[39;00m \u001b[43msim\u001b[49m\n",
      "\u001b[31mNameError\u001b[39m: name 'sim' is not defined"
     ]
    }
   ],
   "source": [
    "del sim # reset simulation, if sim already exists"
   ]
  },
  {
   "cell_type": "code",
   "execution_count": 22,
   "id": "8ddb54a1-29eb-4b49-b129-81c826c4954f",
   "metadata": {},
   "outputs": [],
   "source": [
    "cpu = hoomd.device.CPU() # setting our device in which to run the simulation on "
   ]
  },
  {
   "cell_type": "code",
   "execution_count": 23,
   "id": "165b0b63-3a14-4dd6-852f-b3bffeca1a03",
   "metadata": {},
   "outputs": [
    {
     "name": "stdout",
     "output_type": "stream",
     "text": [
      "Initializing simulation state from a gsd.hoomd.Frame.\n"
     ]
    }
   ],
   "source": [
    "sim = Simulation(initial_state=system.hoomd_snapshot, forcefield=ff.hoomd_forces, device = cpu,\n",
    "                 gsd_write_freq=int(1000), gsd_file_name=\"single_sheet.gsd\")\n",
    "# feeding our system as the initial state, our created forcefield, our device, a writing frequency for the output trajectory file as well as an output\n",
    "# file name."
   ]
  },
  {
   "cell_type": "code",
   "execution_count": 25,
   "id": "643531bb-3699-42c8-8812-26693bb629c9",
   "metadata": {},
   "outputs": [],
   "source": [
    "sim.state.thermalize_particle_momenta(filter=hoomd.filter.All(), kT=1.0) # give some initial velocities; temperature is an atomic speedometer"
   ]
  },
  {
   "cell_type": "code",
   "execution_count": 27,
   "id": "89b70fc3-bea5-4ab8-b45f-9dba0245964f",
   "metadata": {},
   "outputs": [
    {
     "name": "stdout",
     "output_type": "stream",
     "text": [
      "Step 1000 of 200000; TPS: 1927.91; ETA: 1.7 minutes\n",
      "Step 2000 of 200000; TPS: 2835.46; ETA: 1.2 minutes\n",
      "Step 3000 of 200000; TPS: 3351.37; ETA: 1.0 minutes\n",
      "Step 4000 of 200000; TPS: 3691.27; ETA: 0.9 minutes\n",
      "Step 5000 of 200000; TPS: 3898.49; ETA: 0.8 minutes\n",
      "Step 6000 of 200000; TPS: 4053.42; ETA: 0.8 minutes\n",
      "Step 7000 of 200000; TPS: 4187.65; ETA: 0.8 minutes\n",
      "Step 8000 of 200000; TPS: 4227.65; ETA: 0.8 minutes\n",
      "Step 9000 of 200000; TPS: 4300.58; ETA: 0.7 minutes\n",
      "Step 10000 of 200000; TPS: 4365.79; ETA: 0.7 minutes\n",
      "Step 11000 of 200000; TPS: 4389.94; ETA: 0.7 minutes\n",
      "Step 12000 of 200000; TPS: 4443.23; ETA: 0.7 minutes\n",
      "Step 13000 of 200000; TPS: 4490.36; ETA: 0.7 minutes\n",
      "Step 14000 of 200000; TPS: 4531.23; ETA: 0.7 minutes\n",
      "Step 15000 of 200000; TPS: 4514.62; ETA: 0.7 minutes\n",
      "Step 16000 of 200000; TPS: 4527.94; ETA: 0.7 minutes\n",
      "Step 17000 of 200000; TPS: 4553.11; ETA: 0.7 minutes\n",
      "Step 18000 of 200000; TPS: 4566.95; ETA: 0.7 minutes\n",
      "Step 19000 of 200000; TPS: 4586.22; ETA: 0.7 minutes\n",
      "Step 20000 of 200000; TPS: 4620.01; ETA: 0.6 minutes\n",
      "Step 21000 of 200000; TPS: 4617.74; ETA: 0.6 minutes\n",
      "Step 22000 of 200000; TPS: 4610.21; ETA: 0.6 minutes\n",
      "Step 23000 of 200000; TPS: 4625.97; ETA: 0.6 minutes\n",
      "Step 24000 of 200000; TPS: 4630.62; ETA: 0.6 minutes\n",
      "Step 25000 of 200000; TPS: 4640.94; ETA: 0.6 minutes\n",
      "Step 26000 of 200000; TPS: 4635.5; ETA: 0.6 minutes\n",
      "Step 27000 of 200000; TPS: 4619.22; ETA: 0.6 minutes\n",
      "Step 28000 of 200000; TPS: 4618.63; ETA: 0.6 minutes\n",
      "Step 29000 of 200000; TPS: 4612.33; ETA: 0.6 minutes\n",
      "Step 30000 of 200000; TPS: 4620.68; ETA: 0.6 minutes\n",
      "Step 31000 of 200000; TPS: 4619.49; ETA: 0.6 minutes\n",
      "Step 32000 of 200000; TPS: 4612.24; ETA: 0.6 minutes\n",
      "Step 33000 of 200000; TPS: 4602.56; ETA: 0.6 minutes\n",
      "Step 34000 of 200000; TPS: 4613.3; ETA: 0.6 minutes\n",
      "Step 35000 of 200000; TPS: 4622.98; ETA: 0.6 minutes\n",
      "Step 36000 of 200000; TPS: 4626.82; ETA: 0.6 minutes\n",
      "Step 37000 of 200000; TPS: 4633.09; ETA: 0.6 minutes\n",
      "Step 38000 of 200000; TPS: 4580.0; ETA: 0.6 minutes\n",
      "Step 39000 of 200000; TPS: 4558.58; ETA: 0.6 minutes\n",
      "Step 40000 of 200000; TPS: 4574.47; ETA: 0.6 minutes\n",
      "Step 41000 of 200000; TPS: 4584.94; ETA: 0.6 minutes\n",
      "Step 42000 of 200000; TPS: 4584.64; ETA: 0.6 minutes\n",
      "Step 43000 of 200000; TPS: 4564.83; ETA: 0.6 minutes\n",
      "Step 44000 of 200000; TPS: 4560.14; ETA: 0.6 minutes\n",
      "Step 45000 of 200000; TPS: 4563.9; ETA: 0.6 minutes\n",
      "Step 46000 of 200000; TPS: 4565.01; ETA: 0.6 minutes\n",
      "Step 47000 of 200000; TPS: 4571.77; ETA: 0.6 minutes\n",
      "Step 48000 of 200000; TPS: 4558.06; ETA: 0.6 minutes\n",
      "Step 49000 of 200000; TPS: 4564.22; ETA: 0.6 minutes\n",
      "Step 50000 of 200000; TPS: 4573.63; ETA: 0.5 minutes\n",
      "Step 51000 of 200000; TPS: 4582.18; ETA: 0.5 minutes\n",
      "Step 52000 of 200000; TPS: 4582.13; ETA: 0.5 minutes\n",
      "Step 53000 of 200000; TPS: 4588.27; ETA: 0.5 minutes\n",
      "Step 54000 of 200000; TPS: 4597.59; ETA: 0.5 minutes\n",
      "Step 55000 of 200000; TPS: 4594.32; ETA: 0.5 minutes\n",
      "Step 56000 of 200000; TPS: 4599.53; ETA: 0.5 minutes\n",
      "Step 57000 of 200000; TPS: 4603.35; ETA: 0.5 minutes\n",
      "Step 58000 of 200000; TPS: 4610.01; ETA: 0.5 minutes\n",
      "Step 59000 of 200000; TPS: 4619.3; ETA: 0.5 minutes\n",
      "Step 60000 of 200000; TPS: 4625.56; ETA: 0.5 minutes\n",
      "Step 61000 of 200000; TPS: 4595.08; ETA: 0.5 minutes\n",
      "Step 62000 of 200000; TPS: 4569.96; ETA: 0.5 minutes\n",
      "Step 63000 of 200000; TPS: 4575.79; ETA: 0.5 minutes\n",
      "Step 64000 of 200000; TPS: 4573.0; ETA: 0.5 minutes\n",
      "Step 65000 of 200000; TPS: 4582.82; ETA: 0.5 minutes\n",
      "Step 66000 of 200000; TPS: 4588.51; ETA: 0.5 minutes\n",
      "Step 67000 of 200000; TPS: 4576.96; ETA: 0.5 minutes\n",
      "Step 68000 of 200000; TPS: 4585.48; ETA: 0.5 minutes\n",
      "Step 69000 of 200000; TPS: 4592.83; ETA: 0.5 minutes\n",
      "Step 70000 of 200000; TPS: 4595.52; ETA: 0.5 minutes\n",
      "Step 71000 of 200000; TPS: 4602.93; ETA: 0.5 minutes\n",
      "Step 72000 of 200000; TPS: 4609.67; ETA: 0.5 minutes\n",
      "Step 73000 of 200000; TPS: 4601.17; ETA: 0.5 minutes\n",
      "Step 74000 of 200000; TPS: 4602.69; ETA: 0.5 minutes\n",
      "Step 75000 of 200000; TPS: 4608.93; ETA: 0.5 minutes\n",
      "Step 76000 of 200000; TPS: 4609.76; ETA: 0.4 minutes\n",
      "Step 77000 of 200000; TPS: 4613.38; ETA: 0.4 minutes\n",
      "Step 78000 of 200000; TPS: 4620.05; ETA: 0.4 minutes\n",
      "Step 79000 of 200000; TPS: 4620.98; ETA: 0.4 minutes\n",
      "Step 80000 of 200000; TPS: 4623.78; ETA: 0.4 minutes\n",
      "Step 81000 of 200000; TPS: 4626.47; ETA: 0.4 minutes\n",
      "Step 82000 of 200000; TPS: 4634.04; ETA: 0.4 minutes\n",
      "Step 83000 of 200000; TPS: 4642.44; ETA: 0.4 minutes\n",
      "Step 84000 of 200000; TPS: 4641.76; ETA: 0.4 minutes\n",
      "Step 85000 of 200000; TPS: 4639.69; ETA: 0.4 minutes\n",
      "Step 86000 of 200000; TPS: 4643.04; ETA: 0.4 minutes\n",
      "Step 87000 of 200000; TPS: 4644.69; ETA: 0.4 minutes\n",
      "Step 88000 of 200000; TPS: 4627.04; ETA: 0.4 minutes\n",
      "Step 89000 of 200000; TPS: 4630.02; ETA: 0.4 minutes\n",
      "Step 90000 of 200000; TPS: 4623.32; ETA: 0.4 minutes\n",
      "Step 91000 of 200000; TPS: 4616.32; ETA: 0.4 minutes\n",
      "Step 92000 of 200000; TPS: 4612.7; ETA: 0.4 minutes\n",
      "Step 93000 of 200000; TPS: 4619.83; ETA: 0.4 minutes\n",
      "Step 94000 of 200000; TPS: 4624.52; ETA: 0.4 minutes\n",
      "Step 95000 of 200000; TPS: 4626.62; ETA: 0.4 minutes\n",
      "Step 96000 of 200000; TPS: 4622.38; ETA: 0.4 minutes\n",
      "Step 97000 of 200000; TPS: 4627.21; ETA: 0.4 minutes\n",
      "Step 98000 of 200000; TPS: 4630.34; ETA: 0.4 minutes\n",
      "Step 99000 of 200000; TPS: 4628.5; ETA: 0.4 minutes\n",
      "Step 100000 of 200000; TPS: 4629.98; ETA: 0.4 minutes\n",
      "Step 101000 of 200000; TPS: 4629.98; ETA: 0.4 minutes\n",
      "Step 102000 of 200000; TPS: 4635.8; ETA: 0.4 minutes\n",
      "Step 103000 of 200000; TPS: 4641.45; ETA: 0.3 minutes\n",
      "Step 104000 of 200000; TPS: 4647.59; ETA: 0.3 minutes\n",
      "Step 105000 of 200000; TPS: 4650.61; ETA: 0.3 minutes\n",
      "Step 106000 of 200000; TPS: 4650.48; ETA: 0.3 minutes\n",
      "Step 107000 of 200000; TPS: 4653.31; ETA: 0.3 minutes\n",
      "Step 108000 of 200000; TPS: 4654.64; ETA: 0.3 minutes\n",
      "Step 109000 of 200000; TPS: 4652.11; ETA: 0.3 minutes\n",
      "Step 110000 of 200000; TPS: 4642.95; ETA: 0.3 minutes\n",
      "Step 111000 of 200000; TPS: 4648.07; ETA: 0.3 minutes\n",
      "Step 112000 of 200000; TPS: 4651.7; ETA: 0.3 minutes\n",
      "Step 113000 of 200000; TPS: 4653.91; ETA: 0.3 minutes\n",
      "Step 114000 of 200000; TPS: 4658.76; ETA: 0.3 minutes\n",
      "Step 115000 of 200000; TPS: 4650.42; ETA: 0.3 minutes\n",
      "Step 116000 of 200000; TPS: 4653.73; ETA: 0.3 minutes\n",
      "Step 117000 of 200000; TPS: 4651.88; ETA: 0.3 minutes\n",
      "Step 118000 of 200000; TPS: 4655.13; ETA: 0.3 minutes\n",
      "Step 119000 of 200000; TPS: 4653.1; ETA: 0.3 minutes\n",
      "Step 120000 of 200000; TPS: 4655.29; ETA: 0.3 minutes\n",
      "Step 121000 of 200000; TPS: 4657.39; ETA: 0.3 minutes\n",
      "Step 122000 of 200000; TPS: 4658.87; ETA: 0.3 minutes\n",
      "Step 123000 of 200000; TPS: 4657.85; ETA: 0.3 minutes\n",
      "Step 124000 of 200000; TPS: 4656.02; ETA: 0.3 minutes\n",
      "Step 125000 of 200000; TPS: 4656.33; ETA: 0.3 minutes\n",
      "Step 126000 of 200000; TPS: 4646.53; ETA: 0.3 minutes\n",
      "Step 127000 of 200000; TPS: 4634.79; ETA: 0.3 minutes\n",
      "Step 128000 of 200000; TPS: 4637.78; ETA: 0.3 minutes\n",
      "Step 129000 of 200000; TPS: 4637.72; ETA: 0.3 minutes\n",
      "Step 130000 of 200000; TPS: 4640.08; ETA: 0.3 minutes\n",
      "Step 131000 of 200000; TPS: 4642.35; ETA: 0.2 minutes\n",
      "Step 132000 of 200000; TPS: 4633.58; ETA: 0.2 minutes\n",
      "Step 133000 of 200000; TPS: 4636.21; ETA: 0.2 minutes\n",
      "Step 134000 of 200000; TPS: 4639.91; ETA: 0.2 minutes\n",
      "Step 135000 of 200000; TPS: 4643.5; ETA: 0.2 minutes\n",
      "Step 136000 of 200000; TPS: 4644.53; ETA: 0.2 minutes\n",
      "Step 137000 of 200000; TPS: 4649.1; ETA: 0.2 minutes\n",
      "Step 138000 of 200000; TPS: 4651.51; ETA: 0.2 minutes\n",
      "Step 139000 of 200000; TPS: 4652.91; ETA: 0.2 minutes\n",
      "Step 140000 of 200000; TPS: 4653.39; ETA: 0.2 minutes\n",
      "Step 141000 of 200000; TPS: 4652.17; ETA: 0.2 minutes\n",
      "Step 142000 of 200000; TPS: 4648.1; ETA: 0.2 minutes\n",
      "Step 143000 of 200000; TPS: 4641.39; ETA: 0.2 minutes\n",
      "Step 144000 of 200000; TPS: 4643.97; ETA: 0.2 minutes\n",
      "Step 145000 of 200000; TPS: 4642.21; ETA: 0.2 minutes\n",
      "Step 146000 of 200000; TPS: 4638.35; ETA: 0.2 minutes\n",
      "Step 147000 of 200000; TPS: 4635.29; ETA: 0.2 minutes\n",
      "Step 148000 of 200000; TPS: 4636.51; ETA: 0.2 minutes\n",
      "Step 149000 of 200000; TPS: 4636.49; ETA: 0.2 minutes\n",
      "Step 150000 of 200000; TPS: 4639.84; ETA: 0.2 minutes\n",
      "Step 151000 of 200000; TPS: 4644.3; ETA: 0.2 minutes\n",
      "Step 152000 of 200000; TPS: 4647.67; ETA: 0.2 minutes\n",
      "Step 153000 of 200000; TPS: 4648.33; ETA: 0.2 minutes\n",
      "Step 154000 of 200000; TPS: 4649.54; ETA: 0.2 minutes\n",
      "Step 155000 of 200000; TPS: 4650.64; ETA: 0.2 minutes\n",
      "Step 156000 of 200000; TPS: 4649.55; ETA: 0.2 minutes\n",
      "Step 157000 of 200000; TPS: 4641.63; ETA: 0.2 minutes\n",
      "Step 158000 of 200000; TPS: 4640.64; ETA: 0.2 minutes\n",
      "Step 159000 of 200000; TPS: 4642.81; ETA: 0.1 minutes\n",
      "Step 160000 of 200000; TPS: 4643.85; ETA: 0.1 minutes\n",
      "Step 161000 of 200000; TPS: 4646.17; ETA: 0.1 minutes\n",
      "Step 162000 of 200000; TPS: 4647.5; ETA: 0.1 minutes\n",
      "Step 163000 of 200000; TPS: 4647.76; ETA: 0.1 minutes\n",
      "Step 164000 of 200000; TPS: 4643.56; ETA: 0.1 minutes\n",
      "Step 165000 of 200000; TPS: 4641.94; ETA: 0.1 minutes\n",
      "Step 166000 of 200000; TPS: 4641.47; ETA: 0.1 minutes\n",
      "Step 167000 of 200000; TPS: 4640.51; ETA: 0.1 minutes\n",
      "Step 168000 of 200000; TPS: 4637.62; ETA: 0.1 minutes\n",
      "Step 169000 of 200000; TPS: 4638.27; ETA: 0.1 minutes\n",
      "Step 170000 of 200000; TPS: 4631.69; ETA: 0.1 minutes\n",
      "Step 171000 of 200000; TPS: 4633.01; ETA: 0.1 minutes\n",
      "Step 172000 of 200000; TPS: 4632.36; ETA: 0.1 minutes\n",
      "Step 173000 of 200000; TPS: 4620.99; ETA: 0.1 minutes\n",
      "Step 174000 of 200000; TPS: 4617.69; ETA: 0.1 minutes\n",
      "Step 175000 of 200000; TPS: 4618.97; ETA: 0.1 minutes\n",
      "Step 176000 of 200000; TPS: 4617.94; ETA: 0.1 minutes\n",
      "Step 177000 of 200000; TPS: 4614.39; ETA: 0.1 minutes\n",
      "Step 178000 of 200000; TPS: 4618.57; ETA: 0.1 minutes\n",
      "Step 179000 of 200000; TPS: 4620.82; ETA: 0.1 minutes\n",
      "Step 180000 of 200000; TPS: 4619.52; ETA: 0.1 minutes\n",
      "Step 181000 of 200000; TPS: 4613.73; ETA: 0.1 minutes\n",
      "Step 182000 of 200000; TPS: 4613.27; ETA: 0.1 minutes\n",
      "Step 183000 of 200000; TPS: 4614.17; ETA: 0.1 minutes\n",
      "Step 184000 of 200000; TPS: 4615.51; ETA: 0.1 minutes\n",
      "Step 185000 of 200000; TPS: 4616.87; ETA: 0.1 minutes\n",
      "Step 186000 of 200000; TPS: 4616.05; ETA: 0.1 minutes\n",
      "Step 187000 of 200000; TPS: 4615.02; ETA: 0.0 minutes\n",
      "Step 188000 of 200000; TPS: 4616.85; ETA: 0.0 minutes\n",
      "Step 189000 of 200000; TPS: 4616.59; ETA: 0.0 minutes\n",
      "Step 190000 of 200000; TPS: 4609.95; ETA: 0.0 minutes\n",
      "Step 191000 of 200000; TPS: 4612.1; ETA: 0.0 minutes\n",
      "Step 192000 of 200000; TPS: 4609.38; ETA: 0.0 minutes\n",
      "Step 193000 of 200000; TPS: 4611.85; ETA: 0.0 minutes\n",
      "Step 194000 of 200000; TPS: 4614.52; ETA: 0.0 minutes\n",
      "Step 195000 of 200000; TPS: 4617.24; ETA: 0.0 minutes\n",
      "Step 196000 of 200000; TPS: 4618.55; ETA: 0.0 minutes\n",
      "Step 197000 of 200000; TPS: 4620.48; ETA: 0.0 minutes\n",
      "Step 198000 of 200000; TPS: 4620.78; ETA: 0.0 minutes\n",
      "Step 199000 of 200000; TPS: 4618.17; ETA: 0.0 minutes\n"
     ]
    }
   ],
   "source": [
    "sim.run_NVT(n_steps=2e5,kT=1.0, tau_kt = 0.1) # kT = temperature, tau_kT = thermostat coupling time, how often temperature is corrected during run.\n",
    "sim.flush_writers() # flushing data to gsd file (even log files if asked for)"
   ]
  },
  {
   "cell_type": "code",
   "execution_count": 28,
   "id": "15ca407e-de17-4e59-99e2-86b5e36054e4",
   "metadata": {},
   "outputs": [
    {
     "data": {
      "image/png": "[encoded data removed]",
      "text/plain": [
       "<fresnel.util.ImageArray at 0x7fd9a4710140>"
      ]
     },
     "execution_count": 28,
     "metadata": {},
     "output_type": "execute_result"
    }
   ],
   "source": [
    "sim_visualizer = FresnelGSD(gsd_file=\"single_sheet.gsd\", frame=1, view_axis=(1, 1, 1))\n",
    "sim_visualizer.view()"
   ]
  }
 ],
 "metadata": {
  "kernelspec": {
   "display_name": "Python 3 (ipykernel)",
   "language": "python",
   "name": "python3"
  },
  "language_info": {
   "codemirror_mode": {
    "name": "ipython",
    "version": 3
   },
   "file_extension": ".py",
   "mimetype": "text/x-python",
   "name": "python",
   "nbconvert_exporter": "python",
   "pygments_lexer": "ipython3",
   "version": "3.12.0"
  }
 },
 "nbformat": 4,
 "nbformat_minor": 5
}
