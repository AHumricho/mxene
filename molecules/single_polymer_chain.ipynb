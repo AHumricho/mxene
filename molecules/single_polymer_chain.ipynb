{
 "cells": [
  {
   "cell_type": "code",
   "execution_count": 13,
   "id": "bfd51354-cfc1-4932-a600-c8f9d244d260",
   "metadata": {},
   "outputs": [],
   "source": [
    "import flowermd\n",
    "import hoomd\n",
    "import numpy as np\n",
    "from flowermd.library.forcefields import BeadSpring, KremerGrestBeadSpring\n",
    "from flowermd.base import Pack, Simulation\n",
    "from flowermd.library import LJChain\n",
    "# importing tools"
   ]
  },
  {
   "cell_type": "code",
   "execution_count": 14,
   "id": "ca149296-37d1-4f4c-b726-0a6735a83fce",
   "metadata": {},
   "outputs": [],
   "source": [
    "cpu = hoomd.device.CPU() # defining device for simulation"
   ]
  },
  {
   "cell_type": "code",
   "execution_count": 15,
   "id": "10cf0f14-2767-4e03-892e-879e4813635e",
   "metadata": {},
   "outputs": [
    {
     "name": "stderr",
     "output_type": "stream",
     "text": [
      "/home/eridanirojas/miniconda3/envs/flowermd/lib/python3.12/site-packages/gmso/external/convert_hoomd.py:382: UserWarning: 90 bonds detected\n",
      "  warnings.warn(f\"{top.n_bonds} bonds detected\")\n",
      "/home/eridanirojas/miniconda3/envs/flowermd/lib/python3.12/site-packages/gmso/external/convert_hoomd.py:459: UserWarning: 80 angles detected\n",
      "  warnings.warn(f\"{top.n_angles} angles detected\")\n",
      "/home/eridanirojas/miniconda3/envs/flowermd/lib/python3.12/site-packages/gmso/external/convert_hoomd.py:505: UserWarning: 70 dihedrals detected\n",
      "  warnings.warn(f\"{top.n_dihedrals} dihedrals detected\")\n"
     ]
    },
    {
     "name": "stdout",
     "output_type": "stream",
     "text": [
      "Initializing simulation state from a gsd.hoomd.Frame.\n",
      "Step 50500 of 1000000; TPS: 63808.63; ETA: 0.2 minutes\n",
      "Step 101000 of 1000000; TPS: 72052.64; ETA: 0.2 minutes\n",
      "Step 151500 of 1000000; TPS: 74944.79; ETA: 0.2 minutes\n",
      "Step 202000 of 1000000; TPS: 75802.75; ETA: 0.2 minutes\n",
      "Step 252500 of 1000000; TPS: 76627.19; ETA: 0.2 minutes\n",
      "Step 303000 of 1000000; TPS: 77172.72; ETA: 0.2 minutes\n",
      "Step 353500 of 1000000; TPS: 77397.64; ETA: 0.1 minutes\n",
      "Step 404000 of 1000000; TPS: 77450.17; ETA: 0.1 minutes\n",
      "Step 454500 of 1000000; TPS: 77392.28; ETA: 0.1 minutes\n",
      "Step 505000 of 1000000; TPS: 77332.53; ETA: 0.1 minutes\n",
      "Step 555500 of 1000000; TPS: 77331.22; ETA: 0.1 minutes\n",
      "Step 606000 of 1000000; TPS: 77416.32; ETA: 0.1 minutes\n",
      "Step 656500 of 1000000; TPS: 77431.41; ETA: 0.1 minutes\n",
      "Step 707000 of 1000000; TPS: 77406.27; ETA: 0.1 minutes\n",
      "Step 757500 of 1000000; TPS: 77378.02; ETA: 0.1 minutes\n",
      "Step 808000 of 1000000; TPS: 77369.28; ETA: 0.0 minutes\n",
      "Step 858500 of 1000000; TPS: 77364.0; ETA: 0.0 minutes\n",
      "Step 909000 of 1000000; TPS: 77417.42; ETA: 0.0 minutes\n",
      "Step 959500 of 1000000; TPS: 77438.13; ETA: 0.0 minutes\n"
     ]
    }
   ],
   "source": [
    "T = 1.5 # temperature for simulation\n",
    "kg_chain = LJChain(lengths=10,num_mols=10) # creating a single polymer chain of length 10\n",
    "ff = BeadSpring(r_cut=2.5,\n",
    "        beads={\"A\": dict(epsilon=.1, sigma=1.0)},\n",
    "        bonds={\"A-A\": dict(r0=1.0, k=5000.0)},\n",
    "        angles={\"A-A-A\": dict(t0=np.pi, k=1.0)},\n",
    "        dihedrals={\"A-A-A-A\": dict(phi0=0.0, k=0.1, d=-1, n=1)}) # forcefield with r0 = 1.0, as it is the initialized bond length. higher k \n",
    "        # will increase the stiffness of the chain\n",
    "system = Pack(molecules = kg_chain, density=0.001) # creating a system with the polymer chain, low density is helpful for overlaps for multiple chains\n",
    "sim = Simulation(\n",
    "        initial_state=system.hoomd_snapshot,\n",
    "        forcefield=ff.hoomd_forces,\n",
    "        gsd_write_freq=int(1e5),\n",
    "        device = cpu, gsd_file_name=\"single_chain.gsd\") # passing in initial system snapshot, forcefield, writing frequency, device, and output file name\n",
    "sim.state.thermalize_particle_momenta(filter=hoomd.filter.All(), kT=T) # initializing velocity of chain\n",
    "sim.run_NVT(n_steps=1e6, kT=T, tau_kt=1) # running simulation \n",
    "sim.flush_writers() # logging data"
   ]
  },
  {
   "cell_type": "code",
   "execution_count": 16,
   "id": "515c1536-1574-416c-bde9-d1db18e35897",
   "metadata": {},
   "outputs": [
    {
     "name": "stderr",
     "output_type": "stream",
     "text": [
      "/home/eridanirojas/miniconda3/envs/flowermd/lib/python3.12/site-packages/mbuild/conversion.py:1994: UserWarning: No element attribute associated with '<A pos=([ 0.5655  5.2667 24.6489]), 1 bonds, id: 133989245342288>'; and no matching elements found based upon the compound name. Setting atomic number to zero.\n",
      "  warn(warn_msg)\n"
     ]
    },
    {
     "data": {
      "application/3dmoljs_load.v0": "<div id=\"3dmolviewer_17485451730402088\"  style=\"position: relative; width: 640px; height: 480px;\">\n        <p id=\"3dmolwarning_17485451730402088\" style=\"background-color:#ffcccc;color:black\">3Dmol.js failed to load for some reason.  Please check your browser console for error messages.<br></p>\n        </div>\n<script>\n\nvar loadScriptAsync = function(uri){\n  return new Promise((resolve, reject) => {\n    //this is to ignore the existence of requirejs amd\n    var savedexports, savedmodule;\n    if (typeof exports !== 'undefined') savedexports = exports;\n    else exports = {}\n    if (typeof module !== 'undefined') savedmodule = module;\n    else module = {}\n\n    var tag = document.createElement('script');\n    tag.src = uri;\n    tag.async = true;\n    tag.onload = () => {\n        exports = savedexports;\n        module = savedmodule;\n        resolve();\n    };\n  var firstScriptTag = document.getElementsByTagName('script')[0];\n  firstScriptTag.parentNode.insertBefore(tag, firstScriptTag);\n});\n};\n\nif(typeof $3Dmolpromise === 'undefined') {\n$3Dmolpromise = null;\n  $3Dmolpromise = loadScriptAsync('https://cdnjs.cloudflare.com/ajax/libs/3Dmol/2.4.2/3Dmol-min.js');\n}\n\nvar viewer_17485451730402088 = null;\nvar warn = document.getElementById(\"3dmolwarning_17485451730402088\");\nif(warn) {\n    warn.parentNode.removeChild(warn);\n}\n$3Dmolpromise.then(function() {\nviewer_17485451730402088 = $3Dmol.createViewer(document.getElementById(\"3dmolviewer_17485451730402088\"),{backgroundColor:\"white\"});\nviewer_17485451730402088.zoomTo();\n\tviewer_17485451730402088.addModel(\"@<TRIPOS>MOLECULE\\nRES\\n100 90 1 0 1\\nSMALL\\nNO_CHARGES\\n@<TRIPOS>CRYSIN\\n  274.8230   274.8230   274.8230    90.0000    90.0000    90.0000 1 1\\n@<TRIPOS>ATOM\\n       1 A            5.6553    52.6668   246.4887 A             1 RES     \\n       2 A            6.1949    51.6384   236.5564 A             1 RES     \\n       3 A            6.7345    50.6099   226.6241 A             1 RES     \\n       4 A            7.2742    49.5815   216.6917 A             1 RES     \\n       5 A            7.8138    48.5531   206.7594 A             1 RES     \\n       6 A            8.3534    47.5246   196.8271 A             1 RES     \\n       7 A            8.8930    46.4962   186.8947 A             1 RES     \\n       8 A            9.4326    45.4678   176.9624 A             1 RES     \\n       9 A            9.9722    44.4393   167.0301 A             1 RES     \\n      10 A           10.5118    43.4109   157.0978 A             1 RES     \\n      11 A           60.4462    57.7493   118.8117 A             1 RES     \\n      12 A           62.5185    52.8452   110.3467 A             1 RES     \\n      13 A           64.5907    47.9411   101.8817 A             1 RES     \\n      14 A           66.6629    43.0370    93.4168 A             1 RES     \\n      15 A           68.7351    38.1329    84.9518 A             1 RES     \\n      16 A           70.8073    33.2288    76.4868 A             1 RES     \\n      17 A           72.8795    28.3247    68.0219 A             1 RES     \\n      18 A           74.9517    23.4206    59.5569 A             1 RES     \\n      19 A           77.0239    18.5165    51.0919 A             1 RES     \\n      20 A           79.0962    13.6124    42.6269 A             1 RES     \\n      21 A          169.8792   260.9876   128.1451 A             1 RES     \\n      22 A          179.4132   257.9899   127.8057 A             1 RES     \\n      23 A          188.9473   254.9921   127.4662 A             1 RES     \\n      24 A          198.4813   251.9943   127.1267 A             1 RES     \\n      25 A          208.0154   248.9965   126.7872 A             1 RES     \\n      26 A          217.5494   245.9988   126.4478 A             1 RES     \\n      27 A          227.0835   243.0010   126.1083 A             1 RES     \\n      28 A          236.6175   240.0032   125.7688 A             1 RES     \\n      29 A          246.1516   237.0055   125.4293 A             1 RES     \\n      30 A          255.6856   234.0077   125.0898 A             1 RES     \\n      31 A          235.6807   270.5347    61.7098 A             1 RES     \\n      32 A          239.7044   263.1267    67.0887 A             1 RES     \\n      33 A          243.7280   255.7187    72.4675 A             1 RES     \\n      34 A          247.7517   248.3107    77.8463 A             1 RES     \\n      35 A          251.7753   240.9027    83.2251 A             1 RES     \\n      36 A          255.7990   233.4947    88.6039 A             1 RES     \\n      37 A          259.8226   226.0867    93.9827 A             1 RES     \\n      38 A          263.8463   218.6787    99.3615 A             1 RES     \\n      39 A          267.8700   211.2706   104.7404 A             1 RES     \\n      40 A          271.8936   203.8626   110.1192 A             1 RES     \\n      41 A          191.1177   254.8392    71.3684 A             1 RES     \\n      42 A          198.8372   250.6855    76.1805 A             1 RES     \\n      43 A          206.5566   246.5317    80.9926 A             1 RES     \\n      44 A          214.2761   242.3780    85.8047 A             1 RES     \\n      45 A          221.9956   238.2243    90.6168 A             1 RES     \\n      46 A          229.7150   234.0705    95.4289 A             1 RES     \\n      47 A          237.4345   229.9168   100.2410 A             1 RES     \\n      48 A          245.1540   225.7631   105.0531 A             1 RES     \\n      49 A          252.8734   221.6093   109.8652 A             1 RES     \\n      50 A          260.5929   217.4556   114.6773 A             1 RES     \\n      51 A          241.6942   197.8286   164.4767 A             1 RES     \\n      52 A          242.5704   187.8778   164.0158 A             1 RES     \\n      53 A          243.4465   177.9269   163.5548 A             1 RES     \\n      54 A          244.3226   167.9760   163.0939 A             1 RES     \\n      55 A          245.1988   158.0251   162.6329 A             1 RES     \\n      56 A          246.0749   148.0743   162.1720 A             1 RES     \\n      57 A          246.9510   138.1234   161.7110 A             1 RES     \\n      58 A          247.8272   128.1725   161.2501 A             1 RES     \\n      59 A          248.7033   118.2216   160.7892 A             1 RES     \\n      60 A          249.5795   108.2708   160.3282 A             1 RES     \\n      61 A          165.9798   166.6320   233.7347 A             1 RES     \\n      62 A          169.7910   166.2326   224.4981 A             1 RES     \\n      63 A          173.6022   165.8332   215.2615 A             1 RES     \\n      64 A          177.4134   165.4337   206.0249 A             1 RES     \\n      65 A          181.2247   165.0343   196.7883 A             1 RES     \\n      66 A          185.0359   164.6349   187.5517 A             1 RES     \\n      67 A          188.8471   164.2355   178.3150 A             1 RES     \\n      68 A          192.6584   163.8361   169.0784 A             1 RES     \\n      69 A          196.4696   163.4366   159.8418 A             1 RES     \\n      70 A          200.2808   163.0372   150.6052 A             1 RES     \\n      71 A          272.5430   182.6509   269.3796 A             1 RES     \\n      72 A          272.1504   192.6431   269.3870 A             1 RES     \\n      73 A          271.7578   202.6354   269.3945 A             1 RES     \\n      74 A          271.3653   212.6277   269.4019 A             1 RES     \\n      75 A          270.9727   222.6200   269.4093 A             1 RES     \\n      76 A          270.5801   232.6123   269.4167 A             1 RES     \\n      77 A          270.1875   242.6046   269.4241 A             1 RES     \\n      78 A          269.7949   252.5969   269.4315 A             1 RES     \\n      79 A          269.4024   262.5892   269.4390 A             1 RES     \\n      80 A          269.0098   272.5815   269.4464 A             1 RES     \\n      81 A           57.0096     5.7796   158.3417 A             1 RES     \\n      82 A           50.9009     8.9086   151.0689 A             1 RES     \\n      83 A           44.7922    12.0377   143.7962 A             1 RES     \\n      84 A           38.6836    15.1668   136.5234 A             1 RES     \\n      85 A           32.5749    18.2958   129.2507 A             1 RES     \\n      86 A           26.4662    21.4249   121.9779 A             1 RES     \\n      87 A           20.3575    24.5540   114.7052 A             1 RES     \\n      88 A           14.2488    27.6830   107.4324 A             1 RES     \\n      89 A            8.1401    30.8121   100.1597 A             1 RES     \\n      90 A            2.0315    33.9412    92.8869 A             1 RES     \\n      91 A          150.7369   153.6264   110.9455 A             1 RES     \\n      92 A          160.1201   152.7579   107.5985 A             1 RES     \\n      93 A          169.5032   151.8895   104.2516 A             1 RES     \\n      94 A          178.8864   151.0211   100.9047 A             1 RES     \\n      95 A          188.2696   150.1527    97.5578 A             1 RES     \\n      96 A          197.6527   149.2842    94.2108 A             1 RES     \\n      97 A          207.0359   148.4158    90.8639 A             1 RES     \\n      98 A          216.4191   147.5474    87.5170 A             1 RES     \\n      99 A          225.8023   146.6789    84.1701 A             1 RES     \\n     100 A          235.1854   145.8105    80.8231 A             1 RES     \\n@<TRIPOS>BOND\\n       1        1        2 1\\n       2        2        3 1\\n       3        3        4 1\\n       4        4        5 1\\n       5        5        6 1\\n       6        6        7 1\\n       7        7        8 1\\n       8        8        9 1\\n       9        9       10 1\\n      10       11       12 1\\n      11       12       13 1\\n      12       13       14 1\\n      13       14       15 1\\n      14       15       16 1\\n      15       16       17 1\\n      16       17       18 1\\n      17       18       19 1\\n      18       19       20 1\\n      19       21       22 1\\n      20       22       23 1\\n      21       23       24 1\\n      22       24       25 1\\n      23       25       26 1\\n      24       26       27 1\\n      25       27       28 1\\n      26       28       29 1\\n      27       29       30 1\\n      28       31       32 1\\n      29       32       33 1\\n      30       33       34 1\\n      31       34       35 1\\n      32       35       36 1\\n      33       36       37 1\\n      34       37       38 1\\n      35       38       39 1\\n      36       39       40 1\\n      37       41       42 1\\n      38       42       43 1\\n      39       43       44 1\\n      40       44       45 1\\n      41       45       46 1\\n      42       46       47 1\\n      43       47       48 1\\n      44       48       49 1\\n      45       49       50 1\\n      46       51       52 1\\n      47       52       53 1\\n      48       53       54 1\\n      49       54       55 1\\n      50       55       56 1\\n      51       56       57 1\\n      52       57       58 1\\n      53       58       59 1\\n      54       59       60 1\\n      55       61       62 1\\n      56       62       63 1\\n      57       63       64 1\\n      58       64       65 1\\n      59       65       66 1\\n      60       66       67 1\\n      61       67       68 1\\n      62       68       69 1\\n      63       69       70 1\\n      64       71       72 1\\n      65       72       73 1\\n      66       73       74 1\\n      67       74       75 1\\n      68       75       76 1\\n      69       76       77 1\\n      70       77       78 1\\n      71       78       79 1\\n      72       79       80 1\\n      73       81       82 1\\n      74       82       83 1\\n      75       83       84 1\\n      76       84       85 1\\n      77       85       86 1\\n      78       86       87 1\\n      79       87       88 1\\n      80       88       89 1\\n      81       89       90 1\\n      82       91       92 1\\n      83       92       93 1\\n      84       93       94 1\\n      85       94       95 1\\n      86       95       96 1\\n      87       96       97 1\\n      88       97       98 1\\n      89       98       99 1\\n      90       99      100 1\\n@<TRIPOS>SUBSTRUCTURE\\n       1 RES             1 RESIDUE    0 **** ROOT      0\\n\",\"mol2\");\n\tviewer_17485451730402088.setStyle({\"stick\": {\"radius\": 0.18, \"color\": \"grey\"}, \"sphere\": {\"scale\": 0.3, \"colorscheme\": {}}});\n\tviewer_17485451730402088.zoomTo();\nviewer_17485451730402088.render();\n});\n</script>",
      "text/html": [
       "<div id=\"3dmolviewer_17485451730402088\"  style=\"position: relative; width: 640px; height: 480px;\">\n",
       "        <p id=\"3dmolwarning_17485451730402088\" style=\"background-color:#ffcccc;color:black\">3Dmol.js failed to load for some reason.  Please check your browser console for error messages.<br></p>\n",
       "        </div>\n",
       "<script>\n",
       "\n",
       "var loadScriptAsync = function(uri){\n",
       "  return new Promise((resolve, reject) => {\n",
       "    //this is to ignore the existence of requirejs amd\n",
       "    var savedexports, savedmodule;\n",
       "    if (typeof exports !== 'undefined') savedexports = exports;\n",
       "    else exports = {}\n",
       "    if (typeof module !== 'undefined') savedmodule = module;\n",
       "    else module = {}\n",
       "\n",
       "    var tag = document.createElement('script');\n",
       "    tag.src = uri;\n",
       "    tag.async = true;\n",
       "    tag.onload = () => {\n",
       "        exports = savedexports;\n",
       "        module = savedmodule;\n",
       "        resolve();\n",
       "    };\n",
       "  var firstScriptTag = document.getElementsByTagName('script')[0];\n",
       "  firstScriptTag.parentNode.insertBefore(tag, firstScriptTag);\n",
       "});\n",
       "};\n",
       "\n",
       "if(typeof $3Dmolpromise === 'undefined') {\n",
       "$3Dmolpromise = null;\n",
       "  $3Dmolpromise = loadScriptAsync('https://cdnjs.cloudflare.com/ajax/libs/3Dmol/2.4.2/3Dmol-min.js');\n",
       "}\n",
       "\n",
       "var viewer_17485451730402088 = null;\n",
       "var warn = document.getElementById(\"3dmolwarning_17485451730402088\");\n",
       "if(warn) {\n",
       "    warn.parentNode.removeChild(warn);\n",
       "}\n",
       "$3Dmolpromise.then(function() {\n",
       "viewer_17485451730402088 = $3Dmol.createViewer(document.getElementById(\"3dmolviewer_17485451730402088\"),{backgroundColor:\"white\"});\n",
       "viewer_17485451730402088.zoomTo();\n",
       "\tviewer_17485451730402088.addModel(\"@<TRIPOS>MOLECULE\\nRES\\n100 90 1 0 1\\nSMALL\\nNO_CHARGES\\n@<TRIPOS>CRYSIN\\n  274.8230   274.8230   274.8230    90.0000    90.0000    90.0000 1 1\\n@<TRIPOS>ATOM\\n       1 A            5.6553    52.6668   246.4887 A             1 RES     \\n       2 A            6.1949    51.6384   236.5564 A             1 RES     \\n       3 A            6.7345    50.6099   226.6241 A             1 RES     \\n       4 A            7.2742    49.5815   216.6917 A             1 RES     \\n       5 A            7.8138    48.5531   206.7594 A             1 RES     \\n       6 A            8.3534    47.5246   196.8271 A             1 RES     \\n       7 A            8.8930    46.4962   186.8947 A             1 RES     \\n       8 A            9.4326    45.4678   176.9624 A             1 RES     \\n       9 A            9.9722    44.4393   167.0301 A             1 RES     \\n      10 A           10.5118    43.4109   157.0978 A             1 RES     \\n      11 A           60.4462    57.7493   118.8117 A             1 RES     \\n      12 A           62.5185    52.8452   110.3467 A             1 RES     \\n      13 A           64.5907    47.9411   101.8817 A             1 RES     \\n      14 A           66.6629    43.0370    93.4168 A             1 RES     \\n      15 A           68.7351    38.1329    84.9518 A             1 RES     \\n      16 A           70.8073    33.2288    76.4868 A             1 RES     \\n      17 A           72.8795    28.3247    68.0219 A             1 RES     \\n      18 A           74.9517    23.4206    59.5569 A             1 RES     \\n      19 A           77.0239    18.5165    51.0919 A             1 RES     \\n      20 A           79.0962    13.6124    42.6269 A             1 RES     \\n      21 A          169.8792   260.9876   128.1451 A             1 RES     \\n      22 A          179.4132   257.9899   127.8057 A             1 RES     \\n      23 A          188.9473   254.9921   127.4662 A             1 RES     \\n      24 A          198.4813   251.9943   127.1267 A             1 RES     \\n      25 A          208.0154   248.9965   126.7872 A             1 RES     \\n      26 A          217.5494   245.9988   126.4478 A             1 RES     \\n      27 A          227.0835   243.0010   126.1083 A             1 RES     \\n      28 A          236.6175   240.0032   125.7688 A             1 RES     \\n      29 A          246.1516   237.0055   125.4293 A             1 RES     \\n      30 A          255.6856   234.0077   125.0898 A             1 RES     \\n      31 A          235.6807   270.5347    61.7098 A             1 RES     \\n      32 A          239.7044   263.1267    67.0887 A             1 RES     \\n      33 A          243.7280   255.7187    72.4675 A             1 RES     \\n      34 A          247.7517   248.3107    77.8463 A             1 RES     \\n      35 A          251.7753   240.9027    83.2251 A             1 RES     \\n      36 A          255.7990   233.4947    88.6039 A             1 RES     \\n      37 A          259.8226   226.0867    93.9827 A             1 RES     \\n      38 A          263.8463   218.6787    99.3615 A             1 RES     \\n      39 A          267.8700   211.2706   104.7404 A             1 RES     \\n      40 A          271.8936   203.8626   110.1192 A             1 RES     \\n      41 A          191.1177   254.8392    71.3684 A             1 RES     \\n      42 A          198.8372   250.6855    76.1805 A             1 RES     \\n      43 A          206.5566   246.5317    80.9926 A             1 RES     \\n      44 A          214.2761   242.3780    85.8047 A             1 RES     \\n      45 A          221.9956   238.2243    90.6168 A             1 RES     \\n      46 A          229.7150   234.0705    95.4289 A             1 RES     \\n      47 A          237.4345   229.9168   100.2410 A             1 RES     \\n      48 A          245.1540   225.7631   105.0531 A             1 RES     \\n      49 A          252.8734   221.6093   109.8652 A             1 RES     \\n      50 A          260.5929   217.4556   114.6773 A             1 RES     \\n      51 A          241.6942   197.8286   164.4767 A             1 RES     \\n      52 A          242.5704   187.8778   164.0158 A             1 RES     \\n      53 A          243.4465   177.9269   163.5548 A             1 RES     \\n      54 A          244.3226   167.9760   163.0939 A             1 RES     \\n      55 A          245.1988   158.0251   162.6329 A             1 RES     \\n      56 A          246.0749   148.0743   162.1720 A             1 RES     \\n      57 A          246.9510   138.1234   161.7110 A             1 RES     \\n      58 A          247.8272   128.1725   161.2501 A             1 RES     \\n      59 A          248.7033   118.2216   160.7892 A             1 RES     \\n      60 A          249.5795   108.2708   160.3282 A             1 RES     \\n      61 A          165.9798   166.6320   233.7347 A             1 RES     \\n      62 A          169.7910   166.2326   224.4981 A             1 RES     \\n      63 A          173.6022   165.8332   215.2615 A             1 RES     \\n      64 A          177.4134   165.4337   206.0249 A             1 RES     \\n      65 A          181.2247   165.0343   196.7883 A             1 RES     \\n      66 A          185.0359   164.6349   187.5517 A             1 RES     \\n      67 A          188.8471   164.2355   178.3150 A             1 RES     \\n      68 A          192.6584   163.8361   169.0784 A             1 RES     \\n      69 A          196.4696   163.4366   159.8418 A             1 RES     \\n      70 A          200.2808   163.0372   150.6052 A             1 RES     \\n      71 A          272.5430   182.6509   269.3796 A             1 RES     \\n      72 A          272.1504   192.6431   269.3870 A             1 RES     \\n      73 A          271.7578   202.6354   269.3945 A             1 RES     \\n      74 A          271.3653   212.6277   269.4019 A             1 RES     \\n      75 A          270.9727   222.6200   269.4093 A             1 RES     \\n      76 A          270.5801   232.6123   269.4167 A             1 RES     \\n      77 A          270.1875   242.6046   269.4241 A             1 RES     \\n      78 A          269.7949   252.5969   269.4315 A             1 RES     \\n      79 A          269.4024   262.5892   269.4390 A             1 RES     \\n      80 A          269.0098   272.5815   269.4464 A             1 RES     \\n      81 A           57.0096     5.7796   158.3417 A             1 RES     \\n      82 A           50.9009     8.9086   151.0689 A             1 RES     \\n      83 A           44.7922    12.0377   143.7962 A             1 RES     \\n      84 A           38.6836    15.1668   136.5234 A             1 RES     \\n      85 A           32.5749    18.2958   129.2507 A             1 RES     \\n      86 A           26.4662    21.4249   121.9779 A             1 RES     \\n      87 A           20.3575    24.5540   114.7052 A             1 RES     \\n      88 A           14.2488    27.6830   107.4324 A             1 RES     \\n      89 A            8.1401    30.8121   100.1597 A             1 RES     \\n      90 A            2.0315    33.9412    92.8869 A             1 RES     \\n      91 A          150.7369   153.6264   110.9455 A             1 RES     \\n      92 A          160.1201   152.7579   107.5985 A             1 RES     \\n      93 A          169.5032   151.8895   104.2516 A             1 RES     \\n      94 A          178.8864   151.0211   100.9047 A             1 RES     \\n      95 A          188.2696   150.1527    97.5578 A             1 RES     \\n      96 A          197.6527   149.2842    94.2108 A             1 RES     \\n      97 A          207.0359   148.4158    90.8639 A             1 RES     \\n      98 A          216.4191   147.5474    87.5170 A             1 RES     \\n      99 A          225.8023   146.6789    84.1701 A             1 RES     \\n     100 A          235.1854   145.8105    80.8231 A             1 RES     \\n@<TRIPOS>BOND\\n       1        1        2 1\\n       2        2        3 1\\n       3        3        4 1\\n       4        4        5 1\\n       5        5        6 1\\n       6        6        7 1\\n       7        7        8 1\\n       8        8        9 1\\n       9        9       10 1\\n      10       11       12 1\\n      11       12       13 1\\n      12       13       14 1\\n      13       14       15 1\\n      14       15       16 1\\n      15       16       17 1\\n      16       17       18 1\\n      17       18       19 1\\n      18       19       20 1\\n      19       21       22 1\\n      20       22       23 1\\n      21       23       24 1\\n      22       24       25 1\\n      23       25       26 1\\n      24       26       27 1\\n      25       27       28 1\\n      26       28       29 1\\n      27       29       30 1\\n      28       31       32 1\\n      29       32       33 1\\n      30       33       34 1\\n      31       34       35 1\\n      32       35       36 1\\n      33       36       37 1\\n      34       37       38 1\\n      35       38       39 1\\n      36       39       40 1\\n      37       41       42 1\\n      38       42       43 1\\n      39       43       44 1\\n      40       44       45 1\\n      41       45       46 1\\n      42       46       47 1\\n      43       47       48 1\\n      44       48       49 1\\n      45       49       50 1\\n      46       51       52 1\\n      47       52       53 1\\n      48       53       54 1\\n      49       54       55 1\\n      50       55       56 1\\n      51       56       57 1\\n      52       57       58 1\\n      53       58       59 1\\n      54       59       60 1\\n      55       61       62 1\\n      56       62       63 1\\n      57       63       64 1\\n      58       64       65 1\\n      59       65       66 1\\n      60       66       67 1\\n      61       67       68 1\\n      62       68       69 1\\n      63       69       70 1\\n      64       71       72 1\\n      65       72       73 1\\n      66       73       74 1\\n      67       74       75 1\\n      68       75       76 1\\n      69       76       77 1\\n      70       77       78 1\\n      71       78       79 1\\n      72       79       80 1\\n      73       81       82 1\\n      74       82       83 1\\n      75       83       84 1\\n      76       84       85 1\\n      77       85       86 1\\n      78       86       87 1\\n      79       87       88 1\\n      80       88       89 1\\n      81       89       90 1\\n      82       91       92 1\\n      83       92       93 1\\n      84       93       94 1\\n      85       94       95 1\\n      86       95       96 1\\n      87       96       97 1\\n      88       97       98 1\\n      89       98       99 1\\n      90       99      100 1\\n@<TRIPOS>SUBSTRUCTURE\\n       1 RES             1 RESIDUE    0 **** ROOT      0\\n\",\"mol2\");\n",
       "\tviewer_17485451730402088.setStyle({\"stick\": {\"radius\": 0.18, \"color\": \"grey\"}, \"sphere\": {\"scale\": 0.3, \"colorscheme\": {}}});\n",
       "\tviewer_17485451730402088.zoomTo();\n",
       "viewer_17485451730402088.render();\n",
       "});\n",
       "</script>"
      ]
     },
     "metadata": {},
     "output_type": "display_data"
    }
   ],
   "source": [
    "system.visualize() # visualizing chain"
   ]
  },
  {
   "cell_type": "code",
   "execution_count": 17,
   "id": "7fd41a16-ec0f-46be-b666-54d740c33d23",
   "metadata": {},
   "outputs": [
    {
     "name": "stdout",
     "output_type": "stream",
     "text": [
      "Distance between particle 0 and 1: 1.00000 nm\n"
     ]
    }
   ],
   "source": [
    "positions = system.hoomd_snapshot.particles.position\n",
    "d = np.linalg.norm(positions[0] - positions[1])\n",
    "print(f\"Distance between particle 0 and 1: {d:.5f} nm\")"
   ]
  },
  {
   "cell_type": "code",
   "execution_count": null,
   "id": "e986c8b4-8709-4120-8362-8255092b9d67",
   "metadata": {},
   "outputs": [],
   "source": []
  }
 ],
 "metadata": {
  "kernelspec": {
   "display_name": "Python 3 (ipykernel)",
   "language": "python",
   "name": "python3"
  },
  "language_info": {
   "codemirror_mode": {
    "name": "ipython",
    "version": 3
   },
   "file_extension": ".py",
   "mimetype": "text/x-python",
   "name": "python",
   "nbconvert_exporter": "python",
   "pygments_lexer": "ipython3",
   "version": "3.12.0"
  }
 },
 "nbformat": 4,
 "nbformat_minor": 5
}
